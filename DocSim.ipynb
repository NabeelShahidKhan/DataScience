{
 "cells": [
  {
   "cell_type": "code",
   "execution_count": 44,
   "metadata": {},
   "outputs": [],
   "source": [
    "import pandas as pd\n",
    "import numpy as np\n",
    "import matplotlib.pyplot as plt\n",
    "import os"
   ]
  },
  {
   "cell_type": "markdown",
   "metadata": {},
   "source": [
    "### Path of source files"
   ]
  },
  {
   "cell_type": "code",
   "execution_count": 2,
   "metadata": {},
   "outputs": [],
   "source": [
    "#basepath = 'F://JavaWorkspace//'\n",
    "\n",
    "basepath = 'F://JavaWorkspace//AST_Compile\\\\src\\\\com\\\\nabeelkhan\\\\ast_paerser_py4j\\\\'"
   ]
  },
  {
   "cell_type": "markdown",
   "metadata": {},
   "source": [
    "### Define the source code language "
   ]
  },
  {
   "cell_type": "code",
   "execution_count": 3,
   "metadata": {},
   "outputs": [],
   "source": [
    "ext = ['.java']"
   ]
  },
  {
   "cell_type": "markdown",
   "metadata": {},
   "source": [
    "### Walking a directory tree and fatch source files"
   ]
  },
  {
   "cell_type": "code",
   "execution_count": 4,
   "metadata": {},
   "outputs": [],
   "source": [
    "dt = [];\n",
    "for dirpath, dirnames, files in os.walk(basepath):\n",
    "    #print(f'Found directory: {dirpath}')\n",
    "    for f in files:\n",
    "        for e in ext:\n",
    "            if(str(f).find(e) != -1):\n",
    "                if((str(f).find(e)+len(e)) == len(f)):\n",
    "                    #print(dirpath,\" - \",str(f),\" - \",str(f).find(e),\" - \",len(f))    \n",
    "                    with open(dirpath+\"\\\\\"+f, 'r') as f:\n",
    "                        data = f.read()\n",
    "                        dt.append({\n",
    "                                \"hash\":hash(str(f.name)),\n",
    "                                \"path\":f.name,\n",
    "                                \"source_code\":data\n",
    "                             })\n",
    "                        #print(dt);\n"
   ]
  },
  {
   "cell_type": "markdown",
   "metadata": {},
   "source": [
    "###  Init DataFrame"
   ]
  },
  {
   "cell_type": "code",
   "execution_count": 5,
   "metadata": {},
   "outputs": [
    {
     "data": {
      "text/html": [
       "<div>\n",
       "<style scoped>\n",
       "    .dataframe tbody tr th:only-of-type {\n",
       "        vertical-align: middle;\n",
       "    }\n",
       "\n",
       "    .dataframe tbody tr th {\n",
       "        vertical-align: top;\n",
       "    }\n",
       "\n",
       "    .dataframe thead th {\n",
       "        text-align: right;\n",
       "    }\n",
       "</style>\n",
       "<table border=\"1\" class=\"dataframe\">\n",
       "  <thead>\n",
       "    <tr style=\"text-align: right;\">\n",
       "      <th></th>\n",
       "      <th>hash</th>\n",
       "      <th>path</th>\n",
       "      <th>source_code</th>\n",
       "    </tr>\n",
       "  </thead>\n",
       "  <tbody>\n",
       "    <tr>\n",
       "      <td>0</td>\n",
       "      <td>2238145654833312290</td>\n",
       "      <td>F://JavaWorkspace//AST_Compile\\src\\com\\nabeelk...</td>\n",
       "      <td>/*\\n * To change this license header, choose L...</td>\n",
       "    </tr>\n",
       "    <tr>\n",
       "      <td>1</td>\n",
       "      <td>-4963274179389992491</td>\n",
       "      <td>F://JavaWorkspace//AST_Compile\\src\\com\\nabeelk...</td>\n",
       "      <td>/*\\n * To change this license header, choose L...</td>\n",
       "    </tr>\n",
       "  </tbody>\n",
       "</table>\n",
       "</div>"
      ],
      "text/plain": [
       "                  hash                                               path  \\\n",
       "0  2238145654833312290  F://JavaWorkspace//AST_Compile\\src\\com\\nabeelk...   \n",
       "1 -4963274179389992491  F://JavaWorkspace//AST_Compile\\src\\com\\nabeelk...   \n",
       "\n",
       "                                         source_code  \n",
       "0  /*\\n * To change this license header, choose L...  \n",
       "1  /*\\n * To change this license header, choose L...  "
      ]
     },
     "execution_count": 5,
     "metadata": {},
     "output_type": "execute_result"
    }
   ],
   "source": [
    "dataFrame = pd.DataFrame(dt)\n",
    "dataFrame"
   ]
  },
  {
   "cell_type": "code",
   "execution_count": 6,
   "metadata": {},
   "outputs": [
    {
     "data": {
      "text/plain": [
       "'F://JavaWorkspace//AST_Compile\\\\src\\\\com\\\\nabeelkhan\\\\ast_paerser_py4j\\\\\\\\Code_Similarity.java'"
      ]
     },
     "execution_count": 6,
     "metadata": {},
     "output_type": "execute_result"
    }
   ],
   "source": [
    "dataFrame.path[0]"
   ]
  },
  {
   "cell_type": "markdown",
   "metadata": {},
   "source": [
    "#### TODO: For Multiple Project in provided root path "
   ]
  },
  {
   "cell_type": "markdown",
   "metadata": {},
   "source": [
    "# Try to get the Code similarity ratio using Text Similarity"
   ]
  },
  {
   "cell_type": "code",
   "execution_count": 8,
   "metadata": {},
   "outputs": [],
   "source": [
    "from sklearn.feature_extraction.text import CountVectorizer"
   ]
  },
  {
   "cell_type": "code",
   "execution_count": 20,
   "metadata": {},
   "outputs": [
    {
     "name": "stdout",
     "output_type": "stream",
     "text": [
      "0    /*\\n * To change this license header, choose L...\n",
      "1    /*\\n * To change this license header, choose L...\n",
      "Name: source_code, dtype: object\n"
     ]
    }
   ],
   "source": [
    "data= dataFrame.source_code\n",
    "print(data)"
   ]
  },
  {
   "cell_type": "code",
   "execution_count": 21,
   "metadata": {},
   "outputs": [
    {
     "data": {
      "text/plain": [
       "(array([[  0,   0,   0,   0,   1,   0,   0,   0,   1,   0,   0,   0,   1,\n",
       "           1,   0,   0,   0,   0,   3,   1,   0,   0,   1,   3,   0,   0,\n",
       "           0,   0,   0,   0,   0,   0,   2,   0,   0,   0,   2,   1,   0,\n",
       "           4,   1,   0,   0,   0,   0,   0,   0,   0,   0,   0,   0,   0,\n",
       "           0,   0,   0,   0,   0,   0,   0,   0,   0,   1,   0,   0,   0,\n",
       "           0,   0,   0,   0,   0,   0,   0,   0,   0,   0,   0,   0,   0,\n",
       "           2,   0,   2,   1,   0,   0,   0,   0,   1,   5,   0,   2,   0,\n",
       "           0,   0,   0,   0,   2,   0,   0,   3,   0,   1,   1,   0,   0,\n",
       "           8,   0,   2,   0,   0,   0,   2,   0,   2,   0,   0,   7,   0,\n",
       "           0,   0,   0,   0,   0,   0,   0,   2,   0,   0,   3,   0,   1,\n",
       "           1,   0,   0,   0,   0,   0,   0,   0,   0,   0,   0,   0,   0,\n",
       "           1,   1,   0,   0,   2,   0,   0,   0,   0,   0,   0,   0,   0,\n",
       "           0,   0,   0,   0,   1,   0,   0,   1,   0,   1,   0,   0,   0,\n",
       "           0,   0,   1,   0,   0,   0,   0,   0,   1,   0,   1,   1,   0,\n",
       "           6,   0,   0,   1,   0,   0,   0,   0,   0,   0,   0,   2,   0,\n",
       "           1,   0,   2,   3,   0,   0,   0,   0,   1,   1,   1,   6,   0,\n",
       "           0,   0,   0,   0,   0,   0,   0,   0,   0,   1,   0,   0,   2,\n",
       "           1,   0,   2,   2,   0,   0,   0,   2,   0,   1,   1,   0,   0,\n",
       "           0,   0,   0,   0,   0,   0,   0,   0,   0,   0,   0,   0,   5,\n",
       "           0,   0,   0,   0,   0,   1,   0,   0,   0],\n",
       "        [  1, 106,   6,   9,   1,   2,   2,   2,   0,   2,   2,   2,   2,\n",
       "           4,   2,   2,   2,   3,   8,   1,   3,   2,   0,   0,   2,   2,\n",
       "         101,   2,   2,   2,   1,   2,   2,   1,   2,   2,   2,   1,   2,\n",
       "           0,   1,   2,   1,   4,   1,   1,   2,   1,   2,   6,   3,  14,\n",
       "           2, 105,   1,   2,   3,   2, 104,   2, 105,   1,   4,   2,   2,\n",
       "           2,   2,   6,   8,   1,   2,   1,   2,   2,   1,   1,   2,   2,\n",
       "           1,   2,   0,   0,   1,   3,   2,   1,   0,   0,   3,   1, 101,\n",
       "           3, 104,   1,   2,   1,   2,   2,   5,   1,   1,   1,  18,   5,\n",
       "         113,   2,   2,   2,   2,   2,   5,   2,   0,   1,   3,   8,   2,\n",
       "         105,   1,   1,   2,   2,   1,   5,   2,   6,   2,   3,   2,   0,\n",
       "           3,   2,   2,   2,   5,   2,   2,   2,   7,   2,   1,   2,   2,\n",
       "           1,   0,   7,   2,   4,   8,   1,   1, 313,   1,   2,   1,   9,\n",
       "           2,   2,   1,   1,   1,   2, 105,   2,  99,   1,   2,   6,   2,\n",
       "           1,   2,   1,   3,   2,   2,   2,   2,   2,   5,   1,   1,   2,\n",
       "         105,   6,   1,   0,   2,   2,   1,   1,   2,   2,   2, 104,   2,\n",
       "           0,   1,   4,   9,   2,   2,   2,   4,   0,   0,   1,  18,   3,\n",
       "           1,   4,   2,   2,   2,   2,   2,   2,   2,   2,   2,  11,   2,\n",
       "           1,   2,   3,  13,   2,   1,   2,   3,   3,   0,   1,  15,   5,\n",
       "         101,   1,   2,   8,   2,   2,   4,   2,   2,   2,   2,   2,   8,\n",
       "           2,   2,   2, 101,   3,   2,   1,   2,   2]], dtype=int64),\n",
       " ['accept',\n",
       "  'add',\n",
       "  'addast',\n",
       "  'allchange',\n",
       "  'and',\n",
       "  'annotationtypedeclaration',\n",
       "  'annotationtypememberdeclaration',\n",
       "  'anonymousclassdeclaration',\n",
       "  'args',\n",
       "  'arrayaccess',\n",
       "  'arraycreation',\n",
       "  'arrayinitializer',\n",
       "  'arraylist',\n",
       "  'arrays',\n",
       "  'arraytype',\n",
       "  'assertstatement',\n",
       "  'assignment',\n",
       "  'ast',\n",
       "  'ast_map',\n",
       "  'ast_paerser_py4j',\n",
       "  'astparser',\n",
       "  'astvisitor',\n",
       "  'author',\n",
       "  'av',\n",
       "  'block',\n",
       "  'blockcomment',\n",
       "  'boolean',\n",
       "  'booleanliteral',\n",
       "  'breakstatement',\n",
       "  'castexpression',\n",
       "  'catch',\n",
       "  'catchclause',\n",
       "  'change',\n",
       "  'char',\n",
       "  'characterliteral',\n",
       "  'charsequence',\n",
       "  'choose',\n",
       "  'class',\n",
       "  'classinstancecreation',\n",
       "  'code_similarity',\n",
       "  'com',\n",
       "  'comment',\n",
       "  'comparator',\n",
       "  'compilationunit',\n",
       "  'compile',\n",
       "  'compiler',\n",
       "  'conditionalexpression',\n",
       "  'constructed',\n",
       "  'constructorinvocation',\n",
       "  'contains',\n",
       "  'containskey',\n",
       "  'content',\n",
       "  'continuestatement',\n",
       "  'core',\n",
       "  'createast',\n",
       "  'creationreference',\n",
       "  'cu',\n",
       "  'dimension',\n",
       "  'dom',\n",
       "  'dostatement',\n",
       "  'eclipse',\n",
       "  'editor',\n",
       "  'else',\n",
       "  'emptystatement',\n",
       "  'enhancedforstatement',\n",
       "  'enumconstantdeclaration',\n",
       "  'enumdeclaration',\n",
       "  'equals',\n",
       "  'exc',\n",
       "  'exception',\n",
       "  'exportsdirective',\n",
       "  'expression',\n",
       "  'expressionmethodreference',\n",
       "  'expressionstatement',\n",
       "  'extends',\n",
       "  'false',\n",
       "  'fieldaccess',\n",
       "  'fielddeclaration',\n",
       "  'file',\n",
       "  'file_content',\n",
       "  'file_content1',\n",
       "  'filenotfoundexception',\n",
       "  'final',\n",
       "  'for',\n",
       "  'forstatement',\n",
       "  'from',\n",
       "  'gateway',\n",
       "  'gatewayserver',\n",
       "  'get',\n",
       "  'getast_map',\n",
       "  'getclass',\n",
       "  'getexpression',\n",
       "  'getname',\n",
       "  'getparameter',\n",
       "  'getreturntype2',\n",
       "  'getsimplename',\n",
       "  'hash',\n",
       "  'hashcode',\n",
       "  'hashmap',\n",
       "  'hasnext',\n",
       "  'header',\n",
       "  'headers',\n",
       "  'if',\n",
       "  'ifstatement',\n",
       "  'import',\n",
       "  'importdeclaration',\n",
       "  'in',\n",
       "  'infixexpression',\n",
       "  'initializer',\n",
       "  'instanceofexpression',\n",
       "  'integer',\n",
       "  'intersectiontype',\n",
       "  'io',\n",
       "  'iproblem',\n",
       "  'iterator',\n",
       "  'java',\n",
       "  'javadoc',\n",
       "  'jdt',\n",
       "  'jls10',\n",
       "  'keyset',\n",
       "  'labeledstatement',\n",
       "  'lambdaexpression',\n",
       "  'lastindexof',\n",
       "  'length',\n",
       "  'license',\n",
       "  'line',\n",
       "  'linecomment',\n",
       "  'list',\n",
       "  'literal',\n",
       "  'main',\n",
       "  'map',\n",
       "  'markerannotation',\n",
       "  'memberref',\n",
       "  'membervaluepair',\n",
       "  'methoddeclaration',\n",
       "  'methodinvocation',\n",
       "  'methodref',\n",
       "  'methodrefparameter',\n",
       "  'modi',\n",
       "  'modifier',\n",
       "  'modifiers',\n",
       "  'moduledeclaration',\n",
       "  'modulemodifier',\n",
       "  'nabeelkhan',\n",
       "  'nabeelshahid',\n",
       "  'name',\n",
       "  'namequalifiedtype',\n",
       "  'new',\n",
       "  'newline',\n",
       "  'newparser',\n",
       "  'next',\n",
       "  'node',\n",
       "  'nodes',\n",
       "  'normalannotation',\n",
       "  'normaliz',\n",
       "  'null',\n",
       "  'nullliteral',\n",
       "  'numberliteral',\n",
       "  'object',\n",
       "  'of',\n",
       "  'open',\n",
       "  'opensdirective',\n",
       "  'org',\n",
       "  'out',\n",
       "  'override',\n",
       "  'package',\n",
       "  'packagedeclaration',\n",
       "  'para',\n",
       "  'parameterizedtype',\n",
       "  'parameters',\n",
       "  'parenthesizedexpression',\n",
       "  'parse_java_file',\n",
       "  'parser',\n",
       "  'pattern',\n",
       "  'postfixexpression',\n",
       "  'prefixexpression',\n",
       "  'primitivetype',\n",
       "  'println',\n",
       "  'private',\n",
       "  'project',\n",
       "  'properties',\n",
       "  'providesdirective',\n",
       "  'public',\n",
       "  'put',\n",
       "  'putall',\n",
       "  'py4j',\n",
       "  'qualifiedname',\n",
       "  'qualifiedtype',\n",
       "  'regex',\n",
       "  'remove',\n",
       "  'replace',\n",
       "  'replaceall',\n",
       "  'requiresdirective',\n",
       "  'return',\n",
       "  'returnstatement',\n",
       "  'server',\n",
       "  'setsource',\n",
       "  'similarity_visitor',\n",
       "  'simplename',\n",
       "  'simpletype',\n",
       "  'singlememberannotation',\n",
       "  'singlevariabledeclaration',\n",
       "  'sn',\n",
       "  'start',\n",
       "  'started',\n",
       "  'static',\n",
       "  'string',\n",
       "  'stringliteral',\n",
       "  'subsequence',\n",
       "  'substring',\n",
       "  'superconstructorinvocation',\n",
       "  'superfieldaccess',\n",
       "  'supermethodinvocation',\n",
       "  'supermethodreference',\n",
       "  'switchcase',\n",
       "  'switchstatement',\n",
       "  'synchronizedstatement',\n",
       "  'system',\n",
       "  'tagelement',\n",
       "  'temp',\n",
       "  'template',\n",
       "  'templates',\n",
       "  'textelement',\n",
       "  'the',\n",
       "  'this',\n",
       "  'thisexpression',\n",
       "  'thrownexceptiontypes',\n",
       "  'throwstatement',\n",
       "  'to',\n",
       "  'toarray',\n",
       "  'tochararray',\n",
       "  'tools',\n",
       "  'tostring',\n",
       "  'trim',\n",
       "  'true',\n",
       "  'try',\n",
       "  'trystatement',\n",
       "  'type',\n",
       "  'typedeclaration',\n",
       "  'typedeclarationstatement',\n",
       "  'typedic',\n",
       "  'typeliteral',\n",
       "  'typemethodreference',\n",
       "  'typeparameter',\n",
       "  'uniontype',\n",
       "  'usesdirective',\n",
       "  'util',\n",
       "  'variabledeclarationexpression',\n",
       "  'variabledeclarationfragment',\n",
       "  'variabledeclarationstatement',\n",
       "  'visit',\n",
       "  'visitor',\n",
       "  'void',\n",
       "  'while',\n",
       "  'whilestatement',\n",
       "  'wildcardtype'])"
      ]
     },
     "execution_count": 21,
     "metadata": {},
     "output_type": "execute_result"
    }
   ],
   "source": [
    "vect = CountVectorizer()\n",
    "word_freq = vect.fit_transform(data)\n",
    "word_freq.toarray(), vect.get_feature_names()"
   ]
  },
  {
   "cell_type": "code",
   "execution_count": 30,
   "metadata": {},
   "outputs": [
    {
     "data": {
      "text/plain": [
       "['accept',\n",
       " 'add',\n",
       " 'addast',\n",
       " 'allchange',\n",
       " 'and',\n",
       " 'annotationtypedeclaration',\n",
       " 'annotationtypememberdeclaration',\n",
       " 'anonymousclassdeclaration',\n",
       " 'args',\n",
       " 'arrayaccess',\n",
       " 'arraycreation',\n",
       " 'arrayinitializer',\n",
       " 'arraylist',\n",
       " 'arrays',\n",
       " 'arraytype',\n",
       " 'assertstatement',\n",
       " 'assignment',\n",
       " 'ast',\n",
       " 'ast_map',\n",
       " 'ast_paerser_py4j',\n",
       " 'astparser',\n",
       " 'astvisitor',\n",
       " 'author',\n",
       " 'av',\n",
       " 'block',\n",
       " 'blockcomment',\n",
       " 'boolean',\n",
       " 'booleanliteral',\n",
       " 'breakstatement',\n",
       " 'castexpression',\n",
       " 'catch',\n",
       " 'catchclause',\n",
       " 'change',\n",
       " 'char',\n",
       " 'characterliteral',\n",
       " 'charsequence',\n",
       " 'choose',\n",
       " 'class',\n",
       " 'classinstancecreation',\n",
       " 'code_similarity',\n",
       " 'com',\n",
       " 'comment',\n",
       " 'comparator',\n",
       " 'compilationunit',\n",
       " 'compile',\n",
       " 'compiler',\n",
       " 'conditionalexpression',\n",
       " 'constructed',\n",
       " 'constructorinvocation',\n",
       " 'contains',\n",
       " 'containskey',\n",
       " 'content',\n",
       " 'continuestatement',\n",
       " 'core',\n",
       " 'createast',\n",
       " 'creationreference',\n",
       " 'cu',\n",
       " 'dimension',\n",
       " 'dom',\n",
       " 'dostatement',\n",
       " 'eclipse',\n",
       " 'editor',\n",
       " 'else',\n",
       " 'emptystatement',\n",
       " 'enhancedforstatement',\n",
       " 'enumconstantdeclaration',\n",
       " 'enumdeclaration',\n",
       " 'equals',\n",
       " 'exc',\n",
       " 'exception',\n",
       " 'exportsdirective',\n",
       " 'expression',\n",
       " 'expressionmethodreference',\n",
       " 'expressionstatement',\n",
       " 'extends',\n",
       " 'false',\n",
       " 'fieldaccess',\n",
       " 'fielddeclaration',\n",
       " 'file',\n",
       " 'file_content',\n",
       " 'file_content1',\n",
       " 'filenotfoundexception',\n",
       " 'final',\n",
       " 'for',\n",
       " 'forstatement',\n",
       " 'from',\n",
       " 'gateway',\n",
       " 'gatewayserver',\n",
       " 'get',\n",
       " 'getast_map',\n",
       " 'getclass',\n",
       " 'getexpression',\n",
       " 'getname',\n",
       " 'getparameter',\n",
       " 'getreturntype2',\n",
       " 'getsimplename',\n",
       " 'hash',\n",
       " 'hashcode',\n",
       " 'hashmap',\n",
       " 'hasnext',\n",
       " 'header',\n",
       " 'headers',\n",
       " 'if',\n",
       " 'ifstatement',\n",
       " 'import',\n",
       " 'importdeclaration',\n",
       " 'in',\n",
       " 'infixexpression',\n",
       " 'initializer',\n",
       " 'instanceofexpression',\n",
       " 'integer',\n",
       " 'intersectiontype',\n",
       " 'io',\n",
       " 'iproblem',\n",
       " 'iterator',\n",
       " 'java',\n",
       " 'javadoc',\n",
       " 'jdt',\n",
       " 'jls10',\n",
       " 'keyset',\n",
       " 'labeledstatement',\n",
       " 'lambdaexpression',\n",
       " 'lastindexof',\n",
       " 'length',\n",
       " 'license',\n",
       " 'line',\n",
       " 'linecomment',\n",
       " 'list',\n",
       " 'literal',\n",
       " 'main',\n",
       " 'map',\n",
       " 'markerannotation',\n",
       " 'memberref',\n",
       " 'membervaluepair',\n",
       " 'methoddeclaration',\n",
       " 'methodinvocation',\n",
       " 'methodref',\n",
       " 'methodrefparameter',\n",
       " 'modi',\n",
       " 'modifier',\n",
       " 'modifiers',\n",
       " 'moduledeclaration',\n",
       " 'modulemodifier',\n",
       " 'nabeelkhan',\n",
       " 'nabeelshahid',\n",
       " 'name',\n",
       " 'namequalifiedtype',\n",
       " 'new',\n",
       " 'newline',\n",
       " 'newparser',\n",
       " 'next',\n",
       " 'node',\n",
       " 'nodes',\n",
       " 'normalannotation',\n",
       " 'normaliz',\n",
       " 'null',\n",
       " 'nullliteral',\n",
       " 'numberliteral',\n",
       " 'object',\n",
       " 'of',\n",
       " 'open',\n",
       " 'opensdirective',\n",
       " 'org',\n",
       " 'out',\n",
       " 'override',\n",
       " 'package',\n",
       " 'packagedeclaration',\n",
       " 'para',\n",
       " 'parameterizedtype',\n",
       " 'parameters',\n",
       " 'parenthesizedexpression',\n",
       " 'parse_java_file',\n",
       " 'parser',\n",
       " 'pattern',\n",
       " 'postfixexpression',\n",
       " 'prefixexpression',\n",
       " 'primitivetype',\n",
       " 'println',\n",
       " 'private',\n",
       " 'project',\n",
       " 'properties',\n",
       " 'providesdirective',\n",
       " 'public',\n",
       " 'put',\n",
       " 'putall',\n",
       " 'py4j',\n",
       " 'qualifiedname',\n",
       " 'qualifiedtype',\n",
       " 'regex',\n",
       " 'remove',\n",
       " 'replace',\n",
       " 'replaceall',\n",
       " 'requiresdirective',\n",
       " 'return',\n",
       " 'returnstatement',\n",
       " 'server',\n",
       " 'setsource',\n",
       " 'similarity_visitor',\n",
       " 'simplename',\n",
       " 'simpletype',\n",
       " 'singlememberannotation',\n",
       " 'singlevariabledeclaration',\n",
       " 'sn',\n",
       " 'start',\n",
       " 'started',\n",
       " 'static',\n",
       " 'string',\n",
       " 'stringliteral',\n",
       " 'subsequence',\n",
       " 'substring',\n",
       " 'superconstructorinvocation',\n",
       " 'superfieldaccess',\n",
       " 'supermethodinvocation',\n",
       " 'supermethodreference',\n",
       " 'switchcase',\n",
       " 'switchstatement',\n",
       " 'synchronizedstatement',\n",
       " 'system',\n",
       " 'tagelement',\n",
       " 'temp',\n",
       " 'template',\n",
       " 'templates',\n",
       " 'textelement',\n",
       " 'the',\n",
       " 'this',\n",
       " 'thisexpression',\n",
       " 'thrownexceptiontypes',\n",
       " 'throwstatement',\n",
       " 'to',\n",
       " 'toarray',\n",
       " 'tochararray',\n",
       " 'tools',\n",
       " 'tostring',\n",
       " 'trim',\n",
       " 'true',\n",
       " 'try',\n",
       " 'trystatement',\n",
       " 'type',\n",
       " 'typedeclaration',\n",
       " 'typedeclarationstatement',\n",
       " 'typedic',\n",
       " 'typeliteral',\n",
       " 'typemethodreference',\n",
       " 'typeparameter',\n",
       " 'uniontype',\n",
       " 'usesdirective',\n",
       " 'util',\n",
       " 'variabledeclarationexpression',\n",
       " 'variabledeclarationfragment',\n",
       " 'variabledeclarationstatement',\n",
       " 'visit',\n",
       " 'visitor',\n",
       " 'void',\n",
       " 'while',\n",
       " 'whilestatement',\n",
       " 'wildcardtype']"
      ]
     },
     "execution_count": 30,
     "metadata": {},
     "output_type": "execute_result"
    }
   ],
   "source": [
    "vect.get_feature_names()"
   ]
  },
  {
   "cell_type": "code",
   "execution_count": 31,
   "metadata": {},
   "outputs": [],
   "source": [
    "from sklearn.feature_extraction.text import TfidfTransformer"
   ]
  },
  {
   "cell_type": "code",
   "execution_count": 33,
   "metadata": {},
   "outputs": [
    {
     "data": {
      "text/plain": [
       "TfidfTransformer(norm=None, smooth_idf=True, sublinear_tf=False, use_idf=True)"
      ]
     },
     "execution_count": 33,
     "metadata": {},
     "output_type": "execute_result"
    }
   ],
   "source": [
    "tfidf_transformer = TfidfTransformer(norm=None)\n",
    "tfidf_transformer"
   ]
  },
  {
   "cell_type": "code",
   "execution_count": 34,
   "metadata": {},
   "outputs": [
    {
     "data": {
      "text/plain": [
       "<2x256 sparse matrix of type '<class 'numpy.float64'>'\n",
       "\twith 303 stored elements in Compressed Sparse Row format>"
      ]
     },
     "execution_count": 34,
     "metadata": {},
     "output_type": "execute_result"
    }
   ],
   "source": [
    "tfidf = tfidf_transformer.fit_transform(word_freq.toarray())\n",
    "tfidf"
   ]
  },
  {
   "cell_type": "code",
   "execution_count": 35,
   "metadata": {},
   "outputs": [
    {
     "data": {
      "text/plain": [
       "array([[  0.        ,   0.        ,   0.        ,   0.        ,\n",
       "          1.        ,   0.        ,   0.        ,   0.        ,\n",
       "          1.40546511,   0.        ,   0.        ,   0.        ,\n",
       "          1.        ,   1.        ,   0.        ,   0.        ,\n",
       "          0.        ,   0.        ,   3.        ,   1.        ,\n",
       "          0.        ,   0.        ,   1.40546511,   4.21639532,\n",
       "          0.        ,   0.        ,   0.        ,   0.        ,\n",
       "          0.        ,   0.        ,   0.        ,   0.        ,\n",
       "          2.        ,   0.        ,   0.        ,   0.        ,\n",
       "          2.        ,   1.        ,   0.        ,   5.62186043,\n",
       "          1.        ,   0.        ,   0.        ,   0.        ,\n",
       "          0.        ,   0.        ,   0.        ,   0.        ,\n",
       "          0.        ,   0.        ,   0.        ,   0.        ,\n",
       "          0.        ,   0.        ,   0.        ,   0.        ,\n",
       "          0.        ,   0.        ,   0.        ,   0.        ,\n",
       "          0.        ,   1.        ,   0.        ,   0.        ,\n",
       "          0.        ,   0.        ,   0.        ,   0.        ,\n",
       "          0.        ,   0.        ,   0.        ,   0.        ,\n",
       "          0.        ,   0.        ,   0.        ,   0.        ,\n",
       "          0.        ,   0.        ,   2.        ,   0.        ,\n",
       "          2.81093022,   1.40546511,   0.        ,   0.        ,\n",
       "          0.        ,   0.        ,   1.40546511,   7.02732554,\n",
       "          0.        ,   2.        ,   0.        ,   0.        ,\n",
       "          0.        ,   0.        ,   0.        ,   2.        ,\n",
       "          0.        ,   0.        ,   3.        ,   0.        ,\n",
       "          1.        ,   1.        ,   0.        ,   0.        ,\n",
       "          8.        ,   0.        ,   2.        ,   0.        ,\n",
       "          0.        ,   0.        ,   2.        ,   0.        ,\n",
       "          2.81093022,   0.        ,   0.        ,   7.        ,\n",
       "          0.        ,   0.        ,   0.        ,   0.        ,\n",
       "          0.        ,   0.        ,   0.        ,   0.        ,\n",
       "          2.        ,   0.        ,   0.        ,   3.        ,\n",
       "          0.        ,   1.40546511,   1.        ,   0.        ,\n",
       "          0.        ,   0.        ,   0.        ,   0.        ,\n",
       "          0.        ,   0.        ,   0.        ,   0.        ,\n",
       "          0.        ,   0.        ,   0.        ,   1.        ,\n",
       "          1.40546511,   0.        ,   0.        ,   2.        ,\n",
       "          0.        ,   0.        ,   0.        ,   0.        ,\n",
       "          0.        ,   0.        ,   0.        ,   0.        ,\n",
       "          0.        ,   0.        ,   0.        ,   0.        ,\n",
       "          1.        ,   0.        ,   0.        ,   1.        ,\n",
       "          0.        ,   1.        ,   0.        ,   0.        ,\n",
       "          0.        ,   0.        ,   0.        ,   1.        ,\n",
       "          0.        ,   0.        ,   0.        ,   0.        ,\n",
       "          0.        ,   1.        ,   0.        ,   1.        ,\n",
       "          1.        ,   0.        ,   6.        ,   0.        ,\n",
       "          0.        ,   1.40546511,   0.        ,   0.        ,\n",
       "          0.        ,   0.        ,   0.        ,   0.        ,\n",
       "          0.        ,   2.        ,   0.        ,   1.40546511,\n",
       "          0.        ,   2.        ,   3.        ,   0.        ,\n",
       "          0.        ,   0.        ,   0.        ,   1.40546511,\n",
       "          1.40546511,   1.        ,   6.        ,   0.        ,\n",
       "          0.        ,   0.        ,   0.        ,   0.        ,\n",
       "          0.        ,   0.        ,   0.        ,   0.        ,\n",
       "          0.        ,   1.        ,   0.        ,   0.        ,\n",
       "          2.        ,   1.        ,   0.        ,   2.        ,\n",
       "          2.        ,   0.        ,   0.        ,   0.        ,\n",
       "          2.        ,   0.        ,   1.40546511,   1.        ,\n",
       "          0.        ,   0.        ,   0.        ,   0.        ,\n",
       "          0.        ,   0.        ,   0.        ,   0.        ,\n",
       "          0.        ,   0.        ,   0.        ,   0.        ,\n",
       "          0.        ,   0.        ,   5.        ,   0.        ,\n",
       "          0.        ,   0.        ,   0.        ,   0.        ,\n",
       "          1.        ,   0.        ,   0.        ,   0.        ],\n",
       "       [  1.40546511, 148.97930146,   8.43279065,  12.64918597,\n",
       "          1.        ,   2.81093022,   2.81093022,   2.81093022,\n",
       "          0.        ,   2.81093022,   2.81093022,   2.81093022,\n",
       "          2.        ,   4.        ,   2.81093022,   2.81093022,\n",
       "          2.81093022,   4.21639532,   8.        ,   1.        ,\n",
       "          4.21639532,   2.81093022,   0.        ,   0.        ,\n",
       "          2.81093022,   2.81093022, 141.95197592,   2.81093022,\n",
       "          2.81093022,   2.81093022,   1.40546511,   2.81093022,\n",
       "          2.        ,   1.40546511,   2.81093022,   2.81093022,\n",
       "          2.        ,   1.        ,   2.81093022,   0.        ,\n",
       "          1.        ,   2.81093022,   1.40546511,   5.62186043,\n",
       "          1.40546511,   1.40546511,   2.81093022,   1.40546511,\n",
       "          2.81093022,   8.43279065,   4.21639532,  19.67651151,\n",
       "          2.81093022, 147.57383635,   1.40546511,   2.81093022,\n",
       "          4.21639532,   2.81093022, 146.16837124,   2.81093022,\n",
       "        147.57383635,   1.        ,   5.62186043,   2.81093022,\n",
       "          2.81093022,   2.81093022,   2.81093022,   8.43279065,\n",
       "         11.24372086,   1.40546511,   2.81093022,   1.40546511,\n",
       "          2.81093022,   2.81093022,   1.40546511,   1.40546511,\n",
       "          2.81093022,   2.81093022,   1.        ,   2.81093022,\n",
       "          0.        ,   0.        ,   1.40546511,   4.21639532,\n",
       "          2.81093022,   1.40546511,   0.        ,   0.        ,\n",
       "          4.21639532,   1.        , 141.95197592,   4.21639532,\n",
       "        146.16837124,   1.40546511,   2.81093022,   1.        ,\n",
       "          2.81093022,   2.81093022,   5.        ,   1.40546511,\n",
       "          1.        ,   1.        ,  25.29837195,   7.02732554,\n",
       "        113.        ,   2.81093022,   2.        ,   2.81093022,\n",
       "          2.81093022,   2.81093022,   5.        ,   2.81093022,\n",
       "          0.        ,   1.40546511,   4.21639532,   8.        ,\n",
       "          2.81093022, 147.57383635,   1.40546511,   1.40546511,\n",
       "          2.81093022,   2.81093022,   1.40546511,   7.02732554,\n",
       "          2.        ,   8.43279065,   2.81093022,   3.        ,\n",
       "          2.81093022,   0.        ,   3.        ,   2.81093022,\n",
       "          2.81093022,   2.81093022,   7.02732554,   2.81093022,\n",
       "          2.81093022,   2.81093022,   9.83825576,   2.81093022,\n",
       "          1.40546511,   2.81093022,   2.81093022,   1.        ,\n",
       "          0.        ,   9.83825576,   2.81093022,   4.        ,\n",
       "         11.24372086,   1.40546511,   1.40546511, 439.91057884,\n",
       "          1.40546511,   2.81093022,   1.40546511,  12.64918597,\n",
       "          2.81093022,   2.81093022,   1.40546511,   1.40546511,\n",
       "          1.        ,   2.81093022, 147.57383635,   2.        ,\n",
       "        139.1410457 ,   1.        ,   2.81093022,   8.43279065,\n",
       "          2.81093022,   1.40546511,   2.81093022,   1.        ,\n",
       "          4.21639532,   2.81093022,   2.81093022,   2.81093022,\n",
       "          2.81093022,   2.        ,   7.02732554,   1.        ,\n",
       "          1.        ,   2.81093022, 105.        ,   8.43279065,\n",
       "          1.40546511,   0.        ,   2.81093022,   2.81093022,\n",
       "          1.40546511,   1.40546511,   2.81093022,   2.81093022,\n",
       "          2.81093022, 104.        ,   2.81093022,   0.        ,\n",
       "          1.40546511,   4.        ,   9.        ,   2.81093022,\n",
       "          2.81093022,   2.81093022,   5.62186043,   0.        ,\n",
       "          0.        ,   1.        ,  18.        ,   4.21639532,\n",
       "          1.40546511,   5.62186043,   2.81093022,   2.81093022,\n",
       "          2.81093022,   2.81093022,   2.81093022,   2.81093022,\n",
       "          2.81093022,   2.        ,   2.81093022,  15.46011619,\n",
       "          2.        ,   1.        ,   2.81093022,   3.        ,\n",
       "         13.        ,   2.81093022,   1.40546511,   2.81093022,\n",
       "          3.        ,   4.21639532,   0.        ,   1.        ,\n",
       "         21.08197662,   7.02732554, 141.95197592,   1.40546511,\n",
       "          2.81093022,  11.24372086,   2.81093022,   2.81093022,\n",
       "          5.62186043,   2.81093022,   2.81093022,   2.81093022,\n",
       "          2.81093022,   2.81093022,   8.        ,   2.81093022,\n",
       "          2.81093022,   2.81093022, 141.95197592,   4.21639532,\n",
       "          2.        ,   1.40546511,   2.81093022,   2.81093022]])"
      ]
     },
     "execution_count": 35,
     "metadata": {},
     "output_type": "execute_result"
    }
   ],
   "source": [
    "tfidf.toarray()"
   ]
  },
  {
   "cell_type": "code",
   "execution_count": 46,
   "metadata": {},
   "outputs": [
    {
     "name": "stdout",
     "output_type": "stream",
     "text": [
      "Total unique words: 256\n"
     ]
    },
    {
     "ename": "TypeError",
     "evalue": "unsupported operand type(s) for /: 'str' and 'int'",
     "output_type": "error",
     "traceback": [
      "\u001b[1;31m---------------------------------------------------------------------------\u001b[0m",
      "\u001b[1;31mTypeError\u001b[0m                                 Traceback (most recent call last)",
      "\u001b[1;32m<ipython-input-46-98cc0b4d49bd>\u001b[0m in \u001b[0;36m<module>\u001b[1;34m\u001b[0m\n\u001b[0;32m      2\u001b[0m \u001b[0md\u001b[0m\u001b[1;33m=\u001b[0m\u001b[0mvect\u001b[0m\u001b[1;33m.\u001b[0m\u001b[0mfit_transform\u001b[0m\u001b[1;33m(\u001b[0m\u001b[0mdataFrame\u001b[0m\u001b[1;33m.\u001b[0m\u001b[0msource_code\u001b[0m\u001b[1;33m)\u001b[0m\u001b[1;33m\u001b[0m\u001b[1;33m\u001b[0m\u001b[0m\n\u001b[0;32m      3\u001b[0m \u001b[0mprint\u001b[0m\u001b[1;33m(\u001b[0m\u001b[1;34m'Total unique words:'\u001b[0m\u001b[1;33m,\u001b[0m \u001b[0mlen\u001b[0m\u001b[1;33m(\u001b[0m\u001b[0mvect\u001b[0m\u001b[1;33m.\u001b[0m\u001b[0mget_feature_names\u001b[0m\u001b[1;33m(\u001b[0m\u001b[1;33m)\u001b[0m\u001b[1;33m)\u001b[0m\u001b[1;33m)\u001b[0m\u001b[1;33m\u001b[0m\u001b[1;33m\u001b[0m\u001b[0m\n\u001b[1;32m----> 4\u001b[1;33m \u001b[0mplt\u001b[0m\u001b[1;33m.\u001b[0m\u001b[0mboxplot\u001b[0m\u001b[1;33m(\u001b[0m\u001b[0mdataFrame\u001b[0m\u001b[1;33m.\u001b[0m\u001b[0msource_code\u001b[0m\u001b[1;33m)\u001b[0m\u001b[1;33m\u001b[0m\u001b[1;33m\u001b[0m\u001b[0m\n\u001b[0m\u001b[0;32m      5\u001b[0m \u001b[0mplt\u001b[0m\u001b[1;33m.\u001b[0m\u001b[0mxlabel\u001b[0m\u001b[1;33m(\u001b[0m\u001b[1;34m'Rank'\u001b[0m\u001b[1;33m)\u001b[0m\u001b[1;33m\u001b[0m\u001b[1;33m\u001b[0m\u001b[0m\n\u001b[0;32m      6\u001b[0m \u001b[0mplt\u001b[0m\u001b[1;33m.\u001b[0m\u001b[0mylabel\u001b[0m\u001b[1;33m(\u001b[0m\u001b[1;34m'Sentiment'\u001b[0m\u001b[1;33m)\u001b[0m\u001b[1;33m\u001b[0m\u001b[1;33m\u001b[0m\u001b[0m\n",
      "\u001b[1;32mD:\\Anaconda3\\lib\\site-packages\\matplotlib\\pyplot.py\u001b[0m in \u001b[0;36mboxplot\u001b[1;34m(x, notch, sym, vert, whis, positions, widths, patch_artist, bootstrap, usermedians, conf_intervals, meanline, showmeans, showcaps, showbox, showfliers, boxprops, labels, flierprops, medianprops, meanprops, capprops, whiskerprops, manage_ticks, autorange, zorder, data)\u001b[0m\n\u001b[0;32m   2477\u001b[0m         \u001b[0mwhiskerprops\u001b[0m\u001b[1;33m=\u001b[0m\u001b[0mwhiskerprops\u001b[0m\u001b[1;33m,\u001b[0m \u001b[0mmanage_ticks\u001b[0m\u001b[1;33m=\u001b[0m\u001b[0mmanage_ticks\u001b[0m\u001b[1;33m,\u001b[0m\u001b[1;33m\u001b[0m\u001b[1;33m\u001b[0m\u001b[0m\n\u001b[0;32m   2478\u001b[0m         autorange=autorange, zorder=zorder, **({\"data\": data} if data\n\u001b[1;32m-> 2479\u001b[1;33m         is not None else {}))\n\u001b[0m\u001b[0;32m   2480\u001b[0m \u001b[1;33m\u001b[0m\u001b[0m\n\u001b[0;32m   2481\u001b[0m \u001b[1;33m\u001b[0m\u001b[0m\n",
      "\u001b[1;32mD:\\Anaconda3\\lib\\site-packages\\matplotlib\\cbook\\deprecation.py\u001b[0m in \u001b[0;36mwrapper\u001b[1;34m(*args, **kwargs)\u001b[0m\n\u001b[0;32m    305\u001b[0m                 f\"for the old name will be dropped %(removal)s.\")\n\u001b[0;32m    306\u001b[0m             \u001b[0mkwargs\u001b[0m\u001b[1;33m[\u001b[0m\u001b[0mnew\u001b[0m\u001b[1;33m]\u001b[0m \u001b[1;33m=\u001b[0m \u001b[0mkwargs\u001b[0m\u001b[1;33m.\u001b[0m\u001b[0mpop\u001b[0m\u001b[1;33m(\u001b[0m\u001b[0mold\u001b[0m\u001b[1;33m)\u001b[0m\u001b[1;33m\u001b[0m\u001b[1;33m\u001b[0m\u001b[0m\n\u001b[1;32m--> 307\u001b[1;33m         \u001b[1;32mreturn\u001b[0m \u001b[0mfunc\u001b[0m\u001b[1;33m(\u001b[0m\u001b[1;33m*\u001b[0m\u001b[0margs\u001b[0m\u001b[1;33m,\u001b[0m \u001b[1;33m**\u001b[0m\u001b[0mkwargs\u001b[0m\u001b[1;33m)\u001b[0m\u001b[1;33m\u001b[0m\u001b[1;33m\u001b[0m\u001b[0m\n\u001b[0m\u001b[0;32m    308\u001b[0m \u001b[1;33m\u001b[0m\u001b[0m\n\u001b[0;32m    309\u001b[0m     \u001b[1;31m# wrapper() must keep the same documented signature as func(): if we\u001b[0m\u001b[1;33m\u001b[0m\u001b[1;33m\u001b[0m\u001b[1;33m\u001b[0m\u001b[0m\n",
      "\u001b[1;32mD:\\Anaconda3\\lib\\site-packages\\matplotlib\\__init__.py\u001b[0m in \u001b[0;36minner\u001b[1;34m(ax, data, *args, **kwargs)\u001b[0m\n\u001b[0;32m   1599\u001b[0m     \u001b[1;32mdef\u001b[0m \u001b[0minner\u001b[0m\u001b[1;33m(\u001b[0m\u001b[0max\u001b[0m\u001b[1;33m,\u001b[0m \u001b[1;33m*\u001b[0m\u001b[0margs\u001b[0m\u001b[1;33m,\u001b[0m \u001b[0mdata\u001b[0m\u001b[1;33m=\u001b[0m\u001b[1;32mNone\u001b[0m\u001b[1;33m,\u001b[0m \u001b[1;33m**\u001b[0m\u001b[0mkwargs\u001b[0m\u001b[1;33m)\u001b[0m\u001b[1;33m:\u001b[0m\u001b[1;33m\u001b[0m\u001b[1;33m\u001b[0m\u001b[0m\n\u001b[0;32m   1600\u001b[0m         \u001b[1;32mif\u001b[0m \u001b[0mdata\u001b[0m \u001b[1;32mis\u001b[0m \u001b[1;32mNone\u001b[0m\u001b[1;33m:\u001b[0m\u001b[1;33m\u001b[0m\u001b[1;33m\u001b[0m\u001b[0m\n\u001b[1;32m-> 1601\u001b[1;33m             \u001b[1;32mreturn\u001b[0m \u001b[0mfunc\u001b[0m\u001b[1;33m(\u001b[0m\u001b[0max\u001b[0m\u001b[1;33m,\u001b[0m \u001b[1;33m*\u001b[0m\u001b[0mmap\u001b[0m\u001b[1;33m(\u001b[0m\u001b[0msanitize_sequence\u001b[0m\u001b[1;33m,\u001b[0m \u001b[0margs\u001b[0m\u001b[1;33m)\u001b[0m\u001b[1;33m,\u001b[0m \u001b[1;33m**\u001b[0m\u001b[0mkwargs\u001b[0m\u001b[1;33m)\u001b[0m\u001b[1;33m\u001b[0m\u001b[1;33m\u001b[0m\u001b[0m\n\u001b[0m\u001b[0;32m   1602\u001b[0m \u001b[1;33m\u001b[0m\u001b[0m\n\u001b[0;32m   1603\u001b[0m         \u001b[0mbound\u001b[0m \u001b[1;33m=\u001b[0m \u001b[0mnew_sig\u001b[0m\u001b[1;33m.\u001b[0m\u001b[0mbind\u001b[0m\u001b[1;33m(\u001b[0m\u001b[0max\u001b[0m\u001b[1;33m,\u001b[0m \u001b[1;33m*\u001b[0m\u001b[0margs\u001b[0m\u001b[1;33m,\u001b[0m \u001b[1;33m**\u001b[0m\u001b[0mkwargs\u001b[0m\u001b[1;33m)\u001b[0m\u001b[1;33m\u001b[0m\u001b[1;33m\u001b[0m\u001b[0m\n",
      "\u001b[1;32mD:\\Anaconda3\\lib\\site-packages\\matplotlib\\axes\\_axes.py\u001b[0m in \u001b[0;36mboxplot\u001b[1;34m(self, x, notch, sym, vert, whis, positions, widths, patch_artist, bootstrap, usermedians, conf_intervals, meanline, showmeans, showcaps, showbox, showfliers, boxprops, labels, flierprops, medianprops, meanprops, capprops, whiskerprops, manage_ticks, autorange, zorder)\u001b[0m\n\u001b[0;32m   3668\u001b[0m \u001b[1;33m\u001b[0m\u001b[0m\n\u001b[0;32m   3669\u001b[0m         bxpstats = cbook.boxplot_stats(x, whis=whis, bootstrap=bootstrap,\n\u001b[1;32m-> 3670\u001b[1;33m                                        labels=labels, autorange=autorange)\n\u001b[0m\u001b[0;32m   3671\u001b[0m         \u001b[1;32mif\u001b[0m \u001b[0mnotch\u001b[0m \u001b[1;32mis\u001b[0m \u001b[1;32mNone\u001b[0m\u001b[1;33m:\u001b[0m\u001b[1;33m\u001b[0m\u001b[1;33m\u001b[0m\u001b[0m\n\u001b[0;32m   3672\u001b[0m             \u001b[0mnotch\u001b[0m \u001b[1;33m=\u001b[0m \u001b[0mrcParams\u001b[0m\u001b[1;33m[\u001b[0m\u001b[1;34m'boxplot.notch'\u001b[0m\u001b[1;33m]\u001b[0m\u001b[1;33m\u001b[0m\u001b[1;33m\u001b[0m\u001b[0m\n",
      "\u001b[1;32mD:\\Anaconda3\\lib\\site-packages\\matplotlib\\cbook\\__init__.py\u001b[0m in \u001b[0;36mboxplot_stats\u001b[1;34m(X, whis, bootstrap, labels, autorange)\u001b[0m\n\u001b[0;32m   1283\u001b[0m \u001b[1;33m\u001b[0m\u001b[0m\n\u001b[0;32m   1284\u001b[0m         \u001b[1;31m# arithmetic mean\u001b[0m\u001b[1;33m\u001b[0m\u001b[1;33m\u001b[0m\u001b[1;33m\u001b[0m\u001b[0m\n\u001b[1;32m-> 1285\u001b[1;33m         \u001b[0mstats\u001b[0m\u001b[1;33m[\u001b[0m\u001b[1;34m'mean'\u001b[0m\u001b[1;33m]\u001b[0m \u001b[1;33m=\u001b[0m \u001b[0mnp\u001b[0m\u001b[1;33m.\u001b[0m\u001b[0mmean\u001b[0m\u001b[1;33m(\u001b[0m\u001b[0mx\u001b[0m\u001b[1;33m)\u001b[0m\u001b[1;33m\u001b[0m\u001b[1;33m\u001b[0m\u001b[0m\n\u001b[0m\u001b[0;32m   1286\u001b[0m \u001b[1;33m\u001b[0m\u001b[0m\n\u001b[0;32m   1287\u001b[0m         \u001b[1;31m# medians and quartiles\u001b[0m\u001b[1;33m\u001b[0m\u001b[1;33m\u001b[0m\u001b[1;33m\u001b[0m\u001b[0m\n",
      "\u001b[1;32mD:\\Anaconda3\\lib\\site-packages\\numpy\\core\\fromnumeric.py\u001b[0m in \u001b[0;36mmean\u001b[1;34m(a, axis, dtype, out, keepdims)\u001b[0m\n\u001b[0;32m   3116\u001b[0m \u001b[1;33m\u001b[0m\u001b[0m\n\u001b[0;32m   3117\u001b[0m     return _methods._mean(a, axis=axis, dtype=dtype,\n\u001b[1;32m-> 3118\u001b[1;33m                           out=out, **kwargs)\n\u001b[0m\u001b[0;32m   3119\u001b[0m \u001b[1;33m\u001b[0m\u001b[0m\n\u001b[0;32m   3120\u001b[0m \u001b[1;33m\u001b[0m\u001b[0m\n",
      "\u001b[1;32mD:\\Anaconda3\\lib\\site-packages\\numpy\\core\\_methods.py\u001b[0m in \u001b[0;36m_mean\u001b[1;34m(a, axis, dtype, out, keepdims)\u001b[0m\n\u001b[0;32m     85\u001b[0m             \u001b[0mret\u001b[0m \u001b[1;33m=\u001b[0m \u001b[0mret\u001b[0m\u001b[1;33m.\u001b[0m\u001b[0mdtype\u001b[0m\u001b[1;33m.\u001b[0m\u001b[0mtype\u001b[0m\u001b[1;33m(\u001b[0m\u001b[0mret\u001b[0m \u001b[1;33m/\u001b[0m \u001b[0mrcount\u001b[0m\u001b[1;33m)\u001b[0m\u001b[1;33m\u001b[0m\u001b[1;33m\u001b[0m\u001b[0m\n\u001b[0;32m     86\u001b[0m     \u001b[1;32melse\u001b[0m\u001b[1;33m:\u001b[0m\u001b[1;33m\u001b[0m\u001b[1;33m\u001b[0m\u001b[0m\n\u001b[1;32m---> 87\u001b[1;33m         \u001b[0mret\u001b[0m \u001b[1;33m=\u001b[0m \u001b[0mret\u001b[0m \u001b[1;33m/\u001b[0m \u001b[0mrcount\u001b[0m\u001b[1;33m\u001b[0m\u001b[1;33m\u001b[0m\u001b[0m\n\u001b[0m\u001b[0;32m     88\u001b[0m \u001b[1;33m\u001b[0m\u001b[0m\n\u001b[0;32m     89\u001b[0m     \u001b[1;32mreturn\u001b[0m \u001b[0mret\u001b[0m\u001b[1;33m\u001b[0m\u001b[1;33m\u001b[0m\u001b[0m\n",
      "\u001b[1;31mTypeError\u001b[0m: unsupported operand type(s) for /: 'str' and 'int'"
     ]
    },
    {
     "data": {
      "image/png": "[encoded data removed]",
      "text/plain": [
       "<Figure size 432x288 with 1 Axes>"
      ]
     },
     "metadata": {
      "needs_background": "light"
     },
     "output_type": "display_data"
    }
   ],
   "source": [
    "vect=CountVectorizer()\n",
    "d=vect.fit_transform(dataFrame.source_code)\n",
    "print('Total unique words:', len(vect.get_feature_names()))\n",
    "plt.boxplot(dataFrame.source_code)\n",
    "plt.xlabel('Rank')\n",
    "plt.ylabel('Sentiment')\n",
    "plt.show();"
   ]
  },
  {
   "cell_type": "markdown",
   "metadata": {},
   "source": [
    "#  Using Py4J without pre-determined ports (dynamic port number)¶\n",
    " "
   ]
  },
  {
   "cell_type": "code",
   "execution_count": 7,
   "metadata": {},
   "outputs": [],
   "source": [
    "from py4j.java_gateway import (\n",
    "    JavaGateway, CallbackServerParameters, GatewayParameters,\n",
    "    launch_gateway)\n",
    "\n",
    "\n",
    "par = CallbackServerParameters(\n",
    "    address='127.0.0.1',\n",
    "    port=25334,\n",
    "    daemonize=False,\n",
    "    daemonize_connections=False,\n",
    "    eager_load=True,\n",
    "    ssl_context=None,\n",
    "    accept_timeout='DEFAULT',\n",
    "    read_timeout=None,\n",
    "    propagate_java_exceptions=False,\n",
    "    auth_token=None,\n",
    ")\n"
   ]
  },
  {
   "cell_type": "markdown",
   "metadata": {},
   "source": [
    "##  Start Gateway\n",
    " "
   ]
  },
  {
   "cell_type": "code",
   "execution_count": 36,
   "metadata": {},
   "outputs": [
    {
     "name": "stdout",
     "output_type": "stream",
     "text": [
      "gateway.gateway_parameters.port 25333\n",
      "get_callback_server python_port:  25334\n"
     ]
    }
   ],
   "source": [
    "\n",
    "gateway = JavaGateway(callback_server_parameters=par)\n",
    "print(\"gateway.gateway_parameters.port\",gateway.gateway_parameters.port)\n",
    "# retrieve the port on which the python callback server was bound to\n",
    "\n",
    "python_port = gateway.get_callback_server().get_listening_port()\n",
    "print(\"get_callback_server python_port: \",python_port)"
   ]
  },
  {
   "cell_type": "markdown",
   "metadata": {},
   "source": [
    "## Call For shutdown"
   ]
  },
  {
   "cell_type": "code",
   "execution_count": 37,
   "metadata": {},
   "outputs": [
    {
     "data": {
      "text/plain": [
       "\" launch_gateway(\\n    port=0,\\n    jarpath='',\\n    classpath='',\\n    javaopts=[],\\n    die_on_exit=True,\\n    redirect_stdout=None,\\n    redirect_stderr=None,\\n    daemonize_redirect=True,\\n    java_path='java',\\n    create_new_process_group=False,\\n    enable_auth=False,\\n    cwd=None,\\n    return_proc=False,\\n)\\n\\n# connect python side to Java side with Java dynamic port and start python\\n# callback server with a dynamic port\\ngateway = JavaGateway(\\n    gateway_parameters=GatewayParameters(port=port),\\n    callback_server_parameters=CallbackServerParameters(port=0))\\n\\n# tell the Java side to connect to the python callback server with the new\\n# python port. Note that we use the java_gateway_server attribute that\\n# retrieves the GatewayServer instance.\\ngateway.java_gateway_server.resetCallbackClient(\\n    gateway.java_gateway_server.getCallbackClient().getAddress(),\\n    python_port)\\n\\n\""
      ]
     },
     "execution_count": 37,
     "metadata": {},
     "output_type": "execute_result"
    }
   ],
   "source": [
    "\n",
    "#gateway.shutdown()\n",
    "\n",
    "\n",
    "# launch Java side with dynamic port and get back the port on which the\n",
    "# server was bound to.\n",
    "#port = launch_gateway \n",
    "''' launch_gateway(\n",
    "    port=0,\n",
    "    jarpath='',\n",
    "    classpath='',\n",
    "    javaopts=[],\n",
    "    die_on_exit=True,\n",
    "    redirect_stdout=None,\n",
    "    redirect_stderr=None,\n",
    "    daemonize_redirect=True,\n",
    "    java_path='java',\n",
    "    create_new_process_group=False,\n",
    "    enable_auth=False,\n",
    "    cwd=None,\n",
    "    return_proc=False,\n",
    ")\n",
    "\n",
    "# connect python side to Java side with Java dynamic port and start python\n",
    "# callback server with a dynamic port\n",
    "gateway = JavaGateway(\n",
    "    gateway_parameters=GatewayParameters(port=port),\n",
    "    callback_server_parameters=CallbackServerParameters(port=0))\n",
    "\n",
    "# tell the Java side to connect to the python callback server with the new\n",
    "# python port. Note that we use the java_gateway_server attribute that\n",
    "# retrieves the GatewayServer instance.\n",
    "gateway.java_gateway_server.resetCallbackClient(\n",
    "    gateway.java_gateway_server.getCallbackClient().getAddress(),\n",
    "    python_port)\n",
    "\n",
    "'''\n",
    "\n"
   ]
  },
  {
   "cell_type": "markdown",
   "metadata": {},
   "source": [
    "#  Acess Java Classes send Source code to AST"
   ]
  },
  {
   "cell_type": "code",
   "execution_count": 38,
   "metadata": {},
   "outputs": [
    {
     "data": {
      "text/html": [
       "<div>\n",
       "<style scoped>\n",
       "    .dataframe tbody tr th:only-of-type {\n",
       "        vertical-align: middle;\n",
       "    }\n",
       "\n",
       "    .dataframe tbody tr th {\n",
       "        vertical-align: top;\n",
       "    }\n",
       "\n",
       "    .dataframe thead th {\n",
       "        text-align: right;\n",
       "    }\n",
       "</style>\n",
       "<table border=\"1\" class=\"dataframe\">\n",
       "  <thead>\n",
       "    <tr style=\"text-align: right;\">\n",
       "      <th></th>\n",
       "      <th>AST</th>\n",
       "      <th>SimpleName</th>\n",
       "    </tr>\n",
       "    <tr>\n",
       "      <th>hash</th>\n",
       "      <th></th>\n",
       "      <th></th>\n",
       "    </tr>\n",
       "  </thead>\n",
       "  <tbody>\n",
       "    <tr>\n",
       "      <td>3721855313567767586</td>\n",
       "      <td>NaN</td>\n",
       "      <td>NaN</td>\n",
       "    </tr>\n",
       "    <tr>\n",
       "      <td>-1033853111129805208</td>\n",
       "      <td>NaN</td>\n",
       "      <td>NaN</td>\n",
       "    </tr>\n",
       "  </tbody>\n",
       "</table>\n",
       "</div>"
      ],
      "text/plain": [
       "                      AST SimpleName\n",
       "hash                                \n",
       " 3721855313567767586  NaN        NaN\n",
       "-1033853111129805208  NaN        NaN"
      ]
     },
     "execution_count": 38,
     "metadata": {},
     "output_type": "execute_result"
    }
   ],
   "source": [
    "astDataFrame = pd.DataFrame(index=[dataFrame.hash],columns=['AST','SimpleName'])\n",
    "astDataFrame"
   ]
  },
  {
   "cell_type": "code",
   "execution_count": 39,
   "metadata": {},
   "outputs": [
    {
     "data": {
      "text/html": [
       "<div>\n",
       "<style scoped>\n",
       "    .dataframe tbody tr th:only-of-type {\n",
       "        vertical-align: middle;\n",
       "    }\n",
       "\n",
       "    .dataframe tbody tr th {\n",
       "        vertical-align: top;\n",
       "    }\n",
       "\n",
       "    .dataframe thead th {\n",
       "        text-align: right;\n",
       "    }\n",
       "</style>\n",
       "<table border=\"1\" class=\"dataframe\">\n",
       "  <thead>\n",
       "    <tr style=\"text-align: right;\">\n",
       "      <th></th>\n",
       "      <th>hash</th>\n",
       "      <th>path</th>\n",
       "      <th>source_code</th>\n",
       "    </tr>\n",
       "  </thead>\n",
       "  <tbody>\n",
       "    <tr>\n",
       "      <td>0</td>\n",
       "      <td>3721855313567767586</td>\n",
       "      <td>F://JavaWorkspace//AST_Compile\\src\\com\\nabeelk...</td>\n",
       "      <td>/*\\n * To change this license header, choose L...</td>\n",
       "    </tr>\n",
       "    <tr>\n",
       "      <td>1</td>\n",
       "      <td>-1033853111129805208</td>\n",
       "      <td>F://JavaWorkspace//AST_Compile\\src\\com\\nabeelk...</td>\n",
       "      <td>/*\\n * To change this license header, choose L...</td>\n",
       "    </tr>\n",
       "  </tbody>\n",
       "</table>\n",
       "</div>"
      ],
      "text/plain": [
       "                  hash                                               path  \\\n",
       "0  3721855313567767586  F://JavaWorkspace//AST_Compile\\src\\com\\nabeelk...   \n",
       "1 -1033853111129805208  F://JavaWorkspace//AST_Compile\\src\\com\\nabeelk...   \n",
       "\n",
       "                                         source_code  \n",
       "0  /*\\n * To change this license header, choose L...  \n",
       "1  /*\\n * To change this license header, choose L...  "
      ]
     },
     "execution_count": 39,
     "metadata": {},
     "output_type": "execute_result"
    }
   ],
   "source": [
    "dataFrame.head()"
   ]
  },
  {
   "cell_type": "code",
   "execution_count": 62,
   "metadata": {},
   "outputs": [],
   "source": [
    "#print(str(dataFrame.source_code[1].replace(\"\\n\",\"\")))\n",
    "#print(str(dataFrame.source_code[0]))"
   ]
  },
  {
   "cell_type": "code",
   "execution_count": null,
   "metadata": {},
   "outputs": [],
   "source": []
  },
  {
   "cell_type": "code",
   "execution_count": 41,
   "metadata": {},
   "outputs": [
    {
     "name": "stdout",
     "output_type": "stream",
     "text": [
      "hash                                         3721855313567767586\n",
      "path           F://JavaWorkspace//AST_Compile\\src\\com\\nabeelk...\n",
      "source_code    /*\\n * To change this license header, choose L...\n",
      "Name: 0, dtype: object\n"
     ]
    },
    {
     "ename": "Py4JNetworkError",
     "evalue": "An error occurred while trying to connect to the Java server (127.0.0.1:25333)",
     "output_type": "error",
     "traceback": [
      "\u001b[1;31m---------------------------------------------------------------------------\u001b[0m",
      "\u001b[1;31mIndexError\u001b[0m                                Traceback (most recent call last)",
      "\u001b[1;32mD:\\Anaconda3\\lib\\site-packages\\py4j\\java_gateway.py\u001b[0m in \u001b[0;36m_get_connection\u001b[1;34m(self)\u001b[0m\n\u001b[0;32m    976\u001b[0m         \u001b[1;32mtry\u001b[0m\u001b[1;33m:\u001b[0m\u001b[1;33m\u001b[0m\u001b[1;33m\u001b[0m\u001b[0m\n\u001b[1;32m--> 977\u001b[1;33m             \u001b[0mconnection\u001b[0m \u001b[1;33m=\u001b[0m \u001b[0mself\u001b[0m\u001b[1;33m.\u001b[0m\u001b[0mdeque\u001b[0m\u001b[1;33m.\u001b[0m\u001b[0mpop\u001b[0m\u001b[1;33m(\u001b[0m\u001b[1;33m)\u001b[0m\u001b[1;33m\u001b[0m\u001b[1;33m\u001b[0m\u001b[0m\n\u001b[0m\u001b[0;32m    978\u001b[0m         \u001b[1;32mexcept\u001b[0m \u001b[0mIndexError\u001b[0m\u001b[1;33m:\u001b[0m\u001b[1;33m\u001b[0m\u001b[1;33m\u001b[0m\u001b[0m\n",
      "\u001b[1;31mIndexError\u001b[0m: pop from an empty deque",
      "\nDuring handling of the above exception, another exception occurred:\n",
      "\u001b[1;31mConnectionRefusedError\u001b[0m                    Traceback (most recent call last)",
      "\u001b[1;32mD:\\Anaconda3\\lib\\site-packages\\py4j\\java_gateway.py\u001b[0m in \u001b[0;36mstart\u001b[1;34m(self)\u001b[0m\n\u001b[0;32m   1114\u001b[0m         \u001b[1;32mtry\u001b[0m\u001b[1;33m:\u001b[0m\u001b[1;33m\u001b[0m\u001b[1;33m\u001b[0m\u001b[0m\n\u001b[1;32m-> 1115\u001b[1;33m             \u001b[0mself\u001b[0m\u001b[1;33m.\u001b[0m\u001b[0msocket\u001b[0m\u001b[1;33m.\u001b[0m\u001b[0mconnect\u001b[0m\u001b[1;33m(\u001b[0m\u001b[1;33m(\u001b[0m\u001b[0mself\u001b[0m\u001b[1;33m.\u001b[0m\u001b[0maddress\u001b[0m\u001b[1;33m,\u001b[0m \u001b[0mself\u001b[0m\u001b[1;33m.\u001b[0m\u001b[0mport\u001b[0m\u001b[1;33m)\u001b[0m\u001b[1;33m)\u001b[0m\u001b[1;33m\u001b[0m\u001b[1;33m\u001b[0m\u001b[0m\n\u001b[0m\u001b[0;32m   1116\u001b[0m             \u001b[0mself\u001b[0m\u001b[1;33m.\u001b[0m\u001b[0mstream\u001b[0m \u001b[1;33m=\u001b[0m \u001b[0mself\u001b[0m\u001b[1;33m.\u001b[0m\u001b[0msocket\u001b[0m\u001b[1;33m.\u001b[0m\u001b[0mmakefile\u001b[0m\u001b[1;33m(\u001b[0m\u001b[1;34m\"rb\"\u001b[0m\u001b[1;33m)\u001b[0m\u001b[1;33m\u001b[0m\u001b[1;33m\u001b[0m\u001b[0m\n",
      "\u001b[1;31mConnectionRefusedError\u001b[0m: [WinError 10061] No connection could be made because the target machine actively refused it",
      "\nDuring handling of the above exception, another exception occurred:\n",
      "\u001b[1;31mPy4JNetworkError\u001b[0m                          Traceback (most recent call last)",
      "\u001b[1;32m<ipython-input-41-d07a2c9a159f>\u001b[0m in \u001b[0;36m<module>\u001b[1;34m\u001b[0m\n\u001b[0;32m      2\u001b[0m     \u001b[0mprint\u001b[0m\u001b[1;33m(\u001b[0m\u001b[0mrow\u001b[0m\u001b[1;33m)\u001b[0m\u001b[1;33m\u001b[0m\u001b[1;33m\u001b[0m\u001b[0m\n\u001b[0;32m      3\u001b[0m \u001b[1;33m\u001b[0m\u001b[0m\n\u001b[1;32m----> 4\u001b[1;33m     \u001b[0mgateway\u001b[0m\u001b[1;33m.\u001b[0m\u001b[0mentry_point\u001b[0m\u001b[1;33m.\u001b[0m\u001b[0mrun\u001b[0m\u001b[1;33m(\u001b[0m\u001b[0mstr\u001b[0m\u001b[1;33m(\u001b[0m\u001b[0mrow\u001b[0m\u001b[1;33m.\u001b[0m\u001b[0msource_code\u001b[0m\u001b[1;33m.\u001b[0m\u001b[0mreplace\u001b[0m\u001b[1;33m(\u001b[0m\u001b[1;34m\"\\n\"\u001b[0m\u001b[1;33m,\u001b[0m\u001b[1;34m\"\"\u001b[0m\u001b[1;33m)\u001b[0m\u001b[1;33m)\u001b[0m \u001b[1;33m)\u001b[0m\u001b[1;33m\u001b[0m\u001b[1;33m\u001b[0m\u001b[0m\n\u001b[0m\u001b[0;32m      5\u001b[0m \u001b[1;33m\u001b[0m\u001b[0m\n\u001b[0;32m      6\u001b[0m     \u001b[0mx\u001b[0m \u001b[1;33m=\u001b[0m \u001b[0mgateway\u001b[0m\u001b[1;33m.\u001b[0m\u001b[0mentry_point\u001b[0m\u001b[1;33m.\u001b[0m\u001b[0mgetAst_Map\u001b[0m\u001b[1;33m(\u001b[0m\u001b[1;33m)\u001b[0m\u001b[1;33m\u001b[0m\u001b[1;33m\u001b[0m\u001b[0m\n",
      "\u001b[1;32mD:\\Anaconda3\\lib\\site-packages\\py4j\\java_gateway.py\u001b[0m in \u001b[0;36m__call__\u001b[1;34m(self, *args)\u001b[0m\n\u001b[0;32m   1301\u001b[0m             \u001b[0mproto\u001b[0m\u001b[1;33m.\u001b[0m\u001b[0mEND_COMMAND_PART\u001b[0m\u001b[1;33m\u001b[0m\u001b[1;33m\u001b[0m\u001b[0m\n\u001b[0;32m   1302\u001b[0m \u001b[1;33m\u001b[0m\u001b[0m\n\u001b[1;32m-> 1303\u001b[1;33m         \u001b[0manswer\u001b[0m \u001b[1;33m=\u001b[0m \u001b[0mself\u001b[0m\u001b[1;33m.\u001b[0m\u001b[0mgateway_client\u001b[0m\u001b[1;33m.\u001b[0m\u001b[0msend_command\u001b[0m\u001b[1;33m(\u001b[0m\u001b[0mcommand\u001b[0m\u001b[1;33m)\u001b[0m\u001b[1;33m\u001b[0m\u001b[1;33m\u001b[0m\u001b[0m\n\u001b[0m\u001b[0;32m   1304\u001b[0m         return_value = get_return_value(\n\u001b[0;32m   1305\u001b[0m             answer, self.gateway_client, self.target_id, self.name)\n",
      "\u001b[1;32mD:\\Anaconda3\\lib\\site-packages\\py4j\\java_gateway.py\u001b[0m in \u001b[0;36msend_command\u001b[1;34m(self, command, retry, binary)\u001b[0m\n\u001b[0;32m   1029\u001b[0m          \u001b[1;32mif\u001b[0m\u001b[0;31m \u001b[0m\u001b[0;31m`\u001b[0m\u001b[0mbinary\u001b[0m\u001b[0;31m`\u001b[0m \u001b[1;32mis\u001b[0m\u001b[0;31m \u001b[0m\u001b[0;31m`\u001b[0m\u001b[1;32mTrue\u001b[0m\u001b[0;31m`\u001b[0m\u001b[1;33m.\u001b[0m\u001b[1;33m\u001b[0m\u001b[1;33m\u001b[0m\u001b[0m\n\u001b[0;32m   1030\u001b[0m         \"\"\"\n\u001b[1;32m-> 1031\u001b[1;33m         \u001b[0mconnection\u001b[0m \u001b[1;33m=\u001b[0m \u001b[0mself\u001b[0m\u001b[1;33m.\u001b[0m\u001b[0m_get_connection\u001b[0m\u001b[1;33m(\u001b[0m\u001b[1;33m)\u001b[0m\u001b[1;33m\u001b[0m\u001b[1;33m\u001b[0m\u001b[0m\n\u001b[0m\u001b[0;32m   1032\u001b[0m         \u001b[1;32mtry\u001b[0m\u001b[1;33m:\u001b[0m\u001b[1;33m\u001b[0m\u001b[1;33m\u001b[0m\u001b[0m\n\u001b[0;32m   1033\u001b[0m             \u001b[0mresponse\u001b[0m \u001b[1;33m=\u001b[0m \u001b[0mconnection\u001b[0m\u001b[1;33m.\u001b[0m\u001b[0msend_command\u001b[0m\u001b[1;33m(\u001b[0m\u001b[0mcommand\u001b[0m\u001b[1;33m)\u001b[0m\u001b[1;33m\u001b[0m\u001b[1;33m\u001b[0m\u001b[0m\n",
      "\u001b[1;32mD:\\Anaconda3\\lib\\site-packages\\py4j\\java_gateway.py\u001b[0m in \u001b[0;36m_get_connection\u001b[1;34m(self)\u001b[0m\n\u001b[0;32m    977\u001b[0m             \u001b[0mconnection\u001b[0m \u001b[1;33m=\u001b[0m \u001b[0mself\u001b[0m\u001b[1;33m.\u001b[0m\u001b[0mdeque\u001b[0m\u001b[1;33m.\u001b[0m\u001b[0mpop\u001b[0m\u001b[1;33m(\u001b[0m\u001b[1;33m)\u001b[0m\u001b[1;33m\u001b[0m\u001b[1;33m\u001b[0m\u001b[0m\n\u001b[0;32m    978\u001b[0m         \u001b[1;32mexcept\u001b[0m \u001b[0mIndexError\u001b[0m\u001b[1;33m:\u001b[0m\u001b[1;33m\u001b[0m\u001b[1;33m\u001b[0m\u001b[0m\n\u001b[1;32m--> 979\u001b[1;33m             \u001b[0mconnection\u001b[0m \u001b[1;33m=\u001b[0m \u001b[0mself\u001b[0m\u001b[1;33m.\u001b[0m\u001b[0m_create_connection\u001b[0m\u001b[1;33m(\u001b[0m\u001b[1;33m)\u001b[0m\u001b[1;33m\u001b[0m\u001b[1;33m\u001b[0m\u001b[0m\n\u001b[0m\u001b[0;32m    980\u001b[0m         \u001b[1;32mreturn\u001b[0m \u001b[0mconnection\u001b[0m\u001b[1;33m\u001b[0m\u001b[1;33m\u001b[0m\u001b[0m\n\u001b[0;32m    981\u001b[0m \u001b[1;33m\u001b[0m\u001b[0m\n",
      "\u001b[1;32mD:\\Anaconda3\\lib\\site-packages\\py4j\\java_gateway.py\u001b[0m in \u001b[0;36m_create_connection\u001b[1;34m(self)\u001b[0m\n\u001b[0;32m    983\u001b[0m         connection = GatewayConnection(\n\u001b[0;32m    984\u001b[0m             self.gateway_parameters, self.gateway_property)\n\u001b[1;32m--> 985\u001b[1;33m         \u001b[0mconnection\u001b[0m\u001b[1;33m.\u001b[0m\u001b[0mstart\u001b[0m\u001b[1;33m(\u001b[0m\u001b[1;33m)\u001b[0m\u001b[1;33m\u001b[0m\u001b[1;33m\u001b[0m\u001b[0m\n\u001b[0m\u001b[0;32m    986\u001b[0m         \u001b[1;32mreturn\u001b[0m \u001b[0mconnection\u001b[0m\u001b[1;33m\u001b[0m\u001b[1;33m\u001b[0m\u001b[0m\n\u001b[0;32m    987\u001b[0m \u001b[1;33m\u001b[0m\u001b[0m\n",
      "\u001b[1;32mD:\\Anaconda3\\lib\\site-packages\\py4j\\java_gateway.py\u001b[0m in \u001b[0;36mstart\u001b[1;34m(self)\u001b[0m\n\u001b[0;32m   1125\u001b[0m                 \u001b[1;34m\"server ({0}:{1})\"\u001b[0m\u001b[1;33m.\u001b[0m\u001b[0mformat\u001b[0m\u001b[1;33m(\u001b[0m\u001b[0mself\u001b[0m\u001b[1;33m.\u001b[0m\u001b[0maddress\u001b[0m\u001b[1;33m,\u001b[0m \u001b[0mself\u001b[0m\u001b[1;33m.\u001b[0m\u001b[0mport\u001b[0m\u001b[1;33m)\u001b[0m\u001b[1;33m\u001b[0m\u001b[1;33m\u001b[0m\u001b[0m\n\u001b[0;32m   1126\u001b[0m             \u001b[0mlogger\u001b[0m\u001b[1;33m.\u001b[0m\u001b[0mexception\u001b[0m\u001b[1;33m(\u001b[0m\u001b[0mmsg\u001b[0m\u001b[1;33m)\u001b[0m\u001b[1;33m\u001b[0m\u001b[1;33m\u001b[0m\u001b[0m\n\u001b[1;32m-> 1127\u001b[1;33m             \u001b[1;32mraise\u001b[0m \u001b[0mPy4JNetworkError\u001b[0m\u001b[1;33m(\u001b[0m\u001b[0mmsg\u001b[0m\u001b[1;33m,\u001b[0m \u001b[0me\u001b[0m\u001b[1;33m)\u001b[0m\u001b[1;33m\u001b[0m\u001b[1;33m\u001b[0m\u001b[0m\n\u001b[0m\u001b[0;32m   1128\u001b[0m \u001b[1;33m\u001b[0m\u001b[0m\n\u001b[0;32m   1129\u001b[0m     \u001b[1;32mdef\u001b[0m \u001b[0m_authenticate_connection\u001b[0m\u001b[1;33m(\u001b[0m\u001b[0mself\u001b[0m\u001b[1;33m)\u001b[0m\u001b[1;33m:\u001b[0m\u001b[1;33m\u001b[0m\u001b[1;33m\u001b[0m\u001b[0m\n",
      "\u001b[1;31mPy4JNetworkError\u001b[0m: An error occurred while trying to connect to the Java server (127.0.0.1:25333)"
     ]
    }
   ],
   "source": [
    "for index, row in dataFrame.iterrows():\n",
    "    print(row)\n",
    "    \n",
    "    gateway.entry_point.run(str(row.source_code.replace(\"\\n\",\"\")) )\n",
    "    \n",
    "    x = gateway.entry_point.getAst_Map()\n",
    "\n",
    "    y = gateway.entry_point.getSimpleName()       \n",
    "    \n",
    "    #astDataFrame[index] = astDataFrame.({'AST':x,'SimpleName':y}) \n",
    "    "
   ]
  },
  {
   "cell_type": "code",
   "execution_count": 56,
   "metadata": {},
   "outputs": [
    {
     "name": "stdout",
     "output_type": "stream",
     "text": [
      "3304967671404013705\n",
      "2099815174547125250\n",
      "5415841209940466568\n",
      "-6371493710224477151\n",
      "7798282327733455985\n",
      "-4835411903539898162\n",
      "-7461152348302599793\n",
      "4950169111133019322\n",
      "-4555529759014841411\n",
      "6909373801264356727\n",
      "-2655367215248172614\n",
      "-6905053759718057416\n",
      "60284258161731621\n",
      "-7336208396844407516\n",
      "-7609720500975931953\n",
      "-3973667057392614838\n",
      "-4251402646682440318\n",
      "-5035505929597161305\n",
      "6446238608247977681\n",
      "4930330165671672931\n",
      "328699748129167187\n",
      "4220283218204749120\n",
      "6590870345302937742\n",
      "-5198713657488182328\n",
      "-7441134643106546097\n",
      "-995669349697864413\n",
      "-7705617625545834528\n",
      "-1235710965255231207\n",
      "2776710740901056351\n",
      "3882524705231552564\n",
      "-6382527067632859879\n",
      "-8987534780618259795\n",
      "-4222626340506226520\n",
      "8384664020262279747\n",
      "6661955134524485622\n",
      "6208161670427020514\n",
      "4382529883969640742\n",
      "5765041199855562590\n",
      "-8808669421604331862\n",
      "3342038584423951557\n",
      "-5248726053298459653\n",
      "-2366809627023659029\n",
      "-222541693449688156\n",
      "6130379951321080990\n",
      "7352096258793275030\n",
      "-4920328021609262821\n",
      "6974892713596476993\n",
      "-6982634171016342140\n",
      "-3808242228470714741\n",
      "2692586708271081247\n",
      "6897041195475203632\n",
      "8855492442172870817\n",
      "6784225556090376931\n",
      "8271768476555838072\n",
      "-5245155117845955601\n",
      "3978872485849242737\n",
      "-7323791841848835027\n",
      "5656624444834766722\n",
      "-946962673483653172\n",
      "6114284197910418860\n",
      "-3766982614259047202\n",
      "-611581823515108063\n"
     ]
    }
   ],
   "source": [
    "\n",
    "for i in range(5):\n",
    "    df = df.append({'A': i}, ignore_index=True)\n",
    "    \n",
    "for index, row in dataFrame.iterrows():\n",
    "    print(row.hash)"
   ]
  },
  {
   "cell_type": "code",
   "execution_count": 35,
   "metadata": {},
   "outputs": [
    {
     "data": {
      "text/plain": [
       "{'MethodDeclaration:-:boolean visit(NullLiteral node)': 1, 'MethodDeclaration:-:boolean visit(SingleMemberAnnotation node)': 1, 'SimpleType:-:ForStatement': 1, 'MethodDeclaration:-:boolean visit(CatchClause node)': 1, 'SimpleName:-:DoStatement': 1, '@Override  public boolean visit(Assignment node)': 1, 'MethodDeclaration:-:boolean visit(RequiresDirective node)': 1, 'SingleVariableDeclaration:-:EmptyStatement node': 1, 'SingleVariableDeclaration:-:TypeDeclaration node': 1, 'MethodDeclaration:-:@Override public boolean visit(VariableDeclarationExpression node){\\n  add(node.getClass().getName(),node);\\n  return true;\\n}': 1, '@Override  public boolean visit(CastExpression node)': 1, 'MethodInvocation:-:parser.createAST(null)': 1, 'MethodDeclaration:-:@Override public boolean visit(Dimension node){\\n  return true;\\n}': 1, '@Override  public boolean visit(FieldAccess node)': 1, '@Override  public boolean visit(MethodDeclaration node)': 1, 'SimpleName:-:content': 14, '@Override  public boolean visit(ModuleModifier node)': 1, 'ReturnStatement:-:return visitor;': 1, 'MethodInvocation:-:add(\"while (\" + node.getExpression().toString() + \")\",node)': 1, 'SimpleType:-:ReturnStatement': 1, 'MethodDeclaration:-:@Override public boolean visit(ConditionalExpression node){\\n  add(node.getClass().getName(),node);\\n  return true;\\n}': 1, 'MethodInvocation:-:exc.substring(1,exc.length() - 1)': 1, 'SimpleType:-:AssertStatement': 1, 'MethodDeclaration:-:@Override public boolean visit(AnonymousClassDeclaration node){\\n  add(node.getClass().getName(),node);\\n  return true;\\n}': 1, 'MethodDeclaration:-:@Override public boolean visit(ArrayInitializer node){\\n  add(node.getClass().getName(),node);\\n  return true;\\n}': 1, 'SimpleName:-:ExpressionStatement': 1, 'MethodInvocation:-:n.getExpression()': 1, 'SimpleType:-:HashMap': 4, 'FieldDeclaration:-:private boolean typeDic=false;': 1, 'MethodDeclaration:-:boolean visit(BooleanLiteral node)': 1, 'MethodDeclaration:-:@Override public boolean visit(IfStatement node){\\n  add(node.getClass().getName(),node);\\n  return true;\\n}': 1, '@Override  public boolean visit(SingleMemberAnnotation node)': 1, 'ExpressionStatement:-:add(\"for(\" + node.getParameter().toString() + \" : \"+ node.getExpression().toString()+ \")\",node);': 1, 'MethodDeclaration:-:boolean visit(ClassInstanceCreation node)': 1, '@Override  public boolean visit(ClassInstanceCreation node)': 1, 'SimpleType:-:CatchClause': 1, 'Assignment:-:hash=content.hashCode()': 1, 'SimpleName:-:FieldDeclaration': 1, '@Override  public boolean visit(NormalAnnotation node)': 1, 'SimpleName:-:QualifiedName': 1, 'SingleVariableDeclaration:-:LineComment node': 1, 'MethodDeclaration:-:@Override public boolean visit(ForStatement node){\\n  add(node.getClass().getName(),node);\\n  return true;\\n}': 1, 'MethodDeclaration:-:boolean visit(Comment node)': 1, 'SimpleType:-:VariableDeclarationFragment': 1, '@Override  public boolean visit(ProvidesDirective node)': 1, 'MethodInvocation:-:temp.put(newLine,temp.get(newLine) + 1)': 1, 'ExpressionStatement:-:parser.setSource(file_content);': 1, 'MethodInvocation:-:modi.length()': 1, 'SimpleType:-:SingleMemberAnnotation': 1, 'SingleVariableDeclaration:-:ConditionalExpression node': 1, 'SingleVariableDeclaration:-:NullLiteral node': 1, 'ExpressionStatement:-:add(\"while (\" + node.getExpression().toString() + \")\",node);': 1, 'Assignment:-:exc=exc.substring(1,exc.length() - 1)': 1, 'MethodDeclaration:-:void addAST(String x)': 1, 'MethodDeclaration:-:@Override public boolean visit(EnumDeclaration node){\\n  add(node.getClass().getName(),node);\\n  return true;\\n}': 1, 'SimpleName:-:CastExpression': 1, 'IfStatement:-:if (\"IfStatement\".equals(type)) {\\n  IfStatement n=(IfStatement)node;\\n  this.addAST(\"if(\" + n.getExpression().toString() + \")\");\\n}': 1, 'MethodDeclaration:-:boolean visit(TypeDeclaration node)': 1, 'SimpleName:-:FieldAccess': 1, 'MethodDeclaration:-:boolean visit(UsesDirective node)': 1, 'MethodDeclaration:-:boolean visit(EmptyStatement node)': 1, 'VariableDeclarationFragment:-:content=node.toString().trim()': 1, 'Assignment:-:r=n.getReturnType2().toString()': 1, 'ExpressionStatement:-:x=modi + \" \" + r+ \" \"+ n.getName().toString()+ \"(\"+ para+ \")\";': 1, 'SimpleType:-:NumberLiteral': 1, 'SimpleName:-:CharSequence': 2, '@Override  public boolean visit(TryStatement node)': 1, 'SimpleName:-:VariableDeclarationExpression': 1, 'IfStatement:-:if(!line.equals(allChange) && !allChange.equals(newLine))': 1, 'IfStatement:-:if (type.contains(\"Literal\")) {\\n  try {\\n    Pattern.compile(\"\\\\\\\\b\" + content + \"\\\\\\\\b\");\\n  }\\n catch (  Exception e) {\\n    content=null;\\n  }\\n}': 1, 'SimpleType:-:ContinueStatement': 1, \"Assignment:-:type=name.substring(name.lastIndexOf('.') + 1)\": 1, 'ExpressionStatement:-:x=r + \" \" + n.getName().toString()+ \"(\"+ para+ \")\";': 1, 'VariableDeclarationStatement:-:String modi=Arrays.toString(n.modifiers().toArray());': 1, 'SimpleType:-:ExportsDirective': 1, 'SingleVariableDeclaration:-:OpensDirective node': 1, 'SingleVariableDeclaration:-:ProvidesDirective node': 1, 'SimpleType:-:Block': 1, 'MethodInvocation:-:temp.put(allChange,temp.get(allChange) + 1)': 1, 'SimpleName:-:Iterator': 1, 'SimpleName:-:ContinueStatement': 1, 'SingleVariableDeclaration:-:Modifier node': 1, 'SimpleName:-:hashCode': 2, 'MethodDeclaration:-:@Override public boolean visit(EmptyStatement node){\\n  add(node.getClass().getName(),node);\\n  return true;\\n}': 1, 'MethodDeclaration:-:@Override public boolean visit(AssertStatement node){\\n  add(node.getClass().getName(),node);\\n  return true;\\n}': 1, 'SingleVariableDeclaration:-:ThisExpression node': 1, 'InfixExpression:-:\"while (\" + node.getExpression().toString() + \")\"': 1, 'SimpleName:-:ArrayAccess': 1, 'SimpleType:-:TextElement': 1, 'SingleVariableDeclaration:-:UsesDirective node': 1, 'SimpleName:-:TagElement': 1, 'SingleVariableDeclaration:-:SwitchCase node': 1, '@Override  public boolean visit(MethodInvocation node)': 1, 'MethodInvocation:-:exc.length()': 2, 'SingleVariableDeclaration:-:QualifiedName node': 1, 'ExpressionStatement:-:content=null;': 1, '@Override  public boolean visit(WhileStatement node)': 1, 'SimpleType:-:ArrayInitializer': 1, 'SimpleName:-:List': 2, 'SimpleType:-:EnumDeclaration': 1, 'SimpleName:-:Map': 2, 'MethodDeclaration:-:@Override public boolean visit(SuperFieldAccess node){\\n  add(node.getClass().getName(),node);\\n  return true;\\n}': 1, 'SingleVariableDeclaration:-:Javadoc node': 1, 'SimpleName:-:InfixExpression': 1, 'PrefixExpression:-:!this.AST_Map.containsKey(x)': 1, 'ExpressionStatement:-:cu.accept(visitor);': 1, 'MethodDeclaration:-:@Override public boolean visit(CharacterLiteral node){\\n  add(node.getClass().getName(),node);\\n  return true;\\n}': 1, 'SingleVariableDeclaration:-:PrefixExpression node': 1, 'ExpressionStatement:-:this.AST_Map.put(x,this.AST_Map.get(x) + 1);': 1, 'MethodDeclaration:-:boolean visit(ArrayCreation node)': 1, 'SimpleType:-:EnumConstantDeclaration': 1, 'SimpleName:-:ConditionalExpression': 1, 'IfStatement:-:if (n.getReturnType2() == null) {\\n  r=\"\";\\n}\\n else {\\n  r=n.getReturnType2().toString();\\n}': 1, '@Override  public boolean visit(ReturnStatement node)': 1, 'VariableDeclarationFragment:-:line=i.next().toString()': 1, '@Override  public boolean visit(SingleVariableDeclaration node)': 1, 'MethodDeclaration:-:@Override public boolean visit(SingleVariableDeclaration node){\\n  add(node.getClass().getName(),node);\\n  return true;\\n}': 1, 'SimpleName:-:String': 17, 'MethodDeclaration:-:boolean visit(ThrowStatement node)': 1, 'VariableDeclarationStatement:-:String type=null;': 1, 'IfStatement:-:if(!simpleName.contains(content))': 2, 'SimpleType:-:FieldAccess': 1, 'SimpleType:-:MemberValuePair': 1, '@Override  public boolean visit(CatchClause node)': 1, '@Override  public boolean visit(PrimitiveType node)': 1, 'SimpleName:-:HashMap': 4, 'MethodDeclaration:-:@Override public boolean visit(TypeMethodReference node){\\n  add(node.getClass().getName(),node);\\n  return true;\\n}': 1, 'MethodDeclaration:-:@Override public boolean visit(SynchronizedStatement node){\\n  add(node.getClass().getName(),node);\\n  return true;\\n}': 1, 'SingleVariableDeclaration:-:CatchClause node': 1, 'MethodDeclaration:-:@Override public boolean visit(CreationReference node){\\n  add(node.getClass().getName(),node);\\n  return true;\\n}': 1, 'ReturnStatement:-:return temp;': 1, 'MethodDeclaration:-:boolean visit(QualifiedType node)': 1, 'SimpleName:-:node': 267, '@Override  public boolean visit(Javadoc node)': 1, 'MethodDeclaration:-:boolean visit(SimpleType node)': 1, 'MethodDeclaration:-:boolean visit(EnhancedForStatement node)': 1, 'private void addAST(String x)': 1, 'VariableDeclarationStatement:-:ASTParser parser=ASTParser.newParser(AST.JLS10);': 1, 'MethodDeclaration:-:@Override public boolean visit(QualifiedName node){\\n  return true;\\n}': 1, 'SimpleType:-:CompilationUnit': 3, 'SimpleType:-:ArrayAccess': 1, 'SimpleName:-:cu': 3, 'CastExpression:-:(CompilationUnit)parser.createAST(null)': 1, 'MethodDeclaration:-:@Override public boolean visit(ExportsDirective node){\\n  add(node.getClass().getName(),node);\\n  return true;\\n}': 1, '@Override  public boolean visit(ExportsDirective node)': 1, 'MethodDeclaration:-:@Override public boolean visit(TypeLiteral node){\\n  return true;\\n}': 1, 'MethodDeclaration:-:@Override public boolean visit(PrefixExpression node){\\n  add(node.getClass().getName(),node);\\n  return true;\\n}': 1, 'MethodDeclaration:-:@Override public boolean visit(SwitchCase node){\\n  add(node.getClass().getName(),node);\\n  return true;\\n}': 1, 'SimpleName:-:Similarity_Visitor': 4, '@Override  public boolean visit(ConstructorInvocation node)': 1, 'MethodDeclaration:-:boolean visit(SuperMethodInvocation node)': 1, 'IfStatement:-:if (!this.AST_Map.containsKey(x)) {\\n  this.AST_Map.put(x,1);\\n}\\n else {\\n  this.AST_Map.put(x,this.AST_Map.get(x) + 1);\\n}': 1, 'SingleVariableDeclaration:-:EnhancedForStatement node': 1, 'IfStatement:-:if(exc.length() != 0)': 1, 'MethodDeclaration:-:boolean visit(VariableDeclarationExpression node)': 1, 'MethodDeclaration:-:Map<CharSequence,Integer> normaliz()': 1, 'SimpleName:-:VariableDeclarationStatement': 1, 'CatchClause:-:catch (Exception e) {\\n  content=null;\\n}': 1, 'VariableDeclarationExpression:-:Iterator i=AST_Map.keySet().iterator()': 1, 'SimpleType:-:List': 2, 'VariableDeclarationStatement:-:MethodDeclaration n=(MethodDeclaration)node;': 1, 'MethodDeclaration:-:boolean visit(FieldAccess node)': 1, 'IfStatement:-:if(type.contains(\"Literal\"))': 1, 'IfStatement:-:if(!temp.containsKey(newLine))': 1, 'InfixExpression:-:x + \" \" + exc': 1, 'MethodDeclaration:-:boolean visit(AssertStatement node)': 1, 'MethodDeclaration:-:boolean visit(SwitchCase node)': 1, 'SimpleName:-:ArrayInitializer': 1, 'MethodDeclaration:-:boolean visit(TypeParameter node)': 1, 'SingleVariableDeclaration:-:ContinueStatement node': 1, 'SimpleType:-:VariableDeclarationStatement': 1, 'ClassInstanceCreation:-:new Similarity_Visitor()': 1, \"Assignment:-:exc=exc.replace(',',' ')\": 1, 'MethodInvocation:-:allChange.replaceAll(\"\\\\\\\\b\" + sn + \"\\\\\\\\b\",\" NAME\").trim()': 1, 'MethodDeclaration:-:public boolean visit(Comment node){\\n  return true;\\n}': 1, 'MethodDeclaration:-:@Override public boolean visit(Assignment node){\\n  add(node.getClass().getName(),node);\\n  return true;\\n}': 1, 'VariableDeclarationFragment:-:modi=Arrays.toString(n.modifiers().toArray())': 1, 'MethodDeclaration:-:@Override public boolean visit(DoStatement node){\\n  add(node.getClass().getName(),node);\\n  return true;\\n}': 1, 'SimpleName:-:TextElement': 1, 'SimpleName:-:AST': 1, 'SimpleName:-:hasNext': 1, \"CharacterLiteral:-:','\": 2, 'MethodInvocation:-:line.contains(sn)': 1, 'SimpleType:-:PostfixExpression': 1, 'SimpleType:-:SimpleType': 1, 'SingleVariableDeclaration:-:SynchronizedStatement node': 1, 'ReturnStatement:-:return simpleName;': 1, 'MethodInvocation:-:Pattern.compile(\"\\\\\\\\b\" + content + \"\\\\\\\\b\")': 1, 'MethodDeclaration:-:boolean visit(AnonymousClassDeclaration node)': 1, 'public List<String> getSimpleName()': 1, 'MethodDeclaration:-:@Override public boolean visit(SuperMethodReference node){\\n  add(node.getClass().getName(),node);\\n  return true;\\n}': 1, 'ExpressionStatement:-:cu=(CompilationUnit)parser.createAST(null);': 1, 'InfixExpression:-:n.getReturnType2() == null': 1, 'VariableDeclarationFragment:-:n=(MethodDeclaration)node': 1, 'MethodInvocation:-:\"MethodDeclaration\".equals(type)': 1, 'SimpleType:-:Modifier': 1, 'SimpleType:-:ParenthesizedExpression': 1, 'MethodDeclaration:-:boolean visit(EnumDeclaration node)': 1, 'SimpleName:-:parser': 3, 'MethodInvocation:-:this.AST_Map.put(x,1)': 1, 'MethodDeclaration:-:@Override public boolean visit(VariableDeclarationFragment node){\\n  add(node.getClass().getName(),node);\\n  return true;\\n}': 1, 'MethodInvocation:-:node.toString()': 1, 'MethodDeclaration:-:@Override public boolean visit(SuperMethodInvocation node){\\n  add(node.getClass().getName(),node);\\n  return true;\\n}': 1, 'IfStatement:-:if (name != null) {\\n  type=name.substring(name.lastIndexOf(\\'.\\') + 1);\\n  if (type.equals(\"StringLiteral\")) {\\n    content=content.subSequence(1,content.length() - 1).toString().trim();\\n    hash=content.hashCode();\\n  }\\n  if (\"IfStatement\".equals(type)) {\\n    IfStatement n=(IfStatement)node;\\n    this.addAST(\"if(\" + n.getExpression().toString() + \")\");\\n  }\\n  if (\"MethodDeclaration\".equals(type)) {\\n    MethodDeclaration n=(MethodDeclaration)node;\\n    if (!simpleName.contains(content)) {\\n      simpleName.add(n.getName().toString());\\n    }\\n    String para=Arrays.toString(n.parameters().toArray());\\n    para=para.substring(1,para.length() - 1);\\n    String x=null;\\n    String r;\\n    if (n.getReturnType2() == null) {\\n      r=\"\";\\n    }\\n else {\\n      r=n.getReturnType2().toString();\\n    }\\n    x=r + \" \" + n.getName().toString()+ \"(\"+ para+ \")\";\\n    this.addAST(x);\\n    String modi=Arrays.toString(n.modifiers().toArray());\\n    modi=modi.replace(\\',\\',\\' \\');\\n    modi=modi.substring(1,modi.length() - 1);\\n    x=modi + \" \" + r+ \" \"+ n.getName().toString()+ \"(\"+ para+ \")\";\\n    this.addAST(x);\\n    String exc=Arrays.toString(n.thrownExceptionTypes().toArray());\\n    exc=exc.replace(\\',\\',\\' \\');\\n    exc=exc.substring(1,exc.length() - 1);\\n    x=x + \" \" + exc;\\n    if (exc.length() != 0) {\\n      this.addAST(x);\\n    }\\n  }\\n  if (type.contains(\"Literal\")) {\\n    try {\\n      Pattern.compile(\"\\\\\\\\b\" + content + \"\\\\\\\\b\");\\n    }\\n catch (    Exception e) {\\n      content=null;\\n    }\\n  }\\n  if (content != null && type.contains(\"Literal\") || type.contains(\"Name\") && typeDic) {\\n    if (!simpleName.contains(content)) {\\n      simpleName.add(content);\\n    }\\n  }\\n  if (typeDic && content != null) {\\n    this.addAST(content);\\n  }\\n}': 1, 'MethodInvocation:-:n.getName().toString()': 3, 'SimpleType:-:OpensDirective': 1, 'SimpleName:-:Dimension': 1, \"CharacterLiteral:-:'.'\": 1, 'SimpleName:-:ArrayCreation': 1, 'MethodDeclaration:-:boolean visit(ModuleDeclaration node)': 1, 'SimpleName:-:SimpleName': 1, 'SingleVariableDeclaration:-:SuperMethodReference node': 1, 'SimpleName:-:Comment': 1, 'VariableDeclarationFragment:-:newLine=null': 1, 'SimpleType:-:UsesDirective': 1, 'MethodDeclaration:-:@Override public boolean visit(IntersectionType node){\\n  add(node.getClass().getName(),node);\\n  return true;\\n}': 1, 'SingleVariableDeclaration:-:RequiresDirective node': 1, 'MethodDeclaration:-:@Override public boolean visit(ModuleDeclaration node){\\n  add(node.getClass().getName(),node);\\n  return true;\\n}': 1, 'SingleVariableDeclaration:-:Object node': 1, 'Assignment:-:content=content.subSequence(1,content.length() - 1).toString().trim()': 1, 'MethodDeclaration:-:@Override public boolean visit(SimpleName node){\\n  add(node.getClass().getName(),node);\\n  return true;\\n}': 1, 'MethodInvocation:-:allChange.equals(newLine)': 1, 'ClassInstanceCreation:-:new ArrayList<>()': 1, 'SingleVariableDeclaration:-:CharacterLiteral node': 1, 'PrefixExpression:-:!allChange.equals(newLine)': 1, 'SingleVariableDeclaration:-:WhileStatement node': 1, 'SingleVariableDeclaration:-:ImportDeclaration node': 1, 'SimpleName:-:ArrayType': 1, 'SimpleName:-:WhileStatement': 1, 'MethodDeclaration:-:@Override public boolean visit(ParameterizedType node){\\n  add(node.getClass().getName(),node);\\n  return true;\\n}': 1, 'MethodDeclaration:-:boolean visit(IfStatement node)': 1, 'SimpleName:-:RequiresDirective': 1, 'MethodInvocation:-:i.next()': 1, 'ParameterizedType:-:HashMap<String,Integer>': 2, 'SimpleName:-:SwitchStatement': 1, 'SingleVariableDeclaration:-:ForStatement node': 1, 'MethodDeclaration:-:boolean visit(StringLiteral node)': 1, 'MethodDeclaration:-:boolean visit(MethodDeclaration node)': 1, 'SimpleName:-:parse_java_file': 1, 'SimpleName:-:StringLiteral': 1, 'ExpressionStatement:-:this.AST_Map.put(x,1);': 1, 'SimpleName:-:MemberValuePair': 1, 'SingleVariableDeclaration:-:WildcardType node': 1, 'SingleVariableDeclaration:-:ArrayType node': 1, 'SimpleName:-:ModuleModifier': 1, 'SingleVariableDeclaration:-:ConstructorInvocation node': 1, 'SingleVariableDeclaration:-:ExportsDirective node': 1, 'SimpleName:-:i': 3, 'VariableDeclarationFragment:-:x=null': 1, 'MethodDeclaration:-:@Override public boolean visit(Initializer node){\\n  add(node.getClass().getName(),node);\\n  return true;\\n}': 1, 'SingleVariableDeclaration:-:VariableDeclarationFragment node': 1, 'SimpleName:-:e': 1, 'ExpressionStatement:-:this.addAST(content);': 1, 'SimpleName:-:getParameter': 1, 'MethodDeclaration:-:@Override public boolean visit(PostfixExpression node){\\n  add(node.getClass().getName(),node);\\n  return true;\\n}': 1, 'SimpleName:-:subSequence': 1, \"Assignment:-:modi=modi.replace(',',' ')\": 1, 'TryStatement:-:try {\\n  Pattern.compile(\"\\\\\\\\b\" + content + \"\\\\\\\\b\");\\n}\\n catch (Exception e) {\\n  content=null;\\n}': 1, 'SimpleName:-:CatchClause': 1, 'ExpressionStatement:-:r=n.getReturnType2().toString();': 1, '@Override  public boolean visit(TypeMethodReference node)': 1, 'MethodDeclaration:-:boolean visit(TextElement node)': 1, 'SimpleName:-:MethodRef': 1, 'SimpleName:-:MethodDeclaration': 3, 'MethodDeclaration:-:@Override public boolean visit(InfixExpression node){\\n  add(node.getClass().getName(),node);\\n  return true;\\n}': 1, 'public HashMap<String,Integer> getAST_Map()': 1, 'FieldAccess:-:this.typeDic': 1, 'MethodDeclaration:-:boolean visit(BreakStatement node)': 1, 'IfStatement:-:if (type.equals(\"StringLiteral\")) {\\n  content=content.subSequence(1,content.length() - 1).toString().trim();\\n  hash=content.hashCode();\\n}': 1, 'MethodDeclaration:-:public static Similarity_Visitor parse_java_file(char[] file_content){\\n  ASTParser parser=ASTParser.newParser(AST.JLS10);\\n  parser.setSource(file_content);\\n  final CompilationUnit cu;\\n  cu=(CompilationUnit)parser.createAST(null);\\n  Similarity_Visitor visitor=new Similarity_Visitor();\\n  cu.accept(visitor);\\n  return visitor;\\n}': 1, 'MethodDeclaration:-:@Override public boolean visit(BlockComment node){\\n  return true;\\n}': 1, 'SimpleName:-:next': 1, 'SimpleName:-:n': 11, 'SingleVariableDeclaration:-:PostfixExpression node': 1, '@Override  public boolean visit(ExpressionMethodReference node)': 1, 'MethodInvocation:-:content.subSequence(1,content.length() - 1).toString().trim()': 1, 'MethodInvocation:-:n.getReturnType2().toString()': 1, 'SimpleName:-:OpensDirective': 1, 'IfStatement:-:if(typeDic && content != null)': 1, 'SimpleName:-:x': 15, 'SimpleName:-:r': 5, 'SimpleType:-:TypeParameter': 1, 'MethodInvocation:-:i.hasNext()': 1, 'ExpressionStatement:-:modi=modi.substring(1,modi.length() - 1);': 1, 'SingleVariableDeclaration:-:PrimitiveType node': 1, 'MethodDeclaration:-:boolean visit(MethodRefParameter node)': 1, 'SingleVariableDeclaration:-:SuperFieldAccess node': 1, 'MethodDeclaration:-:boolean visit(IntersectionType node)': 1, 'SimpleName:-:replace': 2, 'SimpleType:-:InfixExpression': 1, 'SimpleType:-:ASTVisitor': 1, 'MethodInvocation:-:node.toString().trim()': 1, 'MethodDeclaration:-:boolean visit(TypeMethodReference node)': 1, 'SimpleName:-:EnhancedForStatement': 1, '@Override  public boolean visit(ParenthesizedExpression node)': 1, 'SingleVariableDeclaration:-:EnumConstantDeclaration node': 1, 'MethodDeclaration:-:boolean visit(SuperMethodReference node)': 1, 'SingleVariableDeclaration:-:Block node': 1, 'MethodDeclaration:-:@Override public boolean visit(Block node){\\n  return true;\\n}': 1, 'SimpleName:-:parameters': 1, 'SimpleType:-:ImportDeclaration': 1, 'SingleVariableDeclaration:-:SuperConstructorInvocation node': 1, 'SimpleType:-:TypeDeclaration': 1, '@Override  public boolean visit(SynchronizedStatement node)': 1, 'MethodDeclaration:-:@Override public boolean visit(TypeDeclaration node){\\n  this.typeDic=true;\\n  return true;\\n}': 1, 'SimpleName:-:IfStatement': 3, 'MethodDeclaration:-:@Override public boolean visit(ArrayCreation node){\\n  add(node.getClass().getName(),node);\\n  return true;\\n}': 1, 'MethodDeclaration:-:boolean visit(QualifiedName node)': 1, 'SimpleName:-:compile': 1, 'SimpleType:-:RequiresDirective': 1, 'MethodDeclaration:-:@Override public boolean visit(Javadoc node){\\n  return true;\\n}': 1, 'SimpleName:-:TypeDeclarationStatement': 1, 'SingleVariableDeclaration:-:BreakStatement node': 1, 'ExpressionStatement:-:x=x + \" \" + exc;': 1, 'MethodInvocation:-:ASTParser.newParser(AST.JLS10)': 1, 'SimpleName:-:ArrayList': 1, 'MethodDeclaration:-:boolean visit(SingleVariableDeclaration node)': 1, 'VariableDeclarationStatement:-:Similarity_Visitor visitor=new Similarity_Visitor();': 1, '@Override  public boolean visit(InfixExpression node)': 1, '@Override  public boolean visit(TypeDeclarationStatement node)': 1, 'SimpleType:-:SuperMethodReference': 1, 'MethodInvocation:-:content.subSequence(1,content.length() - 1).toString()': 1, '@Override  public boolean visit(WildcardType node)': 1, 'SimpleName:-:toString': 14, 'PrefixExpression:-:!temp.containsKey(newLine)': 1, '@Override  public boolean visit(QualifiedType node)': 1, 'SimpleType:-:SwitchStatement': 1, 'InfixExpression:-:\"for(\" + node.getParameter().toString() + \" : \"+ node.getExpression().toString()+ \")\"': 1, 'MethodDeclaration:-:boolean visit(LabeledStatement node)': 1, 'MethodDeclaration:-:@Override public boolean visit(TryStatement node){\\n  add(node.getClass().getName(),node);\\n  return true;\\n}': 1, 'MethodDeclaration:-:boolean visit(CreationReference node)': 1, 'SimpleType:-:ExpressionMethodReference': 1, 'public  static Similarity_Visitor parse_java_file(char[] file_content)': 1, 'MethodDeclaration:-:boolean visit(ProvidesDirective node)': 1, 'ThisExpression:-:this': 10, 'MethodDeclaration:-:@Override public boolean visit(ConstructorInvocation node){\\n  add(node.getClass().getName(),node);\\n  return true;\\n}': 1, 'VariableDeclarationFragment:-:exc=Arrays.toString(n.thrownExceptionTypes().toArray())': 1, 'SimpleType:-:MethodRefParameter': 1, 'SimpleName:-:MemberRef': 1, 'MethodDeclaration:-:@Override public boolean visit(PrimitiveType node){\\n  return true;\\n}': 1, 'VariableDeclarationStatement:-:String content=node.toString().trim();': 1, 'MethodInvocation:-:line.equals(allChange)': 1, 'SimpleType:-:ConstructorInvocation': 1, '@Override  public boolean visit(Initializer node)': 1, 'MethodInvocation:-:this.AST_Map.put(x,this.AST_Map.get(x) + 1)': 1, 'MethodInvocation:-:temp.put(allChange,1)': 1, 'SimpleName:-:ForStatement': 1, 'SingleVariableDeclaration:-:LambdaExpression node': 1, 'SimpleName:-:put': 6, 'SimpleName:-:ImportDeclaration': 1, 'MethodInvocation:-:node.getClass()': 79, 'SimpleName:-:TypeParameter': 1, 'MethodDeclaration:-:@Override public boolean visit(CatchClause node){\\n  add(node.getClass().getName(),node);\\n  return true;\\n}': 1, 'MethodInvocation:-:line.replaceAll(\"\\\\\\\\b\" + sn + \"\\\\\\\\b\",\" NAME\").trim()': 1, 'SimpleName:-:name': 4, 'SimpleType:-:Assignment': 1, 'SimpleName:-:ThisExpression': 1, 'SingleVariableDeclaration:-:TypeDeclarationStatement node': 1, 'VariableDeclarationStatement:-:String para=Arrays.toString(n.parameters().toArray());': 1, 'SimpleType:-:ArrayList': 1, 'MethodInvocation:-:temp.containsKey(newLine)': 1, 'SingleVariableDeclaration:-:ArrayAccess node': 1, 'SingleVariableDeclaration:-:InfixExpression node': 1, 'MethodDeclaration:-:void add(String name, Object node)': 1, 'SimpleName:-:PostfixExpression': 1, '@Override  public boolean visit(SimpleName node)': 1, '@Override  public boolean visit(EmptyStatement node)': 1, 'SimpleType:-:ConditionalExpression': 1, 'StringLiteral:-:Name': 1, 'BooleanLiteral:-:true': 101, 'IfStatement:-:if (!newLine.equals(line)) {\\n  if (!temp.containsKey(newLine)) {\\n    temp.put(newLine,1);\\n  }\\n else {\\n    temp.put(newLine,temp.get(newLine) + 1);\\n  }\\n}': 1, 'MethodDeclaration:-:boolean visit(AnnotationTypeMemberDeclaration node)': 1, 'StringLiteral:-:\\\\\\\\b': 6, 'MethodDeclaration:-:boolean visit(PostfixExpression node)': 1, 'MethodDeclaration:-:@Override public boolean visit(ExpressionMethodReference node){\\n  add(node.getClass().getName(),node);\\n  return true;\\n}': 1, 'InfixExpression:-:temp.get(newLine) + 1': 1, 'MethodDeclaration:-:@Override public boolean visit(TagElement node){\\n  return true;\\n}': 1, 'MethodDeclaration:-:@Override public boolean visit(EnumConstantDeclaration node){\\n  add(node.getClass().getName(),node);\\n  return true;\\n}': 1, 'MethodInvocation:-:content.subSequence(1,content.length() - 1)': 1, \"MethodInvocation:-:modi.replace(',',' ')\": 1, 'VariableDeclarationFragment:-:type=null': 1, 'InfixExpression:-:para.length() - 1': 1, 'SimpleName:-:temp': 10, 'IfStatement:-:if (content != null && type.contains(\"Literal\") || type.contains(\"Name\") && typeDic) {\\n  if (!simpleName.contains(content)) {\\n    simpleName.add(content);\\n  }\\n}': 1, 'MethodDeclaration:-:@Override public boolean visit(ReturnStatement node){\\n  add(node.getClass().getName(),node);\\n  return true;\\n}': 1, 'SimpleName:-:SingleVariableDeclaration': 1, 'IfStatement:-:if(!this.AST_Map.containsKey(x))': 1, 'SingleVariableDeclaration:-:MarkerAnnotation node': 1, 'SimpleType:-:ArrayCreation': 1, 'MethodInvocation:-:node.getExpression()': 2, 'SingleVariableDeclaration:-:LabeledStatement node': 1, 'SimpleName:-:para': 6, 'MethodDeclaration:-:boolean visit(BlockComment node)': 1, 'SingleVariableDeclaration:-:CreationReference node': 1, 'SimpleName:-:LambdaExpression': 1, 'MethodInvocation:-:this.AST_Map.containsKey(x)': 1, '@Override  public boolean visit(LambdaExpression node)': 1, 'MethodDeclaration:-:boolean visit(InfixExpression node)': 1, 'SingleVariableDeclaration:-:FieldAccess node': 1, 'SimpleType:-:FieldDeclaration': 1, 'SimpleName:-:WildcardType': 1, 'ForStatement:-:for (Iterator i=AST_Map.keySet().iterator(); i.hasNext(); ) {\\n  String line=i.next().toString();\\n  String allChange=line;\\n  String newLine=null;\\n  for (  String sn : simpleName) {\\n    if (line.contains(sn)) {\\n      allChange=allChange.replaceAll(\"\\\\\\\\b\" + sn + \"\\\\\\\\b\",\" NAME\").trim();\\n      newLine=line.replaceAll(\"\\\\\\\\b\" + sn + \"\\\\\\\\b\",\" NAME\").trim();\\n      if (!newLine.equals(line)) {\\n        if (!temp.containsKey(newLine)) {\\n          temp.put(newLine,1);\\n        }\\n else {\\n          temp.put(newLine,temp.get(newLine) + 1);\\n        }\\n      }\\n    }\\n  }\\n  if (!line.equals(allChange) && !allChange.equals(newLine)) {\\n    if (!temp.containsKey(allChange)) {\\n      temp.put(allChange,1);\\n    }\\n else {\\n      temp.put(allChange,temp.get(allChange) + 1);\\n    }\\n  }\\n}': 1, 'MethodDeclaration:-:private void addAST(String x){\\n  x=x.trim();\\n  if (!this.AST_Map.containsKey(x)) {\\n    this.AST_Map.put(x,1);\\n  }\\n else {\\n    this.AST_Map.put(x,this.AST_Map.get(x) + 1);\\n  }\\n}': 1, 'SimpleType:-:BooleanLiteral': 1, 'SimpleName:-:ExportsDirective': 1, 'SimpleName:-:iterator': 1, 'SingleVariableDeclaration:-:DoStatement node': 1, 'SimpleName:-:sn': 4, 'SimpleType:-:WildcardType': 1, 'SimpleName:-:substring': 4, 'MethodDeclaration:-:@Override public boolean visit(QualifiedType node){\\n  add(node.getClass().getName(),node);\\n  return true;\\n}': 1, 'MethodDeclaration:-:boolean visit(VariableDeclarationFragment node)': 1, 'InfixExpression:-:\"if(\" + n.getExpression().toString() + \")\"': 1, 'MethodInvocation:-:node.getParameter()': 1, 'MarkerAnnotation:-:@Override': 99, 'SimpleName:-:Block': 1, '@Override  public boolean visit(NameQualifiedType node)': 1, 'SimpleType:-:ThrowStatement': 1, '@Override  public boolean visit(StringLiteral node)': 1, '@Override  public boolean visit(TypeDeclaration node)': 1, \"MethodInvocation:-:exc.replace(',',' ')\": 1, 'SingleVariableDeclaration:-:TagElement node': 1, 'SingleVariableDeclaration:-:MemberValuePair node': 1, 'MethodInvocation:-:n.getExpression().toString()': 1, 'MethodInvocation:-:node.getExpression().toString()': 2, '@Override  public boolean visit(SuperMethodInvocation node)': 1, 'MethodDeclaration:-:@Override public boolean visit(AnnotationTypeDeclaration node){\\n  add(node.getClass().getName(),node);\\n  return true;\\n}': 1, 'IfStatement:-:if(\"MethodDeclaration\".equals(type))': 1, 'SimpleName:-:trim': 5, 'MethodDeclaration:-:boolean visit(SimpleName node)': 1, 'SimpleName:-:IntersectionType': 1, 'SimpleType:-:String': 17, '@Override  public boolean visit(NullLiteral node)': 1, 'MethodDeclaration:-:boolean visit(TypeDeclarationStatement node)': 1, 'SimpleName:-:SuperMethodInvocation': 1, 'MethodDeclaration:-:boolean visit(ArrayType node)': 1, 'InfixExpression:-:content != null && type.contains(\"Literal\") || type.contains(\"Name\") && typeDic': 1, 'IfStatement:-:if (line.contains(sn)) {\\n  allChange=allChange.replaceAll(\"\\\\\\\\b\" + sn + \"\\\\\\\\b\",\" NAME\").trim();\\n  newLine=line.replaceAll(\"\\\\\\\\b\" + sn + \"\\\\\\\\b\",\" NAME\").trim();\\n  if (!newLine.equals(line)) {\\n    if (!temp.containsKey(newLine)) {\\n      temp.put(newLine,1);\\n    }\\n else {\\n      temp.put(newLine,temp.get(newLine) + 1);\\n    }\\n  }\\n}': 1, 'Assignment:-:this.typeDic=true': 1, 'ExpressionStatement:-:hash=content.hashCode();': 1, 'VariableDeclarationFragment:-:typeDic=false': 1, 'MethodDeclaration:-:private void add(String name,Object node){\\n  String type=null;\\n  String content=node.toString().trim();\\n  Integer hash=content.hashCode();\\n  if (name != null) {\\n    type=name.substring(name.lastIndexOf(\\'.\\') + 1);\\n    if (type.equals(\"StringLiteral\")) {\\n      content=content.subSequence(1,content.length() - 1).toString().trim();\\n      hash=content.hashCode();\\n    }\\n    if (\"IfStatement\".equals(type)) {\\n      IfStatement n=(IfStatement)node;\\n      this.addAST(\"if(\" + n.getExpression().toString() + \")\");\\n    }\\n    if (\"MethodDeclaration\".equals(type)) {\\n      MethodDeclaration n=(MethodDeclaration)node;\\n      if (!simpleName.contains(content)) {\\n        simpleName.add(n.getName().toString());\\n      }\\n      String para=Arrays.toString(n.parameters().toArray());\\n      para=para.substring(1,para.length() - 1);\\n      String x=null;\\n      String r;\\n      if (n.getReturnType2() == null) {\\n        r=\"\";\\n      }\\n else {\\n        r=n.getReturnType2().toString();\\n      }\\n      x=r + \" \" + n.getName().toString()+ \"(\"+ para+ \")\";\\n      this.addAST(x);\\n      String modi=Arrays.toString(n.modifiers().toArray());\\n      modi=modi.replace(\\',\\',\\' \\');\\n      modi=modi.substring(1,modi.length() - 1);\\n      x=modi + \" \" + r+ \" \"+ n.getName().toString()+ \"(\"+ para+ \")\";\\n      this.addAST(x);\\n      String exc=Arrays.toString(n.thrownExceptionTypes().toArray());\\n      exc=exc.replace(\\',\\',\\' \\');\\n      exc=exc.substring(1,exc.length() - 1);\\n      x=x + \" \" + exc;\\n      if (exc.length() != 0) {\\n        this.addAST(x);\\n      }\\n    }\\n    if (type.contains(\"Literal\")) {\\n      try {\\n        Pattern.compile(\"\\\\\\\\b\" + content + \"\\\\\\\\b\");\\n      }\\n catch (      Exception e) {\\n        content=null;\\n      }\\n    }\\n    if (content != null && type.contains(\"Literal\") || type.contains(\"Name\") && typeDic) {\\n      if (!simpleName.contains(content)) {\\n        simpleName.add(content);\\n      }\\n    }\\n    if (typeDic && content != null) {\\n      this.addAST(content);\\n    }\\n  }\\n}': 1, 'SimpleName:-:AnnotationTypeMemberDeclaration': 1, 'SimpleType:-:MethodRef': 1, 'VariableDeclarationStatement:-:IfStatement n=(IfStatement)node;': 1, 'InfixExpression:-:\"\\\\\\\\b\" + sn + \"\\\\\\\\b\"': 2, 'MethodDeclaration:-:@Override public boolean visit(ClassInstanceCreation node){\\n  add(node.getClass().getName(),node);\\n  return true;\\n}': 1, 'FieldDeclaration:-:private List<String> simpleName=new ArrayList<>();': 1, 'SingleVariableDeclaration:-:AnonymousClassDeclaration node': 1, 'SimpleName:-:UnionType': 1, 'MethodDeclaration:-:boolean visit(NameQualifiedType node)': 1, 'MethodDeclaration:-:boolean visit(SynchronizedStatement node)': 1, 'SingleVariableDeclaration:-:FieldDeclaration node': 1, 'StringLiteral:-:IfStatement': 1, 'InfixExpression:-:typeDic && content != null': 1, 'SingleVariableDeclaration:-:ArrayCreation node': 1, 'MethodDeclaration:-:boolean visit(MethodRef node)': 1, 'IfStatement:-:if(\"IfStatement\".equals(type))': 1, 'MethodDeclaration:-:public HashMap<String,Integer> getAST_Map(){\\n  return AST_Map;\\n}': 1, 'CastExpression:-:(MethodDeclaration)node': 1, 'SimpleType:-:AnnotationTypeDeclaration': 1, 'SimpleType:-:StringLiteral': 1, 'VariableDeclarationStatement:-:String line=i.next().toString();': 1, 'SimpleType:-:ArrayType': 1, 'SimpleType:-:QualifiedType': 1, 'MethodInvocation:-:simpleName.add(content)': 1, 'ExpressionStatement:-:temp.put(newLine,1);': 1, 'SimpleType:-:PrimitiveType': 1, 'MethodDeclaration:-:@Override public boolean visit(MemberRef node){\\n  return true;\\n}': 1, 'SimpleName:-:Assignment': 1, 'VariableDeclarationFragment:-:r': 1, 'SimpleType:-:Similarity_Visitor': 3, 'MethodDeclaration:-:boolean visit(OpensDirective node)': 1, 'MethodDeclaration:-:@Override public boolean visit(ParenthesizedExpression node){\\n  add(node.getClass().getName(),node);\\n  return true;\\n}': 1, 'MethodDeclaration:-:@Override public boolean visit(LabeledStatement node){\\n  add(node.getClass().getName(),node);\\n  return true;\\n}': 1, 'MethodDeclaration:-:@Override public boolean visit(TypeDeclarationStatement node){\\n  add(node.getClass().getName(),node);\\n  return true;\\n}': 1, 'SimpleType:-:EnhancedForStatement': 1, 'SimpleName:-:AssertStatement': 1, 'SimpleName:-:SuperMethodReference': 1, 'SimpleName:-:CharacterLiteral': 1, 'SimpleName:-:TypeMethodReference': 1, 'MethodDeclaration:-:@Override public boolean visit(UnionType node){\\n  add(node.getClass().getName(),node);\\n  return true;\\n}': 1, 'MethodInvocation:-:n.modifiers()': 1, \"MethodInvocation:-:name.lastIndexOf('.')\": 1, 'SingleVariableDeclaration:-:IfStatement node': 1, 'SimpleName:-:normaliz': 1, 'ExpressionStatement:-:x=x.trim();': 1, 'IfStatement:-:if (!temp.containsKey(allChange)) {\\n  temp.put(allChange,1);\\n}\\n else {\\n  temp.put(allChange,temp.get(allChange) + 1);\\n}': 1, '@Override  public boolean visit(PrefixExpression node)': 1, 'VariableDeclarationFragment:-:n=(IfStatement)node': 1, 'SimpleType:-:CharSequence': 2, 'MethodDeclaration:-:boolean visit(ParenthesizedExpression node)': 1, '@Override  public boolean visit(VariableDeclarationFragment node)': 1, 'SingleVariableDeclaration:-:NumberLiteral node': 1, 'InfixExpression:-:r + \" \" + n.getName().toString()+ \"(\"+ para+ \")\"': 1, 'SimpleType:-:IfStatement': 3, 'IfStatement:-:if (typeDic && content != null) {\\n  this.addAST(content);\\n}': 1, 'SimpleName:-:ConstructorInvocation': 1, 'MethodDeclaration:-:@Override public boolean visit(ContinueStatement node){\\n  return true;\\n}': 1, 'SimpleName:-:simpleName': 7, \"ExpressionStatement:-:modi=modi.replace(',',' ');\": 1, 'MethodInvocation:-:allChange.replaceAll(\"\\\\\\\\b\" + sn + \"\\\\\\\\b\",\" NAME\")': 1, 'SimpleName:-:newLine': 8, 'MethodDeclaration:-:boolean visit(Modifier node)': 1, 'MethodDeclaration:-:@Override public boolean visit(SimpleType node){\\n  add(node.getClass().getName(),node);\\n  return true;\\n}': 1, '@Override  public boolean visit(QualifiedName node)': 1, 'SimpleType:-:Iterator': 1, 'SimpleName:-:file_content': 2, 'InfixExpression:-:content.length() - 1': 1, 'SimpleType:-:MethodInvocation': 1, '@Override  public boolean visit(SuperConstructorInvocation node)': 1, 'ExpressionStatement:-:temp.put(newLine,temp.get(newLine) + 1);': 1, '@Override  public boolean visit(MethodRef node)': 1, 'SimpleName:-:MethodRefParameter': 1, 'SimpleName:-:CompilationUnit': 3, 'VariableDeclarationFragment:-:allChange=line': 1, 'SimpleType:-:UnionType': 1, 'SimpleName:-:Object': 1, 'SimpleName:-:SuperFieldAccess': 1, 'SimpleType:-:SingleVariableDeclaration': 1, 'SingleVariableDeclaration:-:Dimension node': 1, 'SingleVariableDeclaration:-:VariableDeclarationStatement node': 1, 'SingleVariableDeclaration:-:ExpressionMethodReference node': 1, 'StringLiteral:-:': 5, 'SimpleType:-:CastExpression': 1, 'SimpleName:-:addAST': 6, '@Override  public boolean visit(BlockComment node)': 1, 'MethodInvocation:-:node.getParameter().toString()': 1, 'ExpressionStatement:-:r=\"\";': 1, 'SimpleType:-:Dimension': 1, 'SimpleName:-:NumberLiteral': 1, 'IfStatement:-:if (!simpleName.contains(content)) {\\n  simpleName.add(content);\\n}': 1, 'MethodDeclaration:-:public List<String> getSimpleName(){\\n  return simpleName;\\n}': 1, 'MethodDeclaration:-:boolean visit(WildcardType node)': 1, 'SimpleType:-:ModuleDeclaration': 1, 'InfixExpression:-:type.contains(\"Name\") && typeDic': 1, 'MethodInvocation:-:para.length()': 1, '@Override  public boolean visit(ForStatement node)': 1, 'SingleVariableDeclaration:-:Comment node': 1, 'SimpleName:-:hash': 2, 'MethodInvocation:-:AST_Map.keySet()': 1, '@Override  public boolean visit(BreakStatement node)': 1, '@Override  public boolean visit(CharacterLiteral node)': 1, 'MethodDeclaration:-:@Override public boolean visit(ModuleModifier node){\\n  add(node.getClass().getName(),node);\\n  return true;\\n}': 1, 'SimpleName:-:ThrowStatement': 1, 'MethodDeclaration:-:@Override public boolean visit(TextElement node){\\n  return true;\\n}': 1, '@Override  public boolean visit(OpensDirective node)': 1, 'SingleVariableDeclaration:-:TypeMethodReference node': 1, 'ExpressionStatement:-:this.typeDic=true;': 1, \"ExpressionStatement:-:type=name.substring(name.lastIndexOf('.') + 1);\": 1, 'ExpressionStatement:-:exc=exc.substring(1,exc.length() - 1);': 1, 'MethodDeclaration:-:boolean visit(ExportsDirective node)': 1, 'InfixExpression:-:modi.length() - 1': 1, 'SimpleName:-:modifiers': 1, 'MethodDeclaration:-:boolean visit(LineComment node)': 1, 'Assignment:-:newLine=line.replaceAll(\"\\\\\\\\b\" + sn + \"\\\\\\\\b\",\" NAME\").trim()': 1, 'MethodInvocation:-:add(node.getClass().getName(),node)': 79, 'ExpressionStatement:-:allChange=allChange.replaceAll(\"\\\\\\\\b\" + sn + \"\\\\\\\\b\",\" NAME\").trim();': 1, 'SingleVariableDeclaration:-:EnumDeclaration node': 1, '@Override  public boolean visit(Modifier node)': 1, 'SimpleType:-:CharacterLiteral': 1, 'MethodDeclaration:-:boolean visit(Block node)': 1, 'public boolean visit(Comment node)': 1, '@Override  public boolean visit(VariableDeclarationStatement node)': 1, 'MethodInvocation:-:Arrays.toString(n.modifiers().toArray())': 1, 'MethodInvocation:-:modi.substring(1,modi.length() - 1)': 1, 'SimpleType:-:AnonymousClassDeclaration': 1, 'VariableDeclarationStatement:-:String newLine=null;': 1, 'VariableDeclarationStatement:-:String x=null;': 1, 'MethodDeclaration:-:@Override public boolean visit(MethodRef node){\\n  return true;\\n}': 1, 'SimpleName:-:getExpression': 3, 'ParameterizedType:-:List<String>': 2, 'SimpleType:-:SuperConstructorInvocation': 1, 'MethodDeclaration:-:@Override public boolean visit(FieldAccess node){\\n  add(node.getClass().getName(),node);\\n  return true;\\n}': 1, 'SimpleType:-:LambdaExpression': 1, 'MethodDeclaration:-:boolean visit(PrimitiveType node)': 1, 'MethodDeclaration:-:boolean visit(LambdaExpression node)': 1, 'SimpleName:-:Initializer': 1, '@Override  public boolean visit(TypeParameter node)': 1, 'MethodInvocation:-:n.thrownExceptionTypes()': 1, '@Override  public boolean visit(ArrayCreation node)': 1, 'for(String sn : simpleName):-:for (String sn : simpleName) {\\n  if (line.contains(sn)) {\\n    allChange=allChange.replaceAll(\"\\\\\\\\b\" + sn + \"\\\\\\\\b\",\" NAME\").trim();\\n    newLine=line.replaceAll(\"\\\\\\\\b\" + sn + \"\\\\\\\\b\",\" NAME\").trim();\\n    if (!newLine.equals(line)) {\\n      if (!temp.containsKey(newLine)) {\\n        temp.put(newLine,1);\\n      }\\n else {\\n        temp.put(newLine,temp.get(newLine) + 1);\\n      }\\n    }\\n  }\\n}': 1, 'SimpleName:-:AnnotationTypeDeclaration': 1, 'ReturnStatement:-:return AST_Map;': 1, 'Assignment:-:allChange=allChange.replaceAll(\"\\\\\\\\b\" + sn + \"\\\\\\\\b\",\" NAME\").trim()': 1, 'MethodDeclaration:-:@Override public boolean visit(WhileStatement node){\\n  add(\"while (\" + node.getExpression().toString() + \")\",node);\\n  add(node.getClass().getName(),node);\\n  return true;\\n}': 1, 'SimpleName:-:NormalAnnotation': 1, 'MethodDeclaration:-:@Override public boolean visit(MethodDeclaration node){\\n  add(node.getClass().getName(),node);\\n  return true;\\n}': 1, 'MethodInvocation:-:simpleName.add(n.getName().toString())': 1, 'SimpleName:-:BlockComment': 1, 'MethodInvocation:-:temp.get(newLine)': 1, 'SimpleType:-:PackageDeclaration': 1, 'ParameterizedType:-:Map<CharSequence,Integer>': 2, 'MethodDeclaration:-:@Override public boolean visit(NormalAnnotation node){\\n  add(node.getClass().getName(),node);\\n  return true;\\n}': 1, 'MethodInvocation:-:newLine.equals(line)': 1, '@Override  public boolean visit(AnnotationTypeDeclaration node)': 1, 'SimpleType:-:TypeLiteral': 1, 'MethodInvocation:-:type.contains(\"Name\")': 1, 'MethodDeclaration:-:boolean visit(MethodInvocation node)': 1, 'MethodDeclaration:-:@Override public boolean visit(OpensDirective node){\\n  add(node.getClass().getName(),node);\\n  return true;\\n}': 1, '@Override  public boolean visit(TypeLiteral node)': 1, 'MethodInvocation:-:n.parameters()': 1, 'SimpleName:-:PackageDeclaration': 1, 'SimpleName:-:LabeledStatement': 1, 'SingleVariableDeclaration:-:String x': 1, '@Override  public boolean visit(CreationReference node)': 1, 'SimpleType:-:SuperMethodInvocation': 1, 'SingleVariableDeclaration:-:String sn': 1, 'MethodDeclaration:-:@Override public boolean visit(UsesDirective node){\\n  add(node.getClass().getName(),node);\\n  return true;\\n}': 1, 'SingleVariableDeclaration:-:ReturnStatement node': 1, 'VariableDeclarationStatement:-:final CompilationUnit cu;': 1, '@Override  public boolean visit(ArrayAccess node)': 1, '@Override  public boolean visit(VariableDeclarationExpression node)': 1, 'MethodDeclaration:-:@Override public boolean visit(LambdaExpression node){\\n  add(node.getClass().getName(),node);\\n  return true;\\n}': 1, 'MethodDeclaration:-:@Override public boolean visit(ArrayType node){\\n  add(node.getClass().getName(),node);\\n  return true;\\n}': 1, 'InfixExpression:-:content != null': 2, 'SimpleName:-:Pattern': 1, 'SimpleType:-:SuperFieldAccess': 1, 'SimpleType:-:InstanceofExpression': 1, 'SingleVariableDeclaration:-:QualifiedType node': 1, 'SingleVariableDeclaration:-:CompilationUnit node': 1, 'MethodDeclaration:-:HashMap<String,Integer> getAST_Map()': 1, 'SimpleType:-:VariableDeclarationExpression': 1, 'MethodDeclaration:-:@Override public boolean visit(BreakStatement node){\\n  add(node.getClass().getName(),node);\\n  return true;\\n}': 1, 'SimpleName:-:thrownExceptionTypes': 1, '@Override  public boolean visit(SwitchCase node)': 1, \"InfixExpression:-:name.lastIndexOf('.') + 1\": 1, 'MethodInvocation:-:temp.put(newLine,1)': 1, '@Override  public boolean visit(ArrayType node)': 1, 'MethodDeclaration:-:boolean visit(ReturnStatement node)': 1, 'SimpleType:-:TypeMethodReference': 1, 'IfStatement:-:if (exc.length() != 0) {\\n  this.addAST(x);\\n}': 1, 'MethodDeclaration:-:@Override public boolean visit(ArrayAccess node){\\n  add(node.getClass().getName(),node);\\n  return true;\\n}': 1, '@Override  public boolean visit(UnionType node)': 1, 'SimpleType:-:AnnotationTypeMemberDeclaration': 1, 'SimpleName:-:Exception': 1, '@Override  public boolean visit(IfStatement node)': 1, 'SimpleName:-:EmptyStatement': 1, 'InfixExpression:-:content != null && type.contains(\"Literal\")': 1, 'SimpleType:-:MethodDeclaration': 3, 'MethodDeclaration:-:@Override public boolean visit(MemberValuePair node){\\n  add(node.getClass().getName(),node);\\n  return true;\\n}': 1, '@Override  public boolean visit(SuperMethodReference node)': 1, 'MethodDeclaration:-:@Override public boolean visit(AnnotationTypeMemberDeclaration node){\\n  add(node.getClass().getName(),node);\\n  return true;\\n}': 1, 'SimpleName:-:allChange': 9, 'SimpleName:-:accept': 1, '@Override  public boolean visit(Block node)': 1, 'MethodDeclaration:-:@Override public boolean visit(NumberLiteral node){\\n  add(node.getClass().getName(),node);\\n  return true;\\n}': 1, 'SimpleType:-:Initializer': 1, 'Assignment:-:x=x + \" \" + exc': 1, 'NullLiteral:-:null': 9, 'MethodDeclaration:-:boolean visit(ForStatement node)': 1, 'SimpleName:-:TryStatement': 1, 'MethodDeclaration:-:boolean visit(ParameterizedType node)': 1, 'InfixExpression:-:exc.length() - 1': 1, 'SingleVariableDeclaration:-:CastExpression node': 1, 'MethodDeclaration:-:boolean visit(TagElement node)': 1, 'SimpleType:-:Integer': 5, 'MethodInvocation:-:line.replaceAll(\"\\\\\\\\b\" + sn + \"\\\\\\\\b\",\" NAME\")': 1, 'SimpleType:-:MarkerAnnotation': 1, 'NumberLiteral:-:0': 1, '@Override  public boolean visit(AssertStatement node)': 1, 'ClassInstanceCreation:-:new HashMap<>()': 2, 'SimpleType:-:Map': 2, 'NumberLiteral:-:1': 15, '@Override  public boolean visit(TextElement node)': 1, 'ExpressionStatement:-:simpleName.add(content);': 1, 'InfixExpression:-:modi + \" \" + r+ \" \"+ n.getName().toString()+ \"(\"+ para+ \")\"': 1, 'SingleVariableDeclaration:-:ParenthesizedExpression node': 1, 'IfStatement:-:if(n.getReturnType2() == null)': 1, 'MethodDeclaration:-:boolean visit(AnnotationTypeDeclaration node)': 1, 'MethodDeclaration:-:@Override public boolean visit(MethodInvocation node){\\n  add(node.getClass().getName(),node);\\n  return true;\\n}': 1, '@Override  public boolean visit(PostfixExpression node)': 1, 'PrefixExpression:-:!temp.containsKey(allChange)': 1, 'SingleVariableDeclaration:-:TryStatement node': 1, 'ExpressionStatement:-:this.addAST(x);': 3, 'MethodDeclaration:-:@Override public boolean visit(InstanceofExpression node){\\n  return true;\\n}': 1, 'SimpleType:-:ProvidesDirective': 1, 'SingleVariableDeclaration:-:SuperMethodInvocation node': 1, 'SingleVariableDeclaration:-:SingleMemberAnnotation node': 1, 'MethodDeclaration:-:@Override public boolean visit(CastExpression node){\\n  add(node.getClass().getName(),node);\\n  return true;\\n}': 1, 'SimpleName:-:ASTVisitor': 1, 'MethodInvocation:-:x.trim()': 1, 'SimpleName:-:VariableDeclarationFragment': 1, '@Override  public boolean visit(MemberRef node)': 1, 'SimpleName:-:AnonymousClassDeclaration': 1, '@Override  public boolean visit(ModuleDeclaration node)': 1, 'SimpleName:-:AST_Map': 7, 'MethodDeclaration:-:@Override public boolean visit(NullLiteral node){\\n  add(node.getClass().getName(),node);\\n  return true;\\n}': 1, 'SimpleType:-:Javadoc': 1, 'StringLiteral:-::': 1, '@Override  public boolean visit(ArrayInitializer node)': 1, '@Override  public boolean visit(LabeledStatement node)': 1, 'MethodDeclaration:-:boolean visit(UnionType node)': 1, 'SimpleName:-:SuperConstructorInvocation': 1, 'SingleVariableDeclaration:-:char[] file_content': 1, 'SimpleName:-:ReturnStatement': 1, 'SimpleType:-:ModuleModifier': 1, 'SimpleName:-:Modifier': 1, 'MethodDeclaration:-:boolean visit(Initializer node)': 1, 'InfixExpression:-:!line.equals(allChange) && !allChange.equals(newLine)': 1, 'SimpleName:-:MethodInvocation': 1, 'SimpleName:-:QualifiedType': 1, 'MethodDeclaration:-:@Override public boolean visit(CompilationUnit node){\\n  return true;\\n}': 1, 'MethodDeclaration:-:boolean visit(PackageDeclaration node)': 1, 'SimpleType:-:BlockComment': 1, 'SimpleName:-:lastIndexOf': 1, 'MethodDeclaration:-:boolean visit(ExpressionStatement node)': 1, 'SimpleName:-:ExpressionMethodReference': 1, 'MethodDeclaration:-:boolean visit(TypeLiteral node)': 1, 'SimpleType:-:IntersectionType': 1, 'MethodDeclaration:-:@Override public boolean visit(ProvidesDirective node){\\n  add(node.getClass().getName(),node);\\n  return true;\\n}': 1, 'MethodInvocation:-:n.getName()': 3, 'MethodDeclaration:-:boolean visit(ExpressionMethodReference node)': 1, 'SimpleName:-:EnumDeclaration': 1, 'public Map<CharSequence,Integer> normaliz()': 1, 'SimpleName:-:JLS10': 1, 'SingleVariableDeclaration:-:AnnotationTypeDeclaration node': 1, '@Override  public boolean visit(EnumDeclaration node)': 1, 'private void add(String name, Object node)': 1, 'SimpleName:-:ModuleDeclaration': 1, 'SingleVariableDeclaration:-:SimpleType node': 1, 'MethodDeclaration:-:boolean visit(SuperConstructorInvocation node)': 1, 'MethodInvocation:-:cu.accept(visitor)': 1, 'MethodInvocation:-:content.hashCode()': 2, 'SimpleName:-:toArray': 3, 'SimpleType:-:ASTParser': 1, 'SingleVariableDeclaration:-:IntersectionType node': 1, 'MethodDeclaration:-:boolean visit(PrefixExpression node)': 1, 'VariableDeclarationFragment:-:temp=new HashMap<>()': 1, 'SimpleName:-:Javadoc': 1, 'SimpleName:-:createAST': 1, 'SimpleName:-:exc': 8, '@Override  public boolean visit(ExpressionStatement node)': 1, 'SimpleName:-:ProvidesDirective': 1, 'MethodDeclaration:-:@Override public boolean visit(ThisExpression node){\\n  add(node.getClass().getName(),node);\\n  return true;\\n}': 1, 'MethodDeclaration:-:@Override public boolean visit(BooleanLiteral node){\\n  add(node.getClass().getName(),node);\\n  return true;\\n}': 1, 'SimpleType:-:BreakStatement': 1, '@Override  public boolean visit(IntersectionType node)': 1, '@Override  public boolean visit(NumberLiteral node)': 1, 'SimpleName:-:getName': 82, 'MethodInvocation:-:node.getClass().getName()': 79, 'ExpressionStatement:-:Pattern.compile(\"\\\\\\\\b\" + content + \"\\\\\\\\b\");': 1, 'MethodDeclaration:-:boolean visit(MemberRef node)': 1, '@Override  public boolean visit(ParameterizedType node)': 1, 'SimpleName:-:PrimitiveType': 1, 'MethodInvocation:-:add(\"for(\" + node.getParameter().toString() + \" : \"+ node.getExpression().toString()+ \")\",node)': 1, '@Override  public boolean visit(MethodRefParameter node)': 1, 'SimpleName:-:replaceAll': 2, 'SimpleType:-:ClassInstanceCreation': 1, 'SingleVariableDeclaration:-:MethodRef node': 1, 'SimpleType:-:TypeDeclarationStatement': 1, 'MethodDeclaration:-:@Override public boolean visit(NameQualifiedType node){\\n  add(node.getClass().getName(),node);\\n  return true;\\n}': 1, 'MethodDeclaration:-:@Override public boolean visit(ThrowStatement node){\\n  add(node.getClass().getName(),node);\\n  return true;\\n}': 1, 'SingleVariableDeclaration:-:AssertStatement node': 1, 'ExpressionStatement:-:para=para.substring(1,para.length() - 1);': 1, 'SimpleName:-:LineComment': 1, 'MethodInvocation:-:content.length()': 1, 'SimpleName:-:modi': 7, '@Override  public boolean visit(EnhancedForStatement node)': 1, 'MethodDeclaration:-:boolean visit(ModuleModifier node)': 1, 'SimpleName:-:SimpleType': 1, 'Assignment:-:para=para.substring(1,para.length() - 1)': 1, 'ArrayType:-:char[]': 1, 'SingleVariableDeclaration:-:InstanceofExpression node': 1, 'SimpleType:-:CreationReference': 1, 'MethodDeclaration:-:boolean visit(InstanceofExpression node)': 1, 'SimpleName:-:typeDic': 4, 'StringLiteral:-:NAME': 2, 'MethodInvocation:-:n.thrownExceptionTypes().toArray()': 1, 'VariableDeclarationFragment:-:cu': 1, 'MethodInvocation:-:this.AST_Map.get(x)': 1, 'MethodDeclaration:-:boolean visit(SuperFieldAccess node)': 1, 'ExpressionStatement:-:temp.put(allChange,temp.get(allChange) + 1);': 1, 'SingleVariableDeclaration:-:ThrowStatement node': 1, 'SimpleName:-:length': 5, 'SingleVariableDeclaration:-:SimpleName node': 1, 'MethodInvocation:-:n.getReturnType2()': 2, 'SimpleName:-:PrefixExpression': 1, 'MethodDeclaration:-:boolean visit(CastExpression node)': 1, 'MethodDeclaration:-:boolean visit(DoStatement node)': 1, 'SingleVariableDeclaration:-:String name': 1, 'SingleVariableDeclaration:-:MethodInvocation node': 1, '@Override  public boolean visit(AnonymousClassDeclaration node)': 1, 'SimpleName:-:containsKey': 3, 'ExpressionStatement:-:this.addAST(\"if(\" + n.getExpression().toString() + \")\");': 1, 'MethodDeclaration:-:boolean visit(MarkerAnnotation node)': 1, 'SimpleType:-:Object': 1, 'SingleVariableDeclaration:-:ModuleDeclaration node': 1, 'IfStatement:-:if (\"MethodDeclaration\".equals(type)) {\\n  MethodDeclaration n=(MethodDeclaration)node;\\n  if (!simpleName.contains(content)) {\\n    simpleName.add(n.getName().toString());\\n  }\\n  String para=Arrays.toString(n.parameters().toArray());\\n  para=para.substring(1,para.length() - 1);\\n  String x=null;\\n  String r;\\n  if (n.getReturnType2() == null) {\\n    r=\"\";\\n  }\\n else {\\n    r=n.getReturnType2().toString();\\n  }\\n  x=r + \" \" + n.getName().toString()+ \"(\"+ para+ \")\";\\n  this.addAST(x);\\n  String modi=Arrays.toString(n.modifiers().toArray());\\n  modi=modi.replace(\\',\\',\\' \\');\\n  modi=modi.substring(1,modi.length() - 1);\\n  x=modi + \" \" + r+ \" \"+ n.getName().toString()+ \"(\"+ para+ \")\";\\n  this.addAST(x);\\n  String exc=Arrays.toString(n.thrownExceptionTypes().toArray());\\n  exc=exc.replace(\\',\\',\\' \\');\\n  exc=exc.substring(1,exc.length() - 1);\\n  x=x + \" \" + exc;\\n  if (exc.length() != 0) {\\n    this.addAST(x);\\n  }\\n}': 1, 'SimpleType:-:Comment': 1, 'MethodDeclaration:-:boolean visit(FieldDeclaration node)': 1, 'MethodDeclaration:-:boolean visit(ConditionalExpression node)': 1, '@Override  public boolean visit(AnnotationTypeMemberDeclaration node)': 1, '@Override  public boolean visit(ConditionalExpression node)': 1, '@Override  public boolean visit(RequiresDirective node)': 1, 'VariableDeclarationFragment:-:visitor=new Similarity_Visitor()': 1, 'VariableDeclarationStatement:-:Integer hash=content.hashCode();': 1, 'SimpleName:-:Override': 99, 'MethodDeclaration:-:boolean visit(Javadoc node)': 1, 'MethodInvocation:-:parser.setSource(file_content)': 1, 'MethodDeclaration:-:boolean visit(EnumConstantDeclaration node)': 1, 'SingleVariableDeclaration:-:BooleanLiteral node': 1, 'SimpleType:-:NameQualifiedType': 1, 'IfStatement:-:if(line.contains(sn))': 1, 'ExpressionStatement:-:add(node.getClass().getName(),node);': 79, 'SimpleName:-:getAST_Map': 1, 'VariableDeclarationStatement:-:String allChange=line;': 1, 'MethodInvocation:-:this.addAST(\"if(\" + n.getExpression().toString() + \")\")': 1, 'PrefixExpression:-:!line.equals(allChange)': 1, 'VariableDeclarationStatement:-:String exc=Arrays.toString(n.thrownExceptionTypes().toArray());': 1, 'SimpleName:-:SynchronizedStatement': 1, 'SimpleName:-:newParser': 1, 'BooleanLiteral:-:false': 1, 'SimpleType:-:DoStatement': 1, 'SimpleType:-:LineComment': 1, 'SingleVariableDeclaration:-:SingleVariableDeclaration node': 1, 'IfStatement:-:if(name != null)': 1, '@Override  public boolean visit(BooleanLiteral node)': 1, 'MethodInvocation:-:n.modifiers().toArray()': 1, 'IfStatement:-:if(!newLine.equals(line))': 1, '@Override  public boolean visit(UsesDirective node)': 1, 'SingleVariableDeclaration:-:ModuleModifier node': 1, 'SimpleName:-:Integer': 5, 'IfStatement:-:if(content != null && type.contains(\"Literal\") || type.contains(\"Name\") && typeDic)': 1, 'MethodDeclaration:-:boolean visit(VariableDeclarationStatement node)': 1, 'SimpleName:-:get': 3, '@Override  public boolean visit(PackageDeclaration node)': 1, 'VariableDeclarationFragment:-:para=Arrays.toString(n.parameters().toArray())': 1, 'SimpleType:-:ParameterizedType': 1, 'SimpleName:-:SingleMemberAnnotation': 1, '@Override  public boolean visit(TagElement node)': 1, 'IfStatement:-:if(type.equals(\"StringLiteral\"))': 1, 'SimpleName:-:NullLiteral': 1, 'VariableDeclarationFragment:-:i=AST_Map.keySet().iterator()': 1, 'ExpressionStatement:-:simpleName.add(n.getName().toString());': 1, '@Override  public boolean visit(ThisExpression node)': 1, 'MethodDeclaration:-:Similarity_Visitor parse_java_file(char[] file_content)': 1, 'MethodDeclaration:-:@Override public boolean visit(MarkerAnnotation node){\\n  add(node.getClass().getName(),node);\\n  return true;\\n}': 1, 'MethodDeclaration:-:@Override public boolean visit(StringLiteral node){\\n  add(node.getClass().getName(),node);\\n  return true;\\n}': 1, 'SingleVariableDeclaration:-:Initializer node': 1, 'MethodInvocation:-:this.addAST(x)': 3, 'ParameterizedType:-:ArrayList<>': 1, 'SimpleName:-:keySet': 1, 'MethodDeclaration:-:boolean visit(Assignment node)': 1, 'SimpleType:-:LabeledStatement': 1, \"MethodInvocation:-:name.substring(name.lastIndexOf('.') + 1)\": 1, 'Assignment:-:content=null': 1, 'MethodInvocation:-:\"IfStatement\".equals(type)': 1, 'SimpleName:-:ParameterizedType': 1, 'VariableDeclarationFragment:-:simpleName=new ArrayList<>()': 1, 'EnhancedForStatement:-:for (String sn : simpleName) {\\n  if (line.contains(sn)) {\\n    allChange=allChange.replaceAll(\"\\\\\\\\b\" + sn + \"\\\\\\\\b\",\" NAME\").trim();\\n    newLine=line.replaceAll(\"\\\\\\\\b\" + sn + \"\\\\\\\\b\",\" NAME\").trim();\\n    if (!newLine.equals(line)) {\\n      if (!temp.containsKey(newLine)) {\\n        temp.put(newLine,1);\\n      }\\n else {\\n        temp.put(newLine,temp.get(newLine) + 1);\\n      }\\n    }\\n  }\\n}': 1, 'StringLiteral:-:StringLiteral': 1, 'SingleVariableDeclaration:-:Assignment node': 1, 'SimpleName:-:BreakStatement': 1, 'Assignment:-:cu=(CompilationUnit)parser.createAST(null)': 1, 'MethodDeclaration:-:boolean visit(WhileStatement node)': 1, 'VariableDeclarationStatement:-:String r;': 1, 'SimpleType:-:WhileStatement': 1, '@Override  public boolean visit(ThrowStatement node)': 1, 'SimpleType:-:SwitchCase': 1, 'SimpleType:-:SimpleName': 1, 'SingleVariableDeclaration:-:MethodRefParameter node': 1, 'SimpleName:-:getSimpleName': 1, 'MethodInvocation:-:AST_Map.keySet().iterator()': 1, 'InfixExpression:-:name != null': 1, 'MethodDeclaration:-:@Override public boolean visit(SingleMemberAnnotation node){\\n  add(node.getClass().getName(),node);\\n  return true;\\n}': 1, 'SimpleType:-:MemberRef': 1, 'MethodInvocation:-:type.contains(\"Literal\")': 2, 'SingleVariableDeclaration:-:StringLiteral node': 1, 'MethodDeclaration:-:@Override public boolean visit(SwitchStatement node){\\n  add(node.getClass().getName(),node);\\n  return true;\\n}': 1, 'PrefixExpression:-:!simpleName.contains(content)': 2, 'SingleVariableDeclaration:-:MethodDeclaration node': 1, 'SingleVariableDeclaration:-:ClassInstanceCreation node': 1, 'Assignment:-:x=x.trim()': 1, '@Override  public boolean visit(DoStatement node)': 1, 'MethodDeclaration:-:boolean visit(SwitchStatement node)': 1, 'IfStatement:-:if(!temp.containsKey(allChange))': 1, '@Override  public boolean visit(Dimension node)': 1, 'MethodDeclaration:-:boolean visit(MemberValuePair node)': 1, 'SimpleType:-:NormalAnnotation': 1, 'MethodDeclaration:-:@Override public boolean visit(MethodRefParameter node){\\n  return true;\\n}': 1, 'SimpleType:-:NullLiteral': 1, 'MethodDeclaration:-:boolean visit(NormalAnnotation node)': 1, 'CastExpression:-:(IfStatement)node': 1, '@Override  public boolean visit(SimpleType node)': 1, 'ExpressionStatement:-:newLine=line.replaceAll(\"\\\\\\\\b\" + sn + \"\\\\\\\\b\",\" NAME\").trim();': 1, 'IfStatement:-:if (!temp.containsKey(newLine)) {\\n  temp.put(newLine,1);\\n}\\n else {\\n  temp.put(newLine,temp.get(newLine) + 1);\\n}': 1, 'SimpleName:-:visitor': 3, \"CharacterLiteral:-:' '\": 2, 'MethodInvocation:-:temp.get(allChange)': 1, 'SimpleName:-:Arrays': 3, 'SimpleName:-:getReturnType2': 2, 'InfixExpression:-:\"\\\\\\\\b\" + content + \"\\\\\\\\b\"': 1, 'SimpleName:-:NameQualifiedType': 1, 'SimpleType:-:TryStatement': 1, '@Override  public boolean visit(EnumConstantDeclaration node)': 1, 'StringLiteral:-:Literal': 2, 'SingleVariableDeclaration:-:UnionType node': 1, 'Assignment:-:x=modi + \" \" + r+ \" \"+ n.getName().toString()+ \"(\"+ para+ \")\"': 1, 'SimpleType:-:ThisExpression': 1, 'StringLiteral:-:MethodDeclaration': 1, 'SimpleName:-:line': 6, 'MethodDeclaration:-:boolean visit(ArrayInitializer node)': 1, 'SingleVariableDeclaration:-:TextElement node': 1, 'SimpleName:-:TypeLiteral': 1, 'MethodInvocation:-:para.substring(1,para.length() - 1)': 1, 'MethodDeclaration:-:@Override public boolean visit(SuperConstructorInvocation node){\\n  add(node.getClass().getName(),node);\\n  return true;\\n}': 1, 'MethodInvocation:-:simpleName.contains(content)': 2, 'Assignment:-:x=r + \" \" + n.getName().toString()+ \"(\"+ para+ \")\"': 1, 'SimpleName:-:getClass': 79, '@Override  public boolean visit(InstanceofExpression node)': 1, 'MethodInvocation:-:Arrays.toString(n.parameters().toArray())': 1, 'MethodDeclaration:-:boolean visit(ConstructorInvocation node)': 1, \"ExpressionStatement:-:exc=exc.replace(',',' ');\": 1, 'SimpleName:-:visit': 100, 'MethodInvocation:-:i.next().toString()': 1, 'MethodInvocation:-:n.parameters().toArray()': 1, 'ReturnStatement:-:return true;': 100, '@Override  public boolean visit(MemberValuePair node)': 1, 'SimpleType:-:SynchronizedStatement': 1, 'SimpleName:-:setSource': 1, 'SimpleName:-:contains': 6, 'SimpleName:-:ClassInstanceCreation': 1, 'SingleVariableDeclaration:-:TypeLiteral node': 1, 'MethodDeclaration:-:boolean visit(CharacterLiteral node)': 1, 'ParameterizedType:-:HashMap<>': 2, 'SimpleName:-:add': 84, '@Override  public boolean visit(ImportDeclaration node)': 1, 'MethodDeclaration:-:boolean visit(Dimension node)': 1, 'FieldAccess:-:this.AST_Map': 4, 'MethodInvocation:-:Arrays.toString(n.thrownExceptionTypes().toArray())': 1, 'ExpressionStatement:-:temp.put(allChange,1);': 1, 'MethodDeclaration:-:@Override public boolean visit(WildcardType node){\\n  add(node.getClass().getName(),node);\\n  return true;\\n}': 1, 'SimpleType:-:QualifiedName': 1, 'SimpleName:-:ASTParser': 2, 'PrefixExpression:-:!newLine.equals(line)': 1, 'MethodInvocation:-:temp.containsKey(allChange)': 1, 'MethodDeclaration:-:public Map<CharSequence,Integer> normaliz(){\\n  Map<CharSequence,Integer> temp=new HashMap<>();\\n  for (Iterator i=AST_Map.keySet().iterator(); i.hasNext(); ) {\\n    String line=i.next().toString();\\n    String allChange=line;\\n    String newLine=null;\\n    for (    String sn : simpleName) {\\n      if (line.contains(sn)) {\\n        allChange=allChange.replaceAll(\"\\\\\\\\b\" + sn + \"\\\\\\\\b\",\" NAME\").trim();\\n        newLine=line.replaceAll(\"\\\\\\\\b\" + sn + \"\\\\\\\\b\",\" NAME\").trim();\\n        if (!newLine.equals(line)) {\\n          if (!temp.containsKey(newLine)) {\\n            temp.put(newLine,1);\\n          }\\n else {\\n            temp.put(newLine,temp.get(newLine) + 1);\\n          }\\n        }\\n      }\\n    }\\n    if (!line.equals(allChange) && !allChange.equals(newLine)) {\\n      if (!temp.containsKey(allChange)) {\\n        temp.put(allChange,1);\\n      }\\n else {\\n        temp.put(allChange,temp.get(allChange) + 1);\\n      }\\n    }\\n  }\\n  return temp;\\n}': 1, 'SimpleName:-:EnumConstantDeclaration': 1, 'MethodDeclaration:-:boolean visit(NumberLiteral node)': 1, 'MethodDeclaration:-:boolean visit(ArrayAccess node)': 1, 'SingleVariableDeclaration:-:TypeParameter node': 1, 'MethodInvocation:-:this.addAST(content)': 1, 'MethodDeclaration:-:boolean visit(ContinueStatement node)': 1, 'Assignment:-:r=\"\"': 1, 'SingleVariableDeclaration:-:NameQualifiedType node': 1, 'SingleVariableDeclaration:-:ExpressionStatement node': 1, 'MethodDeclaration:-:boolean visit(CompilationUnit node)': 1, 'SingleVariableDeclaration:-:BlockComment node': 1, 'MethodDeclaration:-:boolean visit(ThisExpression node)': 1, 'SimpleName:-:type': 8, 'VariableDeclarationFragment:-:parser=ASTParser.newParser(AST.JLS10)': 1, 'SimpleType:-:ExpressionStatement': 1, 'SimpleName:-:MarkerAnnotation': 1, 'SingleVariableDeclaration:-:PackageDeclaration node': 1, '@Override  public boolean visit(SuperFieldAccess node)': 1, 'Assignment:-:modi=modi.substring(1,modi.length() - 1)': 1, 'SingleVariableDeclaration:-:AnnotationTypeMemberDeclaration node': 1, 'SimpleName:-:BooleanLiteral': 1, 'MethodInvocation:-:type.equals(\"StringLiteral\")': 1, 'ExpressionStatement:-:content=content.subSequence(1,content.length() - 1).toString().trim();': 1, 'MethodDeclaration:-:@Override public boolean visit(RequiresDirective node){\\n  add(node.getClass().getName(),node);\\n  return true;\\n}': 1, 'MethodDeclaration:-:boolean visit(ImportDeclaration node)': 1, 'SingleVariableDeclaration:-:MemberRef node': 1, 'IfStatement:-:if (!simpleName.contains(content)) {\\n  simpleName.add(n.getName().toString());\\n}': 1, 'SimpleType:-:PrefixExpression': 1, 'MethodDeclaration:-:@Override public boolean visit(LineComment node){\\n  return true;\\n}': 1, 'SingleVariableDeclaration:-:VariableDeclarationExpression node': 1, '@Override  public boolean visit(ContinueStatement node)': 1, '@Override  public boolean visit(SwitchStatement node)': 1, 'SingleVariableDeclaration:-:ArrayInitializer node': 1, 'SimpleName:-:TypeDeclaration': 1, 'MethodDeclaration:-:@Override public boolean visit(TypeParameter node){\\n  add(node.getClass().getName(),node);\\n  return true;\\n}': 1, 'SimpleName:-:InstanceofExpression': 1, 'SingleVariableDeclaration:-:SwitchStatement node': 1, 'VariableDeclarationFragment:-:hash=content.hashCode()': 1, 'InfixExpression:-:exc.length() != 0': 1, '@Override  public boolean visit(FieldDeclaration node)': 1, 'MethodDeclaration:-:@Override public boolean visit(ExpressionStatement node){\\n  add(node.getClass().getName(),node);\\n  return true;\\n}': 1, 'MethodDeclaration:-:boolean visit(TryStatement node)': 1, 'VariableDeclarationFragment:-:AST_Map=new HashMap<>()': 1, 'InfixExpression:-:this.AST_Map.get(x) + 1': 1, '@Override  public boolean visit(CompilationUnit node)': 1, 'InfixExpression:-:temp.get(allChange) + 1': 1, 'SingleVariableDeclaration:-:NormalAnnotation node': 1, 'SimpleName:-:UsesDirective': 1, '@Override  public boolean visit(MarkerAnnotation node)': 1, 'IfStatement:-:if (!line.equals(allChange) && !allChange.equals(newLine)) {\\n  if (!temp.containsKey(allChange)) {\\n    temp.put(allChange,1);\\n  }\\n else {\\n    temp.put(allChange,temp.get(allChange) + 1);\\n  }\\n}': 1, 'SimpleType:-:Exception': 1, '@Override  public boolean visit(LineComment node)': 1, 'SimpleName:-:ParenthesizedExpression': 1, 'SimpleName:-:equals': 6, 'SingleVariableDeclaration:-:Exception e': 1, 'MethodDeclaration:-:@Override public boolean visit(Modifier node){\\n  return true;\\n}': 1, 'SimpleName:-:CreationReference': 1, 'MethodDeclaration:-:@Override public boolean visit(ImportDeclaration node){\\n  return true;\\n}': 1, 'SimpleType:-:TagElement': 1, 'FieldDeclaration:-:private HashMap<String,Integer> AST_Map=new HashMap<>();': 1, 'MethodDeclaration:-:@Override public boolean visit(EnhancedForStatement node){\\n  add(\"for(\" + node.getParameter().toString() + \" : \"+ node.getExpression().toString()+ \")\",node);\\n  add(node.getClass().getName(),node);\\n  return true;\\n}': 1, 'MethodDeclaration:-:@Override public boolean visit(PackageDeclaration node){\\n  return true;\\n}': 1, 'MethodDeclaration:-:@Override public boolean visit(VariableDeclarationStatement node){\\n  add(node.getClass().getName(),node);\\n  return true;\\n}': 1, 'SingleVariableDeclaration:-:ParameterizedType node': 1, 'VariableDeclarationStatement:-:Map<CharSequence,Integer> temp=new HashMap<>();': 1, 'MethodDeclaration:-:@Override public boolean visit(FieldDeclaration node){\\n  add(node.getClass().getName(),node);\\n  return true;\\n}': 1, 'MethodDeclaration:-:List<String> getSimpleName()': 1, 'SimpleName:-:SwitchCase': 1, 'SimpleType:-:EmptyStatement': 1}"
      ]
     },
     "execution_count": 35,
     "metadata": {},
     "output_type": "execute_result"
    }
   ],
   "source": [
    "x"
   ]
  },
  {
   "cell_type": "code",
   "execution_count": 36,
   "metadata": {},
   "outputs": [
    {
     "name": "stdout",
     "output_type": "stream",
     "text": [
      "<class 'py4j.java_collections.JavaMap'>\n"
     ]
    },
    {
     "data": {
      "text/plain": [
       "17"
      ]
     },
     "execution_count": 36,
     "metadata": {},
     "output_type": "execute_result"
    }
   ],
   "source": [
    "print(type(x))\n",
    "x.get(\"SimpleName:-:String\")"
   ]
  },
  {
   "cell_type": "code",
   "execution_count": 37,
   "metadata": {},
   "outputs": [
    {
     "name": "stdout",
     "output_type": "stream",
     "text": [
      "<class 'py4j.java_collections.JavaList'>\n"
     ]
    },
    {
     "data": {
      "text/plain": [
       "['Similarity_Visitor', 'ASTVisitor', 'HashMap', 'String', 'Integer', 'AST_Map', 'List', 'simpleName', 'ArrayList', 'parse_java_file', 'file_content', 'ASTParser', 'parser', 'newParser', 'AST', 'JLS10', 'setSource', 'CompilationUnit', 'cu', 'createAST', 'null', 'visitor', 'accept', 'getAST_Map', 'getSimpleName', 'typeDic', 'false', 'add', 'name', 'Object', 'node', 'type', 'content', 'toString', 'trim', 'hash', 'hashCode', 'substring', 'lastIndexOf', \"'.'\", '1', 'equals', 'StringLiteral', 'subSequence', 'length', 'IfStatement', 'n', 'addAST', 'getExpression', 'MethodDeclaration', 'contains', 'getName', 'para', 'Arrays', 'parameters', 'toArray', 'x', 'r', 'getReturnType2', '', 'modi', 'modifiers', 'replace', \"','\", \"' '\", 'exc', 'thrownExceptionTypes', '0', 'Literal', 'Pattern', 'compile', '\\\\\\\\b', 'Exception', 'e', 'Name', 'normaliz', 'Map', 'CharSequence', 'temp', 'Iterator', 'i', 'keySet', 'iterator', 'hasNext', 'line', 'next', 'allChange', 'newLine', 'for (String sn : simpleName) {\\n  if (line.contains(sn)) {\\n    allChange=allChange.replaceAll(\"\\\\\\\\b\" + sn + \"\\\\\\\\b\",\" NAME\").trim();\\n    newLine=line.replaceAll(\"\\\\\\\\b\" + sn + \"\\\\\\\\b\",\" NAME\").trim();\\n    if (!newLine.equals(line)) {\\n      if (!temp.containsKey(newLine)) {\\n        temp.put(newLine,1);\\n      }\\n else {\\n        temp.put(newLine,temp.get(newLine) + 1);\\n      }\\n    }\\n  }\\n}', 'sn', 'replaceAll', 'NAME', 'containsKey', 'put', 'get', 'addAST', 'visit', 'Override', 'true', 'visit', 'TypeDeclaration', 'visit', 'getClass', 'visit', 'ForStatement', 'visit', 'visit', 'SwitchStatement', 'visit', 'SwitchCase', 'visit', 'WhileStatement', 'visit', 'LambdaExpression', 'visit', 'Comment', 'visit', 'ArrayAccess', 'visit', 'Block', 'visit', 'AnnotationTypeDeclaration', 'visit', 'AnnotationTypeMemberDeclaration', 'visit', 'AnonymousClassDeclaration', 'visit', 'ArrayCreation', 'visit', 'ArrayInitializer', 'visit', 'ArrayType', 'visit', 'AssertStatement', 'visit', 'Assignment', 'visit', 'BlockComment', 'visit', 'BooleanLiteral', 'visit', 'BreakStatement', 'visit', 'CastExpression', 'visit', 'CatchClause', 'visit', 'CharacterLiteral', 'visit', 'ClassInstanceCreation', 'visit', 'ConditionalExpression', 'visit', 'ConstructorInvocation', 'visit', 'ContinueStatement', 'visit', 'CreationReference', 'visit', 'Dimension', 'visit', 'DoStatement', 'visit', 'EmptyStatement', 'visit', 'EnhancedForStatement', 'getParameter', ':', 'visit', 'EnumConstantDeclaration', 'visit', 'EnumDeclaration', 'visit', 'ExportsDirective', 'visit', 'ExpressionMethodReference', 'visit', 'ExpressionStatement', 'visit', 'FieldAccess', 'visit', 'FieldDeclaration', 'visit', 'ImportDeclaration', 'visit', 'InfixExpression', 'visit', 'Initializer', 'visit', 'InstanceofExpression', 'visit', 'IntersectionType', 'visit', 'Javadoc', 'visit', 'LabeledStatement', 'visit', 'LineComment', 'visit', 'MarkerAnnotation', 'visit', 'MemberRef', 'visit', 'MemberValuePair', 'visit', 'MethodRef', 'visit', 'MethodRefParameter', 'visit', 'MethodInvocation', 'visit', 'Modifier', 'visit', 'ModuleDeclaration', 'visit', 'ModuleModifier', 'visit', 'NameQualifiedType', 'visit', 'NormalAnnotation', 'visit', 'NullLiteral', 'visit', 'NumberLiteral', 'visit', 'OpensDirective', 'visit', 'PackageDeclaration', 'visit', 'ParameterizedType', 'visit', 'ParenthesizedExpression', 'visit', 'PostfixExpression', 'visit', 'PrefixExpression', 'visit', 'ProvidesDirective', 'visit', 'PrimitiveType', 'visit', 'QualifiedName', 'visit', 'QualifiedType', 'visit', 'RequiresDirective', 'visit', 'ReturnStatement', 'visit', 'SimpleName', 'visit', 'SimpleType', 'visit', 'SingleMemberAnnotation', 'visit', 'SingleVariableDeclaration', 'visit', 'visit', 'SuperConstructorInvocation', 'visit', 'SuperFieldAccess', 'visit', 'SuperMethodInvocation', 'visit', 'SuperMethodReference', 'visit', 'SynchronizedStatement', 'visit', 'TagElement', 'visit', 'TextElement', 'visit', 'ThisExpression', 'visit', 'ThrowStatement', 'visit', 'TryStatement', 'visit', 'TypeDeclarationStatement', 'visit', 'TypeLiteral', 'visit', 'TypeMethodReference', 'visit', 'TypeParameter', 'visit', 'UnionType', 'visit', 'UsesDirective', 'visit', 'VariableDeclarationExpression', 'visit', 'VariableDeclarationStatement', 'visit', 'VariableDeclarationFragment', 'visit', 'WildcardType']"
      ]
     },
     "execution_count": 37,
     "metadata": {},
     "output_type": "execute_result"
    }
   ],
   "source": [
    "print(type(y))\n",
    "y"
   ]
  },
  {
   "cell_type": "code",
   "execution_count": null,
   "metadata": {},
   "outputs": [],
   "source": []
  },
  {
   "cell_type": "code",
   "execution_count": null,
   "metadata": {},
   "outputs": [],
   "source": []
  }
 ],
 "metadata": {
  "kernelspec": {
   "display_name": "Python 3",
   "language": "python",
   "name": "python3"
  },
  "language_info": {
   "codemirror_mode": {
    "name": "ipython",
    "version": 3
   },
   "file_extension": ".py",
   "mimetype": "text/x-python",
   "name": "python",
   "nbconvert_exporter": "python",
   "pygments_lexer": "ipython3",
   "version": "3.7.4"
  }
 },
 "nbformat": 4,
 "nbformat_minor": 2
}
