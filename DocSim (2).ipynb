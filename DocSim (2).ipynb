{
  "nbformat": 4,
  "nbformat_minor": 0,
  "metadata": {
    "colab": {
      "name": "DocSim (1).ipynb",
      "provenance": []
    },
    "kernelspec": {
      "display_name": "Python 3",
      "language": "python",
      "name": "python3"
    },
    "language_info": {
      "codemirror_mode": {
        "name": "ipython",
        "version": 3
      },
      "file_extension": ".py",
      "mimetype": "text/x-python",
      "name": "python",
      "nbconvert_exporter": "python",
      "pygments_lexer": "ipython3",
      "version": "3.7.4"
    }
  },
  "cells": [
    {
      "cell_type": "code",
      "metadata": {
        "colab_type": "code",
        "id": "S8y0TcGSgz_f",
        "colab": {}
      },
      "source": [
        "import pandas as pd\n",
        "import numpy as np\n",
        "import matplotlib.pyplot as plt\n",
        "import os"
      ],
      "execution_count": 0,
      "outputs": []
    },
    {
      "cell_type": "markdown",
      "metadata": {
        "colab_type": "text",
        "id": "SF2Y15imgz_m"
      },
      "source": [
        "### Path of source files"
      ]
    },
    {
      "cell_type": "code",
      "metadata": {
        "colab_type": "code",
        "id": "HXLt2LNUgz_o",
        "colab": {}
      },
      "source": [
        "basepath = 'F://JavaWorkspace//'\n",
        "\n",
        "#basepath = 'F://JavaWorkspace//AST_Compile\\\\src\\\\com\\\\nabeelkhan\\\\ast_paerser_py4j\\\\'"
      ],
      "execution_count": 0,
      "outputs": []
    },
    {
      "cell_type": "markdown",
      "metadata": {
        "colab_type": "text",
        "id": "EI1Le7Pkgz_r"
      },
      "source": [
        "### Define the source code language "
      ]
    },
    {
      "cell_type": "code",
      "metadata": {
        "colab_type": "code",
        "id": "7Jff0EPngz_s",
        "colab": {}
      },
      "source": [
        "ext = ['.java']"
      ],
      "execution_count": 0,
      "outputs": []
    },
    {
      "cell_type": "markdown",
      "metadata": {
        "colab_type": "text",
        "id": "K0NpOLA-gz_w"
      },
      "source": [
        "### Walking a directory tree and fatch source files"
      ]
    },
    {
      "cell_type": "code",
      "metadata": {
        "colab_type": "code",
        "id": "IwK749yNgz_x",
        "colab": {}
      },
      "source": [
        "dt = [];\n",
        "for dirpath, dirnames, files in os.walk(basepath):\n",
        "    #print(f'Found directory: {dirpath}')\n",
        "    for f in files:\n",
        "        for e in ext:\n",
        "            if(str(f).find(e) != -1):\n",
        "                if((str(f).find(e)+len(e)) == len(f)):\n",
        "                    #print(dirpath,\" - \",str(f),\" - \",str(f).find(e),\" - \",len(f))    \n",
        "                    with open(dirpath+\"\\\\\"+f, 'r') as f:\n",
        "                        data = f.read()\n",
        "                        dt.append({\n",
        "                                \"hash\":hash(str(f.name)),\n",
        "                                \"path\":f.name,\n",
        "                                \"source_code\":data\n",
        "                             })\n",
        "                        #print(dt);\n"
      ],
      "execution_count": 0,
      "outputs": []
    },
    {
      "cell_type": "markdown",
      "metadata": {
        "colab_type": "text",
        "id": "OqWFCJsGgz_1"
      },
      "source": [
        "###  Init DataFrame"
      ]
    },
    {
      "cell_type": "code",
      "metadata": {
        "colab_type": "code",
        "id": "d2zsk8qjgz_2",
        "outputId": "635cdf33-f2fa-4e44-f729-8015af5344ea",
        "colab": {}
      },
      "source": [
        "dataFrameSource = pd.DataFrame(dt)\n",
        "dataFrameSource"
      ],
      "execution_count": 0,
      "outputs": [
        {
          "output_type": "execute_result",
          "data": {
            "text/html": [
              "<div>\n",
              "<style scoped>\n",
              "    .dataframe tbody tr th:only-of-type {\n",
              "        vertical-align: middle;\n",
              "    }\n",
              "\n",
              "    .dataframe tbody tr th {\n",
              "        vertical-align: top;\n",
              "    }\n",
              "\n",
              "    .dataframe thead th {\n",
              "        text-align: right;\n",
              "    }\n",
              "</style>\n",
              "<table border=\"1\" class=\"dataframe\">\n",
              "  <thead>\n",
              "    <tr style=\"text-align: right;\">\n",
              "      <th></th>\n",
              "      <th>hash</th>\n",
              "      <th>path</th>\n",
              "      <th>source_code</th>\n",
              "    </tr>\n",
              "  </thead>\n",
              "  <tbody>\n",
              "    <tr>\n",
              "      <td>0</td>\n",
              "      <td>-2897302942833988625</td>\n",
              "      <td>F://JavaWorkspace//AST_Compile\\src\\com\\nabeelk...</td>\n",
              "      <td>/*\\n * To change this license header, choose L...</td>\n",
              "    </tr>\n",
              "    <tr>\n",
              "      <td>1</td>\n",
              "      <td>6088565061916337128</td>\n",
              "      <td>F://JavaWorkspace//AST_Compile\\src\\com\\nabeelk...</td>\n",
              "      <td>/*\\n * To change this license header, choose L...</td>\n",
              "    </tr>\n",
              "    <tr>\n",
              "      <td>2</td>\n",
              "      <td>8442624749195594999</td>\n",
              "      <td>F://JavaWorkspace//AST_Paerser_PY4J\\src\\main\\j...</td>\n",
              "      <td>/*\\n * To change this license header, choose L...</td>\n",
              "    </tr>\n",
              "    <tr>\n",
              "      <td>3</td>\n",
              "      <td>2592990512713215422</td>\n",
              "      <td>F://JavaWorkspace//AST_Paerser_PY4J\\src\\main\\j...</td>\n",
              "      <td>/*\\n * To change this license header, choose L...</td>\n",
              "    </tr>\n",
              "    <tr>\n",
              "      <td>4</td>\n",
              "      <td>-4462275812234831606</td>\n",
              "      <td>F://JavaWorkspace//AST_PY4J_Compiler\\src\\Test\\...</td>\n",
              "      <td>package Test;\\n/*\\n * To change this license h...</td>\n",
              "    </tr>\n",
              "    <tr>\n",
              "      <td>...</td>\n",
              "      <td>...</td>\n",
              "      <td>...</td>\n",
              "      <td>...</td>\n",
              "    </tr>\n",
              "    <tr>\n",
              "      <td>62</td>\n",
              "      <td>1546399024731813968</td>\n",
              "      <td>F://JavaWorkspace//PythonGateway\\src\\py4j\\test...</td>\n",
              "      <td>package py4j.test;\\n\\nimport py4j.GatewayServe...</td>\n",
              "    </tr>\n",
              "    <tr>\n",
              "      <td>63</td>\n",
              "      <td>4158199818794753169</td>\n",
              "      <td>F://JavaWorkspace//Test\\src\\main\\java\\Test.java</td>\n",
              "      <td>/*\\n * To change this license header, choose L...</td>\n",
              "    </tr>\n",
              "    <tr>\n",
              "      <td>64</td>\n",
              "      <td>8786451295013556227</td>\n",
              "      <td>F://JavaWorkspace//Thrade\\src\\carrace\\Car.java</td>\n",
              "      <td>package carrace;\\n\\npublic class Car implement...</td>\n",
              "    </tr>\n",
              "    <tr>\n",
              "      <td>65</td>\n",
              "      <td>5093914090799633673</td>\n",
              "      <td>F://JavaWorkspace//Thrade\\src\\carrace\\Main.java</td>\n",
              "      <td>/*\\n * To change this license header, choose L...</td>\n",
              "    </tr>\n",
              "    <tr>\n",
              "      <td>66</td>\n",
              "      <td>-3691909758948952585</td>\n",
              "      <td>F://JavaWorkspace//Thrade\\src\\carrace\\Race.java</td>\n",
              "      <td>package carrace;\\n\\nimport java.util.ArrayList...</td>\n",
              "    </tr>\n",
              "  </tbody>\n",
              "</table>\n",
              "<p>67 rows × 3 columns</p>\n",
              "</div>"
            ],
            "text/plain": [
              "                   hash                                               path  \\\n",
              "0  -2897302942833988625  F://JavaWorkspace//AST_Compile\\src\\com\\nabeelk...   \n",
              "1   6088565061916337128  F://JavaWorkspace//AST_Compile\\src\\com\\nabeelk...   \n",
              "2   8442624749195594999  F://JavaWorkspace//AST_Paerser_PY4J\\src\\main\\j...   \n",
              "3   2592990512713215422  F://JavaWorkspace//AST_Paerser_PY4J\\src\\main\\j...   \n",
              "4  -4462275812234831606  F://JavaWorkspace//AST_PY4J_Compiler\\src\\Test\\...   \n",
              "..                  ...                                                ...   \n",
              "62  1546399024731813968  F://JavaWorkspace//PythonGateway\\src\\py4j\\test...   \n",
              "63  4158199818794753169    F://JavaWorkspace//Test\\src\\main\\java\\Test.java   \n",
              "64  8786451295013556227     F://JavaWorkspace//Thrade\\src\\carrace\\Car.java   \n",
              "65  5093914090799633673    F://JavaWorkspace//Thrade\\src\\carrace\\Main.java   \n",
              "66 -3691909758948952585    F://JavaWorkspace//Thrade\\src\\carrace\\Race.java   \n",
              "\n",
              "                                          source_code  \n",
              "0   /*\\n * To change this license header, choose L...  \n",
              "1   /*\\n * To change this license header, choose L...  \n",
              "2   /*\\n * To change this license header, choose L...  \n",
              "3   /*\\n * To change this license header, choose L...  \n",
              "4   package Test;\\n/*\\n * To change this license h...  \n",
              "..                                                ...  \n",
              "62  package py4j.test;\\n\\nimport py4j.GatewayServe...  \n",
              "63  /*\\n * To change this license header, choose L...  \n",
              "64  package carrace;\\n\\npublic class Car implement...  \n",
              "65  /*\\n * To change this license header, choose L...  \n",
              "66  package carrace;\\n\\nimport java.util.ArrayList...  \n",
              "\n",
              "[67 rows x 3 columns]"
            ]
          },
          "metadata": {
            "tags": []
          },
          "execution_count": 9
        }
      ]
    },
    {
      "cell_type": "code",
      "metadata": {
        "colab_type": "code",
        "id": "BJz_yVf4gz_7",
        "outputId": "6b621791-8fd9-43c7-b698-a52a476e6d6e",
        "colab": {}
      },
      "source": [
        "dataFrameSource.path[0]"
      ],
      "execution_count": 0,
      "outputs": [
        {
          "output_type": "execute_result",
          "data": {
            "text/plain": [
              "'F://JavaWorkspace//AST_Compile\\\\src\\\\com\\\\nabeelkhan\\\\ast_paerser_py4j\\\\Code_Similarity.java'"
            ]
          },
          "metadata": {
            "tags": []
          },
          "execution_count": 11
        }
      ]
    },
    {
      "cell_type": "markdown",
      "metadata": {
        "colab_type": "text",
        "id": "J7e9ZuTzg0AA"
      },
      "source": [
        "#### TODO: For Multiple Project in provided root path "
      ]
    },
    {
      "cell_type": "markdown",
      "metadata": {
        "colab_type": "text",
        "id": "2cYH_Br9g0AB"
      },
      "source": [
        "# Try to get the Code similarity ratio using Text Similarity"
      ]
    },
    {
      "cell_type": "code",
      "metadata": {
        "colab_type": "code",
        "id": "UOCIVXho3qWE",
        "colab": {}
      },
      "source": [
        "from sklearn.feature_extraction.text import CountVectorizer"
      ],
      "execution_count": 0,
      "outputs": []
    },
    {
      "cell_type": "markdown",
      "metadata": {
        "colab_type": "text",
        "id": "E3Msmczs4kJQ"
      },
      "source": [
        "**Codes Samples for Testing**"
      ]
    },
    {
      "cell_type": "code",
      "metadata": {
        "colab_type": "code",
        "id": "buwtLU583km0",
        "colab": {}
      },
      "source": [
        "code_1 = \"\"\" \n",
        "import java.security.MessageDigest;\n",
        "\n",
        "public class Program {\n",
        "\t\n",
        "    public static String getSHA256(String str) {\n",
        "       \n",
        "    \t//return SHA_256(str);\n",
        "        \n",
        "    \treturn mySHA_256(str);\n",
        "        \n",
        "    }\n",
        "\n",
        "\n",
        "    public static String mySHA_256(String s){\n",
        "\n",
        "    \tbyte[] bytes = s.getBytes();\n",
        "  \t  \tStringBuilder binary = new StringBuilder();\n",
        "  \t  \t\n",
        "  \t  \tfor (byte b : bytes)\n",
        "  \t  \t{\n",
        "  \t     int val = b*99;\t\n",
        "  \t     for (int i = 0; i < 8; i++)\n",
        "  \t     {\n",
        "  \t        binary.append((val & 128) == 0 ? 0 : 1);\n",
        "  \t        val <<= 1;\n",
        "  \t     }\n",
        "  \t  }\n",
        "\n",
        "  \t  //String[] hex={\"f\",\"e\",\"d\",\"c\",\"b\",\"a\",\"9\",\"8\",\"7\",\"6\",\"5\",\"4\",\"3\",\"2\",\"1\"};\n",
        "  \t  int[] weight = {8,4,2,1};\n",
        "  \t  int inCont = 0;\n",
        "  \t  String[] hex={\"0\",\"1\",\"2\",\"3\",\"4\",\"5\",\"6\",\"7\",\"8\",\"9\",\"a\",\"b\",\"c\",\"d\",\"e\",\"f\"};\n",
        "  \t  String hexdecnum=\"\";\n",
        "        \n",
        "  \t  int rem,x = 0;\n",
        "  \t  for(int i=0;i<binary.length();i++)\n",
        "  \t   {\n",
        "  \t\t  \n",
        "  \t\t  if(i%4 == 0 && i!=0)\n",
        "  \t\t  {\n",
        "  \t\t\t  hexdecnum += hex[x];\n",
        "  \t\t\t  inCont=0;\n",
        "  \t    \t  x = 0;\n",
        "  \t\t  }\n",
        "  \t\t  else if(i>=binary.length()-1)\n",
        "  \t\t\t  hexdecnum += hex[x];\n",
        "  \t   \n",
        "  \t    rem = binary.charAt(i);\n",
        "  \t\tinCont++;\n",
        "  \t    if(rem ==49){\n",
        "  \t    \tif(inCont==1){\tx+=weight[0];\t}\n",
        "  \t    \telse if (inCont==2){\tx+=weight[1];\t}\n",
        "  \t    \telse if (inCont==3){\tx+=weight[2];\t}\n",
        "  \t    \telse if (inCont==4){\tx+=weight[3];\t}\n",
        "  \t    \t\n",
        "  \t    }\n",
        "  \t   }\n",
        "    \t return hexdecnum;\n",
        "    }\n",
        "\n",
        "\n",
        "  \n",
        "    \n",
        "    \n",
        "    \n",
        "    \n",
        "    \n",
        "    \n",
        "    private static String SHA_256(String str) {\n",
        "\t\tMessageDigest messageDigest;\n",
        "        String encodeStr = \"\";\n",
        "        try {\n",
        "            messageDigest = MessageDigest.getInstance(\"SHA-256\");\n",
        "            messageDigest.update(str.getBytes(\"UTF-8\"));\n",
        "            encodeStr = byte2Hex(messageDigest.digest());\n",
        "        } catch (Exception e) {\n",
        "            System.out.println(\"getSHA256 is error\" + e.getMessage());\n",
        "        }\n",
        "        return encodeStr;\n",
        "\t}\n",
        "\n",
        "    private static String byte2Hex(byte[] bytes) {\n",
        "        StringBuilder builder = new StringBuilder();\n",
        "        String temp;\n",
        "        for (int i = 0; i < bytes.length; i++) {\n",
        "            temp = Integer.toHexString(bytes[i] & 0xFF);\n",
        "            if (temp.length() == 1) {\n",
        "                builder.append(\"0\");\n",
        "            }\n",
        "            builder.append(temp);\n",
        "        }\n",
        "        return builder.toString();\n",
        "    }\n",
        "}\n",
        "\"\"\""
      ],
      "execution_count": 0,
      "outputs": []
    },
    {
      "cell_type": "code",
      "metadata": {
        "colab_type": "code",
        "id": "fSm5oyFk4DaQ",
        "colab": {}
      },
      "source": [
        "code_2 = \"\"\" import java.security.MessageDigest;\n",
        "\n",
        "public class HashTest {\n",
        "\t\n",
        "\t\n",
        "\t\n",
        "\t\n",
        "    public static void main(String[] args){\n",
        "\n",
        "    \tString s = \"1524405906978Genisis Block0\";\n",
        "    \t  byte[] bytes = s.getBytes();\n",
        "    \t  StringBuilder binary = new StringBuilder();\n",
        "    \t  for (byte b : bytes)\n",
        "    \t  {\n",
        "    \t     int val = b;\t//%23249425;\n",
        "    \t     for (int i = 0; i < 8; i++)\n",
        "    \t     {\n",
        "    \t        binary.append((val & 128) == 0 ? 0 : 1);\n",
        "    \t        val <<= 1;\n",
        "    \t     }\n",
        "    \t   //  binary.append(\" \");\n",
        "    \t  }\n",
        "    \t  \n",
        "    \t  System.out.println(\"'\" + (int) s.charAt(0) + \"'\\n to binary: \" + binary);\n",
        "\n",
        "    \t  //String[] hex={\"f\",\"e\",\"d\",\"c\",\"b\",\"a\",\"9\",\"8\",\"7\",\"6\",\"5\",\"4\",\"3\",\"2\",\"1\"};\n",
        "    \t  int[] weight = {8,4,2,1};\n",
        "    \t  int inCont = 0;\n",
        "    \t  String[] hex={\"0\",\"1\",\"2\",\"3\",\"4\",\"5\",\"6\",\"7\",\"8\",\"9\",\"a\",\"b\",\"c\",\"d\",\"e\",\"f\"};\n",
        "    \t  String hexdecnum=\"\";\n",
        "          \n",
        "    \t  int rem,x = 0;\n",
        "    \t  for(int i=0;i<binary.length();i++)\n",
        "    \t   {\n",
        "    \t\t  \n",
        "    \t\t  if(i%4 == 0 && i!=0)\n",
        "    \t\t  {\n",
        "    \t\t\t  hexdecnum += hex[x];\n",
        "    \t\t\t  inCont=0;\n",
        "    \t    \t  x = 0;\n",
        "    \t\t  }\n",
        "    \t\t  else if(i>=binary.length()-1)\n",
        "    \t\t\t  hexdecnum += hex[x];\n",
        "    \t   \n",
        "    \t    rem = binary.charAt(i);\n",
        "    \t\tinCont++;\n",
        "    \t    if(rem ==49){\n",
        "    \t    \tif(inCont==1){\tx+=weight[0];\t}\n",
        "    \t    \telse if (inCont==2){\tx+=weight[1];\t}\n",
        "    \t    \telse if (inCont==3){\tx+=weight[2];\t}\n",
        "    \t    \telse if (inCont==4){\tx+=weight[3];\t}\n",
        "    \t    \t\n",
        "    \t    }\n",
        "    \t   }\n",
        "    \t  System.out.println(\"\\n to Hex: \" + hexdecnum + \"\\n size: \" + hexdecnum.length());\n",
        "    \t  }\n",
        "\n",
        "    \tpublic String getSHA256(String str) {\t     \n",
        "\t\t    String encodedString = \"\";\n",
        "\t\t       int i=0;\n",
        "\t\t       while(i<str.length()){\n",
        "\t\t    \t   int sum = (int) str.charAt(i) * 99; \n",
        "\t\t    \t   i++;\n",
        "\t\t       }\n",
        "\t\t    \t\n",
        "\t\t       return encodedString;\n",
        "\t\t    \t// return SHA256(str);\n",
        "\t\t    }\n",
        "\n",
        "\tprivate static String SHA256(String str) {\n",
        "\t\tMessageDigest messageDigest;\n",
        "        String encodeStr = \"\";\n",
        "        try {\n",
        "            messageDigest = MessageDigest.getInstance(\"SHA-256\");\n",
        "            messageDigest.update(str.getBytes(\"UTF-8\"));\n",
        "            encodeStr = byte2Hex(messageDigest.digest());\n",
        "        } catch (Exception e) {\n",
        "            System.out.println(\"getSHA256 is error\" + e.getMessage());\n",
        "        }\n",
        "        return encodeStr;\n",
        "\t}\n",
        "\n",
        "    private static String byte2Hex(byte[] bytes) {\n",
        "        StringBuilder builder = new StringBuilder();\n",
        "        String temp;\n",
        "        for (int i = 0; i < bytes.length; i++) {\n",
        "            temp = Integer.toHexString(bytes[i] & 0xFF);\n",
        "            if (temp.length() == 1) {\n",
        "                builder.append(\"0\");\n",
        "            }\n",
        "            builder.append(temp);\n",
        "        }\n",
        "        return builder.toString();\n",
        "    }\n",
        "}\"\"\""
      ],
      "execution_count": 0,
      "outputs": []
    },
    {
      "cell_type": "code",
      "metadata": {
        "colab_type": "code",
        "id": "j9FVAz8wBRsh",
        "colab": {}
      },
      "source": [
        "code_3 =\"\"\" public class Test {\n",
        "\n",
        "\tpublic static void main(String[] args) {\n",
        "\t\t\n",
        "\t\t\n",
        "\t\texample of java ArrayList hash function\n",
        "\t\tString[] list1 = {\"a\",\"b\",\"c\"};\n",
        "\t\tString[] list2 = {\"aa\",\"b\",\"c\"};\n",
        "\t\tSystem.out.println(Arrays.hashCode(list1));\n",
        "\t\tSystem.out.println(Arrays.hashCode(list2));\n",
        "\t\t\n",
        "\t\tBlockChain blockChain1 = new BlockChain();\n",
        "\t\t\t\n",
        "\t\t\tBlock newBlock1 = blockChain1.generateNextBlock(\"ffffffff\");\n",
        "\t\t\tblockChain1.addBlock(newBlock1);\n",
        "\t\t\t\n",
        "\t\t\tBlock newBlock2 = blockChain1.generateNextBlock(\"gggggggg\");\n",
        "\t\t\tblockChain1.addBlock(newBlock2);\n",
        "\t\t\t\n",
        "\t\t\tBlock newBlock3 = blockChain1.generateNextBlock(\"hhhhhhhh\");\n",
        "\t\t\tblockChain1.addBlock(newBlock3);\n",
        "\t\t\t\n",
        "\t\t\tBlock newBlock4 = blockChain1.generateNextBlock(\"iiiiiiii\");\n",
        "\t\t\tblockChain1.addBlock(newBlock4);\n",
        "\t\t\t\n",
        "\t\t\tSystem.out.println(blockChain1.toString());\n",
        "\t\t\tnew nonStaticThrades();\n",
        "\t\t\t\n",
        "\t\t\t\n",
        "\t\t}\n",
        "\n",
        "}\"\"\""
      ],
      "execution_count": 0,
      "outputs": []
    },
    {
      "cell_type": "code",
      "metadata": {
        "colab_type": "code",
        "id": "XM5-veN-g0AH",
        "outputId": "1bbafa9d-d38c-40f2-e1ed-6567ac00d3ff",
        "colab": {
          "base_uri": "https://localhost:8080/",
          "height": 82
        }
      },
      "source": [
        "dataFrame = pd.DataFrame(data={'hash':[1,2,3],'source_code':[code_1.replace('\\n',''),code_2.replace('\\n',''),code_3.replace('\\n','')]})\n",
        "data= dataFrame.source_code\n",
        "print(data)"
      ],
      "execution_count": 0,
      "outputs": [
        {
          "output_type": "stream",
          "text": [
            "0     import java.security.MessageDigest;public cla...\n",
            "1     import java.security.MessageDigest;public cla...\n",
            "2     public class Test {\\tpublic static void main(...\n",
            "Name: source_code, dtype: object\n"
          ],
          "name": "stdout"
        }
      ]
    },
    {
      "cell_type": "markdown",
      "metadata": {
        "colab_type": "text",
        "id": "unzixye37XIS"
      },
      "source": [
        "# **Create the Document Term Matrix**\n"
      ]
    },
    {
      "cell_type": "code",
      "metadata": {
        "colab_type": "code",
        "id": "xYTBQsfWDZqA",
        "outputId": "ed5cfdf4-4b6f-471a-aa4c-d4165aca8c0c",
        "colab": {
          "base_uri": "https://localhost:8080/",
          "height": 310
        }
      },
      "source": [
        "vect=CountVectorizer()\n",
        "sparse_matrix = vect.fit_transform(dataFrame.source_code)\n",
        "sparse_matrix.toarray()"
      ],
      "execution_count": 0,
      "outputs": [
        {
          "output_type": "execute_result",
          "data": {
            "text/plain": [
              "array([[ 1,  1,  0,  0,  1,  1,  1,  0,  0,  3,  0,  0,  0,  5,  0,  0,\n",
              "         0,  0,  4,  3,  2,  5,  1,  1,  1,  1,  4,  0,  3,  1,  0,  1,\n",
              "         0,  4,  0,  0,  2,  1,  1,  2,  0,  0,  0,  0,  4,  4,  0,  8,\n",
              "         0,  1,  7,  7,  1,  1,  1,  4,  0,  0,  0,  7,  2,  2,  0,  0,\n",
              "         0,  0,  0,  0,  1,  1,  2,  1,  3,  3,  5,  1,  1,  0,  2,  0,\n",
              "         4,  5, 12,  4,  0,  1,  4,  0,  0,  1,  1,  1,  1,  1,  3,  0,\n",
              "         5,  0],\n",
              "       [ 1,  1,  1,  1,  1,  1,  1,  0,  0,  4,  1,  0,  0,  8,  0,  1,\n",
              "         0,  0,  4,  3,  2,  5,  1,  3,  1,  1,  4,  2,  3,  1,  0,  1,\n",
              "         0,  4,  0,  0,  2,  1,  1,  2,  0,  0,  0,  1,  5,  5,  0,  8,\n",
              "         0,  1,  7, 11,  1,  1,  1,  6,  0,  0,  1,  7,  0,  2,  0,  0,\n",
              "         0,  0,  0,  0,  3,  3,  2,  0,  3,  3,  4,  1,  1,  2,  0,  1,\n",
              "         3,  6, 13,  4,  1,  3,  4,  0,  2,  1,  1,  1,  1,  1,  3,  1,\n",
              "         5,  1],\n",
              "       [ 0,  0,  0,  0,  0,  0,  0,  1,  4,  0,  1,  1,  2,  0,  4,  0,\n",
              "         2, 10,  0,  0,  0,  0,  0,  0,  1,  0,  0,  0,  0,  0,  1,  0,\n",
              "         1,  0,  1,  4,  0,  0,  0,  0,  1,  1,  2,  0,  0,  0,  1,  0,\n",
              "         1,  0,  0,  0,  0,  0,  1,  0,  2,  2,  1,  0,  0,  2,  2,  2,\n",
              "         2,  2,  1,  1,  3,  3,  0,  0,  2,  0,  0,  0,  0,  0,  0,  0,\n",
              "         1,  0,  3,  0,  0,  3,  0,  1,  0,  0,  1,  0,  0,  0,  0,  1,\n",
              "         0,  0]], dtype=int64)"
            ]
          },
          "metadata": {
            "tags": []
          },
          "execution_count": 20
        }
      ]
    },
    {
      "cell_type": "code",
      "metadata": {
        "colab_type": "code",
        "id": "M8ePKuMVDcVl",
        "outputId": "8c8a1c7d-2279-4ff4-98ec-6847aa17f11e",
        "colab": {
          "base_uri": "https://localhost:8080/",
          "height": 53
        }
      },
      "source": [
        "print(vect.get_feature_names())"
      ],
      "execution_count": 0,
      "outputs": [
        {
          "output_type": "stream",
          "text": [
            "['0xff', '128', '1524405906978genisis', '23249425', '256', '49', '99', 'aa', 'addblock', 'append', 'args', 'arraylist', 'arrays', 'binary', 'block', 'block0', 'blockchain', 'blockchain1', 'builder', 'byte', 'byte2hex', 'bytes', 'catch', 'charat', 'class', 'digest', 'else', 'encodedstring', 'encodestr', 'error', 'example', 'exception', 'ffffffff', 'for', 'function', 'generatenextblock', 'getbytes', 'getinstance', 'getmessage', 'getsha256', 'gggggggg', 'hash', 'hashcode', 'hashtest', 'hex', 'hexdecnum', 'hhhhhhhh', 'if', 'iiiiiiii', 'import', 'incont', 'int', 'integer', 'is', 'java', 'length', 'list1', 'list2', 'main', 'messagedigest', 'mysha_256', 'new', 'newblock1', 'newblock2', 'newblock3', 'newblock4', 'nonstaticthrades', 'of', 'out', 'println', 'private', 'program', 'public', 'rem', 'return', 'security', 'sha', 'sha256', 'sha_256', 'size', 'static', 'str', 'string', 'stringbuilder', 'sum', 'system', 'temp', 'test', 'to', 'tohexstring', 'tostring', 'try', 'update', 'utf', 'val', 'void', 'weight', 'while']\n"
          ],
          "name": "stdout"
        }
      ]
    },
    {
      "cell_type": "markdown",
      "metadata": {
        "colab_type": "text",
        "id": "eQ84LiEUD-3C"
      },
      "source": [
        "# **Create the Document Term Matrix**\n"
      ]
    },
    {
      "cell_type": "code",
      "metadata": {
        "colab_type": "code",
        "id": "uvNDaj9qg0AT",
        "colab": {}
      },
      "source": [
        "from sklearn.feature_extraction.text import TfidfTransformer"
      ],
      "execution_count": 0,
      "outputs": []
    },
    {
      "cell_type": "code",
      "metadata": {
        "colab_type": "code",
        "id": "NIou0oLAg0AW",
        "outputId": "6382bed2-3e80-43d5-da01-d5b61d1e8ce4",
        "colab": {
          "base_uri": "https://localhost:8080/",
          "height": 33
        }
      },
      "source": [
        "tfidf = TfidfTransformer(norm=None)\n",
        "tfidf"
      ],
      "execution_count": 0,
      "outputs": [
        {
          "output_type": "execute_result",
          "data": {
            "text/plain": [
              "TfidfTransformer(norm=None, smooth_idf=True, sublinear_tf=False, use_idf=True)"
            ]
          },
          "metadata": {
            "tags": []
          },
          "execution_count": 28
        }
      ]
    },
    {
      "cell_type": "code",
      "metadata": {
        "id": "KYgTew72NFRi",
        "colab_type": "code",
        "colab": {},
        "outputId": "77e4ccc1-53cd-41c0-99ab-445fd62164c0"
      },
      "source": [
        "tfidf_transformer = TfidfTransformer(norm=None)\n",
        "tfidf_transformer"
      ],
      "execution_count": 0,
      "outputs": [
        {
          "output_type": "execute_result",
          "data": {
            "text/plain": [
              "TfidfTransformer(norm=None, smooth_idf=True, sublinear_tf=False, use_idf=True)"
            ]
          },
          "metadata": {
            "tags": []
          },
          "execution_count": 30
        }
      ]
    },
    {
      "cell_type": "code",
      "metadata": {
        "colab_type": "code",
        "id": "9I9J3Mf9g0AZ",
        "outputId": "a9e73894-747d-498e-bb40-0f3f3cdbcc86",
        "colab": {
          "base_uri": "https://localhost:8080/",
          "height": 50
        }
      },
      "source": [
        "tfidf = tfidf_transformer.fit_transform(sparse_matrix)\n",
        "tfidf"
      ],
      "execution_count": 0,
      "outputs": [
        {
          "output_type": "execute_result",
          "data": {
            "text/plain": [
              "<3x98 sparse matrix of type '<class 'numpy.float64'>'\n",
              "\twith 168 stored elements in Compressed Sparse Row format>"
            ]
          },
          "metadata": {
            "tags": []
          },
          "execution_count": 31
        }
      ]
    },
    {
      "cell_type": "code",
      "metadata": {
        "colab_type": "code",
        "id": "lYRPkTzVg0Ad",
        "outputId": "01a0b6d1-8d6e-442d-9049-3db6955d31d5",
        "colab": {
          "base_uri": "https://localhost:8080/",
          "height": 943
        }
      },
      "source": [
        "tfidf.toarray()"
      ],
      "execution_count": 0,
      "outputs": [
        {
          "output_type": "execute_result",
          "data": {
            "text/plain": [
              "array([[ 1.28768207,  1.28768207,  0.        ,  0.        ,  1.28768207,\n",
              "         1.28768207,  1.28768207,  0.        ,  0.        ,  3.86304622,\n",
              "         0.        ,  0.        ,  0.        ,  6.43841036,  0.        ,\n",
              "         0.        ,  0.        ,  0.        ,  5.15072829,  3.86304622,\n",
              "         2.57536414,  6.43841036,  1.28768207,  1.28768207,  1.        ,\n",
              "         1.28768207,  5.15072829,  0.        ,  3.86304622,  1.28768207,\n",
              "         0.        ,  1.28768207,  0.        ,  5.15072829,  0.        ,\n",
              "         0.        ,  2.57536414,  1.28768207,  1.28768207,  2.57536414,\n",
              "         0.        ,  0.        ,  0.        ,  0.        ,  5.15072829,\n",
              "         5.15072829,  0.        , 10.30145658,  0.        ,  1.28768207,\n",
              "         9.01377451,  9.01377451,  1.28768207,  1.28768207,  1.        ,\n",
              "         5.15072829,  0.        ,  0.        ,  0.        ,  9.01377451,\n",
              "         3.38629436,  2.        ,  0.        ,  0.        ,  0.        ,\n",
              "         0.        ,  0.        ,  0.        ,  1.        ,  1.        ,\n",
              "         2.57536414,  1.69314718,  3.        ,  3.86304622,  6.43841036,\n",
              "         1.28768207,  1.28768207,  0.        ,  3.38629436,  0.        ,\n",
              "         4.        ,  6.43841036, 12.        ,  5.15072829,  0.        ,\n",
              "         1.        ,  5.15072829,  0.        ,  0.        ,  1.28768207,\n",
              "         1.        ,  1.28768207,  1.28768207,  1.28768207,  3.86304622,\n",
              "         0.        ,  6.43841036,  0.        ],\n",
              "       [ 1.28768207,  1.28768207,  1.69314718,  1.69314718,  1.28768207,\n",
              "         1.28768207,  1.28768207,  0.        ,  0.        ,  5.15072829,\n",
              "         1.28768207,  0.        ,  0.        , 10.30145658,  0.        ,\n",
              "         1.69314718,  0.        ,  0.        ,  5.15072829,  3.86304622,\n",
              "         2.57536414,  6.43841036,  1.28768207,  3.86304622,  1.        ,\n",
              "         1.28768207,  5.15072829,  3.38629436,  3.86304622,  1.28768207,\n",
              "         0.        ,  1.28768207,  0.        ,  5.15072829,  0.        ,\n",
              "         0.        ,  2.57536414,  1.28768207,  1.28768207,  2.57536414,\n",
              "         0.        ,  0.        ,  0.        ,  1.69314718,  6.43841036,\n",
              "         6.43841036,  0.        , 10.30145658,  0.        ,  1.28768207,\n",
              "         9.01377451, 14.1645028 ,  1.28768207,  1.28768207,  1.        ,\n",
              "         7.72609243,  0.        ,  0.        ,  1.28768207,  9.01377451,\n",
              "         0.        ,  2.        ,  0.        ,  0.        ,  0.        ,\n",
              "         0.        ,  0.        ,  0.        ,  3.        ,  3.        ,\n",
              "         2.57536414,  0.        ,  3.        ,  3.86304622,  5.15072829,\n",
              "         1.28768207,  1.28768207,  3.38629436,  0.        ,  1.69314718,\n",
              "         3.        ,  7.72609243, 13.        ,  5.15072829,  1.69314718,\n",
              "         3.        ,  5.15072829,  0.        ,  3.38629436,  1.28768207,\n",
              "         1.        ,  1.28768207,  1.28768207,  1.28768207,  3.86304622,\n",
              "         1.28768207,  6.43841036,  1.69314718],\n",
              "       [ 0.        ,  0.        ,  0.        ,  0.        ,  0.        ,\n",
              "         0.        ,  0.        ,  1.69314718,  6.77258872,  0.        ,\n",
              "         1.28768207,  1.69314718,  3.38629436,  0.        ,  6.77258872,\n",
              "         0.        ,  3.38629436, 16.93147181,  0.        ,  0.        ,\n",
              "         0.        ,  0.        ,  0.        ,  0.        ,  1.        ,\n",
              "         0.        ,  0.        ,  0.        ,  0.        ,  0.        ,\n",
              "         1.69314718,  0.        ,  1.69314718,  0.        ,  1.69314718,\n",
              "         6.77258872,  0.        ,  0.        ,  0.        ,  0.        ,\n",
              "         1.69314718,  1.69314718,  3.38629436,  0.        ,  0.        ,\n",
              "         0.        ,  1.69314718,  0.        ,  1.69314718,  0.        ,\n",
              "         0.        ,  0.        ,  0.        ,  0.        ,  1.        ,\n",
              "         0.        ,  3.38629436,  3.38629436,  1.28768207,  0.        ,\n",
              "         0.        ,  2.        ,  3.38629436,  3.38629436,  3.38629436,\n",
              "         3.38629436,  1.69314718,  1.69314718,  3.        ,  3.        ,\n",
              "         0.        ,  0.        ,  2.        ,  0.        ,  0.        ,\n",
              "         0.        ,  0.        ,  0.        ,  0.        ,  0.        ,\n",
              "         1.        ,  0.        ,  3.        ,  0.        ,  0.        ,\n",
              "         3.        ,  0.        ,  1.69314718,  0.        ,  0.        ,\n",
              "         1.        ,  0.        ,  0.        ,  0.        ,  0.        ,\n",
              "         1.28768207,  0.        ,  0.        ]])"
            ]
          },
          "metadata": {
            "tags": []
          },
          "execution_count": 32
        }
      ]
    },
    {
      "cell_type": "markdown",
      "metadata": {
        "colab_type": "text",
        "id": "Rvk1tjXj8SSw"
      },
      "source": [
        "### **Convert Matrix to  Dataframe**\n"
      ]
    },
    {
      "cell_type": "code",
      "metadata": {
        "colab_type": "code",
        "id": "MiZ0CayH8QOl",
        "colab": {}
      },
      "source": [
        "df = pd.DataFrame(sparse_matrix.toarray(), \n",
        "                  columns=vect.get_feature_names(), \n",
        "                  index=['code_1', 'code_2','code_3'])"
      ],
      "execution_count": 0,
      "outputs": []
    },
    {
      "cell_type": "code",
      "metadata": {
        "colab_type": "code",
        "id": "XKC2h8w88kM-",
        "outputId": "2ee34415-5819-4099-b954-c4641f39fcce",
        "colab": {
          "base_uri": "https://localhost:8080/",
          "height": 181
        }
      },
      "source": [
        "df.head()"
      ],
      "execution_count": 0,
      "outputs": [
        {
          "output_type": "execute_result",
          "data": {
            "text/html": [
              "<div>\n",
              "<style scoped>\n",
              "    .dataframe tbody tr th:only-of-type {\n",
              "        vertical-align: middle;\n",
              "    }\n",
              "\n",
              "    .dataframe tbody tr th {\n",
              "        vertical-align: top;\n",
              "    }\n",
              "\n",
              "    .dataframe thead th {\n",
              "        text-align: right;\n",
              "    }\n",
              "</style>\n",
              "<table border=\"1\" class=\"dataframe\">\n",
              "  <thead>\n",
              "    <tr style=\"text-align: right;\">\n",
              "      <th></th>\n",
              "      <th>0xff</th>\n",
              "      <th>128</th>\n",
              "      <th>1524405906978genisis</th>\n",
              "      <th>23249425</th>\n",
              "      <th>256</th>\n",
              "      <th>49</th>\n",
              "      <th>99</th>\n",
              "      <th>aa</th>\n",
              "      <th>addblock</th>\n",
              "      <th>append</th>\n",
              "      <th>...</th>\n",
              "      <th>to</th>\n",
              "      <th>tohexstring</th>\n",
              "      <th>tostring</th>\n",
              "      <th>try</th>\n",
              "      <th>update</th>\n",
              "      <th>utf</th>\n",
              "      <th>val</th>\n",
              "      <th>void</th>\n",
              "      <th>weight</th>\n",
              "      <th>while</th>\n",
              "    </tr>\n",
              "  </thead>\n",
              "  <tbody>\n",
              "    <tr>\n",
              "      <td>code_1</td>\n",
              "      <td>1</td>\n",
              "      <td>1</td>\n",
              "      <td>0</td>\n",
              "      <td>0</td>\n",
              "      <td>1</td>\n",
              "      <td>1</td>\n",
              "      <td>1</td>\n",
              "      <td>0</td>\n",
              "      <td>0</td>\n",
              "      <td>3</td>\n",
              "      <td>...</td>\n",
              "      <td>0</td>\n",
              "      <td>1</td>\n",
              "      <td>1</td>\n",
              "      <td>1</td>\n",
              "      <td>1</td>\n",
              "      <td>1</td>\n",
              "      <td>3</td>\n",
              "      <td>0</td>\n",
              "      <td>5</td>\n",
              "      <td>0</td>\n",
              "    </tr>\n",
              "    <tr>\n",
              "      <td>code_2</td>\n",
              "      <td>1</td>\n",
              "      <td>1</td>\n",
              "      <td>1</td>\n",
              "      <td>1</td>\n",
              "      <td>1</td>\n",
              "      <td>1</td>\n",
              "      <td>1</td>\n",
              "      <td>0</td>\n",
              "      <td>0</td>\n",
              "      <td>4</td>\n",
              "      <td>...</td>\n",
              "      <td>2</td>\n",
              "      <td>1</td>\n",
              "      <td>1</td>\n",
              "      <td>1</td>\n",
              "      <td>1</td>\n",
              "      <td>1</td>\n",
              "      <td>3</td>\n",
              "      <td>1</td>\n",
              "      <td>5</td>\n",
              "      <td>1</td>\n",
              "    </tr>\n",
              "    <tr>\n",
              "      <td>code_3</td>\n",
              "      <td>0</td>\n",
              "      <td>0</td>\n",
              "      <td>0</td>\n",
              "      <td>0</td>\n",
              "      <td>0</td>\n",
              "      <td>0</td>\n",
              "      <td>0</td>\n",
              "      <td>1</td>\n",
              "      <td>4</td>\n",
              "      <td>0</td>\n",
              "      <td>...</td>\n",
              "      <td>0</td>\n",
              "      <td>0</td>\n",
              "      <td>1</td>\n",
              "      <td>0</td>\n",
              "      <td>0</td>\n",
              "      <td>0</td>\n",
              "      <td>0</td>\n",
              "      <td>1</td>\n",
              "      <td>0</td>\n",
              "      <td>0</td>\n",
              "    </tr>\n",
              "  </tbody>\n",
              "</table>\n",
              "<p>3 rows × 98 columns</p>\n",
              "</div>"
            ],
            "text/plain": [
              "        0xff  128  1524405906978genisis  23249425  256  49  99  aa  addblock  \\\n",
              "code_1     1    1                     0         0    1   1   1   0         0   \n",
              "code_2     1    1                     1         1    1   1   1   0         0   \n",
              "code_3     0    0                     0         0    0   0   0   1         4   \n",
              "\n",
              "        append  ...  to  tohexstring  tostring  try  update  utf  val  void  \\\n",
              "code_1       3  ...   0            1         1    1       1    1    3     0   \n",
              "code_2       4  ...   2            1         1    1       1    1    3     1   \n",
              "code_3       0  ...   0            0         1    0       0    0    0     1   \n",
              "\n",
              "        weight  while  \n",
              "code_1       5      0  \n",
              "code_2       5      1  \n",
              "code_3       0      0  \n",
              "\n",
              "[3 rows x 98 columns]"
            ]
          },
          "metadata": {
            "tags": []
          },
          "execution_count": 34
        }
      ]
    },
    {
      "cell_type": "code",
      "metadata": {
        "colab_type": "code",
        "id": "KJIVTJeY_FVm",
        "outputId": "c6f9a6b9-9210-4c8c-a539-ff57c1dde796",
        "colab": {
          "base_uri": "https://localhost:8080/",
          "height": 123
        }
      },
      "source": [
        "df[:1][:]"
      ],
      "execution_count": 0,
      "outputs": [
        {
          "output_type": "execute_result",
          "data": {
            "text/html": [
              "<div>\n",
              "<style scoped>\n",
              "    .dataframe tbody tr th:only-of-type {\n",
              "        vertical-align: middle;\n",
              "    }\n",
              "\n",
              "    .dataframe tbody tr th {\n",
              "        vertical-align: top;\n",
              "    }\n",
              "\n",
              "    .dataframe thead th {\n",
              "        text-align: right;\n",
              "    }\n",
              "</style>\n",
              "<table border=\"1\" class=\"dataframe\">\n",
              "  <thead>\n",
              "    <tr style=\"text-align: right;\">\n",
              "      <th></th>\n",
              "      <th>0xff</th>\n",
              "      <th>128</th>\n",
              "      <th>1524405906978genisis</th>\n",
              "      <th>23249425</th>\n",
              "      <th>256</th>\n",
              "      <th>49</th>\n",
              "      <th>99</th>\n",
              "      <th>aa</th>\n",
              "      <th>addblock</th>\n",
              "      <th>append</th>\n",
              "      <th>...</th>\n",
              "      <th>to</th>\n",
              "      <th>tohexstring</th>\n",
              "      <th>tostring</th>\n",
              "      <th>try</th>\n",
              "      <th>update</th>\n",
              "      <th>utf</th>\n",
              "      <th>val</th>\n",
              "      <th>void</th>\n",
              "      <th>weight</th>\n",
              "      <th>while</th>\n",
              "    </tr>\n",
              "  </thead>\n",
              "  <tbody>\n",
              "    <tr>\n",
              "      <td>code_1</td>\n",
              "      <td>1</td>\n",
              "      <td>1</td>\n",
              "      <td>0</td>\n",
              "      <td>0</td>\n",
              "      <td>1</td>\n",
              "      <td>1</td>\n",
              "      <td>1</td>\n",
              "      <td>0</td>\n",
              "      <td>0</td>\n",
              "      <td>3</td>\n",
              "      <td>...</td>\n",
              "      <td>0</td>\n",
              "      <td>1</td>\n",
              "      <td>1</td>\n",
              "      <td>1</td>\n",
              "      <td>1</td>\n",
              "      <td>1</td>\n",
              "      <td>3</td>\n",
              "      <td>0</td>\n",
              "      <td>5</td>\n",
              "      <td>0</td>\n",
              "    </tr>\n",
              "  </tbody>\n",
              "</table>\n",
              "<p>1 rows × 98 columns</p>\n",
              "</div>"
            ],
            "text/plain": [
              "        0xff  128  1524405906978genisis  23249425  256  49  99  aa  addblock  \\\n",
              "code_1     1    1                     0         0    1   1   1   0         0   \n",
              "\n",
              "        append  ...  to  tohexstring  tostring  try  update  utf  val  void  \\\n",
              "code_1       3  ...   0            1         1    1       1    1    3     0   \n",
              "\n",
              "        weight  while  \n",
              "code_1       5      0  \n",
              "\n",
              "[1 rows x 98 columns]"
            ]
          },
          "metadata": {
            "tags": []
          },
          "execution_count": 35
        }
      ]
    },
    {
      "cell_type": "markdown",
      "metadata": {
        "colab_type": "text",
        "id": "HngBXA64-BPr"
      },
      "source": [
        "# **Compute Cosine Similarity**"
      ]
    },
    {
      "cell_type": "code",
      "metadata": {
        "colab_type": "code",
        "id": "NrRlGmbS92B1",
        "colab": {}
      },
      "source": [
        "from sklearn.metrics.pairwise import cosine_similarity"
      ],
      "execution_count": 0,
      "outputs": []
    },
    {
      "cell_type": "code",
      "metadata": {
        "colab_type": "code",
        "id": "ywXzcwXO-Emw",
        "outputId": "8c77ca44-b744-440e-e9a0-387aa9b25627",
        "colab": {
          "base_uri": "https://localhost:8080/",
          "height": 133
        }
      },
      "source": [
        "df_cs = pd.DataFrame(cosine_similarity(df))\n",
        "df_cs\n"
      ],
      "execution_count": 0,
      "outputs": [
        {
          "output_type": "execute_result",
          "data": {
            "text/html": [
              "<div>\n",
              "<style scoped>\n",
              "    .dataframe tbody tr th:only-of-type {\n",
              "        vertical-align: middle;\n",
              "    }\n",
              "\n",
              "    .dataframe tbody tr th {\n",
              "        vertical-align: top;\n",
              "    }\n",
              "\n",
              "    .dataframe thead th {\n",
              "        text-align: right;\n",
              "    }\n",
              "</style>\n",
              "<table border=\"1\" class=\"dataframe\">\n",
              "  <thead>\n",
              "    <tr style=\"text-align: right;\">\n",
              "      <th></th>\n",
              "      <th>0</th>\n",
              "      <th>1</th>\n",
              "      <th>2</th>\n",
              "    </tr>\n",
              "  </thead>\n",
              "  <tbody>\n",
              "    <tr>\n",
              "      <td>0</td>\n",
              "      <td>1.000000</td>\n",
              "      <td>0.959104</td>\n",
              "      <td>0.145611</td>\n",
              "    </tr>\n",
              "    <tr>\n",
              "      <td>1</td>\n",
              "      <td>0.959104</td>\n",
              "      <td>1.000000</td>\n",
              "      <td>0.175012</td>\n",
              "    </tr>\n",
              "    <tr>\n",
              "      <td>2</td>\n",
              "      <td>0.145611</td>\n",
              "      <td>0.175012</td>\n",
              "      <td>1.000000</td>\n",
              "    </tr>\n",
              "  </tbody>\n",
              "</table>\n",
              "</div>"
            ],
            "text/plain": [
              "          0         1         2\n",
              "0  1.000000  0.959104  0.145611\n",
              "1  0.959104  1.000000  0.175012\n",
              "2  0.145611  0.175012  1.000000"
            ]
          },
          "metadata": {
            "tags": []
          },
          "execution_count": 37
        }
      ]
    },
    {
      "cell_type": "markdown",
      "metadata": {
        "colab_type": "text",
        "id": "c9BY4Jd8E8MV"
      },
      "source": [
        "## Plot Heat Map\n"
      ]
    },
    {
      "cell_type": "code",
      "metadata": {
        "colab_type": "code",
        "id": "Fjq66UZQGDd-",
        "colab": {}
      },
      "source": [
        "import seaborn as sns;"
      ],
      "execution_count": 0,
      "outputs": []
    },
    {
      "cell_type": "code",
      "metadata": {
        "colab_type": "code",
        "id": "yMOhYfHkE72i",
        "outputId": "2fb49c37-1064-4794-c338-438b72392bae",
        "colab": {
          "base_uri": "https://localhost:8080/",
          "height": 503
        }
      },
      "source": [
        "#sns.heatmap(df_cs)\n",
        "plt.figure(figsize=(10, 6))\n",
        "sns.heatmap(df_cs, linewidths=.5,cmap='YlOrRd')\n",
        "#plt.pcolor(df_cs)\n",
        "#plt.yticks(np.arange(0.5, len(df_cs.index), 1), df_cs.index)\n",
        "#plt.xticks(np.arange(0.5, len(d.columns), 1), df.columns)\n",
        "#plt.show()"
      ],
      "execution_count": 0,
      "outputs": [
        {
          "output_type": "execute_result",
          "data": {
            "text/plain": [
              "<matplotlib.axes._subplots.AxesSubplot at 0x1be8c080a08>"
            ]
          },
          "metadata": {
            "tags": []
          },
          "execution_count": 40
        },
        {
          "output_type": "display_data",
          "data": {
            "image/png": "[encoded data removed]",
            "text/plain": [
              "<Figure size 720x432 with 2 Axes>"
            ]
          },
          "metadata": {
            "tags": [],
            "needs_background": "light"
          }
        }
      ]
    },
    {
      "cell_type": "markdown",
      "metadata": {
        "colab_type": "text",
        "id": "joPiP--qg0An"
      },
      "source": [
        "#  **Using Py4J without pre-determined ports (dynamic port number)**\n",
        " "
      ]
    },
    {
      "cell_type": "code",
      "metadata": {
        "colab_type": "code",
        "id": "6r3dXBrqg0Ao",
        "colab": {}
      },
      "source": [
        "from py4j.java_gateway import (\n",
        "    JavaGateway, CallbackServerParameters, GatewayParameters,\n",
        "    launch_gateway)\n",
        "\n",
        "\n",
        "par = CallbackServerParameters(\n",
        "    address='127.0.0.1',\n",
        "    port=25334,\n",
        "    daemonize=False,\n",
        "    daemonize_connections=False,\n",
        "    eager_load=True,\n",
        "    ssl_context=None,\n",
        "    accept_timeout='DEFAULT',\n",
        "    read_timeout=None,\n",
        "    propagate_java_exceptions=False,\n",
        "    auth_token=None,\n",
        ")\n"
      ],
      "execution_count": 0,
      "outputs": []
    },
    {
      "cell_type": "markdown",
      "metadata": {
        "colab_type": "text",
        "id": "uIJ_f47Fg0Ar"
      },
      "source": [
        "##  Start Gateway\n",
        " "
      ]
    },
    {
      "cell_type": "code",
      "metadata": {
        "colab_type": "code",
        "id": "pBYai23-g0As",
        "outputId": "171f40c9-968b-4bd1-a47e-fd94b396388e",
        "colab": {}
      },
      "source": [
        "\n",
        "gateway = JavaGateway(callback_server_parameters=par)\n",
        "print(\"gateway.gateway_parameters.port\",gateway.gateway_parameters.port)\n",
        "# retrieve the port on which the python callback server was bound to\n",
        "\n",
        "python_port = gateway.get_callback_server().get_listening_port()\n",
        "print(\"get_callback_server python_port: \",python_port)"
      ],
      "execution_count": 0,
      "outputs": [
        {
          "output_type": "stream",
          "text": [
            "gateway.gateway_parameters.port 25333\n",
            "get_callback_server python_port:  25334\n"
          ],
          "name": "stdout"
        }
      ]
    },
    {
      "cell_type": "markdown",
      "metadata": {
        "colab_type": "text",
        "id": "BcfAcuyOg0A0"
      },
      "source": [
        "## Call For shutdown"
      ]
    },
    {
      "cell_type": "code",
      "metadata": {
        "colab_type": "code",
        "id": "pujVx8ENg0A1",
        "outputId": "5b51e866-79c5-4eee-eaa4-bb1371c59d71",
        "colab": {}
      },
      "source": [
        "#gateway.shutdown()\n",
        "\n",
        "\n",
        "# launch Java side with dynamic port and get back the port on which the\n",
        "# server was bound to.\n",
        "#port = launch_gateway \n",
        "''' launch_gateway(\n",
        "    port=0,\n",
        "    jarpath='',\n",
        "    classpath='',\n",
        "    javaopts=[],\n",
        "    die_on_exit=True,\n",
        "    redirect_stdout=None,\n",
        "    redirect_stderr=None,\n",
        "    daemonize_redirect=True,\n",
        "    java_path='java',\n",
        "    create_new_process_group=False,\n",
        "    enable_auth=False,\n",
        "    cwd=None,\n",
        "    return_proc=False,\n",
        ")\n",
        "\n",
        "# connect python side to Java side with Java dynamic port and start python\n",
        "# callback server with a dynamic port\n",
        "gateway = JavaGateway(\n",
        "    gateway_parameters=GatewayParameters(port=port),\n",
        "    callback_server_parameters=CallbackServerParameters(port=0))\n",
        "\n",
        "# tell the Java side to connect to the python callback server with the new\n",
        "# python port. Note that we use the java_gateway_server attribute that\n",
        "# retrieves the GatewayServer instance.\n",
        "gateway.java_gateway_server.resetCallbackClient(\n",
        "    gateway.java_gateway_server.getCallbackClient().getAddress(),\n",
        "    python_port)\n",
        "\n",
        "'''\n",
        "\n"
      ],
      "execution_count": 0,
      "outputs": [
        {
          "output_type": "execute_result",
          "data": {
            "text/plain": [
              "\" launch_gateway(\\n    port=0,\\n    jarpath='',\\n    classpath='',\\n    javaopts=[],\\n    die_on_exit=True,\\n    redirect_stdout=None,\\n    redirect_stderr=None,\\n    daemonize_redirect=True,\\n    java_path='java',\\n    create_new_process_group=False,\\n    enable_auth=False,\\n    cwd=None,\\n    return_proc=False,\\n)\\n\\n# connect python side to Java side with Java dynamic port and start python\\n# callback server with a dynamic port\\ngateway = JavaGateway(\\n    gateway_parameters=GatewayParameters(port=port),\\n    callback_server_parameters=CallbackServerParameters(port=0))\\n\\n# tell the Java side to connect to the python callback server with the new\\n# python port. Note that we use the java_gateway_server attribute that\\n# retrieves the GatewayServer instance.\\ngateway.java_gateway_server.resetCallbackClient(\\n    gateway.java_gateway_server.getCallbackClient().getAddress(),\\n    python_port)\\n\\n\""
            ]
          },
          "metadata": {
            "tags": []
          },
          "execution_count": 159
        }
      ]
    },
    {
      "cell_type": "markdown",
      "metadata": {
        "colab_type": "text",
        "id": "9SGtcfHcg0A7"
      },
      "source": [
        "#  Acess Java Classes send Source code to AST"
      ]
    },
    {
      "cell_type": "code",
      "metadata": {
        "colab_type": "code",
        "id": "GI9MhoaFg0BB",
        "outputId": "4363bc4a-d110-4233-b0bc-54bf3e3cfa59",
        "colab": {}
      },
      "source": [
        "dataFrameSource.head()"
      ],
      "execution_count": 0,
      "outputs": [
        {
          "output_type": "execute_result",
          "data": {
            "text/html": [
              "<div>\n",
              "<style scoped>\n",
              "    .dataframe tbody tr th:only-of-type {\n",
              "        vertical-align: middle;\n",
              "    }\n",
              "\n",
              "    .dataframe tbody tr th {\n",
              "        vertical-align: top;\n",
              "    }\n",
              "\n",
              "    .dataframe thead th {\n",
              "        text-align: right;\n",
              "    }\n",
              "</style>\n",
              "<table border=\"1\" class=\"dataframe\">\n",
              "  <thead>\n",
              "    <tr style=\"text-align: right;\">\n",
              "      <th></th>\n",
              "      <th>hash</th>\n",
              "      <th>path</th>\n",
              "      <th>source_code</th>\n",
              "    </tr>\n",
              "  </thead>\n",
              "  <tbody>\n",
              "    <tr>\n",
              "      <td>0</td>\n",
              "      <td>-2897302942833988625</td>\n",
              "      <td>F://JavaWorkspace//AST_Compile\\src\\com\\nabeelk...</td>\n",
              "      <td>/*\\n * To change this license header, choose L...</td>\n",
              "    </tr>\n",
              "    <tr>\n",
              "      <td>1</td>\n",
              "      <td>6088565061916337128</td>\n",
              "      <td>F://JavaWorkspace//AST_Compile\\src\\com\\nabeelk...</td>\n",
              "      <td>/*\\n * To change this license header, choose L...</td>\n",
              "    </tr>\n",
              "    <tr>\n",
              "      <td>2</td>\n",
              "      <td>8442624749195594999</td>\n",
              "      <td>F://JavaWorkspace//AST_Paerser_PY4J\\src\\main\\j...</td>\n",
              "      <td>/*\\n * To change this license header, choose L...</td>\n",
              "    </tr>\n",
              "    <tr>\n",
              "      <td>3</td>\n",
              "      <td>2592990512713215422</td>\n",
              "      <td>F://JavaWorkspace//AST_Paerser_PY4J\\src\\main\\j...</td>\n",
              "      <td>/*\\n * To change this license header, choose L...</td>\n",
              "    </tr>\n",
              "    <tr>\n",
              "      <td>4</td>\n",
              "      <td>-4462275812234831606</td>\n",
              "      <td>F://JavaWorkspace//AST_PY4J_Compiler\\src\\Test\\...</td>\n",
              "      <td>package Test;\\n/*\\n * To change this license h...</td>\n",
              "    </tr>\n",
              "  </tbody>\n",
              "</table>\n",
              "</div>"
            ],
            "text/plain": [
              "                  hash                                               path  \\\n",
              "0 -2897302942833988625  F://JavaWorkspace//AST_Compile\\src\\com\\nabeelk...   \n",
              "1  6088565061916337128  F://JavaWorkspace//AST_Compile\\src\\com\\nabeelk...   \n",
              "2  8442624749195594999  F://JavaWorkspace//AST_Paerser_PY4J\\src\\main\\j...   \n",
              "3  2592990512713215422  F://JavaWorkspace//AST_Paerser_PY4J\\src\\main\\j...   \n",
              "4 -4462275812234831606  F://JavaWorkspace//AST_PY4J_Compiler\\src\\Test\\...   \n",
              "\n",
              "                                         source_code  \n",
              "0  /*\\n * To change this license header, choose L...  \n",
              "1  /*\\n * To change this license header, choose L...  \n",
              "2  /*\\n * To change this license header, choose L...  \n",
              "3  /*\\n * To change this license header, choose L...  \n",
              "4  package Test;\\n/*\\n * To change this license h...  "
            ]
          },
          "metadata": {
            "tags": []
          },
          "execution_count": 46
        }
      ]
    },
    {
      "cell_type": "markdown",
      "metadata": {
        "id": "tIgQcXI3NFS2",
        "colab_type": "text"
      },
      "source": [
        "### Remove Comment "
      ]
    },
    {
      "cell_type": "code",
      "metadata": {
        "id": "Vi-11RzuNFS3",
        "colab_type": "code",
        "colab": {}
      },
      "source": [
        "def removeComment(x):\n",
        "\n",
        "    a1 = x.find('/*'); b1 = x[a1:].find('*/');\n",
        "    print(a1,b1)\n",
        "    if (a1 >= 0 and b1 > 1):\n",
        "        print(x[a1:b1+2])\n",
        "        x = str(x).replace(x[a1:b1+2],\"\");\n",
        "#        print(x)  \n",
        "    \n",
        "    \n",
        "    a2 = x.find('//'); b2 = x[a2:].find('\\n');\n",
        "    print(a2,b2)  \n",
        "    if(a2>-1 and b2 > 1):\n",
        "        print(x[a2:b2])\n",
        "        x = str(x).replace(str(x[a2:b2]),\"\");\n",
        "\n",
        "    a1 = x.find('/*'); b1 = x[a1:].find('*/');\n",
        "    a2 = x.find('//'); b2 = x[a2:].find('\\n');\n",
        "\n",
        "    if(a1>-1) or (a2>-1):\n",
        " #       print(a1,b1,a2,b2)\n",
        "        removeComment(x);\n",
        "    \n",
        "    return x;\n"
      ],
      "execution_count": 0,
      "outputs": []
    },
    {
      "cell_type": "markdown",
      "metadata": {
        "id": "eiEbL9R_NFS7",
        "colab_type": "text"
      },
      "source": [
        "####  Test Gateway"
      ]
    },
    {
      "cell_type": "code",
      "metadata": {
        "id": "UNLz2MlhNFS9",
        "colab_type": "code",
        "colab": {}
      },
      "source": [
        "#print(code_1.replace(\"\\n\",\"\").replace(\"\\t\",\"\"))\n",
        "#gateway.entry_point.run((code_1))\n",
        "#x = gateway.entry_point.getAst_Map()\n",
        "#y = gateway.entry_point.getSimpleName()       "
      ],
      "execution_count": 0,
      "outputs": []
    },
    {
      "cell_type": "code",
      "metadata": {
        "colab_type": "code",
        "id": "c46SIWV8g0BM",
        "colab": {}
      },
      "source": [
        "ast = [];\n",
        "for index, row in dataFrameSource.iterrows():\n",
        "    #print(row.source_code)\n",
        "    gateway.entry_point.run(row.source_code)\n",
        "    x = gateway.entry_point.getAst_Map()\n",
        "    y = gateway.entry_point.getSimpleName()       \n",
        "    \n",
        "    ast.append({\n",
        "        \"hash\":row.hash,\n",
        "        \"AST\": x.toString(),\n",
        "        \"names\": y.toString()\n",
        "        })\n",
        "                     \n",
        "    #astDataFrame[index] = astDataFrame.({'AST':x,'SimpleName':y}) \n"
      ],
      "execution_count": 0,
      "outputs": []
    },
    {
      "cell_type": "markdown",
      "metadata": {
        "id": "OuCDnvfZNTUp",
        "colab_type": "text"
      },
      "source": [
        "Save dataFram for Backup"
      ]
    },
    {
      "cell_type": "code",
      "metadata": {
        "id": "L_4gHmlwNFTI",
        "colab_type": "code",
        "colab": {}
      },
      "source": [
        "ast_df.to_csv(r'F:\\PythonWorkspace\\NED_University\\Project_TTDS\\ast_df.csv')"
      ],
      "execution_count": 0,
      "outputs": []
    },
    {
      "cell_type": "code",
      "metadata": {
        "id": "EJ61M3DFQMtr",
        "colab_type": "code",
        "colab": {}
      },
      "source": [
        "url = 'https://raw.githubusercontent.com/NabeelShahidKhan/DataScience/master/sourceCode.csv'\n",
        "#url ='C:\\\\Users\\\\nabeels\\\\Downloads\\\\DataScience-master\\\\sourceCode.csv';\n",
        "ast_df = pd.read_csv(url)"
      ],
      "execution_count": 0,
      "outputs": []
    },
    {
      "cell_type": "code",
      "metadata": {
        "id": "gDFNVtjVTR_j",
        "colab_type": "code",
        "colab": {
          "base_uri": "https://localhost:8080/",
          "height": 80
        },
        "outputId": "1e69d4e1-e6c0-431d-e67c-1a5cbf3b8cc6"
      },
      "source": [
        "ast_df[:1]"
      ],
      "execution_count": 36,
      "outputs": [
        {
          "output_type": "execute_result",
          "data": {
            "text/html": [
              "<div>\n",
              "<style scoped>\n",
              "    .dataframe tbody tr th:only-of-type {\n",
              "        vertical-align: middle;\n",
              "    }\n",
              "\n",
              "    .dataframe tbody tr th {\n",
              "        vertical-align: top;\n",
              "    }\n",
              "\n",
              "    .dataframe thead th {\n",
              "        text-align: right;\n",
              "    }\n",
              "</style>\n",
              "<table border=\"1\" class=\"dataframe\">\n",
              "  <thead>\n",
              "    <tr style=\"text-align: right;\">\n",
              "      <th></th>\n",
              "      <th>hash</th>\n",
              "      <th>path</th>\n",
              "      <th>source_code</th>\n",
              "    </tr>\n",
              "  </thead>\n",
              "  <tbody>\n",
              "    <tr>\n",
              "      <th>0</th>\n",
              "      <td>-7210449156072128497</td>\n",
              "      <td>F://JavaWorkspace//AST_Compile\\src\\com\\nabeelk...</td>\n",
              "      <td>/*\\n * To change this license header, choose L...</td>\n",
              "    </tr>\n",
              "  </tbody>\n",
              "</table>\n",
              "</div>"
            ],
            "text/plain": [
              "                  hash  ...                                        source_code\n",
              "0 -7210449156072128497  ...  /*\\n * To change this license header, choose L...\n",
              "\n",
              "[1 rows x 3 columns]"
            ]
          },
          "metadata": {
            "tags": []
          },
          "execution_count": 36
        }
      ]
    },
    {
      "cell_type": "code",
      "metadata": {
        "id": "Kyxuj6lNNFTL",
        "colab_type": "code",
        "colab": {},
        "outputId": "54386915-d384-4588-b767-2edd7c9f21da"
      },
      "source": [
        "ast_df = pd.DataFrame(ast)\n",
        "ast_df"
      ],
      "execution_count": 0,
      "outputs": [
        {
          "output_type": "execute_result",
          "data": {
            "text/html": [
              "<div>\n",
              "<style scoped>\n",
              "    .dataframe tbody tr th:only-of-type {\n",
              "        vertical-align: middle;\n",
              "    }\n",
              "\n",
              "    .dataframe tbody tr th {\n",
              "        vertical-align: top;\n",
              "    }\n",
              "\n",
              "    .dataframe thead th {\n",
              "        text-align: right;\n",
              "    }\n",
              "</style>\n",
              "<table border=\"1\" class=\"dataframe\">\n",
              "  <thead>\n",
              "    <tr style=\"text-align: right;\">\n",
              "      <th></th>\n",
              "      <th>hash</th>\n",
              "      <th>AST</th>\n",
              "      <th>names</th>\n",
              "    </tr>\n",
              "  </thead>\n",
              "  <tbody>\n",
              "    <tr>\n",
              "      <td>0</td>\n",
              "      <td>-2897302942833988625</td>\n",
              "      <td>{SimpleName:-:println=1, MethodInvocation:-:Sy...</td>\n",
              "      <td>[Code_Similarity, main, String, args, GatewayS...</td>\n",
              "    </tr>\n",
              "    <tr>\n",
              "      <td>1</td>\n",
              "      <td>6088565061916337128</td>\n",
              "      <td>{MethodDeclaration:-:boolean visit(NullLiteral...</td>\n",
              "      <td>[Similarity_Visitor, ASTVisitor, HashMap, Stri...</td>\n",
              "    </tr>\n",
              "    <tr>\n",
              "      <td>2</td>\n",
              "      <td>8442624749195594999</td>\n",
              "      <td>{SimpleName:-:println=1, MethodInvocation:-:Sy...</td>\n",
              "      <td>[Code_Similarity, main, String, args, GatewayS...</td>\n",
              "    </tr>\n",
              "    <tr>\n",
              "      <td>3</td>\n",
              "      <td>2592990512713215422</td>\n",
              "      <td>{MethodDeclaration:-:boolean visit(NullLiteral...</td>\n",
              "      <td>[Similarity_Visitor, ASTVisitor, HashMap, Stri...</td>\n",
              "    </tr>\n",
              "    <tr>\n",
              "      <td>4</td>\n",
              "      <td>-4462275812234831606</td>\n",
              "      <td>{MethodDeclaration:-:boolean visit(NullLiteral...</td>\n",
              "      <td>[Similarity_Visitor, ASTVisitor, HashMap, Stri...</td>\n",
              "    </tr>\n",
              "    <tr>\n",
              "      <td>...</td>\n",
              "      <td>...</td>\n",
              "      <td>...</td>\n",
              "      <td>...</td>\n",
              "    </tr>\n",
              "    <tr>\n",
              "      <td>62</td>\n",
              "      <td>1546399024731813968</td>\n",
              "      <td>{public Stack getStack()=1, SimpleName:-:Stack...</td>\n",
              "      <td>[StackEntryPoint, Stack, stack, StackEntryPoin...</td>\n",
              "    </tr>\n",
              "    <tr>\n",
              "      <td>63</td>\n",
              "      <td>4158199818794753169</td>\n",
              "      <td>{NormalAnnotation:-:@Named(value=\"test\")=1, Si...</td>\n",
              "      <td>[Named, value, test, Dependent, Test, Test]</td>\n",
              "    </tr>\n",
              "    <tr>\n",
              "      <td>64</td>\n",
              "      <td>8786451295013556227</td>\n",
              "      <td>{SimpleName:-:println=2, Assignment:-:rest_int...</td>\n",
              "      <td>[Car, Runnable, Person, person, String, carNam...</td>\n",
              "    </tr>\n",
              "    <tr>\n",
              "      <td>65</td>\n",
              "      <td>5093914090799633673</td>\n",
              "      <td>{ExpressionStatement:-:race.addCar(car2);=1, E...</td>\n",
              "      <td>[Main, main, String, args, Race, setLap_length...</td>\n",
              "    </tr>\n",
              "    <tr>\n",
              "      <td>66</td>\n",
              "      <td>-3691909758948952585</td>\n",
              "      <td>{SimpleName:-:car=2, MethodDeclaration:-:publi...</td>\n",
              "      <td>[Race, List, Car, carList, ArrayList, String, ...</td>\n",
              "    </tr>\n",
              "  </tbody>\n",
              "</table>\n",
              "<p>67 rows × 3 columns</p>\n",
              "</div>"
            ],
            "text/plain": [
              "                   hash                                                AST  \\\n",
              "0  -2897302942833988625  {SimpleName:-:println=1, MethodInvocation:-:Sy...   \n",
              "1   6088565061916337128  {MethodDeclaration:-:boolean visit(NullLiteral...   \n",
              "2   8442624749195594999  {SimpleName:-:println=1, MethodInvocation:-:Sy...   \n",
              "3   2592990512713215422  {MethodDeclaration:-:boolean visit(NullLiteral...   \n",
              "4  -4462275812234831606  {MethodDeclaration:-:boolean visit(NullLiteral...   \n",
              "..                  ...                                                ...   \n",
              "62  1546399024731813968  {public Stack getStack()=1, SimpleName:-:Stack...   \n",
              "63  4158199818794753169  {NormalAnnotation:-:@Named(value=\"test\")=1, Si...   \n",
              "64  8786451295013556227  {SimpleName:-:println=2, Assignment:-:rest_int...   \n",
              "65  5093914090799633673  {ExpressionStatement:-:race.addCar(car2);=1, E...   \n",
              "66 -3691909758948952585  {SimpleName:-:car=2, MethodDeclaration:-:publi...   \n",
              "\n",
              "                                                names  \n",
              "0   [Code_Similarity, main, String, args, GatewayS...  \n",
              "1   [Similarity_Visitor, ASTVisitor, HashMap, Stri...  \n",
              "2   [Code_Similarity, main, String, args, GatewayS...  \n",
              "3   [Similarity_Visitor, ASTVisitor, HashMap, Stri...  \n",
              "4   [Similarity_Visitor, ASTVisitor, HashMap, Stri...  \n",
              "..                                                ...  \n",
              "62  [StackEntryPoint, Stack, stack, StackEntryPoin...  \n",
              "63        [Named, value, test, Dependent, Test, Test]  \n",
              "64  [Car, Runnable, Person, person, String, carNam...  \n",
              "65  [Main, main, String, args, Race, setLap_length...  \n",
              "66  [Race, List, Car, carList, ArrayList, String, ...  \n",
              "\n",
              "[67 rows x 3 columns]"
            ]
          },
          "metadata": {
            "tags": []
          },
          "execution_count": 301
        }
      ]
    },
    {
      "cell_type": "markdown",
      "metadata": {
        "id": "umBa8SVaNFTR",
        "colab_type": "text"
      },
      "source": [
        "## Split AST of each source file "
      ]
    },
    {
      "cell_type": "code",
      "metadata": {
        "id": "avuYbJdSNFTS",
        "colab_type": "code",
        "colab": {},
        "outputId": "7d0481f7-46d6-484e-9e71-cc8043c24bcf"
      },
      "source": [
        "df_ast_data = pd.DataFrame(data=ast_df.AST.to_list(),index=ast_df.hash)\n",
        "df_ast_data"
      ],
      "execution_count": 0,
      "outputs": [
        {
          "output_type": "execute_result",
          "data": {
            "text/html": [
              "<div>\n",
              "<style scoped>\n",
              "    .dataframe tbody tr th:only-of-type {\n",
              "        vertical-align: middle;\n",
              "    }\n",
              "\n",
              "    .dataframe tbody tr th {\n",
              "        vertical-align: top;\n",
              "    }\n",
              "\n",
              "    .dataframe thead th {\n",
              "        text-align: right;\n",
              "    }\n",
              "</style>\n",
              "<table border=\"1\" class=\"dataframe\">\n",
              "  <thead>\n",
              "    <tr style=\"text-align: right;\">\n",
              "      <th></th>\n",
              "      <th>0</th>\n",
              "    </tr>\n",
              "    <tr>\n",
              "      <th>hash</th>\n",
              "      <th></th>\n",
              "    </tr>\n",
              "  </thead>\n",
              "  <tbody>\n",
              "    <tr>\n",
              "      <td>-2897302942833988625</td>\n",
              "      <td>{SimpleName:-:println=1, MethodInvocation:-:Sy...</td>\n",
              "    </tr>\n",
              "    <tr>\n",
              "      <td>6088565061916337128</td>\n",
              "      <td>{MethodDeclaration:-:boolean visit(NullLiteral...</td>\n",
              "    </tr>\n",
              "    <tr>\n",
              "      <td>8442624749195594999</td>\n",
              "      <td>{SimpleName:-:println=1, MethodInvocation:-:Sy...</td>\n",
              "    </tr>\n",
              "    <tr>\n",
              "      <td>2592990512713215422</td>\n",
              "      <td>{MethodDeclaration:-:boolean visit(NullLiteral...</td>\n",
              "    </tr>\n",
              "    <tr>\n",
              "      <td>-4462275812234831606</td>\n",
              "      <td>{MethodDeclaration:-:boolean visit(NullLiteral...</td>\n",
              "    </tr>\n",
              "    <tr>\n",
              "      <td>...</td>\n",
              "      <td>...</td>\n",
              "    </tr>\n",
              "    <tr>\n",
              "      <td>1546399024731813968</td>\n",
              "      <td>{public Stack getStack()=1, SimpleName:-:Stack...</td>\n",
              "    </tr>\n",
              "    <tr>\n",
              "      <td>4158199818794753169</td>\n",
              "      <td>{NormalAnnotation:-:@Named(value=\"test\")=1, Si...</td>\n",
              "    </tr>\n",
              "    <tr>\n",
              "      <td>8786451295013556227</td>\n",
              "      <td>{SimpleName:-:println=2, Assignment:-:rest_int...</td>\n",
              "    </tr>\n",
              "    <tr>\n",
              "      <td>5093914090799633673</td>\n",
              "      <td>{ExpressionStatement:-:race.addCar(car2);=1, E...</td>\n",
              "    </tr>\n",
              "    <tr>\n",
              "      <td>-3691909758948952585</td>\n",
              "      <td>{SimpleName:-:car=2, MethodDeclaration:-:publi...</td>\n",
              "    </tr>\n",
              "  </tbody>\n",
              "</table>\n",
              "<p>67 rows × 1 columns</p>\n",
              "</div>"
            ],
            "text/plain": [
              "                                                                      0\n",
              "hash                                                                   \n",
              "-2897302942833988625  {SimpleName:-:println=1, MethodInvocation:-:Sy...\n",
              " 6088565061916337128  {MethodDeclaration:-:boolean visit(NullLiteral...\n",
              " 8442624749195594999  {SimpleName:-:println=1, MethodInvocation:-:Sy...\n",
              " 2592990512713215422  {MethodDeclaration:-:boolean visit(NullLiteral...\n",
              "-4462275812234831606  {MethodDeclaration:-:boolean visit(NullLiteral...\n",
              "...                                                                 ...\n",
              " 1546399024731813968  {public Stack getStack()=1, SimpleName:-:Stack...\n",
              " 4158199818794753169  {NormalAnnotation:-:@Named(value=\"test\")=1, Si...\n",
              " 8786451295013556227  {SimpleName:-:println=2, Assignment:-:rest_int...\n",
              " 5093914090799633673  {ExpressionStatement:-:race.addCar(car2);=1, E...\n",
              "-3691909758948952585  {SimpleName:-:car=2, MethodDeclaration:-:publi...\n",
              "\n",
              "[67 rows x 1 columns]"
            ]
          },
          "metadata": {
            "tags": []
          },
          "execution_count": 316
        }
      ]
    },
    {
      "cell_type": "markdown",
      "metadata": {
        "id": "FIyLDmGiNFTZ",
        "colab_type": "text"
      },
      "source": [
        "## Split names of each source file "
      ]
    },
    {
      "cell_type": "code",
      "metadata": {
        "id": "OVrcO3gaNFTd",
        "colab_type": "code",
        "colab": {},
        "outputId": "aa90e540-ae70-443b-b874-98dd45248258"
      },
      "source": [
        "df_simple_Names = pd.DataFrame(data=ast_df.names.to_list(),index=ast_df.hash)\n",
        "df_simple_Names"
      ],
      "execution_count": 0,
      "outputs": [
        {
          "output_type": "execute_result",
          "data": {
            "text/html": [
              "<div>\n",
              "<style scoped>\n",
              "    .dataframe tbody tr th:only-of-type {\n",
              "        vertical-align: middle;\n",
              "    }\n",
              "\n",
              "    .dataframe tbody tr th {\n",
              "        vertical-align: top;\n",
              "    }\n",
              "\n",
              "    .dataframe thead th {\n",
              "        text-align: right;\n",
              "    }\n",
              "</style>\n",
              "<table border=\"1\" class=\"dataframe\">\n",
              "  <thead>\n",
              "    <tr style=\"text-align: right;\">\n",
              "      <th></th>\n",
              "      <th>0</th>\n",
              "    </tr>\n",
              "    <tr>\n",
              "      <th>hash</th>\n",
              "      <th></th>\n",
              "    </tr>\n",
              "  </thead>\n",
              "  <tbody>\n",
              "    <tr>\n",
              "      <td>-2897302942833988625</td>\n",
              "      <td>[Code_Similarity, main, String, args, GatewayS...</td>\n",
              "    </tr>\n",
              "    <tr>\n",
              "      <td>6088565061916337128</td>\n",
              "      <td>[Similarity_Visitor, ASTVisitor, HashMap, Stri...</td>\n",
              "    </tr>\n",
              "    <tr>\n",
              "      <td>8442624749195594999</td>\n",
              "      <td>[Code_Similarity, main, String, args, GatewayS...</td>\n",
              "    </tr>\n",
              "    <tr>\n",
              "      <td>2592990512713215422</td>\n",
              "      <td>[Similarity_Visitor, ASTVisitor, HashMap, Stri...</td>\n",
              "    </tr>\n",
              "    <tr>\n",
              "      <td>-4462275812234831606</td>\n",
              "      <td>[Similarity_Visitor, ASTVisitor, HashMap, Stri...</td>\n",
              "    </tr>\n",
              "    <tr>\n",
              "      <td>...</td>\n",
              "      <td>...</td>\n",
              "    </tr>\n",
              "    <tr>\n",
              "      <td>1546399024731813968</td>\n",
              "      <td>[StackEntryPoint, Stack, stack, StackEntryPoin...</td>\n",
              "    </tr>\n",
              "    <tr>\n",
              "      <td>4158199818794753169</td>\n",
              "      <td>[Named, value, test, Dependent, Test, Test]</td>\n",
              "    </tr>\n",
              "    <tr>\n",
              "      <td>8786451295013556227</td>\n",
              "      <td>[Car, Runnable, Person, person, String, carNam...</td>\n",
              "    </tr>\n",
              "    <tr>\n",
              "      <td>5093914090799633673</td>\n",
              "      <td>[Main, main, String, args, Race, setLap_length...</td>\n",
              "    </tr>\n",
              "    <tr>\n",
              "      <td>-3691909758948952585</td>\n",
              "      <td>[Race, List, Car, carList, ArrayList, String, ...</td>\n",
              "    </tr>\n",
              "  </tbody>\n",
              "</table>\n",
              "<p>67 rows × 1 columns</p>\n",
              "</div>"
            ],
            "text/plain": [
              "                                                                      0\n",
              "hash                                                                   \n",
              "-2897302942833988625  [Code_Similarity, main, String, args, GatewayS...\n",
              " 6088565061916337128  [Similarity_Visitor, ASTVisitor, HashMap, Stri...\n",
              " 8442624749195594999  [Code_Similarity, main, String, args, GatewayS...\n",
              " 2592990512713215422  [Similarity_Visitor, ASTVisitor, HashMap, Stri...\n",
              "-4462275812234831606  [Similarity_Visitor, ASTVisitor, HashMap, Stri...\n",
              "...                                                                 ...\n",
              " 1546399024731813968  [StackEntryPoint, Stack, stack, StackEntryPoin...\n",
              " 4158199818794753169        [Named, value, test, Dependent, Test, Test]\n",
              " 8786451295013556227  [Car, Runnable, Person, person, String, carNam...\n",
              " 5093914090799633673  [Main, main, String, args, Race, setLap_length...\n",
              "-3691909758948952585  [Race, List, Car, carList, ArrayList, String, ...\n",
              "\n",
              "[67 rows x 1 columns]"
            ]
          },
          "metadata": {
            "tags": []
          },
          "execution_count": 314
        }
      ]
    },
    {
      "cell_type": "code",
      "metadata": {
        "colab_type": "code",
        "id": "yc-QjglUg0Bj",
        "colab": {}
      },
      "source": [
        "##  AST transformation"
      ],
      "execution_count": 0,
      "outputs": []
    },
    {
      "cell_type": "code",
      "metadata": {
        "id": "hhIjo02atT1m",
        "colab_type": "code",
        "colab": {
          "base_uri": "https://localhost:8080/",
          "height": 97
        },
        "outputId": "efaa9a9c-6ad0-430b-8208-f76202094d64"
      },
      "source": [
        "x = str('{println=1,System.out.println(\"Gateway\",a);=1, public Stack getStack()=1, Stack=3, race.addCar(car4);=1')\n",
        "a = split_AST_data(x)\n",
        "pd.DataFrame(a)"
      ],
      "execution_count": 108,
      "outputs": [
        {
          "output_type": "stream",
          "text": [
            "['{println=1', 'System.out.println(\"Gateway\"', 'a);=1', ' public Stack getStack()=1', ' Stack=3', ' race.addCar(car4);=1']\n"
          ],
          "name": "stdout"
        },
        {
          "output_type": "execute_result",
          "data": {
            "text/html": [
              "<div>\n",
              "<style scoped>\n",
              "    .dataframe tbody tr th:only-of-type {\n",
              "        vertical-align: middle;\n",
              "    }\n",
              "\n",
              "    .dataframe tbody tr th {\n",
              "        vertical-align: top;\n",
              "    }\n",
              "\n",
              "    .dataframe thead th {\n",
              "        text-align: right;\n",
              "    }\n",
              "</style>\n",
              "<table border=\"1\" class=\"dataframe\">\n",
              "  <thead>\n",
              "    <tr style=\"text-align: right;\">\n",
              "      <th></th>\n",
              "      <th>0</th>\n",
              "    </tr>\n",
              "  </thead>\n",
              "  <tbody>\n",
              "    <tr>\n",
              "      <th>state</th>\n",
              "      <td>System.out.println(\"Gateway\"</td>\n",
              "    </tr>\n",
              "  </tbody>\n",
              "</table>\n",
              "</div>"
            ],
            "text/plain": [
              "                                  0\n",
              "state  System.out.println(\"Gateway\""
            ]
          },
          "metadata": {
            "tags": []
          },
          "execution_count": 108
        }
      ]
    },
    {
      "cell_type": "code",
      "metadata": {
        "id": "-OFTs6zsS20S",
        "colab_type": "code",
        "colab": {}
      },
      "source": [
        ""
      ],
      "execution_count": 0,
      "outputs": []
    },
    {
      "cell_type": "code",
      "metadata": {
        "id": "5UHeAHz_B16E",
        "colab_type": "code",
        "colab": {
          "base_uri": "https://localhost:8080/",
          "height": 52
        },
        "outputId": "2aec7a86-be2e-4653-e0ea-82b925393370"
      },
      "source": [
        "import re\n",
        "\n",
        "text = 'println=1, System.out.println(\"Gateway\",a);=1'\n",
        "\n",
        "#pattern = r\"([A-Z]).(:-:)\"\n",
        "\n",
        "#Check if the string has any characters from a to z lower case, and A to Z upper case:\n",
        "\n",
        "x = re.findall(\"\\d.\", txt)\n",
        "#print(re.search(pattern, text))\n",
        "print(x)\n",
        "\n",
        "if (x):\n",
        "  print(\"Yes, there is at least one match!\")\n",
        "else:\n",
        "  print(\"No match\")\n"
      ],
      "execution_count": 110,
      "outputs": [
        {
          "output_type": "stream",
          "text": [
            "['1,']\n",
            "Yes, there is at least one match!\n"
          ],
          "name": "stdout"
        }
      ]
    },
    {
      "cell_type": "code",
      "metadata": {
        "id": "D5maMpl8d-vY",
        "colab_type": "code",
        "colab": {}
      },
      "source": [
        "#def split_AST_data(x):\n",
        "  s = x.split(',')\n",
        "  # city = x.split(':')s[0].strip()\n",
        "  print(s)\n",
        "  state = s[1].strip()  \n",
        "  return pd.Series([state], index=['state'])"
      ],
      "execution_count": 0,
      "outputs": []
    },
    {
      "cell_type": "code",
      "metadata": {
        "id": "ombyRjSgeAd1",
        "colab_type": "code",
        "colab": {}
      },
      "source": [
        "\n",
        "df[['city','state']] = df['location'].apply(split_data)\n",
        "print (df)"
      ],
      "execution_count": 0,
      "outputs": []
    },
    {
      "cell_type": "code",
      "metadata": {
        "colab_type": "code",
        "id": "uox1DmE1g0Bm",
        "colab": {}
      },
      "source": [
        "new = df_ast_data[0]"
      ],
      "execution_count": 0,
      "outputs": []
    },
    {
      "cell_type": "code",
      "metadata": {
        "scrolled": true,
        "id": "UWmg7kHzNFTn",
        "colab_type": "code",
        "colab": {}
      },
      "source": [
        "new = new.str.split(\", \", n = 1, expand = True)"
      ],
      "execution_count": 0,
      "outputs": []
    },
    {
      "cell_type": "code",
      "metadata": {
        "id": "fzKwHojjNFTw",
        "colab_type": "code",
        "colab": {},
        "outputId": "fa0b3429-8b1b-4444-c625-09bd0df5adda"
      },
      "source": [
        "new"
      ],
      "execution_count": 0,
      "outputs": [
        {
          "output_type": "execute_result",
          "data": {
            "text/html": [
              "<div>\n",
              "<style scoped>\n",
              "    .dataframe tbody tr th:only-of-type {\n",
              "        vertical-align: middle;\n",
              "    }\n",
              "\n",
              "    .dataframe tbody tr th {\n",
              "        vertical-align: top;\n",
              "    }\n",
              "\n",
              "    .dataframe thead th {\n",
              "        text-align: right;\n",
              "    }\n",
              "</style>\n",
              "<table border=\"1\" class=\"dataframe\">\n",
              "  <thead>\n",
              "    <tr style=\"text-align: right;\">\n",
              "      <th></th>\n",
              "      <th>0</th>\n",
              "      <th>1</th>\n",
              "    </tr>\n",
              "    <tr>\n",
              "      <th>hash</th>\n",
              "      <th></th>\n",
              "      <th></th>\n",
              "    </tr>\n",
              "  </thead>\n",
              "  <tbody>\n",
              "    <tr>\n",
              "      <td>-2897302942833988625</td>\n",
              "      <td>{SimpleName:-:println=1</td>\n",
              "      <td>MethodInvocation:-:System.out.println(\"Gateway...</td>\n",
              "    </tr>\n",
              "    <tr>\n",
              "      <td>6088565061916337128</td>\n",
              "      <td>{MethodDeclaration:-:boolean visit(NullLiteral...</td>\n",
              "      <td>MethodDeclaration:-:boolean visit(SingleMember...</td>\n",
              "    </tr>\n",
              "    <tr>\n",
              "      <td>8442624749195594999</td>\n",
              "      <td>{SimpleName:-:println=1</td>\n",
              "      <td>MethodInvocation:-:System.out.println(\"Gateway...</td>\n",
              "    </tr>\n",
              "    <tr>\n",
              "      <td>2592990512713215422</td>\n",
              "      <td>{MethodDeclaration:-:boolean visit(NullLiteral...</td>\n",
              "      <td>MethodDeclaration:-:boolean visit(SingleMember...</td>\n",
              "    </tr>\n",
              "    <tr>\n",
              "      <td>-4462275812234831606</td>\n",
              "      <td>{MethodDeclaration:-:boolean visit(NullLiteral...</td>\n",
              "      <td>MethodDeclaration:-:boolean visit(SingleMember...</td>\n",
              "    </tr>\n",
              "    <tr>\n",
              "      <td>...</td>\n",
              "      <td>...</td>\n",
              "      <td>...</td>\n",
              "    </tr>\n",
              "    <tr>\n",
              "      <td>1546399024731813968</td>\n",
              "      <td>{public Stack getStack()=1</td>\n",
              "      <td>SimpleName:-:Stack=3, MethodDeclaration:-:publ...</td>\n",
              "    </tr>\n",
              "    <tr>\n",
              "      <td>4158199818794753169</td>\n",
              "      <td>{NormalAnnotation:-:@Named(value=\"test\")=1</td>\n",
              "      <td>SimpleName:-:value=1, MethodDeclaration:-: Tes...</td>\n",
              "    </tr>\n",
              "    <tr>\n",
              "      <td>8786451295013556227</td>\n",
              "      <td>{SimpleName:-:println=2</td>\n",
              "      <td>Assignment:-:rest_interval=stop - start=1, Inf...</td>\n",
              "    </tr>\n",
              "    <tr>\n",
              "      <td>5093914090799633673</td>\n",
              "      <td>{ExpressionStatement:-:race.addCar(car2);=1</td>\n",
              "      <td>ExpressionStatement:-:race.addCar(car4);=1, Si...</td>\n",
              "    </tr>\n",
              "    <tr>\n",
              "      <td>-3691909758948952585</td>\n",
              "      <td>{SimpleName:-:car=2</td>\n",
              "      <td>MethodDeclaration:-:public static void incTime...</td>\n",
              "    </tr>\n",
              "  </tbody>\n",
              "</table>\n",
              "<p>67 rows × 2 columns</p>\n",
              "</div>"
            ],
            "text/plain": [
              "                                                                      0  \\\n",
              "hash                                                                      \n",
              "-2897302942833988625                            {SimpleName:-:println=1   \n",
              " 6088565061916337128  {MethodDeclaration:-:boolean visit(NullLiteral...   \n",
              " 8442624749195594999                            {SimpleName:-:println=1   \n",
              " 2592990512713215422  {MethodDeclaration:-:boolean visit(NullLiteral...   \n",
              "-4462275812234831606  {MethodDeclaration:-:boolean visit(NullLiteral...   \n",
              "...                                                                 ...   \n",
              " 1546399024731813968                         {public Stack getStack()=1   \n",
              " 4158199818794753169         {NormalAnnotation:-:@Named(value=\"test\")=1   \n",
              " 8786451295013556227                            {SimpleName:-:println=2   \n",
              " 5093914090799633673        {ExpressionStatement:-:race.addCar(car2);=1   \n",
              "-3691909758948952585                                {SimpleName:-:car=2   \n",
              "\n",
              "                                                                      1  \n",
              "hash                                                                     \n",
              "-2897302942833988625  MethodInvocation:-:System.out.println(\"Gateway...  \n",
              " 6088565061916337128  MethodDeclaration:-:boolean visit(SingleMember...  \n",
              " 8442624749195594999  MethodInvocation:-:System.out.println(\"Gateway...  \n",
              " 2592990512713215422  MethodDeclaration:-:boolean visit(SingleMember...  \n",
              "-4462275812234831606  MethodDeclaration:-:boolean visit(SingleMember...  \n",
              "...                                                                 ...  \n",
              " 1546399024731813968  SimpleName:-:Stack=3, MethodDeclaration:-:publ...  \n",
              " 4158199818794753169  SimpleName:-:value=1, MethodDeclaration:-: Tes...  \n",
              " 8786451295013556227  Assignment:-:rest_interval=stop - start=1, Inf...  \n",
              " 5093914090799633673  ExpressionStatement:-:race.addCar(car4);=1, Si...  \n",
              "-3691909758948952585  MethodDeclaration:-:public static void incTime...  \n",
              "\n",
              "[67 rows x 2 columns]"
            ]
          },
          "metadata": {
            "tags": []
          },
          "execution_count": 348
        }
      ]
    }
  ]
}