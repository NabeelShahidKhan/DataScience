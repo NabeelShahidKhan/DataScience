{
  "nbformat": 4,
  "nbformat_minor": 0,
  "metadata": {
    "kernelspec": {
      "display_name": "Python 3",
      "language": "python",
      "name": "python3"
    },
    "language_info": {
      "codemirror_mode": {
        "name": "ipython",
        "version": 3
      },
      "file_extension": ".py",
      "mimetype": "text/x-python",
      "name": "python",
      "nbconvert_exporter": "python",
      "pygments_lexer": "ipython3",
      "version": "3.7.4"
    },
    "colab": {
      "name": "DocSim (1).ipynb",
      "provenance": []
    }
  },
  "cells": [
    {
      "cell_type": "code",
      "metadata": {
        "id": "S8y0TcGSgz_f",
        "colab_type": "code",
        "colab": {}
      },
      "source": [
        "import pandas as pd\n",
        "import numpy as np\n",
        "import matplotlib.pyplot as plt\n",
        "import os"
      ],
      "execution_count": 0,
      "outputs": []
    },
    {
      "cell_type": "markdown",
      "metadata": {
        "id": "SF2Y15imgz_m",
        "colab_type": "text"
      },
      "source": [
        "### Path of source files"
      ]
    },
    {
      "cell_type": "code",
      "metadata": {
        "id": "HXLt2LNUgz_o",
        "colab_type": "code",
        "colab": {}
      },
      "source": [
        "#basepath = 'F://JavaWorkspace//'\n",
        "\n",
        "basepath = 'F://JavaWorkspace//AST_Compile\\\\src\\\\com\\\\nabeelkhan\\\\ast_paerser_py4j\\\\'"
      ],
      "execution_count": 0,
      "outputs": []
    },
    {
      "cell_type": "markdown",
      "metadata": {
        "id": "EI1Le7Pkgz_r",
        "colab_type": "text"
      },
      "source": [
        "### Define the source code language "
      ]
    },
    {
      "cell_type": "code",
      "metadata": {
        "id": "7Jff0EPngz_s",
        "colab_type": "code",
        "colab": {}
      },
      "source": [
        "ext = ['.java']"
      ],
      "execution_count": 0,
      "outputs": []
    },
    {
      "cell_type": "markdown",
      "metadata": {
        "id": "K0NpOLA-gz_w",
        "colab_type": "text"
      },
      "source": [
        "### Walking a directory tree and fatch source files"
      ]
    },
    {
      "cell_type": "code",
      "metadata": {
        "id": "IwK749yNgz_x",
        "colab_type": "code",
        "colab": {}
      },
      "source": [
        "dt = [];\n",
        "for dirpath, dirnames, files in os.walk(basepath):\n",
        "    #print(f'Found directory: {dirpath}')\n",
        "    for f in files:\n",
        "        for e in ext:\n",
        "            if(str(f).find(e) != -1):\n",
        "                if((str(f).find(e)+len(e)) == len(f)):\n",
        "                    #print(dirpath,\" - \",str(f),\" - \",str(f).find(e),\" - \",len(f))    \n",
        "                    with open(dirpath+\"\\\\\"+f, 'r') as f:\n",
        "                        data = f.read()\n",
        "                        dt.append({\n",
        "                                \"hash\":hash(str(f.name)),\n",
        "                                \"path\":f.name,\n",
        "                                \"source_code\":data\n",
        "                             })\n",
        "                        #print(dt);\n"
      ],
      "execution_count": 0,
      "outputs": []
    },
    {
      "cell_type": "markdown",
      "metadata": {
        "id": "OqWFCJsGgz_1",
        "colab_type": "text"
      },
      "source": [
        "###  Init DataFrame"
      ]
    },
    {
      "cell_type": "code",
      "metadata": {
        "id": "d2zsk8qjgz_2",
        "colab_type": "code",
        "colab": {},
        "outputId": "635cdf33-f2fa-4e44-f729-8015af5344ea"
      },
      "source": [
        "dataFrame = pd.DataFrame(dt)\n",
        "dataFrame"
      ],
      "execution_count": 0,
      "outputs": [
        {
          "output_type": "execute_result",
          "data": {
            "text/html": [
              "<div>\n",
              "<style scoped>\n",
              "    .dataframe tbody tr th:only-of-type {\n",
              "        vertical-align: middle;\n",
              "    }\n",
              "\n",
              "    .dataframe tbody tr th {\n",
              "        vertical-align: top;\n",
              "    }\n",
              "\n",
              "    .dataframe thead th {\n",
              "        text-align: right;\n",
              "    }\n",
              "</style>\n",
              "<table border=\"1\" class=\"dataframe\">\n",
              "  <thead>\n",
              "    <tr style=\"text-align: right;\">\n",
              "      <th></th>\n",
              "      <th>hash</th>\n",
              "      <th>path</th>\n",
              "      <th>source_code</th>\n",
              "    </tr>\n",
              "  </thead>\n",
              "  <tbody>\n",
              "    <tr>\n",
              "      <td>0</td>\n",
              "      <td>2238145654833312290</td>\n",
              "      <td>F://JavaWorkspace//AST_Compile\\src\\com\\nabeelk...</td>\n",
              "      <td>/*\\n * To change this license header, choose L...</td>\n",
              "    </tr>\n",
              "    <tr>\n",
              "      <td>1</td>\n",
              "      <td>-4963274179389992491</td>\n",
              "      <td>F://JavaWorkspace//AST_Compile\\src\\com\\nabeelk...</td>\n",
              "      <td>/*\\n * To change this license header, choose L...</td>\n",
              "    </tr>\n",
              "  </tbody>\n",
              "</table>\n",
              "</div>"
            ],
            "text/plain": [
              "                  hash                                               path  \\\n",
              "0  2238145654833312290  F://JavaWorkspace//AST_Compile\\src\\com\\nabeelk...   \n",
              "1 -4963274179389992491  F://JavaWorkspace//AST_Compile\\src\\com\\nabeelk...   \n",
              "\n",
              "                                         source_code  \n",
              "0  /*\\n * To change this license header, choose L...  \n",
              "1  /*\\n * To change this license header, choose L...  "
            ]
          },
          "metadata": {
            "tags": []
          },
          "execution_count": 5
        }
      ]
    },
    {
      "cell_type": "code",
      "metadata": {
        "id": "BJz_yVf4gz_7",
        "colab_type": "code",
        "colab": {},
        "outputId": "6b621791-8fd9-43c7-b698-a52a476e6d6e"
      },
      "source": [
        "dataFrame.path[0]"
      ],
      "execution_count": 0,
      "outputs": [
        {
          "output_type": "execute_result",
          "data": {
            "text/plain": [
              "'F://JavaWorkspace//AST_Compile\\\\src\\\\com\\\\nabeelkhan\\\\ast_paerser_py4j\\\\\\\\Code_Similarity.java'"
            ]
          },
          "metadata": {
            "tags": []
          },
          "execution_count": 6
        }
      ]
    },
    {
      "cell_type": "markdown",
      "metadata": {
        "id": "J7e9ZuTzg0AA",
        "colab_type": "text"
      },
      "source": [
        "#### TODO: For Multiple Project in provided root path "
      ]
    },
    {
      "cell_type": "markdown",
      "metadata": {
        "id": "2cYH_Br9g0AB",
        "colab_type": "text"
      },
      "source": [
        "# Try to get the Code similarity ratio using Text Similarity"
      ]
    },
    {
      "cell_type": "code",
      "metadata": {
        "id": "UOCIVXho3qWE",
        "colab_type": "code",
        "colab": {}
      },
      "source": [
        "from sklearn.feature_extraction.text import CountVectorizer"
      ],
      "execution_count": 0,
      "outputs": []
    },
    {
      "cell_type": "markdown",
      "metadata": {
        "id": "E3Msmczs4kJQ",
        "colab_type": "text"
      },
      "source": [
        "**Two Codes Samples for Testing**"
      ]
    },
    {
      "cell_type": "code",
      "metadata": {
        "id": "buwtLU583km0",
        "colab_type": "code",
        "colab": {}
      },
      "source": [
        "code_1 = \"\"\" \n",
        "import java.security.MessageDigest;\n",
        "\n",
        "public class Program {\n",
        "\t\n",
        "    public static String getSHA256(String str) {\n",
        "       \n",
        "    \t//return SHA_256(str);\n",
        "        \n",
        "    \treturn mySHA_256(str);\n",
        "        \n",
        "    }\n",
        "\n",
        "\n",
        "    public static String mySHA_256(String s){\n",
        "\n",
        "    \tbyte[] bytes = s.getBytes();\n",
        "  \t  \tStringBuilder binary = new StringBuilder();\n",
        "  \t  \t\n",
        "  \t  \tfor (byte b : bytes)\n",
        "  \t  \t{\n",
        "  \t     int val = b*99;\t\n",
        "  \t     for (int i = 0; i < 8; i++)\n",
        "  \t     {\n",
        "  \t        binary.append((val & 128) == 0 ? 0 : 1);\n",
        "  \t        val <<= 1;\n",
        "  \t     }\n",
        "  \t  }\n",
        "\n",
        "  \t  //String[] hex={\"f\",\"e\",\"d\",\"c\",\"b\",\"a\",\"9\",\"8\",\"7\",\"6\",\"5\",\"4\",\"3\",\"2\",\"1\"};\n",
        "  \t  int[] weight = {8,4,2,1};\n",
        "  \t  int inCont = 0;\n",
        "  \t  String[] hex={\"0\",\"1\",\"2\",\"3\",\"4\",\"5\",\"6\",\"7\",\"8\",\"9\",\"a\",\"b\",\"c\",\"d\",\"e\",\"f\"};\n",
        "  \t  String hexdecnum=\"\";\n",
        "        \n",
        "  \t  int rem,x = 0;\n",
        "  \t  for(int i=0;i<binary.length();i++)\n",
        "  \t   {\n",
        "  \t\t  \n",
        "  \t\t  if(i%4 == 0 && i!=0)\n",
        "  \t\t  {\n",
        "  \t\t\t  hexdecnum += hex[x];\n",
        "  \t\t\t  inCont=0;\n",
        "  \t    \t  x = 0;\n",
        "  \t\t  }\n",
        "  \t\t  else if(i>=binary.length()-1)\n",
        "  \t\t\t  hexdecnum += hex[x];\n",
        "  \t   \n",
        "  \t    rem = binary.charAt(i);\n",
        "  \t\tinCont++;\n",
        "  \t    if(rem ==49){\n",
        "  \t    \tif(inCont==1){\tx+=weight[0];\t}\n",
        "  \t    \telse if (inCont==2){\tx+=weight[1];\t}\n",
        "  \t    \telse if (inCont==3){\tx+=weight[2];\t}\n",
        "  \t    \telse if (inCont==4){\tx+=weight[3];\t}\n",
        "  \t    \t\n",
        "  \t    }\n",
        "  \t   }\n",
        "    \t return hexdecnum;\n",
        "    }\n",
        "\n",
        "\n",
        "  \n",
        "    \n",
        "    \n",
        "    \n",
        "    \n",
        "    \n",
        "    \n",
        "    private static String SHA_256(String str) {\n",
        "\t\tMessageDigest messageDigest;\n",
        "        String encodeStr = \"\";\n",
        "        try {\n",
        "            messageDigest = MessageDigest.getInstance(\"SHA-256\");\n",
        "            messageDigest.update(str.getBytes(\"UTF-8\"));\n",
        "            encodeStr = byte2Hex(messageDigest.digest());\n",
        "        } catch (Exception e) {\n",
        "            System.out.println(\"getSHA256 is error\" + e.getMessage());\n",
        "        }\n",
        "        return encodeStr;\n",
        "\t}\n",
        "\n",
        "    private static String byte2Hex(byte[] bytes) {\n",
        "        StringBuilder builder = new StringBuilder();\n",
        "        String temp;\n",
        "        for (int i = 0; i < bytes.length; i++) {\n",
        "            temp = Integer.toHexString(bytes[i] & 0xFF);\n",
        "            if (temp.length() == 1) {\n",
        "                builder.append(\"0\");\n",
        "            }\n",
        "            builder.append(temp);\n",
        "        }\n",
        "        return builder.toString();\n",
        "    }\n",
        "}\n",
        "\"\"\""
      ],
      "execution_count": 0,
      "outputs": []
    },
    {
      "cell_type": "code",
      "metadata": {
        "id": "fSm5oyFk4DaQ",
        "colab_type": "code",
        "colab": {}
      },
      "source": [
        "code_2 = \"\"\" import java.security.MessageDigest;\n",
        "\n",
        "public class HashTest {\n",
        "\t\n",
        "\t\n",
        "\t\n",
        "\t\n",
        "    public static void main(String[] args){\n",
        "\n",
        "    \tString s = \"1524405906978Genisis Block0\";\n",
        "    \t  byte[] bytes = s.getBytes();\n",
        "    \t  StringBuilder binary = new StringBuilder();\n",
        "    \t  for (byte b : bytes)\n",
        "    \t  {\n",
        "    \t     int val = b;\t//%23249425;\n",
        "    \t     for (int i = 0; i < 8; i++)\n",
        "    \t     {\n",
        "    \t        binary.append((val & 128) == 0 ? 0 : 1);\n",
        "    \t        val <<= 1;\n",
        "    \t     }\n",
        "    \t   //  binary.append(\" \");\n",
        "    \t  }\n",
        "    \t  \n",
        "    \t  System.out.println(\"'\" + (int) s.charAt(0) + \"'\\n to binary: \" + binary);\n",
        "\n",
        "    \t  //String[] hex={\"f\",\"e\",\"d\",\"c\",\"b\",\"a\",\"9\",\"8\",\"7\",\"6\",\"5\",\"4\",\"3\",\"2\",\"1\"};\n",
        "    \t  int[] weight = {8,4,2,1};\n",
        "    \t  int inCont = 0;\n",
        "    \t  String[] hex={\"0\",\"1\",\"2\",\"3\",\"4\",\"5\",\"6\",\"7\",\"8\",\"9\",\"a\",\"b\",\"c\",\"d\",\"e\",\"f\"};\n",
        "    \t  String hexdecnum=\"\";\n",
        "          \n",
        "    \t  int rem,x = 0;\n",
        "    \t  for(int i=0;i<binary.length();i++)\n",
        "    \t   {\n",
        "    \t\t  \n",
        "    \t\t  if(i%4 == 0 && i!=0)\n",
        "    \t\t  {\n",
        "    \t\t\t  hexdecnum += hex[x];\n",
        "    \t\t\t  inCont=0;\n",
        "    \t    \t  x = 0;\n",
        "    \t\t  }\n",
        "    \t\t  else if(i>=binary.length()-1)\n",
        "    \t\t\t  hexdecnum += hex[x];\n",
        "    \t   \n",
        "    \t    rem = binary.charAt(i);\n",
        "    \t\tinCont++;\n",
        "    \t    if(rem ==49){\n",
        "    \t    \tif(inCont==1){\tx+=weight[0];\t}\n",
        "    \t    \telse if (inCont==2){\tx+=weight[1];\t}\n",
        "    \t    \telse if (inCont==3){\tx+=weight[2];\t}\n",
        "    \t    \telse if (inCont==4){\tx+=weight[3];\t}\n",
        "    \t    \t\n",
        "    \t    }\n",
        "    \t   }\n",
        "    \t  System.out.println(\"\\n to Hex: \" + hexdecnum + \"\\n size: \" + hexdecnum.length());\n",
        "    \t  }\n",
        "\n",
        "    \tpublic String getSHA256(String str) {\t     \n",
        "\t\t    String encodedString = \"\";\n",
        "\t\t       int i=0;\n",
        "\t\t       while(i<str.length()){\n",
        "\t\t    \t   int sum = (int) str.charAt(i) * 99; \n",
        "\t\t    \t   i++;\n",
        "\t\t       }\n",
        "\t\t    \t\n",
        "\t\t       return encodedString;\n",
        "\t\t    \t// return SHA256(str);\n",
        "\t\t    }\n",
        "\n",
        "\tprivate static String SHA256(String str) {\n",
        "\t\tMessageDigest messageDigest;\n",
        "        String encodeStr = \"\";\n",
        "        try {\n",
        "            messageDigest = MessageDigest.getInstance(\"SHA-256\");\n",
        "            messageDigest.update(str.getBytes(\"UTF-8\"));\n",
        "            encodeStr = byte2Hex(messageDigest.digest());\n",
        "        } catch (Exception e) {\n",
        "            System.out.println(\"getSHA256 is error\" + e.getMessage());\n",
        "        }\n",
        "        return encodeStr;\n",
        "\t}\n",
        "\n",
        "    private static String byte2Hex(byte[] bytes) {\n",
        "        StringBuilder builder = new StringBuilder();\n",
        "        String temp;\n",
        "        for (int i = 0; i < bytes.length; i++) {\n",
        "            temp = Integer.toHexString(bytes[i] & 0xFF);\n",
        "            if (temp.length() == 1) {\n",
        "                builder.append(\"0\");\n",
        "            }\n",
        "            builder.append(temp);\n",
        "        }\n",
        "        return builder.toString();\n",
        "    }\n",
        "}\"\"\""
      ],
      "execution_count": 0,
      "outputs": []
    },
    {
      "cell_type": "code",
      "metadata": {
        "id": "j9FVAz8wBRsh",
        "colab_type": "code",
        "colab": {}
      },
      "source": [
        "code_3 =\"\"\" public class Test {\n",
        "\n",
        "\tpublic static void main(String[] args) {\n",
        "\t\t\n",
        "\t\t\n",
        "//\t\texample of java ArrayList hash function\n",
        "//\t\tString[] list1 = {\"a\",\"b\",\"c\"};\n",
        "//\t\tString[] list2 = {\"aa\",\"b\",\"c\"};\n",
        "//\t\tSystem.out.println(Arrays.hashCode(list1));\n",
        "//\t\tSystem.out.println(Arrays.hashCode(list2));\n",
        "\t\t\n",
        "//\t\tBlockChain blockChain1 = new BlockChain();\n",
        "//\t\t\t\n",
        "//\t\t\tBlock newBlock1 = blockChain1.generateNextBlock(\"ffffffff\");\n",
        "//\t\t\tblockChain1.addBlock(newBlock1);\n",
        "//\t\t\t\n",
        "//\t\t\tBlock newBlock2 = blockChain1.generateNextBlock(\"gggggggg\");\n",
        "//\t\t\tblockChain1.addBlock(newBlock2);\n",
        "//\t\t\t\n",
        "//\t\t\tBlock newBlock3 = blockChain1.generateNextBlock(\"hhhhhhhh\");\n",
        "//\t\t\tblockChain1.addBlock(newBlock3);\n",
        "//\t\t\t\n",
        "//\t\t\tBlock newBlock4 = blockChain1.generateNextBlock(\"iiiiiiii\");\n",
        "//\t\t\tblockChain1.addBlock(newBlock4);\n",
        "//\t\t\t\n",
        "//\t\t\tSystem.out.println(blockChain1.toString());\n",
        "\t\t\tnew nonStaticThrades();\n",
        "\t\t\t\n",
        "\t\t\t\n",
        "\t\t}\n",
        "\n",
        "}\"\"\""
      ],
      "execution_count": 0,
      "outputs": []
    },
    {
      "cell_type": "code",
      "metadata": {
        "id": "XM5-veN-g0AH",
        "colab_type": "code",
        "colab": {
          "base_uri": "https://localhost:8080/",
          "height": 82
        },
        "outputId": "1bbafa9d-d38c-40f2-e1ed-6567ac00d3ff"
      },
      "source": [
        "dataFrame = pd.DataFrame(data={'hash':[1,2,3],'source_code':[code_1.replace('\\n',''),code_2.replace('\\n',''),code_3.replace('\\n','')]})\n",
        "data= dataFrame.source_code\n",
        "print(data)"
      ],
      "execution_count": 87,
      "outputs": [
        {
          "output_type": "stream",
          "text": [
            "0     import java.security.MessageDigest;public cla...\n",
            "1     import java.security.MessageDigest;    \\t   }...\n",
            "2     public class Test {\\tpublic static void main(...\n",
            "Name: source_code, dtype: object\n"
          ],
          "name": "stdout"
        }
      ]
    },
    {
      "cell_type": "markdown",
      "metadata": {
        "id": "unzixye37XIS",
        "colab_type": "text"
      },
      "source": [
        "# **Create the Document Term Matrix**\n"
      ]
    },
    {
      "cell_type": "code",
      "metadata": {
        "id": "xYTBQsfWDZqA",
        "colab_type": "code",
        "colab": {
          "base_uri": "https://localhost:8080/",
          "height": 310
        },
        "outputId": "ed5cfdf4-4b6f-471a-aa4c-d4165aca8c0c"
      },
      "source": [
        "vect=CountVectorizer()\n",
        "sparse_matrix = vect.fit_transform(dataFrame.source_code)\n",
        "sparse_matrix.toarray()"
      ],
      "execution_count": 100,
      "outputs": [
        {
          "output_type": "execute_result",
          "data": {
            "text/plain": [
              "array([[ 1,  1,  1,  1,  1,  0,  0,  3,  0,  0,  0,  5,  0,  0,  0,  4,\n",
              "         3,  2,  5,  1,  1,  1,  1,  4,  0,  3,  1,  0,  1,  0,  4,  0,\n",
              "         0,  2,  1,  1,  2,  0,  0,  0,  1,  4,  4,  0,  8,  0,  1,  7,\n",
              "         7,  1,  1,  1,  4,  0,  0,  0,  7,  2,  2,  0,  0,  0,  0,  0,\n",
              "         0,  1,  1,  0,  2,  3,  3,  5,  1,  1,  2,  0,  4,  5, 12,  4,\n",
              "         0,  1,  4,  0,  0,  1,  1,  1,  1,  1,  3,  0,  5,  0],\n",
              "       [ 0,  0,  0,  0,  1,  0,  0,  0,  0,  0,  0,  0,  0,  0,  0,  1,\n",
              "         0,  0,  0,  0,  1,  0,  0,  0,  2,  0,  0,  0,  0,  0,  0,  0,\n",
              "         0,  0,  0,  0,  1,  0,  0,  0,  0,  1,  2,  0,  0,  0,  1,  0,\n",
              "         3,  0,  0,  1,  2,  0,  0,  0,  1,  0,  0,  0,  0,  0,  0,  0,\n",
              "         0,  1,  1,  1,  0,  1,  0,  2,  1,  0,  0,  1,  0,  3,  3,  0,\n",
              "         1,  1,  0,  0,  1,  0,  1,  0,  0,  0,  0,  0,  0,  1],\n",
              "       [ 0,  0,  0,  0,  0,  1,  4,  0,  1,  1,  2,  0,  4,  2, 10,  0,\n",
              "         0,  0,  0,  0,  0,  1,  0,  0,  0,  0,  0,  1,  0,  1,  0,  1,\n",
              "         4,  0,  0,  0,  0,  1,  1,  2,  0,  0,  0,  1,  0,  1,  0,  0,\n",
              "         0,  0,  0,  1,  0,  2,  2,  1,  0,  0,  2,  2,  2,  2,  2,  1,\n",
              "         1,  3,  3,  0,  0,  2,  0,  0,  0,  0,  0,  0,  1,  0,  3,  0,\n",
              "         0,  3,  0,  1,  0,  0,  1,  0,  0,  0,  0,  1,  0,  0]])"
            ]
          },
          "metadata": {
            "tags": []
          },
          "execution_count": 100
        }
      ]
    },
    {
      "cell_type": "code",
      "metadata": {
        "id": "M8ePKuMVDcVl",
        "colab_type": "code",
        "colab": {
          "base_uri": "https://localhost:8080/",
          "height": 53
        },
        "outputId": "8c8a1c7d-2279-4ff4-98ec-6847aa17f11e"
      },
      "source": [
        "print(vect.get_feature_names())"
      ],
      "execution_count": 101,
      "outputs": [
        {
          "output_type": "stream",
          "text": [
            "['0xff', '128', '256', '49', '99', 'aa', 'addblock', 'append', 'args', 'arraylist', 'arrays', 'binary', 'block', 'blockchain', 'blockchain1', 'builder', 'byte', 'byte2hex', 'bytes', 'catch', 'charat', 'class', 'digest', 'else', 'encodedstring', 'encodestr', 'error', 'example', 'exception', 'ffffffff', 'for', 'function', 'generatenextblock', 'getbytes', 'getinstance', 'getmessage', 'getsha256', 'gggggggg', 'hash', 'hashcode', 'hashfunction', 'hex', 'hexdecnum', 'hhhhhhhh', 'if', 'iiiiiiii', 'import', 'incont', 'int', 'integer', 'is', 'java', 'length', 'list1', 'list2', 'main', 'messagedigest', 'mysha_256', 'new', 'newblock1', 'newblock2', 'newblock3', 'newblock4', 'nonstaticthrades', 'of', 'out', 'println', 'priva', 'private', 'public', 'rem', 'return', 'security', 'sha', 'sha_256', 'size', 'static', 'str', 'string', 'stringbuilder', 'sum', 'system', 'temp', 'test', 'to', 'tohexstring', 'tostring', 'try', 'update', 'utf', 'val', 'void', 'weight', 'while']\n"
          ],
          "name": "stdout"
        }
      ]
    },
    {
      "cell_type": "markdown",
      "metadata": {
        "id": "eQ84LiEUD-3C",
        "colab_type": "text"
      },
      "source": [
        "# **Create the Document Term Matrix**\n"
      ]
    },
    {
      "cell_type": "code",
      "metadata": {
        "id": "uvNDaj9qg0AT",
        "colab_type": "code",
        "colab": {}
      },
      "source": [
        "from sklearn.feature_extraction.text import TfidfTransformer"
      ],
      "execution_count": 0,
      "outputs": []
    },
    {
      "cell_type": "code",
      "metadata": {
        "id": "NIou0oLAg0AW",
        "colab_type": "code",
        "colab": {
          "base_uri": "https://localhost:8080/",
          "height": 33
        },
        "outputId": "6382bed2-3e80-43d5-da01-d5b61d1e8ce4"
      },
      "source": [
        "tfidf_transformer = TfidfTransformer(norm=None)\n",
        "tfidf_transformer"
      ],
      "execution_count": 103,
      "outputs": [
        {
          "output_type": "execute_result",
          "data": {
            "text/plain": [
              "TfidfTransformer(norm=None, smooth_idf=True, sublinear_tf=False, use_idf=True)"
            ]
          },
          "metadata": {
            "tags": []
          },
          "execution_count": 103
        }
      ]
    },
    {
      "cell_type": "code",
      "metadata": {
        "id": "9I9J3Mf9g0AZ",
        "colab_type": "code",
        "colab": {
          "base_uri": "https://localhost:8080/",
          "height": 50
        },
        "outputId": "a9e73894-747d-498e-bb40-0f3f3cdbcc86"
      },
      "source": [
        "tfidf = tfidf_transformer.fit_transform(word_freq.toarray())\n",
        "tfidf"
      ],
      "execution_count": 104,
      "outputs": [
        {
          "output_type": "execute_result",
          "data": {
            "text/plain": [
              "<3x94 sparse matrix of type '<class 'numpy.float64'>'\n",
              "\twith 124 stored elements in Compressed Sparse Row format>"
            ]
          },
          "metadata": {
            "tags": []
          },
          "execution_count": 104
        }
      ]
    },
    {
      "cell_type": "code",
      "metadata": {
        "id": "lYRPkTzVg0Ad",
        "colab_type": "code",
        "colab": {
          "base_uri": "https://localhost:8080/",
          "height": 943
        },
        "outputId": "01a0b6d1-8d6e-442d-9049-3db6955d31d5"
      },
      "source": [
        "tfidf.toarray()"
      ],
      "execution_count": 105,
      "outputs": [
        {
          "output_type": "execute_result",
          "data": {
            "text/plain": [
              "array([[ 1.69314718,  1.69314718,  1.69314718,  1.69314718,  1.28768207,\n",
              "         0.        ,  0.        ,  5.07944154,  0.        ,  0.        ,\n",
              "         0.        ,  8.4657359 ,  0.        ,  0.        ,  0.        ,\n",
              "         5.15072829,  5.07944154,  3.38629436,  8.4657359 ,  1.69314718,\n",
              "         1.28768207,  1.28768207,  1.69314718,  6.77258872,  0.        ,\n",
              "         5.07944154,  1.69314718,  0.        ,  1.69314718,  0.        ,\n",
              "         6.77258872,  0.        ,  0.        ,  3.38629436,  1.69314718,\n",
              "         1.69314718,  2.57536414,  0.        ,  0.        ,  0.        ,\n",
              "         1.69314718,  5.15072829,  5.15072829,  0.        , 13.54517744,\n",
              "         0.        ,  1.28768207, 11.85203026,  9.01377451,  1.69314718,\n",
              "         1.69314718,  1.        ,  5.15072829,  0.        ,  0.        ,\n",
              "         0.        ,  9.01377451,  3.38629436,  2.57536414,  0.        ,\n",
              "         0.        ,  0.        ,  0.        ,  0.        ,  0.        ,\n",
              "         1.        ,  1.        ,  0.        ,  3.38629436,  3.        ,\n",
              "         5.07944154,  6.43841036,  1.28768207,  1.69314718,  3.38629436,\n",
              "         0.        ,  5.15072829,  6.43841036, 12.        ,  6.77258872,\n",
              "         0.        ,  1.        ,  6.77258872,  0.        ,  0.        ,\n",
              "         1.69314718,  1.        ,  1.69314718,  1.69314718,  1.69314718,\n",
              "         5.07944154,  0.        ,  8.4657359 ,  0.        ],\n",
              "       [ 0.        ,  0.        ,  0.        ,  0.        ,  1.28768207,\n",
              "         0.        ,  0.        ,  0.        ,  0.        ,  0.        ,\n",
              "         0.        ,  0.        ,  0.        ,  0.        ,  0.        ,\n",
              "         1.28768207,  0.        ,  0.        ,  0.        ,  0.        ,\n",
              "         1.28768207,  0.        ,  0.        ,  0.        ,  3.38629436,\n",
              "         0.        ,  0.        ,  0.        ,  0.        ,  0.        ,\n",
              "         0.        ,  0.        ,  0.        ,  0.        ,  0.        ,\n",
              "         0.        ,  1.28768207,  0.        ,  0.        ,  0.        ,\n",
              "         0.        ,  1.28768207,  2.57536414,  0.        ,  0.        ,\n",
              "         0.        ,  1.28768207,  0.        ,  3.86304622,  0.        ,\n",
              "         0.        ,  1.        ,  2.57536414,  0.        ,  0.        ,\n",
              "         0.        ,  1.28768207,  0.        ,  0.        ,  0.        ,\n",
              "         0.        ,  0.        ,  0.        ,  0.        ,  0.        ,\n",
              "         1.        ,  1.        ,  1.69314718,  0.        ,  1.        ,\n",
              "         0.        ,  2.57536414,  1.28768207,  0.        ,  0.        ,\n",
              "         1.69314718,  0.        ,  3.86304622,  3.        ,  0.        ,\n",
              "         1.69314718,  1.        ,  0.        ,  0.        ,  1.69314718,\n",
              "         0.        ,  1.        ,  0.        ,  0.        ,  0.        ,\n",
              "         0.        ,  0.        ,  0.        ,  1.69314718],\n",
              "       [ 0.        ,  0.        ,  0.        ,  0.        ,  0.        ,\n",
              "         1.69314718,  6.77258872,  0.        ,  1.69314718,  1.69314718,\n",
              "         3.38629436,  0.        ,  6.77258872,  3.38629436, 16.93147181,\n",
              "         0.        ,  0.        ,  0.        ,  0.        ,  0.        ,\n",
              "         0.        ,  1.28768207,  0.        ,  0.        ,  0.        ,\n",
              "         0.        ,  0.        ,  1.69314718,  0.        ,  1.69314718,\n",
              "         0.        ,  1.69314718,  6.77258872,  0.        ,  0.        ,\n",
              "         0.        ,  0.        ,  1.69314718,  1.69314718,  3.38629436,\n",
              "         0.        ,  0.        ,  0.        ,  1.69314718,  0.        ,\n",
              "         1.69314718,  0.        ,  0.        ,  0.        ,  0.        ,\n",
              "         0.        ,  1.        ,  0.        ,  3.38629436,  3.38629436,\n",
              "         1.69314718,  0.        ,  0.        ,  2.57536414,  3.38629436,\n",
              "         3.38629436,  3.38629436,  3.38629436,  1.69314718,  1.69314718,\n",
              "         3.        ,  3.        ,  0.        ,  0.        ,  2.        ,\n",
              "         0.        ,  0.        ,  0.        ,  0.        ,  0.        ,\n",
              "         0.        ,  1.28768207,  0.        ,  3.        ,  0.        ,\n",
              "         0.        ,  3.        ,  0.        ,  1.69314718,  0.        ,\n",
              "         0.        ,  1.        ,  0.        ,  0.        ,  0.        ,\n",
              "         0.        ,  1.69314718,  0.        ,  0.        ]])"
            ]
          },
          "metadata": {
            "tags": []
          },
          "execution_count": 105
        }
      ]
    },
    {
      "cell_type": "markdown",
      "metadata": {
        "id": "Rvk1tjXj8SSw",
        "colab_type": "text"
      },
      "source": [
        "### **Convert Matrix to  Dataframe**\n"
      ]
    },
    {
      "cell_type": "code",
      "metadata": {
        "id": "MiZ0CayH8QOl",
        "colab_type": "code",
        "colab": {}
      },
      "source": [
        "df = pd.DataFrame(sparse_matrix.toarray(), \n",
        "                  columns=vect.get_feature_names(), \n",
        "                  index=['code_1', 'code_2','code_3'])"
      ],
      "execution_count": 0,
      "outputs": []
    },
    {
      "cell_type": "code",
      "metadata": {
        "id": "XKC2h8w88kM-",
        "colab_type": "code",
        "colab": {
          "base_uri": "https://localhost:8080/",
          "height": 181
        },
        "outputId": "2ee34415-5819-4099-b954-c4641f39fcce"
      },
      "source": [
        "df.head()"
      ],
      "execution_count": 108,
      "outputs": [
        {
          "output_type": "execute_result",
          "data": {
            "text/html": [
              "<div>\n",
              "<style scoped>\n",
              "    .dataframe tbody tr th:only-of-type {\n",
              "        vertical-align: middle;\n",
              "    }\n",
              "\n",
              "    .dataframe tbody tr th {\n",
              "        vertical-align: top;\n",
              "    }\n",
              "\n",
              "    .dataframe thead th {\n",
              "        text-align: right;\n",
              "    }\n",
              "</style>\n",
              "<table border=\"1\" class=\"dataframe\">\n",
              "  <thead>\n",
              "    <tr style=\"text-align: right;\">\n",
              "      <th></th>\n",
              "      <th>0xff</th>\n",
              "      <th>128</th>\n",
              "      <th>256</th>\n",
              "      <th>49</th>\n",
              "      <th>99</th>\n",
              "      <th>aa</th>\n",
              "      <th>addblock</th>\n",
              "      <th>append</th>\n",
              "      <th>args</th>\n",
              "      <th>arraylist</th>\n",
              "      <th>arrays</th>\n",
              "      <th>binary</th>\n",
              "      <th>block</th>\n",
              "      <th>blockchain</th>\n",
              "      <th>blockchain1</th>\n",
              "      <th>builder</th>\n",
              "      <th>byte</th>\n",
              "      <th>byte2hex</th>\n",
              "      <th>bytes</th>\n",
              "      <th>catch</th>\n",
              "      <th>charat</th>\n",
              "      <th>class</th>\n",
              "      <th>digest</th>\n",
              "      <th>else</th>\n",
              "      <th>encodedstring</th>\n",
              "      <th>encodestr</th>\n",
              "      <th>error</th>\n",
              "      <th>example</th>\n",
              "      <th>exception</th>\n",
              "      <th>ffffffff</th>\n",
              "      <th>for</th>\n",
              "      <th>function</th>\n",
              "      <th>generatenextblock</th>\n",
              "      <th>getbytes</th>\n",
              "      <th>getinstance</th>\n",
              "      <th>getmessage</th>\n",
              "      <th>getsha256</th>\n",
              "      <th>gggggggg</th>\n",
              "      <th>hash</th>\n",
              "      <th>hashcode</th>\n",
              "      <th>...</th>\n",
              "      <th>list2</th>\n",
              "      <th>main</th>\n",
              "      <th>messagedigest</th>\n",
              "      <th>mysha_256</th>\n",
              "      <th>new</th>\n",
              "      <th>newblock1</th>\n",
              "      <th>newblock2</th>\n",
              "      <th>newblock3</th>\n",
              "      <th>newblock4</th>\n",
              "      <th>nonstaticthrades</th>\n",
              "      <th>of</th>\n",
              "      <th>out</th>\n",
              "      <th>println</th>\n",
              "      <th>priva</th>\n",
              "      <th>private</th>\n",
              "      <th>public</th>\n",
              "      <th>rem</th>\n",
              "      <th>return</th>\n",
              "      <th>security</th>\n",
              "      <th>sha</th>\n",
              "      <th>sha_256</th>\n",
              "      <th>size</th>\n",
              "      <th>static</th>\n",
              "      <th>str</th>\n",
              "      <th>string</th>\n",
              "      <th>stringbuilder</th>\n",
              "      <th>sum</th>\n",
              "      <th>system</th>\n",
              "      <th>temp</th>\n",
              "      <th>test</th>\n",
              "      <th>to</th>\n",
              "      <th>tohexstring</th>\n",
              "      <th>tostring</th>\n",
              "      <th>try</th>\n",
              "      <th>update</th>\n",
              "      <th>utf</th>\n",
              "      <th>val</th>\n",
              "      <th>void</th>\n",
              "      <th>weight</th>\n",
              "      <th>while</th>\n",
              "    </tr>\n",
              "  </thead>\n",
              "  <tbody>\n",
              "    <tr>\n",
              "      <th>code_1</th>\n",
              "      <td>1</td>\n",
              "      <td>1</td>\n",
              "      <td>1</td>\n",
              "      <td>1</td>\n",
              "      <td>1</td>\n",
              "      <td>0</td>\n",
              "      <td>0</td>\n",
              "      <td>3</td>\n",
              "      <td>0</td>\n",
              "      <td>0</td>\n",
              "      <td>0</td>\n",
              "      <td>5</td>\n",
              "      <td>0</td>\n",
              "      <td>0</td>\n",
              "      <td>0</td>\n",
              "      <td>4</td>\n",
              "      <td>3</td>\n",
              "      <td>2</td>\n",
              "      <td>5</td>\n",
              "      <td>1</td>\n",
              "      <td>1</td>\n",
              "      <td>1</td>\n",
              "      <td>1</td>\n",
              "      <td>4</td>\n",
              "      <td>0</td>\n",
              "      <td>3</td>\n",
              "      <td>1</td>\n",
              "      <td>0</td>\n",
              "      <td>1</td>\n",
              "      <td>0</td>\n",
              "      <td>4</td>\n",
              "      <td>0</td>\n",
              "      <td>0</td>\n",
              "      <td>2</td>\n",
              "      <td>1</td>\n",
              "      <td>1</td>\n",
              "      <td>2</td>\n",
              "      <td>0</td>\n",
              "      <td>0</td>\n",
              "      <td>0</td>\n",
              "      <td>...</td>\n",
              "      <td>0</td>\n",
              "      <td>0</td>\n",
              "      <td>7</td>\n",
              "      <td>2</td>\n",
              "      <td>2</td>\n",
              "      <td>0</td>\n",
              "      <td>0</td>\n",
              "      <td>0</td>\n",
              "      <td>0</td>\n",
              "      <td>0</td>\n",
              "      <td>0</td>\n",
              "      <td>1</td>\n",
              "      <td>1</td>\n",
              "      <td>0</td>\n",
              "      <td>2</td>\n",
              "      <td>3</td>\n",
              "      <td>3</td>\n",
              "      <td>5</td>\n",
              "      <td>1</td>\n",
              "      <td>1</td>\n",
              "      <td>2</td>\n",
              "      <td>0</td>\n",
              "      <td>4</td>\n",
              "      <td>5</td>\n",
              "      <td>12</td>\n",
              "      <td>4</td>\n",
              "      <td>0</td>\n",
              "      <td>1</td>\n",
              "      <td>4</td>\n",
              "      <td>0</td>\n",
              "      <td>0</td>\n",
              "      <td>1</td>\n",
              "      <td>1</td>\n",
              "      <td>1</td>\n",
              "      <td>1</td>\n",
              "      <td>1</td>\n",
              "      <td>3</td>\n",
              "      <td>0</td>\n",
              "      <td>5</td>\n",
              "      <td>0</td>\n",
              "    </tr>\n",
              "    <tr>\n",
              "      <th>code_2</th>\n",
              "      <td>0</td>\n",
              "      <td>0</td>\n",
              "      <td>0</td>\n",
              "      <td>0</td>\n",
              "      <td>1</td>\n",
              "      <td>0</td>\n",
              "      <td>0</td>\n",
              "      <td>0</td>\n",
              "      <td>0</td>\n",
              "      <td>0</td>\n",
              "      <td>0</td>\n",
              "      <td>0</td>\n",
              "      <td>0</td>\n",
              "      <td>0</td>\n",
              "      <td>0</td>\n",
              "      <td>1</td>\n",
              "      <td>0</td>\n",
              "      <td>0</td>\n",
              "      <td>0</td>\n",
              "      <td>0</td>\n",
              "      <td>1</td>\n",
              "      <td>0</td>\n",
              "      <td>0</td>\n",
              "      <td>0</td>\n",
              "      <td>2</td>\n",
              "      <td>0</td>\n",
              "      <td>0</td>\n",
              "      <td>0</td>\n",
              "      <td>0</td>\n",
              "      <td>0</td>\n",
              "      <td>0</td>\n",
              "      <td>0</td>\n",
              "      <td>0</td>\n",
              "      <td>0</td>\n",
              "      <td>0</td>\n",
              "      <td>0</td>\n",
              "      <td>1</td>\n",
              "      <td>0</td>\n",
              "      <td>0</td>\n",
              "      <td>0</td>\n",
              "      <td>...</td>\n",
              "      <td>0</td>\n",
              "      <td>0</td>\n",
              "      <td>1</td>\n",
              "      <td>0</td>\n",
              "      <td>0</td>\n",
              "      <td>0</td>\n",
              "      <td>0</td>\n",
              "      <td>0</td>\n",
              "      <td>0</td>\n",
              "      <td>0</td>\n",
              "      <td>0</td>\n",
              "      <td>1</td>\n",
              "      <td>1</td>\n",
              "      <td>1</td>\n",
              "      <td>0</td>\n",
              "      <td>1</td>\n",
              "      <td>0</td>\n",
              "      <td>2</td>\n",
              "      <td>1</td>\n",
              "      <td>0</td>\n",
              "      <td>0</td>\n",
              "      <td>1</td>\n",
              "      <td>0</td>\n",
              "      <td>3</td>\n",
              "      <td>3</td>\n",
              "      <td>0</td>\n",
              "      <td>1</td>\n",
              "      <td>1</td>\n",
              "      <td>0</td>\n",
              "      <td>0</td>\n",
              "      <td>1</td>\n",
              "      <td>0</td>\n",
              "      <td>1</td>\n",
              "      <td>0</td>\n",
              "      <td>0</td>\n",
              "      <td>0</td>\n",
              "      <td>0</td>\n",
              "      <td>0</td>\n",
              "      <td>0</td>\n",
              "      <td>1</td>\n",
              "    </tr>\n",
              "    <tr>\n",
              "      <th>code_3</th>\n",
              "      <td>0</td>\n",
              "      <td>0</td>\n",
              "      <td>0</td>\n",
              "      <td>0</td>\n",
              "      <td>0</td>\n",
              "      <td>1</td>\n",
              "      <td>4</td>\n",
              "      <td>0</td>\n",
              "      <td>1</td>\n",
              "      <td>1</td>\n",
              "      <td>2</td>\n",
              "      <td>0</td>\n",
              "      <td>4</td>\n",
              "      <td>2</td>\n",
              "      <td>10</td>\n",
              "      <td>0</td>\n",
              "      <td>0</td>\n",
              "      <td>0</td>\n",
              "      <td>0</td>\n",
              "      <td>0</td>\n",
              "      <td>0</td>\n",
              "      <td>1</td>\n",
              "      <td>0</td>\n",
              "      <td>0</td>\n",
              "      <td>0</td>\n",
              "      <td>0</td>\n",
              "      <td>0</td>\n",
              "      <td>1</td>\n",
              "      <td>0</td>\n",
              "      <td>1</td>\n",
              "      <td>0</td>\n",
              "      <td>1</td>\n",
              "      <td>4</td>\n",
              "      <td>0</td>\n",
              "      <td>0</td>\n",
              "      <td>0</td>\n",
              "      <td>0</td>\n",
              "      <td>1</td>\n",
              "      <td>1</td>\n",
              "      <td>2</td>\n",
              "      <td>...</td>\n",
              "      <td>2</td>\n",
              "      <td>1</td>\n",
              "      <td>0</td>\n",
              "      <td>0</td>\n",
              "      <td>2</td>\n",
              "      <td>2</td>\n",
              "      <td>2</td>\n",
              "      <td>2</td>\n",
              "      <td>2</td>\n",
              "      <td>1</td>\n",
              "      <td>1</td>\n",
              "      <td>3</td>\n",
              "      <td>3</td>\n",
              "      <td>0</td>\n",
              "      <td>0</td>\n",
              "      <td>2</td>\n",
              "      <td>0</td>\n",
              "      <td>0</td>\n",
              "      <td>0</td>\n",
              "      <td>0</td>\n",
              "      <td>0</td>\n",
              "      <td>0</td>\n",
              "      <td>1</td>\n",
              "      <td>0</td>\n",
              "      <td>3</td>\n",
              "      <td>0</td>\n",
              "      <td>0</td>\n",
              "      <td>3</td>\n",
              "      <td>0</td>\n",
              "      <td>1</td>\n",
              "      <td>0</td>\n",
              "      <td>0</td>\n",
              "      <td>1</td>\n",
              "      <td>0</td>\n",
              "      <td>0</td>\n",
              "      <td>0</td>\n",
              "      <td>0</td>\n",
              "      <td>1</td>\n",
              "      <td>0</td>\n",
              "      <td>0</td>\n",
              "    </tr>\n",
              "  </tbody>\n",
              "</table>\n",
              "<p>3 rows × 94 columns</p>\n",
              "</div>"
            ],
            "text/plain": [
              "        0xff  128  256  49  99  aa  ...  update  utf  val  void  weight  while\n",
              "code_1     1    1    1   1   1   0  ...       1    1    3     0       5      0\n",
              "code_2     0    0    0   0   1   0  ...       0    0    0     0       0      1\n",
              "code_3     0    0    0   0   0   1  ...       0    0    0     1       0      0\n",
              "\n",
              "[3 rows x 94 columns]"
            ]
          },
          "metadata": {
            "tags": []
          },
          "execution_count": 108
        }
      ]
    },
    {
      "cell_type": "code",
      "metadata": {
        "id": "KJIVTJeY_FVm",
        "colab_type": "code",
        "colab": {
          "base_uri": "https://localhost:8080/",
          "height": 123
        },
        "outputId": "c6f9a6b9-9210-4c8c-a539-ff57c1dde796"
      },
      "source": [
        "df[:1][:]"
      ],
      "execution_count": 109,
      "outputs": [
        {
          "output_type": "execute_result",
          "data": {
            "text/html": [
              "<div>\n",
              "<style scoped>\n",
              "    .dataframe tbody tr th:only-of-type {\n",
              "        vertical-align: middle;\n",
              "    }\n",
              "\n",
              "    .dataframe tbody tr th {\n",
              "        vertical-align: top;\n",
              "    }\n",
              "\n",
              "    .dataframe thead th {\n",
              "        text-align: right;\n",
              "    }\n",
              "</style>\n",
              "<table border=\"1\" class=\"dataframe\">\n",
              "  <thead>\n",
              "    <tr style=\"text-align: right;\">\n",
              "      <th></th>\n",
              "      <th>0xff</th>\n",
              "      <th>128</th>\n",
              "      <th>256</th>\n",
              "      <th>49</th>\n",
              "      <th>99</th>\n",
              "      <th>aa</th>\n",
              "      <th>addblock</th>\n",
              "      <th>append</th>\n",
              "      <th>args</th>\n",
              "      <th>arraylist</th>\n",
              "      <th>arrays</th>\n",
              "      <th>binary</th>\n",
              "      <th>block</th>\n",
              "      <th>blockchain</th>\n",
              "      <th>blockchain1</th>\n",
              "      <th>builder</th>\n",
              "      <th>byte</th>\n",
              "      <th>byte2hex</th>\n",
              "      <th>bytes</th>\n",
              "      <th>catch</th>\n",
              "      <th>charat</th>\n",
              "      <th>class</th>\n",
              "      <th>digest</th>\n",
              "      <th>else</th>\n",
              "      <th>encodedstring</th>\n",
              "      <th>encodestr</th>\n",
              "      <th>error</th>\n",
              "      <th>example</th>\n",
              "      <th>exception</th>\n",
              "      <th>ffffffff</th>\n",
              "      <th>for</th>\n",
              "      <th>function</th>\n",
              "      <th>generatenextblock</th>\n",
              "      <th>getbytes</th>\n",
              "      <th>getinstance</th>\n",
              "      <th>getmessage</th>\n",
              "      <th>getsha256</th>\n",
              "      <th>gggggggg</th>\n",
              "      <th>hash</th>\n",
              "      <th>hashcode</th>\n",
              "      <th>...</th>\n",
              "      <th>list2</th>\n",
              "      <th>main</th>\n",
              "      <th>messagedigest</th>\n",
              "      <th>mysha_256</th>\n",
              "      <th>new</th>\n",
              "      <th>newblock1</th>\n",
              "      <th>newblock2</th>\n",
              "      <th>newblock3</th>\n",
              "      <th>newblock4</th>\n",
              "      <th>nonstaticthrades</th>\n",
              "      <th>of</th>\n",
              "      <th>out</th>\n",
              "      <th>println</th>\n",
              "      <th>priva</th>\n",
              "      <th>private</th>\n",
              "      <th>public</th>\n",
              "      <th>rem</th>\n",
              "      <th>return</th>\n",
              "      <th>security</th>\n",
              "      <th>sha</th>\n",
              "      <th>sha_256</th>\n",
              "      <th>size</th>\n",
              "      <th>static</th>\n",
              "      <th>str</th>\n",
              "      <th>string</th>\n",
              "      <th>stringbuilder</th>\n",
              "      <th>sum</th>\n",
              "      <th>system</th>\n",
              "      <th>temp</th>\n",
              "      <th>test</th>\n",
              "      <th>to</th>\n",
              "      <th>tohexstring</th>\n",
              "      <th>tostring</th>\n",
              "      <th>try</th>\n",
              "      <th>update</th>\n",
              "      <th>utf</th>\n",
              "      <th>val</th>\n",
              "      <th>void</th>\n",
              "      <th>weight</th>\n",
              "      <th>while</th>\n",
              "    </tr>\n",
              "  </thead>\n",
              "  <tbody>\n",
              "    <tr>\n",
              "      <th>code_1</th>\n",
              "      <td>1</td>\n",
              "      <td>1</td>\n",
              "      <td>1</td>\n",
              "      <td>1</td>\n",
              "      <td>1</td>\n",
              "      <td>0</td>\n",
              "      <td>0</td>\n",
              "      <td>3</td>\n",
              "      <td>0</td>\n",
              "      <td>0</td>\n",
              "      <td>0</td>\n",
              "      <td>5</td>\n",
              "      <td>0</td>\n",
              "      <td>0</td>\n",
              "      <td>0</td>\n",
              "      <td>4</td>\n",
              "      <td>3</td>\n",
              "      <td>2</td>\n",
              "      <td>5</td>\n",
              "      <td>1</td>\n",
              "      <td>1</td>\n",
              "      <td>1</td>\n",
              "      <td>1</td>\n",
              "      <td>4</td>\n",
              "      <td>0</td>\n",
              "      <td>3</td>\n",
              "      <td>1</td>\n",
              "      <td>0</td>\n",
              "      <td>1</td>\n",
              "      <td>0</td>\n",
              "      <td>4</td>\n",
              "      <td>0</td>\n",
              "      <td>0</td>\n",
              "      <td>2</td>\n",
              "      <td>1</td>\n",
              "      <td>1</td>\n",
              "      <td>2</td>\n",
              "      <td>0</td>\n",
              "      <td>0</td>\n",
              "      <td>0</td>\n",
              "      <td>...</td>\n",
              "      <td>0</td>\n",
              "      <td>0</td>\n",
              "      <td>7</td>\n",
              "      <td>2</td>\n",
              "      <td>2</td>\n",
              "      <td>0</td>\n",
              "      <td>0</td>\n",
              "      <td>0</td>\n",
              "      <td>0</td>\n",
              "      <td>0</td>\n",
              "      <td>0</td>\n",
              "      <td>1</td>\n",
              "      <td>1</td>\n",
              "      <td>0</td>\n",
              "      <td>2</td>\n",
              "      <td>3</td>\n",
              "      <td>3</td>\n",
              "      <td>5</td>\n",
              "      <td>1</td>\n",
              "      <td>1</td>\n",
              "      <td>2</td>\n",
              "      <td>0</td>\n",
              "      <td>4</td>\n",
              "      <td>5</td>\n",
              "      <td>12</td>\n",
              "      <td>4</td>\n",
              "      <td>0</td>\n",
              "      <td>1</td>\n",
              "      <td>4</td>\n",
              "      <td>0</td>\n",
              "      <td>0</td>\n",
              "      <td>1</td>\n",
              "      <td>1</td>\n",
              "      <td>1</td>\n",
              "      <td>1</td>\n",
              "      <td>1</td>\n",
              "      <td>3</td>\n",
              "      <td>0</td>\n",
              "      <td>5</td>\n",
              "      <td>0</td>\n",
              "    </tr>\n",
              "  </tbody>\n",
              "</table>\n",
              "<p>1 rows × 94 columns</p>\n",
              "</div>"
            ],
            "text/plain": [
              "        0xff  128  256  49  99  aa  ...  update  utf  val  void  weight  while\n",
              "code_1     1    1    1   1   1   0  ...       1    1    3     0       5      0\n",
              "\n",
              "[1 rows x 94 columns]"
            ]
          },
          "metadata": {
            "tags": []
          },
          "execution_count": 109
        }
      ]
    },
    {
      "cell_type": "markdown",
      "metadata": {
        "id": "HngBXA64-BPr",
        "colab_type": "text"
      },
      "source": [
        "# **Compute Cosine Similarity**"
      ]
    },
    {
      "cell_type": "code",
      "metadata": {
        "id": "NrRlGmbS92B1",
        "colab_type": "code",
        "colab": {}
      },
      "source": [
        "from sklearn.metrics.pairwise import cosine_similarity"
      ],
      "execution_count": 0,
      "outputs": []
    },
    {
      "cell_type": "code",
      "metadata": {
        "id": "ywXzcwXO-Emw",
        "colab_type": "code",
        "colab": {
          "base_uri": "https://localhost:8080/",
          "height": 133
        },
        "outputId": "8c77ca44-b744-440e-e9a0-387aa9b25627"
      },
      "source": [
        "df_cs = pd.DataFrame(cosine_similarity(df))\n",
        "df_cs\n"
      ],
      "execution_count": 114,
      "outputs": [
        {
          "output_type": "execute_result",
          "data": {
            "text/html": [
              "<div>\n",
              "<style scoped>\n",
              "    .dataframe tbody tr th:only-of-type {\n",
              "        vertical-align: middle;\n",
              "    }\n",
              "\n",
              "    .dataframe tbody tr th {\n",
              "        vertical-align: top;\n",
              "    }\n",
              "\n",
              "    .dataframe thead th {\n",
              "        text-align: right;\n",
              "    }\n",
              "</style>\n",
              "<table border=\"1\" class=\"dataframe\">\n",
              "  <thead>\n",
              "    <tr style=\"text-align: right;\">\n",
              "      <th></th>\n",
              "      <th>0</th>\n",
              "      <th>1</th>\n",
              "      <th>2</th>\n",
              "    </tr>\n",
              "  </thead>\n",
              "  <tbody>\n",
              "    <tr>\n",
              "      <th>0</th>\n",
              "      <td>1.000000</td>\n",
              "      <td>0.595333</td>\n",
              "      <td>0.145611</td>\n",
              "    </tr>\n",
              "    <tr>\n",
              "      <th>1</th>\n",
              "      <td>0.595333</td>\n",
              "      <td>1.000000</td>\n",
              "      <td>0.177778</td>\n",
              "    </tr>\n",
              "    <tr>\n",
              "      <th>2</th>\n",
              "      <td>0.145611</td>\n",
              "      <td>0.177778</td>\n",
              "      <td>1.000000</td>\n",
              "    </tr>\n",
              "  </tbody>\n",
              "</table>\n",
              "</div>"
            ],
            "text/plain": [
              "          0         1         2\n",
              "0  1.000000  0.595333  0.145611\n",
              "1  0.595333  1.000000  0.177778\n",
              "2  0.145611  0.177778  1.000000"
            ]
          },
          "metadata": {
            "tags": []
          },
          "execution_count": 114
        }
      ]
    },
    {
      "cell_type": "markdown",
      "metadata": {
        "id": "c9BY4Jd8E8MV",
        "colab_type": "text"
      },
      "source": [
        "## Plot Heat Map\n"
      ]
    },
    {
      "cell_type": "code",
      "metadata": {
        "id": "Fjq66UZQGDd-",
        "colab_type": "code",
        "colab": {}
      },
      "source": [
        "import seaborn as sns;"
      ],
      "execution_count": 0,
      "outputs": []
    },
    {
      "cell_type": "code",
      "metadata": {
        "id": "yMOhYfHkE72i",
        "colab_type": "code",
        "colab": {
          "base_uri": "https://localhost:8080/",
          "height": 503
        },
        "outputId": "2fb49c37-1064-4794-c338-438b72392bae"
      },
      "source": [
        "#sns.heatmap(df_cs)\n",
        "plt.figure(figsize=(12, 8))\n",
        "sns.heatmap(df_cs, linewidths=.5,cmap='YlOrRd')\n",
        "#plt.pcolor(df_cs)\n",
        "#plt.yticks(np.arange(0.5, len(df_cs.index), 1), df_cs.index)\n",
        "#plt.xticks(np.arange(0.5, len(d.columns), 1), df.columns)\n",
        "#plt.show()"
      ],
      "execution_count": 140,
      "outputs": [
        {
          "output_type": "execute_result",
          "data": {
            "text/plain": [
              "<matplotlib.axes._subplots.AxesSubplot at 0x7f315675af98>"
            ]
          },
          "metadata": {
            "tags": []
          },
          "execution_count": 140
        },
        {
          "output_type": "display_data",
          "data": {
            "image/png": "[encoded data removed]",
            "text/plain": [
              "<Figure size 864x576 with 2 Axes>"
            ]
          },
          "metadata": {
            "tags": []
          }
        }
      ]
    },
    {
      "cell_type": "markdown",
      "metadata": {
        "id": "joPiP--qg0An",
        "colab_type": "text"
      },
      "source": [
        "#  **Using Py4J without pre-determined ports (dynamic port number)**\n",
        " "
      ]
    },
    {
      "cell_type": "code",
      "metadata": {
        "id": "6r3dXBrqg0Ao",
        "colab_type": "code",
        "colab": {}
      },
      "source": [
        "from py4j.java_gateway import (\n",
        "    JavaGateway, CallbackServerParameters, GatewayParameters,\n",
        "    launch_gateway)\n",
        "\n",
        "\n",
        "par = CallbackServerParameters(\n",
        "    address='127.0.0.1',\n",
        "    port=25334,\n",
        "    daemonize=False,\n",
        "    daemonize_connections=False,\n",
        "    eager_load=True,\n",
        "    ssl_context=None,\n",
        "    accept_timeout='DEFAULT',\n",
        "    read_timeout=None,\n",
        "    propagate_java_exceptions=False,\n",
        "    auth_token=None,\n",
        ")\n"
      ],
      "execution_count": 0,
      "outputs": []
    },
    {
      "cell_type": "markdown",
      "metadata": {
        "id": "uIJ_f47Fg0Ar",
        "colab_type": "text"
      },
      "source": [
        "##  Start Gateway\n",
        " "
      ]
    },
    {
      "cell_type": "code",
      "metadata": {
        "id": "pBYai23-g0As",
        "colab_type": "code",
        "colab": {},
        "outputId": "171f40c9-968b-4bd1-a47e-fd94b396388e"
      },
      "source": [
        "\n",
        "gateway = JavaGateway(callback_server_parameters=par)\n",
        "print(\"gateway.gateway_parameters.port\",gateway.gateway_parameters.port)\n",
        "# retrieve the port on which the python callback server was bound to\n",
        "\n",
        "python_port = gateway.get_callback_server().get_listening_port()\n",
        "print(\"get_callback_server python_port: \",python_port)"
      ],
      "execution_count": 0,
      "outputs": [
        {
          "output_type": "stream",
          "text": [
            "gateway.gateway_parameters.port 25333\n",
            "get_callback_server python_port:  25334\n"
          ],
          "name": "stdout"
        }
      ]
    },
    {
      "cell_type": "markdown",
      "metadata": {
        "id": "BcfAcuyOg0A0",
        "colab_type": "text"
      },
      "source": [
        "## Call For shutdown"
      ]
    },
    {
      "cell_type": "code",
      "metadata": {
        "id": "pujVx8ENg0A1",
        "colab_type": "code",
        "colab": {},
        "outputId": "5b51e866-79c5-4eee-eaa4-bb1371c59d71"
      },
      "source": [
        "\n",
        "#gateway.shutdown()\n",
        "\n",
        "\n",
        "# launch Java side with dynamic port and get back the port on which the\n",
        "# server was bound to.\n",
        "#port = launch_gateway \n",
        "''' launch_gateway(\n",
        "    port=0,\n",
        "    jarpath='',\n",
        "    classpath='',\n",
        "    javaopts=[],\n",
        "    die_on_exit=True,\n",
        "    redirect_stdout=None,\n",
        "    redirect_stderr=None,\n",
        "    daemonize_redirect=True,\n",
        "    java_path='java',\n",
        "    create_new_process_group=False,\n",
        "    enable_auth=False,\n",
        "    cwd=None,\n",
        "    return_proc=False,\n",
        ")\n",
        "\n",
        "# connect python side to Java side with Java dynamic port and start python\n",
        "# callback server with a dynamic port\n",
        "gateway = JavaGateway(\n",
        "    gateway_parameters=GatewayParameters(port=port),\n",
        "    callback_server_parameters=CallbackServerParameters(port=0))\n",
        "\n",
        "# tell the Java side to connect to the python callback server with the new\n",
        "# python port. Note that we use the java_gateway_server attribute that\n",
        "# retrieves the GatewayServer instance.\n",
        "gateway.java_gateway_server.resetCallbackClient(\n",
        "    gateway.java_gateway_server.getCallbackClient().getAddress(),\n",
        "    python_port)\n",
        "\n",
        "'''\n",
        "\n"
      ],
      "execution_count": 0,
      "outputs": [
        {
          "output_type": "execute_result",
          "data": {
            "text/plain": [
              "\" launch_gateway(\\n    port=0,\\n    jarpath='',\\n    classpath='',\\n    javaopts=[],\\n    die_on_exit=True,\\n    redirect_stdout=None,\\n    redirect_stderr=None,\\n    daemonize_redirect=True,\\n    java_path='java',\\n    create_new_process_group=False,\\n    enable_auth=False,\\n    cwd=None,\\n    return_proc=False,\\n)\\n\\n# connect python side to Java side with Java dynamic port and start python\\n# callback server with a dynamic port\\ngateway = JavaGateway(\\n    gateway_parameters=GatewayParameters(port=port),\\n    callback_server_parameters=CallbackServerParameters(port=0))\\n\\n# tell the Java side to connect to the python callback server with the new\\n# python port. Note that we use the java_gateway_server attribute that\\n# retrieves the GatewayServer instance.\\ngateway.java_gateway_server.resetCallbackClient(\\n    gateway.java_gateway_server.getCallbackClient().getAddress(),\\n    python_port)\\n\\n\""
            ]
          },
          "metadata": {
            "tags": []
          },
          "execution_count": 37
        }
      ]
    },
    {
      "cell_type": "markdown",
      "metadata": {
        "id": "9SGtcfHcg0A7",
        "colab_type": "text"
      },
      "source": [
        "#  Acess Java Classes send Source code to AST"
      ]
    },
    {
      "cell_type": "code",
      "metadata": {
        "id": "6-Cx5RfBg0A8",
        "colab_type": "code",
        "colab": {},
        "outputId": "55f1ee1d-a564-4753-b156-c2ea3aad8c48"
      },
      "source": [
        "astDataFrame = pd.DataFrame(index=[dataFrame.hash],columns=['AST','SimpleName'])\n",
        "astDataFrame"
      ],
      "execution_count": 0,
      "outputs": [
        {
          "output_type": "execute_result",
          "data": {
            "text/html": [
              "<div>\n",
              "<style scoped>\n",
              "    .dataframe tbody tr th:only-of-type {\n",
              "        vertical-align: middle;\n",
              "    }\n",
              "\n",
              "    .dataframe tbody tr th {\n",
              "        vertical-align: top;\n",
              "    }\n",
              "\n",
              "    .dataframe thead th {\n",
              "        text-align: right;\n",
              "    }\n",
              "</style>\n",
              "<table border=\"1\" class=\"dataframe\">\n",
              "  <thead>\n",
              "    <tr style=\"text-align: right;\">\n",
              "      <th></th>\n",
              "      <th>AST</th>\n",
              "      <th>SimpleName</th>\n",
              "    </tr>\n",
              "    <tr>\n",
              "      <th>hash</th>\n",
              "      <th></th>\n",
              "      <th></th>\n",
              "    </tr>\n",
              "  </thead>\n",
              "  <tbody>\n",
              "    <tr>\n",
              "      <td>3721855313567767586</td>\n",
              "      <td>NaN</td>\n",
              "      <td>NaN</td>\n",
              "    </tr>\n",
              "    <tr>\n",
              "      <td>-1033853111129805208</td>\n",
              "      <td>NaN</td>\n",
              "      <td>NaN</td>\n",
              "    </tr>\n",
              "  </tbody>\n",
              "</table>\n",
              "</div>"
            ],
            "text/plain": [
              "                      AST SimpleName\n",
              "hash                                \n",
              " 3721855313567767586  NaN        NaN\n",
              "-1033853111129805208  NaN        NaN"
            ]
          },
          "metadata": {
            "tags": []
          },
          "execution_count": 38
        }
      ]
    },
    {
      "cell_type": "code",
      "metadata": {
        "id": "GI9MhoaFg0BB",
        "colab_type": "code",
        "colab": {},
        "outputId": "4363bc4a-d110-4233-b0bc-54bf3e3cfa59"
      },
      "source": [
        "dataFrame.head()"
      ],
      "execution_count": 0,
      "outputs": [
        {
          "output_type": "execute_result",
          "data": {
            "text/html": [
              "<div>\n",
              "<style scoped>\n",
              "    .dataframe tbody tr th:only-of-type {\n",
              "        vertical-align: middle;\n",
              "    }\n",
              "\n",
              "    .dataframe tbody tr th {\n",
              "        vertical-align: top;\n",
              "    }\n",
              "\n",
              "    .dataframe thead th {\n",
              "        text-align: right;\n",
              "    }\n",
              "</style>\n",
              "<table border=\"1\" class=\"dataframe\">\n",
              "  <thead>\n",
              "    <tr style=\"text-align: right;\">\n",
              "      <th></th>\n",
              "      <th>hash</th>\n",
              "      <th>path</th>\n",
              "      <th>source_code</th>\n",
              "    </tr>\n",
              "  </thead>\n",
              "  <tbody>\n",
              "    <tr>\n",
              "      <td>0</td>\n",
              "      <td>3721855313567767586</td>\n",
              "      <td>F://JavaWorkspace//AST_Compile\\src\\com\\nabeelk...</td>\n",
              "      <td>/*\\n * To change this license header, choose L...</td>\n",
              "    </tr>\n",
              "    <tr>\n",
              "      <td>1</td>\n",
              "      <td>-1033853111129805208</td>\n",
              "      <td>F://JavaWorkspace//AST_Compile\\src\\com\\nabeelk...</td>\n",
              "      <td>/*\\n * To change this license header, choose L...</td>\n",
              "    </tr>\n",
              "  </tbody>\n",
              "</table>\n",
              "</div>"
            ],
            "text/plain": [
              "                  hash                                               path  \\\n",
              "0  3721855313567767586  F://JavaWorkspace//AST_Compile\\src\\com\\nabeelk...   \n",
              "1 -1033853111129805208  F://JavaWorkspace//AST_Compile\\src\\com\\nabeelk...   \n",
              "\n",
              "                                         source_code  \n",
              "0  /*\\n * To change this license header, choose L...  \n",
              "1  /*\\n * To change this license header, choose L...  "
            ]
          },
          "metadata": {
            "tags": []
          },
          "execution_count": 39
        }
      ]
    },
    {
      "cell_type": "code",
      "metadata": {
        "id": "Gw8Nk1Gmg0BE",
        "colab_type": "code",
        "colab": {}
      },
      "source": [
        "#print(str(dataFrame.source_code[1].replace(\"\\n\",\"\")))\n",
        "#print(str(dataFrame.source_code[0]))"
      ],
      "execution_count": 0,
      "outputs": []
    },
    {
      "cell_type": "code",
      "metadata": {
        "id": "upT9f09vg0BJ",
        "colab_type": "code",
        "colab": {}
      },
      "source": [
        ""
      ],
      "execution_count": 0,
      "outputs": []
    },
    {
      "cell_type": "code",
      "metadata": {
        "id": "c46SIWV8g0BM",
        "colab_type": "code",
        "colab": {},
        "outputId": "1cdc92c1-eb7f-4cdc-acf4-8c50f2949aaf"
      },
      "source": [
        "for index, row in dataFrame.iterrows():\n",
        "    print(row)\n",
        "    \n",
        "    gateway.entry_point.run(str(row.source_code.replace(\"\\n\",\"\")) )\n",
        "    \n",
        "    x = gateway.entry_point.getAst_Map()\n",
        "\n",
        "    y = gateway.entry_point.getSimpleName()       \n",
        "    \n",
        "    #astDataFrame[index] = astDataFrame.({'AST':x,'SimpleName':y}) \n",
        "    "
      ],
      "execution_count": 0,
      "outputs": [
        {
          "output_type": "stream",
          "text": [
            "hash                                         3721855313567767586\n",
            "path           F://JavaWorkspace//AST_Compile\\src\\com\\nabeelk...\n",
            "source_code    /*\\n * To change this license header, choose L...\n",
            "Name: 0, dtype: object\n"
          ],
          "name": "stdout"
        },
        {
          "output_type": "error",
          "ename": "Py4JNetworkError",
          "evalue": "An error occurred while trying to connect to the Java server (127.0.0.1:25333)",
          "traceback": [
            "\u001b[1;31m---------------------------------------------------------------------------\u001b[0m",
            "\u001b[1;31mIndexError\u001b[0m                                Traceback (most recent call last)",
            "\u001b[1;32mD:\\Anaconda3\\lib\\site-packages\\py4j\\java_gateway.py\u001b[0m in \u001b[0;36m_get_connection\u001b[1;34m(self)\u001b[0m\n\u001b[0;32m    976\u001b[0m         \u001b[1;32mtry\u001b[0m\u001b[1;33m:\u001b[0m\u001b[1;33m\u001b[0m\u001b[1;33m\u001b[0m\u001b[0m\n\u001b[1;32m--> 977\u001b[1;33m             \u001b[0mconnection\u001b[0m \u001b[1;33m=\u001b[0m \u001b[0mself\u001b[0m\u001b[1;33m.\u001b[0m\u001b[0mdeque\u001b[0m\u001b[1;33m.\u001b[0m\u001b[0mpop\u001b[0m\u001b[1;33m(\u001b[0m\u001b[1;33m)\u001b[0m\u001b[1;33m\u001b[0m\u001b[1;33m\u001b[0m\u001b[0m\n\u001b[0m\u001b[0;32m    978\u001b[0m         \u001b[1;32mexcept\u001b[0m \u001b[0mIndexError\u001b[0m\u001b[1;33m:\u001b[0m\u001b[1;33m\u001b[0m\u001b[1;33m\u001b[0m\u001b[0m\n",
            "\u001b[1;31mIndexError\u001b[0m: pop from an empty deque",
            "\nDuring handling of the above exception, another exception occurred:\n",
            "\u001b[1;31mConnectionRefusedError\u001b[0m                    Traceback (most recent call last)",
            "\u001b[1;32mD:\\Anaconda3\\lib\\site-packages\\py4j\\java_gateway.py\u001b[0m in \u001b[0;36mstart\u001b[1;34m(self)\u001b[0m\n\u001b[0;32m   1114\u001b[0m         \u001b[1;32mtry\u001b[0m\u001b[1;33m:\u001b[0m\u001b[1;33m\u001b[0m\u001b[1;33m\u001b[0m\u001b[0m\n\u001b[1;32m-> 1115\u001b[1;33m             \u001b[0mself\u001b[0m\u001b[1;33m.\u001b[0m\u001b[0msocket\u001b[0m\u001b[1;33m.\u001b[0m\u001b[0mconnect\u001b[0m\u001b[1;33m(\u001b[0m\u001b[1;33m(\u001b[0m\u001b[0mself\u001b[0m\u001b[1;33m.\u001b[0m\u001b[0maddress\u001b[0m\u001b[1;33m,\u001b[0m \u001b[0mself\u001b[0m\u001b[1;33m.\u001b[0m\u001b[0mport\u001b[0m\u001b[1;33m)\u001b[0m\u001b[1;33m)\u001b[0m\u001b[1;33m\u001b[0m\u001b[1;33m\u001b[0m\u001b[0m\n\u001b[0m\u001b[0;32m   1116\u001b[0m             \u001b[0mself\u001b[0m\u001b[1;33m.\u001b[0m\u001b[0mstream\u001b[0m \u001b[1;33m=\u001b[0m \u001b[0mself\u001b[0m\u001b[1;33m.\u001b[0m\u001b[0msocket\u001b[0m\u001b[1;33m.\u001b[0m\u001b[0mmakefile\u001b[0m\u001b[1;33m(\u001b[0m\u001b[1;34m\"rb\"\u001b[0m\u001b[1;33m)\u001b[0m\u001b[1;33m\u001b[0m\u001b[1;33m\u001b[0m\u001b[0m\n",
            "\u001b[1;31mConnectionRefusedError\u001b[0m: [WinError 10061] No connection could be made because the target machine actively refused it",
            "\nDuring handling of the above exception, another exception occurred:\n",
            "\u001b[1;31mPy4JNetworkError\u001b[0m                          Traceback (most recent call last)",
            "\u001b[1;32m<ipython-input-41-d07a2c9a159f>\u001b[0m in \u001b[0;36m<module>\u001b[1;34m\u001b[0m\n\u001b[0;32m      2\u001b[0m     \u001b[0mprint\u001b[0m\u001b[1;33m(\u001b[0m\u001b[0mrow\u001b[0m\u001b[1;33m)\u001b[0m\u001b[1;33m\u001b[0m\u001b[1;33m\u001b[0m\u001b[0m\n\u001b[0;32m      3\u001b[0m \u001b[1;33m\u001b[0m\u001b[0m\n\u001b[1;32m----> 4\u001b[1;33m     \u001b[0mgateway\u001b[0m\u001b[1;33m.\u001b[0m\u001b[0mentry_point\u001b[0m\u001b[1;33m.\u001b[0m\u001b[0mrun\u001b[0m\u001b[1;33m(\u001b[0m\u001b[0mstr\u001b[0m\u001b[1;33m(\u001b[0m\u001b[0mrow\u001b[0m\u001b[1;33m.\u001b[0m\u001b[0msource_code\u001b[0m\u001b[1;33m.\u001b[0m\u001b[0mreplace\u001b[0m\u001b[1;33m(\u001b[0m\u001b[1;34m\"\\n\"\u001b[0m\u001b[1;33m,\u001b[0m\u001b[1;34m\"\"\u001b[0m\u001b[1;33m)\u001b[0m\u001b[1;33m)\u001b[0m \u001b[1;33m)\u001b[0m\u001b[1;33m\u001b[0m\u001b[1;33m\u001b[0m\u001b[0m\n\u001b[0m\u001b[0;32m      5\u001b[0m \u001b[1;33m\u001b[0m\u001b[0m\n\u001b[0;32m      6\u001b[0m     \u001b[0mx\u001b[0m \u001b[1;33m=\u001b[0m \u001b[0mgateway\u001b[0m\u001b[1;33m.\u001b[0m\u001b[0mentry_point\u001b[0m\u001b[1;33m.\u001b[0m\u001b[0mgetAst_Map\u001b[0m\u001b[1;33m(\u001b[0m\u001b[1;33m)\u001b[0m\u001b[1;33m\u001b[0m\u001b[1;33m\u001b[0m\u001b[0m\n",
            "\u001b[1;32mD:\\Anaconda3\\lib\\site-packages\\py4j\\java_gateway.py\u001b[0m in \u001b[0;36m__call__\u001b[1;34m(self, *args)\u001b[0m\n\u001b[0;32m   1301\u001b[0m             \u001b[0mproto\u001b[0m\u001b[1;33m.\u001b[0m\u001b[0mEND_COMMAND_PART\u001b[0m\u001b[1;33m\u001b[0m\u001b[1;33m\u001b[0m\u001b[0m\n\u001b[0;32m   1302\u001b[0m \u001b[1;33m\u001b[0m\u001b[0m\n\u001b[1;32m-> 1303\u001b[1;33m         \u001b[0manswer\u001b[0m \u001b[1;33m=\u001b[0m \u001b[0mself\u001b[0m\u001b[1;33m.\u001b[0m\u001b[0mgateway_client\u001b[0m\u001b[1;33m.\u001b[0m\u001b[0msend_command\u001b[0m\u001b[1;33m(\u001b[0m\u001b[0mcommand\u001b[0m\u001b[1;33m)\u001b[0m\u001b[1;33m\u001b[0m\u001b[1;33m\u001b[0m\u001b[0m\n\u001b[0m\u001b[0;32m   1304\u001b[0m         return_value = get_return_value(\n\u001b[0;32m   1305\u001b[0m             answer, self.gateway_client, self.target_id, self.name)\n",
            "\u001b[1;32mD:\\Anaconda3\\lib\\site-packages\\py4j\\java_gateway.py\u001b[0m in \u001b[0;36msend_command\u001b[1;34m(self, command, retry, binary)\u001b[0m\n\u001b[0;32m   1029\u001b[0m          \u001b[1;32mif\u001b[0m\u001b[0;31m \u001b[0m\u001b[0;31m`\u001b[0m\u001b[0mbinary\u001b[0m\u001b[0;31m`\u001b[0m \u001b[1;32mis\u001b[0m\u001b[0;31m \u001b[0m\u001b[0;31m`\u001b[0m\u001b[1;32mTrue\u001b[0m\u001b[0;31m`\u001b[0m\u001b[1;33m.\u001b[0m\u001b[1;33m\u001b[0m\u001b[1;33m\u001b[0m\u001b[0m\n\u001b[0;32m   1030\u001b[0m         \"\"\"\n\u001b[1;32m-> 1031\u001b[1;33m         \u001b[0mconnection\u001b[0m \u001b[1;33m=\u001b[0m \u001b[0mself\u001b[0m\u001b[1;33m.\u001b[0m\u001b[0m_get_connection\u001b[0m\u001b[1;33m(\u001b[0m\u001b[1;33m)\u001b[0m\u001b[1;33m\u001b[0m\u001b[1;33m\u001b[0m\u001b[0m\n\u001b[0m\u001b[0;32m   1032\u001b[0m         \u001b[1;32mtry\u001b[0m\u001b[1;33m:\u001b[0m\u001b[1;33m\u001b[0m\u001b[1;33m\u001b[0m\u001b[0m\n\u001b[0;32m   1033\u001b[0m             \u001b[0mresponse\u001b[0m \u001b[1;33m=\u001b[0m \u001b[0mconnection\u001b[0m\u001b[1;33m.\u001b[0m\u001b[0msend_command\u001b[0m\u001b[1;33m(\u001b[0m\u001b[0mcommand\u001b[0m\u001b[1;33m)\u001b[0m\u001b[1;33m\u001b[0m\u001b[1;33m\u001b[0m\u001b[0m\n",
            "\u001b[1;32mD:\\Anaconda3\\lib\\site-packages\\py4j\\java_gateway.py\u001b[0m in \u001b[0;36m_get_connection\u001b[1;34m(self)\u001b[0m\n\u001b[0;32m    977\u001b[0m             \u001b[0mconnection\u001b[0m \u001b[1;33m=\u001b[0m \u001b[0mself\u001b[0m\u001b[1;33m.\u001b[0m\u001b[0mdeque\u001b[0m\u001b[1;33m.\u001b[0m\u001b[0mpop\u001b[0m\u001b[1;33m(\u001b[0m\u001b[1;33m)\u001b[0m\u001b[1;33m\u001b[0m\u001b[1;33m\u001b[0m\u001b[0m\n\u001b[0;32m    978\u001b[0m         \u001b[1;32mexcept\u001b[0m \u001b[0mIndexError\u001b[0m\u001b[1;33m:\u001b[0m\u001b[1;33m\u001b[0m\u001b[1;33m\u001b[0m\u001b[0m\n\u001b[1;32m--> 979\u001b[1;33m             \u001b[0mconnection\u001b[0m \u001b[1;33m=\u001b[0m \u001b[0mself\u001b[0m\u001b[1;33m.\u001b[0m\u001b[0m_create_connection\u001b[0m\u001b[1;33m(\u001b[0m\u001b[1;33m)\u001b[0m\u001b[1;33m\u001b[0m\u001b[1;33m\u001b[0m\u001b[0m\n\u001b[0m\u001b[0;32m    980\u001b[0m         \u001b[1;32mreturn\u001b[0m \u001b[0mconnection\u001b[0m\u001b[1;33m\u001b[0m\u001b[1;33m\u001b[0m\u001b[0m\n\u001b[0;32m    981\u001b[0m \u001b[1;33m\u001b[0m\u001b[0m\n",
            "\u001b[1;32mD:\\Anaconda3\\lib\\site-packages\\py4j\\java_gateway.py\u001b[0m in \u001b[0;36m_create_connection\u001b[1;34m(self)\u001b[0m\n\u001b[0;32m    983\u001b[0m         connection = GatewayConnection(\n\u001b[0;32m    984\u001b[0m             self.gateway_parameters, self.gateway_property)\n\u001b[1;32m--> 985\u001b[1;33m         \u001b[0mconnection\u001b[0m\u001b[1;33m.\u001b[0m\u001b[0mstart\u001b[0m\u001b[1;33m(\u001b[0m\u001b[1;33m)\u001b[0m\u001b[1;33m\u001b[0m\u001b[1;33m\u001b[0m\u001b[0m\n\u001b[0m\u001b[0;32m    986\u001b[0m         \u001b[1;32mreturn\u001b[0m \u001b[0mconnection\u001b[0m\u001b[1;33m\u001b[0m\u001b[1;33m\u001b[0m\u001b[0m\n\u001b[0;32m    987\u001b[0m \u001b[1;33m\u001b[0m\u001b[0m\n",
            "\u001b[1;32mD:\\Anaconda3\\lib\\site-packages\\py4j\\java_gateway.py\u001b[0m in \u001b[0;36mstart\u001b[1;34m(self)\u001b[0m\n\u001b[0;32m   1125\u001b[0m                 \u001b[1;34m\"server ({0}:{1})\"\u001b[0m\u001b[1;33m.\u001b[0m\u001b[0mformat\u001b[0m\u001b[1;33m(\u001b[0m\u001b[0mself\u001b[0m\u001b[1;33m.\u001b[0m\u001b[0maddress\u001b[0m\u001b[1;33m,\u001b[0m \u001b[0mself\u001b[0m\u001b[1;33m.\u001b[0m\u001b[0mport\u001b[0m\u001b[1;33m)\u001b[0m\u001b[1;33m\u001b[0m\u001b[1;33m\u001b[0m\u001b[0m\n\u001b[0;32m   1126\u001b[0m             \u001b[0mlogger\u001b[0m\u001b[1;33m.\u001b[0m\u001b[0mexception\u001b[0m\u001b[1;33m(\u001b[0m\u001b[0mmsg\u001b[0m\u001b[1;33m)\u001b[0m\u001b[1;33m\u001b[0m\u001b[1;33m\u001b[0m\u001b[0m\n\u001b[1;32m-> 1127\u001b[1;33m             \u001b[1;32mraise\u001b[0m \u001b[0mPy4JNetworkError\u001b[0m\u001b[1;33m(\u001b[0m\u001b[0mmsg\u001b[0m\u001b[1;33m,\u001b[0m \u001b[0me\u001b[0m\u001b[1;33m)\u001b[0m\u001b[1;33m\u001b[0m\u001b[1;33m\u001b[0m\u001b[0m\n\u001b[0m\u001b[0;32m   1128\u001b[0m \u001b[1;33m\u001b[0m\u001b[0m\n\u001b[0;32m   1129\u001b[0m     \u001b[1;32mdef\u001b[0m \u001b[0m_authenticate_connection\u001b[0m\u001b[1;33m(\u001b[0m\u001b[0mself\u001b[0m\u001b[1;33m)\u001b[0m\u001b[1;33m:\u001b[0m\u001b[1;33m\u001b[0m\u001b[1;33m\u001b[0m\u001b[0m\n",
            "\u001b[1;31mPy4JNetworkError\u001b[0m: An error occurred while trying to connect to the Java server (127.0.0.1:25333)"
          ]
        }
      ]
    },
    {
      "cell_type": "code",
      "metadata": {
        "id": "DA98X-gXg0BR",
        "colab_type": "code",
        "colab": {},
        "outputId": "cc63edf2-6d69-4204-ceb1-b4fb3bb2ea3c"
      },
      "source": [
        "\n",
        "for i in range(5):\n",
        "    df = df.append({'A': i}, ignore_index=True)\n",
        "    \n",
        "for index, row in dataFrame.iterrows():\n",
        "    print(row.hash)"
      ],
      "execution_count": 0,
      "outputs": [
        {
          "output_type": "stream",
          "text": [
            "3304967671404013705\n",
            "2099815174547125250\n",
            "5415841209940466568\n",
            "-6371493710224477151\n",
            "7798282327733455985\n",
            "-4835411903539898162\n",
            "-7461152348302599793\n",
            "4950169111133019322\n",
            "-4555529759014841411\n",
            "6909373801264356727\n",
            "-2655367215248172614\n",
            "-6905053759718057416\n",
            "60284258161731621\n",
            "-7336208396844407516\n",
            "-7609720500975931953\n",
            "-3973667057392614838\n",
            "-4251402646682440318\n",
            "-5035505929597161305\n",
            "6446238608247977681\n",
            "4930330165671672931\n",
            "328699748129167187\n",
            "4220283218204749120\n",
            "6590870345302937742\n",
            "-5198713657488182328\n",
            "-7441134643106546097\n",
            "-995669349697864413\n",
            "-7705617625545834528\n",
            "-1235710965255231207\n",
            "2776710740901056351\n",
            "3882524705231552564\n",
            "-6382527067632859879\n",
            "-8987534780618259795\n",
            "-4222626340506226520\n",
            "8384664020262279747\n",
            "6661955134524485622\n",
            "6208161670427020514\n",
            "4382529883969640742\n",
            "5765041199855562590\n",
            "-8808669421604331862\n",
            "3342038584423951557\n",
            "-5248726053298459653\n",
            "-2366809627023659029\n",
            "-222541693449688156\n",
            "6130379951321080990\n",
            "7352096258793275030\n",
            "-4920328021609262821\n",
            "6974892713596476993\n",
            "-6982634171016342140\n",
            "-3808242228470714741\n",
            "2692586708271081247\n",
            "6897041195475203632\n",
            "8855492442172870817\n",
            "6784225556090376931\n",
            "8271768476555838072\n",
            "-5245155117845955601\n",
            "3978872485849242737\n",
            "-7323791841848835027\n",
            "5656624444834766722\n",
            "-946962673483653172\n",
            "6114284197910418860\n",
            "-3766982614259047202\n",
            "-611581823515108063\n"
          ],
          "name": "stdout"
        }
      ]
    },
    {
      "cell_type": "code",
      "metadata": {
        "id": "eOpUVw-yg0BV",
        "colab_type": "code",
        "colab": {},
        "outputId": "aefa2f1b-857d-4991-ebda-24daadaa03ca"
      },
      "source": [
        "x"
      ],
      "execution_count": 0,
      "outputs": [
        {
          "output_type": "execute_result",
          "data": {
            "text/plain": [
              "{'MethodDeclaration:-:boolean visit(NullLiteral node)': 1, 'MethodDeclaration:-:boolean visit(SingleMemberAnnotation node)': 1, 'SimpleType:-:ForStatement': 1, 'MethodDeclaration:-:boolean visit(CatchClause node)': 1, 'SimpleName:-:DoStatement': 1, '@Override  public boolean visit(Assignment node)': 1, 'MethodDeclaration:-:boolean visit(RequiresDirective node)': 1, 'SingleVariableDeclaration:-:EmptyStatement node': 1, 'SingleVariableDeclaration:-:TypeDeclaration node': 1, 'MethodDeclaration:-:@Override public boolean visit(VariableDeclarationExpression node){\\n  add(node.getClass().getName(),node);\\n  return true;\\n}': 1, '@Override  public boolean visit(CastExpression node)': 1, 'MethodInvocation:-:parser.createAST(null)': 1, 'MethodDeclaration:-:@Override public boolean visit(Dimension node){\\n  return true;\\n}': 1, '@Override  public boolean visit(FieldAccess node)': 1, '@Override  public boolean visit(MethodDeclaration node)': 1, 'SimpleName:-:content': 14, '@Override  public boolean visit(ModuleModifier node)': 1, 'ReturnStatement:-:return visitor;': 1, 'MethodInvocation:-:add(\"while (\" + node.getExpression().toString() + \")\",node)': 1, 'SimpleType:-:ReturnStatement': 1, 'MethodDeclaration:-:@Override public boolean visit(ConditionalExpression node){\\n  add(node.getClass().getName(),node);\\n  return true;\\n}': 1, 'MethodInvocation:-:exc.substring(1,exc.length() - 1)': 1, 'SimpleType:-:AssertStatement': 1, 'MethodDeclaration:-:@Override public boolean visit(AnonymousClassDeclaration node){\\n  add(node.getClass().getName(),node);\\n  return true;\\n}': 1, 'MethodDeclaration:-:@Override public boolean visit(ArrayInitializer node){\\n  add(node.getClass().getName(),node);\\n  return true;\\n}': 1, 'SimpleName:-:ExpressionStatement': 1, 'MethodInvocation:-:n.getExpression()': 1, 'SimpleType:-:HashMap': 4, 'FieldDeclaration:-:private boolean typeDic=false;': 1, 'MethodDeclaration:-:boolean visit(BooleanLiteral node)': 1, 'MethodDeclaration:-:@Override public boolean visit(IfStatement node){\\n  add(node.getClass().getName(),node);\\n  return true;\\n}': 1, '@Override  public boolean visit(SingleMemberAnnotation node)': 1, 'ExpressionStatement:-:add(\"for(\" + node.getParameter().toString() + \" : \"+ node.getExpression().toString()+ \")\",node);': 1, 'MethodDeclaration:-:boolean visit(ClassInstanceCreation node)': 1, '@Override  public boolean visit(ClassInstanceCreation node)': 1, 'SimpleType:-:CatchClause': 1, 'Assignment:-:hash=content.hashCode()': 1, 'SimpleName:-:FieldDeclaration': 1, '@Override  public boolean visit(NormalAnnotation node)': 1, 'SimpleName:-:QualifiedName': 1, 'SingleVariableDeclaration:-:LineComment node': 1, 'MethodDeclaration:-:@Override public boolean visit(ForStatement node){\\n  add(node.getClass().getName(),node);\\n  return true;\\n}': 1, 'MethodDeclaration:-:boolean visit(Comment node)': 1, 'SimpleType:-:VariableDeclarationFragment': 1, '@Override  public boolean visit(ProvidesDirective node)': 1, 'MethodInvocation:-:temp.put(newLine,temp.get(newLine) + 1)': 1, 'ExpressionStatement:-:parser.setSource(file_content);': 1, 'MethodInvocation:-:modi.length()': 1, 'SimpleType:-:SingleMemberAnnotation': 1, 'SingleVariableDeclaration:-:ConditionalExpression node': 1, 'SingleVariableDeclaration:-:NullLiteral node': 1, 'ExpressionStatement:-:add(\"while (\" + node.getExpression().toString() + \")\",node);': 1, 'Assignment:-:exc=exc.substring(1,exc.length() - 1)': 1, 'MethodDeclaration:-:void addAST(String x)': 1, 'MethodDeclaration:-:@Override public boolean visit(EnumDeclaration node){\\n  add(node.getClass().getName(),node);\\n  return true;\\n}': 1, 'SimpleName:-:CastExpression': 1, 'IfStatement:-:if (\"IfStatement\".equals(type)) {\\n  IfStatement n=(IfStatement)node;\\n  this.addAST(\"if(\" + n.getExpression().toString() + \")\");\\n}': 1, 'MethodDeclaration:-:boolean visit(TypeDeclaration node)': 1, 'SimpleName:-:FieldAccess': 1, 'MethodDeclaration:-:boolean visit(UsesDirective node)': 1, 'MethodDeclaration:-:boolean visit(EmptyStatement node)': 1, 'VariableDeclarationFragment:-:content=node.toString().trim()': 1, 'Assignment:-:r=n.getReturnType2().toString()': 1, 'ExpressionStatement:-:x=modi + \" \" + r+ \" \"+ n.getName().toString()+ \"(\"+ para+ \")\";': 1, 'SimpleType:-:NumberLiteral': 1, 'SimpleName:-:CharSequence': 2, '@Override  public boolean visit(TryStatement node)': 1, 'SimpleName:-:VariableDeclarationExpression': 1, 'IfStatement:-:if(!line.equals(allChange) && !allChange.equals(newLine))': 1, 'IfStatement:-:if (type.contains(\"Literal\")) {\\n  try {\\n    Pattern.compile(\"\\\\\\\\b\" + content + \"\\\\\\\\b\");\\n  }\\n catch (  Exception e) {\\n    content=null;\\n  }\\n}': 1, 'SimpleType:-:ContinueStatement': 1, \"Assignment:-:type=name.substring(name.lastIndexOf('.') + 1)\": 1, 'ExpressionStatement:-:x=r + \" \" + n.getName().toString()+ \"(\"+ para+ \")\";': 1, 'VariableDeclarationStatement:-:String modi=Arrays.toString(n.modifiers().toArray());': 1, 'SimpleType:-:ExportsDirective': 1, 'SingleVariableDeclaration:-:OpensDirective node': 1, 'SingleVariableDeclaration:-:ProvidesDirective node': 1, 'SimpleType:-:Block': 1, 'MethodInvocation:-:temp.put(allChange,temp.get(allChange) + 1)': 1, 'SimpleName:-:Iterator': 1, 'SimpleName:-:ContinueStatement': 1, 'SingleVariableDeclaration:-:Modifier node': 1, 'SimpleName:-:hashCode': 2, 'MethodDeclaration:-:@Override public boolean visit(EmptyStatement node){\\n  add(node.getClass().getName(),node);\\n  return true;\\n}': 1, 'MethodDeclaration:-:@Override public boolean visit(AssertStatement node){\\n  add(node.getClass().getName(),node);\\n  return true;\\n}': 1, 'SingleVariableDeclaration:-:ThisExpression node': 1, 'InfixExpression:-:\"while (\" + node.getExpression().toString() + \")\"': 1, 'SimpleName:-:ArrayAccess': 1, 'SimpleType:-:TextElement': 1, 'SingleVariableDeclaration:-:UsesDirective node': 1, 'SimpleName:-:TagElement': 1, 'SingleVariableDeclaration:-:SwitchCase node': 1, '@Override  public boolean visit(MethodInvocation node)': 1, 'MethodInvocation:-:exc.length()': 2, 'SingleVariableDeclaration:-:QualifiedName node': 1, 'ExpressionStatement:-:content=null;': 1, '@Override  public boolean visit(WhileStatement node)': 1, 'SimpleType:-:ArrayInitializer': 1, 'SimpleName:-:List': 2, 'SimpleType:-:EnumDeclaration': 1, 'SimpleName:-:Map': 2, 'MethodDeclaration:-:@Override public boolean visit(SuperFieldAccess node){\\n  add(node.getClass().getName(),node);\\n  return true;\\n}': 1, 'SingleVariableDeclaration:-:Javadoc node': 1, 'SimpleName:-:InfixExpression': 1, 'PrefixExpression:-:!this.AST_Map.containsKey(x)': 1, 'ExpressionStatement:-:cu.accept(visitor);': 1, 'MethodDeclaration:-:@Override public boolean visit(CharacterLiteral node){\\n  add(node.getClass().getName(),node);\\n  return true;\\n}': 1, 'SingleVariableDeclaration:-:PrefixExpression node': 1, 'ExpressionStatement:-:this.AST_Map.put(x,this.AST_Map.get(x) + 1);': 1, 'MethodDeclaration:-:boolean visit(ArrayCreation node)': 1, 'SimpleType:-:EnumConstantDeclaration': 1, 'SimpleName:-:ConditionalExpression': 1, 'IfStatement:-:if (n.getReturnType2() == null) {\\n  r=\"\";\\n}\\n else {\\n  r=n.getReturnType2().toString();\\n}': 1, '@Override  public boolean visit(ReturnStatement node)': 1, 'VariableDeclarationFragment:-:line=i.next().toString()': 1, '@Override  public boolean visit(SingleVariableDeclaration node)': 1, 'MethodDeclaration:-:@Override public boolean visit(SingleVariableDeclaration node){\\n  add(node.getClass().getName(),node);\\n  return true;\\n}': 1, 'SimpleName:-:String': 17, 'MethodDeclaration:-:boolean visit(ThrowStatement node)': 1, 'VariableDeclarationStatement:-:String type=null;': 1, 'IfStatement:-:if(!simpleName.contains(content))': 2, 'SimpleType:-:FieldAccess': 1, 'SimpleType:-:MemberValuePair': 1, '@Override  public boolean visit(CatchClause node)': 1, '@Override  public boolean visit(PrimitiveType node)': 1, 'SimpleName:-:HashMap': 4, 'MethodDeclaration:-:@Override public boolean visit(TypeMethodReference node){\\n  add(node.getClass().getName(),node);\\n  return true;\\n}': 1, 'MethodDeclaration:-:@Override public boolean visit(SynchronizedStatement node){\\n  add(node.getClass().getName(),node);\\n  return true;\\n}': 1, 'SingleVariableDeclaration:-:CatchClause node': 1, 'MethodDeclaration:-:@Override public boolean visit(CreationReference node){\\n  add(node.getClass().getName(),node);\\n  return true;\\n}': 1, 'ReturnStatement:-:return temp;': 1, 'MethodDeclaration:-:boolean visit(QualifiedType node)': 1, 'SimpleName:-:node': 267, '@Override  public boolean visit(Javadoc node)': 1, 'MethodDeclaration:-:boolean visit(SimpleType node)': 1, 'MethodDeclaration:-:boolean visit(EnhancedForStatement node)': 1, 'private void addAST(String x)': 1, 'VariableDeclarationStatement:-:ASTParser parser=ASTParser.newParser(AST.JLS10);': 1, 'MethodDeclaration:-:@Override public boolean visit(QualifiedName node){\\n  return true;\\n}': 1, 'SimpleType:-:CompilationUnit': 3, 'SimpleType:-:ArrayAccess': 1, 'SimpleName:-:cu': 3, 'CastExpression:-:(CompilationUnit)parser.createAST(null)': 1, 'MethodDeclaration:-:@Override public boolean visit(ExportsDirective node){\\n  add(node.getClass().getName(),node);\\n  return true;\\n}': 1, '@Override  public boolean visit(ExportsDirective node)': 1, 'MethodDeclaration:-:@Override public boolean visit(TypeLiteral node){\\n  return true;\\n}': 1, 'MethodDeclaration:-:@Override public boolean visit(PrefixExpression node){\\n  add(node.getClass().getName(),node);\\n  return true;\\n}': 1, 'MethodDeclaration:-:@Override public boolean visit(SwitchCase node){\\n  add(node.getClass().getName(),node);\\n  return true;\\n}': 1, 'SimpleName:-:Similarity_Visitor': 4, '@Override  public boolean visit(ConstructorInvocation node)': 1, 'MethodDeclaration:-:boolean visit(SuperMethodInvocation node)': 1, 'IfStatement:-:if (!this.AST_Map.containsKey(x)) {\\n  this.AST_Map.put(x,1);\\n}\\n else {\\n  this.AST_Map.put(x,this.AST_Map.get(x) + 1);\\n}': 1, 'SingleVariableDeclaration:-:EnhancedForStatement node': 1, 'IfStatement:-:if(exc.length() != 0)': 1, 'MethodDeclaration:-:boolean visit(VariableDeclarationExpression node)': 1, 'MethodDeclaration:-:Map<CharSequence,Integer> normaliz()': 1, 'SimpleName:-:VariableDeclarationStatement': 1, 'CatchClause:-:catch (Exception e) {\\n  content=null;\\n}': 1, 'VariableDeclarationExpression:-:Iterator i=AST_Map.keySet().iterator()': 1, 'SimpleType:-:List': 2, 'VariableDeclarationStatement:-:MethodDeclaration n=(MethodDeclaration)node;': 1, 'MethodDeclaration:-:boolean visit(FieldAccess node)': 1, 'IfStatement:-:if(type.contains(\"Literal\"))': 1, 'IfStatement:-:if(!temp.containsKey(newLine))': 1, 'InfixExpression:-:x + \" \" + exc': 1, 'MethodDeclaration:-:boolean visit(AssertStatement node)': 1, 'MethodDeclaration:-:boolean visit(SwitchCase node)': 1, 'SimpleName:-:ArrayInitializer': 1, 'MethodDeclaration:-:boolean visit(TypeParameter node)': 1, 'SingleVariableDeclaration:-:ContinueStatement node': 1, 'SimpleType:-:VariableDeclarationStatement': 1, 'ClassInstanceCreation:-:new Similarity_Visitor()': 1, \"Assignment:-:exc=exc.replace(',',' ')\": 1, 'MethodInvocation:-:allChange.replaceAll(\"\\\\\\\\b\" + sn + \"\\\\\\\\b\",\" NAME\").trim()': 1, 'MethodDeclaration:-:public boolean visit(Comment node){\\n  return true;\\n}': 1, 'MethodDeclaration:-:@Override public boolean visit(Assignment node){\\n  add(node.getClass().getName(),node);\\n  return true;\\n}': 1, 'VariableDeclarationFragment:-:modi=Arrays.toString(n.modifiers().toArray())': 1, 'MethodDeclaration:-:@Override public boolean visit(DoStatement node){\\n  add(node.getClass().getName(),node);\\n  return true;\\n}': 1, 'SimpleName:-:TextElement': 1, 'SimpleName:-:AST': 1, 'SimpleName:-:hasNext': 1, \"CharacterLiteral:-:','\": 2, 'MethodInvocation:-:line.contains(sn)': 1, 'SimpleType:-:PostfixExpression': 1, 'SimpleType:-:SimpleType': 1, 'SingleVariableDeclaration:-:SynchronizedStatement node': 1, 'ReturnStatement:-:return simpleName;': 1, 'MethodInvocation:-:Pattern.compile(\"\\\\\\\\b\" + content + \"\\\\\\\\b\")': 1, 'MethodDeclaration:-:boolean visit(AnonymousClassDeclaration node)': 1, 'public List<String> getSimpleName()': 1, 'MethodDeclaration:-:@Override public boolean visit(SuperMethodReference node){\\n  add(node.getClass().getName(),node);\\n  return true;\\n}': 1, 'ExpressionStatement:-:cu=(CompilationUnit)parser.createAST(null);': 1, 'InfixExpression:-:n.getReturnType2() == null': 1, 'VariableDeclarationFragment:-:n=(MethodDeclaration)node': 1, 'MethodInvocation:-:\"MethodDeclaration\".equals(type)': 1, 'SimpleType:-:Modifier': 1, 'SimpleType:-:ParenthesizedExpression': 1, 'MethodDeclaration:-:boolean visit(EnumDeclaration node)': 1, 'SimpleName:-:parser': 3, 'MethodInvocation:-:this.AST_Map.put(x,1)': 1, 'MethodDeclaration:-:@Override public boolean visit(VariableDeclarationFragment node){\\n  add(node.getClass().getName(),node);\\n  return true;\\n}': 1, 'MethodInvocation:-:node.toString()': 1, 'MethodDeclaration:-:@Override public boolean visit(SuperMethodInvocation node){\\n  add(node.getClass().getName(),node);\\n  return true;\\n}': 1, 'IfStatement:-:if (name != null) {\\n  type=name.substring(name.lastIndexOf(\\'.\\') + 1);\\n  if (type.equals(\"StringLiteral\")) {\\n    content=content.subSequence(1,content.length() - 1).toString().trim();\\n    hash=content.hashCode();\\n  }\\n  if (\"IfStatement\".equals(type)) {\\n    IfStatement n=(IfStatement)node;\\n    this.addAST(\"if(\" + n.getExpression().toString() + \")\");\\n  }\\n  if (\"MethodDeclaration\".equals(type)) {\\n    MethodDeclaration n=(MethodDeclaration)node;\\n    if (!simpleName.contains(content)) {\\n      simpleName.add(n.getName().toString());\\n    }\\n    String para=Arrays.toString(n.parameters().toArray());\\n    para=para.substring(1,para.length() - 1);\\n    String x=null;\\n    String r;\\n    if (n.getReturnType2() == null) {\\n      r=\"\";\\n    }\\n else {\\n      r=n.getReturnType2().toString();\\n    }\\n    x=r + \" \" + n.getName().toString()+ \"(\"+ para+ \")\";\\n    this.addAST(x);\\n    String modi=Arrays.toString(n.modifiers().toArray());\\n    modi=modi.replace(\\',\\',\\' \\');\\n    modi=modi.substring(1,modi.length() - 1);\\n    x=modi + \" \" + r+ \" \"+ n.getName().toString()+ \"(\"+ para+ \")\";\\n    this.addAST(x);\\n    String exc=Arrays.toString(n.thrownExceptionTypes().toArray());\\n    exc=exc.replace(\\',\\',\\' \\');\\n    exc=exc.substring(1,exc.length() - 1);\\n    x=x + \" \" + exc;\\n    if (exc.length() != 0) {\\n      this.addAST(x);\\n    }\\n  }\\n  if (type.contains(\"Literal\")) {\\n    try {\\n      Pattern.compile(\"\\\\\\\\b\" + content + \"\\\\\\\\b\");\\n    }\\n catch (    Exception e) {\\n      content=null;\\n    }\\n  }\\n  if (content != null && type.contains(\"Literal\") || type.contains(\"Name\") && typeDic) {\\n    if (!simpleName.contains(content)) {\\n      simpleName.add(content);\\n    }\\n  }\\n  if (typeDic && content != null) {\\n    this.addAST(content);\\n  }\\n}': 1, 'MethodInvocation:-:n.getName().toString()': 3, 'SimpleType:-:OpensDirective': 1, 'SimpleName:-:Dimension': 1, \"CharacterLiteral:-:'.'\": 1, 'SimpleName:-:ArrayCreation': 1, 'MethodDeclaration:-:boolean visit(ModuleDeclaration node)': 1, 'SimpleName:-:SimpleName': 1, 'SingleVariableDeclaration:-:SuperMethodReference node': 1, 'SimpleName:-:Comment': 1, 'VariableDeclarationFragment:-:newLine=null': 1, 'SimpleType:-:UsesDirective': 1, 'MethodDeclaration:-:@Override public boolean visit(IntersectionType node){\\n  add(node.getClass().getName(),node);\\n  return true;\\n}': 1, 'SingleVariableDeclaration:-:RequiresDirective node': 1, 'MethodDeclaration:-:@Override public boolean visit(ModuleDeclaration node){\\n  add(node.getClass().getName(),node);\\n  return true;\\n}': 1, 'SingleVariableDeclaration:-:Object node': 1, 'Assignment:-:content=content.subSequence(1,content.length() - 1).toString().trim()': 1, 'MethodDeclaration:-:@Override public boolean visit(SimpleName node){\\n  add(node.getClass().getName(),node);\\n  return true;\\n}': 1, 'MethodInvocation:-:allChange.equals(newLine)': 1, 'ClassInstanceCreation:-:new ArrayList<>()': 1, 'SingleVariableDeclaration:-:CharacterLiteral node': 1, 'PrefixExpression:-:!allChange.equals(newLine)': 1, 'SingleVariableDeclaration:-:WhileStatement node': 1, 'SingleVariableDeclaration:-:ImportDeclaration node': 1, 'SimpleName:-:ArrayType': 1, 'SimpleName:-:WhileStatement': 1, 'MethodDeclaration:-:@Override public boolean visit(ParameterizedType node){\\n  add(node.getClass().getName(),node);\\n  return true;\\n}': 1, 'MethodDeclaration:-:boolean visit(IfStatement node)': 1, 'SimpleName:-:RequiresDirective': 1, 'MethodInvocation:-:i.next()': 1, 'ParameterizedType:-:HashMap<String,Integer>': 2, 'SimpleName:-:SwitchStatement': 1, 'SingleVariableDeclaration:-:ForStatement node': 1, 'MethodDeclaration:-:boolean visit(StringLiteral node)': 1, 'MethodDeclaration:-:boolean visit(MethodDeclaration node)': 1, 'SimpleName:-:parse_java_file': 1, 'SimpleName:-:StringLiteral': 1, 'ExpressionStatement:-:this.AST_Map.put(x,1);': 1, 'SimpleName:-:MemberValuePair': 1, 'SingleVariableDeclaration:-:WildcardType node': 1, 'SingleVariableDeclaration:-:ArrayType node': 1, 'SimpleName:-:ModuleModifier': 1, 'SingleVariableDeclaration:-:ConstructorInvocation node': 1, 'SingleVariableDeclaration:-:ExportsDirective node': 1, 'SimpleName:-:i': 3, 'VariableDeclarationFragment:-:x=null': 1, 'MethodDeclaration:-:@Override public boolean visit(Initializer node){\\n  add(node.getClass().getName(),node);\\n  return true;\\n}': 1, 'SingleVariableDeclaration:-:VariableDeclarationFragment node': 1, 'SimpleName:-:e': 1, 'ExpressionStatement:-:this.addAST(content);': 1, 'SimpleName:-:getParameter': 1, 'MethodDeclaration:-:@Override public boolean visit(PostfixExpression node){\\n  add(node.getClass().getName(),node);\\n  return true;\\n}': 1, 'SimpleName:-:subSequence': 1, \"Assignment:-:modi=modi.replace(',',' ')\": 1, 'TryStatement:-:try {\\n  Pattern.compile(\"\\\\\\\\b\" + content + \"\\\\\\\\b\");\\n}\\n catch (Exception e) {\\n  content=null;\\n}': 1, 'SimpleName:-:CatchClause': 1, 'ExpressionStatement:-:r=n.getReturnType2().toString();': 1, '@Override  public boolean visit(TypeMethodReference node)': 1, 'MethodDeclaration:-:boolean visit(TextElement node)': 1, 'SimpleName:-:MethodRef': 1, 'SimpleName:-:MethodDeclaration': 3, 'MethodDeclaration:-:@Override public boolean visit(InfixExpression node){\\n  add(node.getClass().getName(),node);\\n  return true;\\n}': 1, 'public HashMap<String,Integer> getAST_Map()': 1, 'FieldAccess:-:this.typeDic': 1, 'MethodDeclaration:-:boolean visit(BreakStatement node)': 1, 'IfStatement:-:if (type.equals(\"StringLiteral\")) {\\n  content=content.subSequence(1,content.length() - 1).toString().trim();\\n  hash=content.hashCode();\\n}': 1, 'MethodDeclaration:-:public static Similarity_Visitor parse_java_file(char[] file_content){\\n  ASTParser parser=ASTParser.newParser(AST.JLS10);\\n  parser.setSource(file_content);\\n  final CompilationUnit cu;\\n  cu=(CompilationUnit)parser.createAST(null);\\n  Similarity_Visitor visitor=new Similarity_Visitor();\\n  cu.accept(visitor);\\n  return visitor;\\n}': 1, 'MethodDeclaration:-:@Override public boolean visit(BlockComment node){\\n  return true;\\n}': 1, 'SimpleName:-:next': 1, 'SimpleName:-:n': 11, 'SingleVariableDeclaration:-:PostfixExpression node': 1, '@Override  public boolean visit(ExpressionMethodReference node)': 1, 'MethodInvocation:-:content.subSequence(1,content.length() - 1).toString().trim()': 1, 'MethodInvocation:-:n.getReturnType2().toString()': 1, 'SimpleName:-:OpensDirective': 1, 'IfStatement:-:if(typeDic && content != null)': 1, 'SimpleName:-:x': 15, 'SimpleName:-:r': 5, 'SimpleType:-:TypeParameter': 1, 'MethodInvocation:-:i.hasNext()': 1, 'ExpressionStatement:-:modi=modi.substring(1,modi.length() - 1);': 1, 'SingleVariableDeclaration:-:PrimitiveType node': 1, 'MethodDeclaration:-:boolean visit(MethodRefParameter node)': 1, 'SingleVariableDeclaration:-:SuperFieldAccess node': 1, 'MethodDeclaration:-:boolean visit(IntersectionType node)': 1, 'SimpleName:-:replace': 2, 'SimpleType:-:InfixExpression': 1, 'SimpleType:-:ASTVisitor': 1, 'MethodInvocation:-:node.toString().trim()': 1, 'MethodDeclaration:-:boolean visit(TypeMethodReference node)': 1, 'SimpleName:-:EnhancedForStatement': 1, '@Override  public boolean visit(ParenthesizedExpression node)': 1, 'SingleVariableDeclaration:-:EnumConstantDeclaration node': 1, 'MethodDeclaration:-:boolean visit(SuperMethodReference node)': 1, 'SingleVariableDeclaration:-:Block node': 1, 'MethodDeclaration:-:@Override public boolean visit(Block node){\\n  return true;\\n}': 1, 'SimpleName:-:parameters': 1, 'SimpleType:-:ImportDeclaration': 1, 'SingleVariableDeclaration:-:SuperConstructorInvocation node': 1, 'SimpleType:-:TypeDeclaration': 1, '@Override  public boolean visit(SynchronizedStatement node)': 1, 'MethodDeclaration:-:@Override public boolean visit(TypeDeclaration node){\\n  this.typeDic=true;\\n  return true;\\n}': 1, 'SimpleName:-:IfStatement': 3, 'MethodDeclaration:-:@Override public boolean visit(ArrayCreation node){\\n  add(node.getClass().getName(),node);\\n  return true;\\n}': 1, 'MethodDeclaration:-:boolean visit(QualifiedName node)': 1, 'SimpleName:-:compile': 1, 'SimpleType:-:RequiresDirective': 1, 'MethodDeclaration:-:@Override public boolean visit(Javadoc node){\\n  return true;\\n}': 1, 'SimpleName:-:TypeDeclarationStatement': 1, 'SingleVariableDeclaration:-:BreakStatement node': 1, 'ExpressionStatement:-:x=x + \" \" + exc;': 1, 'MethodInvocation:-:ASTParser.newParser(AST.JLS10)': 1, 'SimpleName:-:ArrayList': 1, 'MethodDeclaration:-:boolean visit(SingleVariableDeclaration node)': 1, 'VariableDeclarationStatement:-:Similarity_Visitor visitor=new Similarity_Visitor();': 1, '@Override  public boolean visit(InfixExpression node)': 1, '@Override  public boolean visit(TypeDeclarationStatement node)': 1, 'SimpleType:-:SuperMethodReference': 1, 'MethodInvocation:-:content.subSequence(1,content.length() - 1).toString()': 1, '@Override  public boolean visit(WildcardType node)': 1, 'SimpleName:-:toString': 14, 'PrefixExpression:-:!temp.containsKey(newLine)': 1, '@Override  public boolean visit(QualifiedType node)': 1, 'SimpleType:-:SwitchStatement': 1, 'InfixExpression:-:\"for(\" + node.getParameter().toString() + \" : \"+ node.getExpression().toString()+ \")\"': 1, 'MethodDeclaration:-:boolean visit(LabeledStatement node)': 1, 'MethodDeclaration:-:@Override public boolean visit(TryStatement node){\\n  add(node.getClass().getName(),node);\\n  return true;\\n}': 1, 'MethodDeclaration:-:boolean visit(CreationReference node)': 1, 'SimpleType:-:ExpressionMethodReference': 1, 'public  static Similarity_Visitor parse_java_file(char[] file_content)': 1, 'MethodDeclaration:-:boolean visit(ProvidesDirective node)': 1, 'ThisExpression:-:this': 10, 'MethodDeclaration:-:@Override public boolean visit(ConstructorInvocation node){\\n  add(node.getClass().getName(),node);\\n  return true;\\n}': 1, 'VariableDeclarationFragment:-:exc=Arrays.toString(n.thrownExceptionTypes().toArray())': 1, 'SimpleType:-:MethodRefParameter': 1, 'SimpleName:-:MemberRef': 1, 'MethodDeclaration:-:@Override public boolean visit(PrimitiveType node){\\n  return true;\\n}': 1, 'VariableDeclarationStatement:-:String content=node.toString().trim();': 1, 'MethodInvocation:-:line.equals(allChange)': 1, 'SimpleType:-:ConstructorInvocation': 1, '@Override  public boolean visit(Initializer node)': 1, 'MethodInvocation:-:this.AST_Map.put(x,this.AST_Map.get(x) + 1)': 1, 'MethodInvocation:-:temp.put(allChange,1)': 1, 'SimpleName:-:ForStatement': 1, 'SingleVariableDeclaration:-:LambdaExpression node': 1, 'SimpleName:-:put': 6, 'SimpleName:-:ImportDeclaration': 1, 'MethodInvocation:-:node.getClass()': 79, 'SimpleName:-:TypeParameter': 1, 'MethodDeclaration:-:@Override public boolean visit(CatchClause node){\\n  add(node.getClass().getName(),node);\\n  return true;\\n}': 1, 'MethodInvocation:-:line.replaceAll(\"\\\\\\\\b\" + sn + \"\\\\\\\\b\",\" NAME\").trim()': 1, 'SimpleName:-:name': 4, 'SimpleType:-:Assignment': 1, 'SimpleName:-:ThisExpression': 1, 'SingleVariableDeclaration:-:TypeDeclarationStatement node': 1, 'VariableDeclarationStatement:-:String para=Arrays.toString(n.parameters().toArray());': 1, 'SimpleType:-:ArrayList': 1, 'MethodInvocation:-:temp.containsKey(newLine)': 1, 'SingleVariableDeclaration:-:ArrayAccess node': 1, 'SingleVariableDeclaration:-:InfixExpression node': 1, 'MethodDeclaration:-:void add(String name, Object node)': 1, 'SimpleName:-:PostfixExpression': 1, '@Override  public boolean visit(SimpleName node)': 1, '@Override  public boolean visit(EmptyStatement node)': 1, 'SimpleType:-:ConditionalExpression': 1, 'StringLiteral:-:Name': 1, 'BooleanLiteral:-:true': 101, 'IfStatement:-:if (!newLine.equals(line)) {\\n  if (!temp.containsKey(newLine)) {\\n    temp.put(newLine,1);\\n  }\\n else {\\n    temp.put(newLine,temp.get(newLine) + 1);\\n  }\\n}': 1, 'MethodDeclaration:-:boolean visit(AnnotationTypeMemberDeclaration node)': 1, 'StringLiteral:-:\\\\\\\\b': 6, 'MethodDeclaration:-:boolean visit(PostfixExpression node)': 1, 'MethodDeclaration:-:@Override public boolean visit(ExpressionMethodReference node){\\n  add(node.getClass().getName(),node);\\n  return true;\\n}': 1, 'InfixExpression:-:temp.get(newLine) + 1': 1, 'MethodDeclaration:-:@Override public boolean visit(TagElement node){\\n  return true;\\n}': 1, 'MethodDeclaration:-:@Override public boolean visit(EnumConstantDeclaration node){\\n  add(node.getClass().getName(),node);\\n  return true;\\n}': 1, 'MethodInvocation:-:content.subSequence(1,content.length() - 1)': 1, \"MethodInvocation:-:modi.replace(',',' ')\": 1, 'VariableDeclarationFragment:-:type=null': 1, 'InfixExpression:-:para.length() - 1': 1, 'SimpleName:-:temp': 10, 'IfStatement:-:if (content != null && type.contains(\"Literal\") || type.contains(\"Name\") && typeDic) {\\n  if (!simpleName.contains(content)) {\\n    simpleName.add(content);\\n  }\\n}': 1, 'MethodDeclaration:-:@Override public boolean visit(ReturnStatement node){\\n  add(node.getClass().getName(),node);\\n  return true;\\n}': 1, 'SimpleName:-:SingleVariableDeclaration': 1, 'IfStatement:-:if(!this.AST_Map.containsKey(x))': 1, 'SingleVariableDeclaration:-:MarkerAnnotation node': 1, 'SimpleType:-:ArrayCreation': 1, 'MethodInvocation:-:node.getExpression()': 2, 'SingleVariableDeclaration:-:LabeledStatement node': 1, 'SimpleName:-:para': 6, 'MethodDeclaration:-:boolean visit(BlockComment node)': 1, 'SingleVariableDeclaration:-:CreationReference node': 1, 'SimpleName:-:LambdaExpression': 1, 'MethodInvocation:-:this.AST_Map.containsKey(x)': 1, '@Override  public boolean visit(LambdaExpression node)': 1, 'MethodDeclaration:-:boolean visit(InfixExpression node)': 1, 'SingleVariableDeclaration:-:FieldAccess node': 1, 'SimpleType:-:FieldDeclaration': 1, 'SimpleName:-:WildcardType': 1, 'ForStatement:-:for (Iterator i=AST_Map.keySet().iterator(); i.hasNext(); ) {\\n  String line=i.next().toString();\\n  String allChange=line;\\n  String newLine=null;\\n  for (  String sn : simpleName) {\\n    if (line.contains(sn)) {\\n      allChange=allChange.replaceAll(\"\\\\\\\\b\" + sn + \"\\\\\\\\b\",\" NAME\").trim();\\n      newLine=line.replaceAll(\"\\\\\\\\b\" + sn + \"\\\\\\\\b\",\" NAME\").trim();\\n      if (!newLine.equals(line)) {\\n        if (!temp.containsKey(newLine)) {\\n          temp.put(newLine,1);\\n        }\\n else {\\n          temp.put(newLine,temp.get(newLine) + 1);\\n        }\\n      }\\n    }\\n  }\\n  if (!line.equals(allChange) && !allChange.equals(newLine)) {\\n    if (!temp.containsKey(allChange)) {\\n      temp.put(allChange,1);\\n    }\\n else {\\n      temp.put(allChange,temp.get(allChange) + 1);\\n    }\\n  }\\n}': 1, 'MethodDeclaration:-:private void addAST(String x){\\n  x=x.trim();\\n  if (!this.AST_Map.containsKey(x)) {\\n    this.AST_Map.put(x,1);\\n  }\\n else {\\n    this.AST_Map.put(x,this.AST_Map.get(x) + 1);\\n  }\\n}': 1, 'SimpleType:-:BooleanLiteral': 1, 'SimpleName:-:ExportsDirective': 1, 'SimpleName:-:iterator': 1, 'SingleVariableDeclaration:-:DoStatement node': 1, 'SimpleName:-:sn': 4, 'SimpleType:-:WildcardType': 1, 'SimpleName:-:substring': 4, 'MethodDeclaration:-:@Override public boolean visit(QualifiedType node){\\n  add(node.getClass().getName(),node);\\n  return true;\\n}': 1, 'MethodDeclaration:-:boolean visit(VariableDeclarationFragment node)': 1, 'InfixExpression:-:\"if(\" + n.getExpression().toString() + \")\"': 1, 'MethodInvocation:-:node.getParameter()': 1, 'MarkerAnnotation:-:@Override': 99, 'SimpleName:-:Block': 1, '@Override  public boolean visit(NameQualifiedType node)': 1, 'SimpleType:-:ThrowStatement': 1, '@Override  public boolean visit(StringLiteral node)': 1, '@Override  public boolean visit(TypeDeclaration node)': 1, \"MethodInvocation:-:exc.replace(',',' ')\": 1, 'SingleVariableDeclaration:-:TagElement node': 1, 'SingleVariableDeclaration:-:MemberValuePair node': 1, 'MethodInvocation:-:n.getExpression().toString()': 1, 'MethodInvocation:-:node.getExpression().toString()': 2, '@Override  public boolean visit(SuperMethodInvocation node)': 1, 'MethodDeclaration:-:@Override public boolean visit(AnnotationTypeDeclaration node){\\n  add(node.getClass().getName(),node);\\n  return true;\\n}': 1, 'IfStatement:-:if(\"MethodDeclaration\".equals(type))': 1, 'SimpleName:-:trim': 5, 'MethodDeclaration:-:boolean visit(SimpleName node)': 1, 'SimpleName:-:IntersectionType': 1, 'SimpleType:-:String': 17, '@Override  public boolean visit(NullLiteral node)': 1, 'MethodDeclaration:-:boolean visit(TypeDeclarationStatement node)': 1, 'SimpleName:-:SuperMethodInvocation': 1, 'MethodDeclaration:-:boolean visit(ArrayType node)': 1, 'InfixExpression:-:content != null && type.contains(\"Literal\") || type.contains(\"Name\") && typeDic': 1, 'IfStatement:-:if (line.contains(sn)) {\\n  allChange=allChange.replaceAll(\"\\\\\\\\b\" + sn + \"\\\\\\\\b\",\" NAME\").trim();\\n  newLine=line.replaceAll(\"\\\\\\\\b\" + sn + \"\\\\\\\\b\",\" NAME\").trim();\\n  if (!newLine.equals(line)) {\\n    if (!temp.containsKey(newLine)) {\\n      temp.put(newLine,1);\\n    }\\n else {\\n      temp.put(newLine,temp.get(newLine) + 1);\\n    }\\n  }\\n}': 1, 'Assignment:-:this.typeDic=true': 1, 'ExpressionStatement:-:hash=content.hashCode();': 1, 'VariableDeclarationFragment:-:typeDic=false': 1, 'MethodDeclaration:-:private void add(String name,Object node){\\n  String type=null;\\n  String content=node.toString().trim();\\n  Integer hash=content.hashCode();\\n  if (name != null) {\\n    type=name.substring(name.lastIndexOf(\\'.\\') + 1);\\n    if (type.equals(\"StringLiteral\")) {\\n      content=content.subSequence(1,content.length() - 1).toString().trim();\\n      hash=content.hashCode();\\n    }\\n    if (\"IfStatement\".equals(type)) {\\n      IfStatement n=(IfStatement)node;\\n      this.addAST(\"if(\" + n.getExpression().toString() + \")\");\\n    }\\n    if (\"MethodDeclaration\".equals(type)) {\\n      MethodDeclaration n=(MethodDeclaration)node;\\n      if (!simpleName.contains(content)) {\\n        simpleName.add(n.getName().toString());\\n      }\\n      String para=Arrays.toString(n.parameters().toArray());\\n      para=para.substring(1,para.length() - 1);\\n      String x=null;\\n      String r;\\n      if (n.getReturnType2() == null) {\\n        r=\"\";\\n      }\\n else {\\n        r=n.getReturnType2().toString();\\n      }\\n      x=r + \" \" + n.getName().toString()+ \"(\"+ para+ \")\";\\n      this.addAST(x);\\n      String modi=Arrays.toString(n.modifiers().toArray());\\n      modi=modi.replace(\\',\\',\\' \\');\\n      modi=modi.substring(1,modi.length() - 1);\\n      x=modi + \" \" + r+ \" \"+ n.getName().toString()+ \"(\"+ para+ \")\";\\n      this.addAST(x);\\n      String exc=Arrays.toString(n.thrownExceptionTypes().toArray());\\n      exc=exc.replace(\\',\\',\\' \\');\\n      exc=exc.substring(1,exc.length() - 1);\\n      x=x + \" \" + exc;\\n      if (exc.length() != 0) {\\n        this.addAST(x);\\n      }\\n    }\\n    if (type.contains(\"Literal\")) {\\n      try {\\n        Pattern.compile(\"\\\\\\\\b\" + content + \"\\\\\\\\b\");\\n      }\\n catch (      Exception e) {\\n        content=null;\\n      }\\n    }\\n    if (content != null && type.contains(\"Literal\") || type.contains(\"Name\") && typeDic) {\\n      if (!simpleName.contains(content)) {\\n        simpleName.add(content);\\n      }\\n    }\\n    if (typeDic && content != null) {\\n      this.addAST(content);\\n    }\\n  }\\n}': 1, 'SimpleName:-:AnnotationTypeMemberDeclaration': 1, 'SimpleType:-:MethodRef': 1, 'VariableDeclarationStatement:-:IfStatement n=(IfStatement)node;': 1, 'InfixExpression:-:\"\\\\\\\\b\" + sn + \"\\\\\\\\b\"': 2, 'MethodDeclaration:-:@Override public boolean visit(ClassInstanceCreation node){\\n  add(node.getClass().getName(),node);\\n  return true;\\n}': 1, 'FieldDeclaration:-:private List<String> simpleName=new ArrayList<>();': 1, 'SingleVariableDeclaration:-:AnonymousClassDeclaration node': 1, 'SimpleName:-:UnionType': 1, 'MethodDeclaration:-:boolean visit(NameQualifiedType node)': 1, 'MethodDeclaration:-:boolean visit(SynchronizedStatement node)': 1, 'SingleVariableDeclaration:-:FieldDeclaration node': 1, 'StringLiteral:-:IfStatement': 1, 'InfixExpression:-:typeDic && content != null': 1, 'SingleVariableDeclaration:-:ArrayCreation node': 1, 'MethodDeclaration:-:boolean visit(MethodRef node)': 1, 'IfStatement:-:if(\"IfStatement\".equals(type))': 1, 'MethodDeclaration:-:public HashMap<String,Integer> getAST_Map(){\\n  return AST_Map;\\n}': 1, 'CastExpression:-:(MethodDeclaration)node': 1, 'SimpleType:-:AnnotationTypeDeclaration': 1, 'SimpleType:-:StringLiteral': 1, 'VariableDeclarationStatement:-:String line=i.next().toString();': 1, 'SimpleType:-:ArrayType': 1, 'SimpleType:-:QualifiedType': 1, 'MethodInvocation:-:simpleName.add(content)': 1, 'ExpressionStatement:-:temp.put(newLine,1);': 1, 'SimpleType:-:PrimitiveType': 1, 'MethodDeclaration:-:@Override public boolean visit(MemberRef node){\\n  return true;\\n}': 1, 'SimpleName:-:Assignment': 1, 'VariableDeclarationFragment:-:r': 1, 'SimpleType:-:Similarity_Visitor': 3, 'MethodDeclaration:-:boolean visit(OpensDirective node)': 1, 'MethodDeclaration:-:@Override public boolean visit(ParenthesizedExpression node){\\n  add(node.getClass().getName(),node);\\n  return true;\\n}': 1, 'MethodDeclaration:-:@Override public boolean visit(LabeledStatement node){\\n  add(node.getClass().getName(),node);\\n  return true;\\n}': 1, 'MethodDeclaration:-:@Override public boolean visit(TypeDeclarationStatement node){\\n  add(node.getClass().getName(),node);\\n  return true;\\n}': 1, 'SimpleType:-:EnhancedForStatement': 1, 'SimpleName:-:AssertStatement': 1, 'SimpleName:-:SuperMethodReference': 1, 'SimpleName:-:CharacterLiteral': 1, 'SimpleName:-:TypeMethodReference': 1, 'MethodDeclaration:-:@Override public boolean visit(UnionType node){\\n  add(node.getClass().getName(),node);\\n  return true;\\n}': 1, 'MethodInvocation:-:n.modifiers()': 1, \"MethodInvocation:-:name.lastIndexOf('.')\": 1, 'SingleVariableDeclaration:-:IfStatement node': 1, 'SimpleName:-:normaliz': 1, 'ExpressionStatement:-:x=x.trim();': 1, 'IfStatement:-:if (!temp.containsKey(allChange)) {\\n  temp.put(allChange,1);\\n}\\n else {\\n  temp.put(allChange,temp.get(allChange) + 1);\\n}': 1, '@Override  public boolean visit(PrefixExpression node)': 1, 'VariableDeclarationFragment:-:n=(IfStatement)node': 1, 'SimpleType:-:CharSequence': 2, 'MethodDeclaration:-:boolean visit(ParenthesizedExpression node)': 1, '@Override  public boolean visit(VariableDeclarationFragment node)': 1, 'SingleVariableDeclaration:-:NumberLiteral node': 1, 'InfixExpression:-:r + \" \" + n.getName().toString()+ \"(\"+ para+ \")\"': 1, 'SimpleType:-:IfStatement': 3, 'IfStatement:-:if (typeDic && content != null) {\\n  this.addAST(content);\\n}': 1, 'SimpleName:-:ConstructorInvocation': 1, 'MethodDeclaration:-:@Override public boolean visit(ContinueStatement node){\\n  return true;\\n}': 1, 'SimpleName:-:simpleName': 7, \"ExpressionStatement:-:modi=modi.replace(',',' ');\": 1, 'MethodInvocation:-:allChange.replaceAll(\"\\\\\\\\b\" + sn + \"\\\\\\\\b\",\" NAME\")': 1, 'SimpleName:-:newLine': 8, 'MethodDeclaration:-:boolean visit(Modifier node)': 1, 'MethodDeclaration:-:@Override public boolean visit(SimpleType node){\\n  add(node.getClass().getName(),node);\\n  return true;\\n}': 1, '@Override  public boolean visit(QualifiedName node)': 1, 'SimpleType:-:Iterator': 1, 'SimpleName:-:file_content': 2, 'InfixExpression:-:content.length() - 1': 1, 'SimpleType:-:MethodInvocation': 1, '@Override  public boolean visit(SuperConstructorInvocation node)': 1, 'ExpressionStatement:-:temp.put(newLine,temp.get(newLine) + 1);': 1, '@Override  public boolean visit(MethodRef node)': 1, 'SimpleName:-:MethodRefParameter': 1, 'SimpleName:-:CompilationUnit': 3, 'VariableDeclarationFragment:-:allChange=line': 1, 'SimpleType:-:UnionType': 1, 'SimpleName:-:Object': 1, 'SimpleName:-:SuperFieldAccess': 1, 'SimpleType:-:SingleVariableDeclaration': 1, 'SingleVariableDeclaration:-:Dimension node': 1, 'SingleVariableDeclaration:-:VariableDeclarationStatement node': 1, 'SingleVariableDeclaration:-:ExpressionMethodReference node': 1, 'StringLiteral:-:': 5, 'SimpleType:-:CastExpression': 1, 'SimpleName:-:addAST': 6, '@Override  public boolean visit(BlockComment node)': 1, 'MethodInvocation:-:node.getParameter().toString()': 1, 'ExpressionStatement:-:r=\"\";': 1, 'SimpleType:-:Dimension': 1, 'SimpleName:-:NumberLiteral': 1, 'IfStatement:-:if (!simpleName.contains(content)) {\\n  simpleName.add(content);\\n}': 1, 'MethodDeclaration:-:public List<String> getSimpleName(){\\n  return simpleName;\\n}': 1, 'MethodDeclaration:-:boolean visit(WildcardType node)': 1, 'SimpleType:-:ModuleDeclaration': 1, 'InfixExpression:-:type.contains(\"Name\") && typeDic': 1, 'MethodInvocation:-:para.length()': 1, '@Override  public boolean visit(ForStatement node)': 1, 'SingleVariableDeclaration:-:Comment node': 1, 'SimpleName:-:hash': 2, 'MethodInvocation:-:AST_Map.keySet()': 1, '@Override  public boolean visit(BreakStatement node)': 1, '@Override  public boolean visit(CharacterLiteral node)': 1, 'MethodDeclaration:-:@Override public boolean visit(ModuleModifier node){\\n  add(node.getClass().getName(),node);\\n  return true;\\n}': 1, 'SimpleName:-:ThrowStatement': 1, 'MethodDeclaration:-:@Override public boolean visit(TextElement node){\\n  return true;\\n}': 1, '@Override  public boolean visit(OpensDirective node)': 1, 'SingleVariableDeclaration:-:TypeMethodReference node': 1, 'ExpressionStatement:-:this.typeDic=true;': 1, \"ExpressionStatement:-:type=name.substring(name.lastIndexOf('.') + 1);\": 1, 'ExpressionStatement:-:exc=exc.substring(1,exc.length() - 1);': 1, 'MethodDeclaration:-:boolean visit(ExportsDirective node)': 1, 'InfixExpression:-:modi.length() - 1': 1, 'SimpleName:-:modifiers': 1, 'MethodDeclaration:-:boolean visit(LineComment node)': 1, 'Assignment:-:newLine=line.replaceAll(\"\\\\\\\\b\" + sn + \"\\\\\\\\b\",\" NAME\").trim()': 1, 'MethodInvocation:-:add(node.getClass().getName(),node)': 79, 'ExpressionStatement:-:allChange=allChange.replaceAll(\"\\\\\\\\b\" + sn + \"\\\\\\\\b\",\" NAME\").trim();': 1, 'SingleVariableDeclaration:-:EnumDeclaration node': 1, '@Override  public boolean visit(Modifier node)': 1, 'SimpleType:-:CharacterLiteral': 1, 'MethodDeclaration:-:boolean visit(Block node)': 1, 'public boolean visit(Comment node)': 1, '@Override  public boolean visit(VariableDeclarationStatement node)': 1, 'MethodInvocation:-:Arrays.toString(n.modifiers().toArray())': 1, 'MethodInvocation:-:modi.substring(1,modi.length() - 1)': 1, 'SimpleType:-:AnonymousClassDeclaration': 1, 'VariableDeclarationStatement:-:String newLine=null;': 1, 'VariableDeclarationStatement:-:String x=null;': 1, 'MethodDeclaration:-:@Override public boolean visit(MethodRef node){\\n  return true;\\n}': 1, 'SimpleName:-:getExpression': 3, 'ParameterizedType:-:List<String>': 2, 'SimpleType:-:SuperConstructorInvocation': 1, 'MethodDeclaration:-:@Override public boolean visit(FieldAccess node){\\n  add(node.getClass().getName(),node);\\n  return true;\\n}': 1, 'SimpleType:-:LambdaExpression': 1, 'MethodDeclaration:-:boolean visit(PrimitiveType node)': 1, 'MethodDeclaration:-:boolean visit(LambdaExpression node)': 1, 'SimpleName:-:Initializer': 1, '@Override  public boolean visit(TypeParameter node)': 1, 'MethodInvocation:-:n.thrownExceptionTypes()': 1, '@Override  public boolean visit(ArrayCreation node)': 1, 'for(String sn : simpleName):-:for (String sn : simpleName) {\\n  if (line.contains(sn)) {\\n    allChange=allChange.replaceAll(\"\\\\\\\\b\" + sn + \"\\\\\\\\b\",\" NAME\").trim();\\n    newLine=line.replaceAll(\"\\\\\\\\b\" + sn + \"\\\\\\\\b\",\" NAME\").trim();\\n    if (!newLine.equals(line)) {\\n      if (!temp.containsKey(newLine)) {\\n        temp.put(newLine,1);\\n      }\\n else {\\n        temp.put(newLine,temp.get(newLine) + 1);\\n      }\\n    }\\n  }\\n}': 1, 'SimpleName:-:AnnotationTypeDeclaration': 1, 'ReturnStatement:-:return AST_Map;': 1, 'Assignment:-:allChange=allChange.replaceAll(\"\\\\\\\\b\" + sn + \"\\\\\\\\b\",\" NAME\").trim()': 1, 'MethodDeclaration:-:@Override public boolean visit(WhileStatement node){\\n  add(\"while (\" + node.getExpression().toString() + \")\",node);\\n  add(node.getClass().getName(),node);\\n  return true;\\n}': 1, 'SimpleName:-:NormalAnnotation': 1, 'MethodDeclaration:-:@Override public boolean visit(MethodDeclaration node){\\n  add(node.getClass().getName(),node);\\n  return true;\\n}': 1, 'MethodInvocation:-:simpleName.add(n.getName().toString())': 1, 'SimpleName:-:BlockComment': 1, 'MethodInvocation:-:temp.get(newLine)': 1, 'SimpleType:-:PackageDeclaration': 1, 'ParameterizedType:-:Map<CharSequence,Integer>': 2, 'MethodDeclaration:-:@Override public boolean visit(NormalAnnotation node){\\n  add(node.getClass().getName(),node);\\n  return true;\\n}': 1, 'MethodInvocation:-:newLine.equals(line)': 1, '@Override  public boolean visit(AnnotationTypeDeclaration node)': 1, 'SimpleType:-:TypeLiteral': 1, 'MethodInvocation:-:type.contains(\"Name\")': 1, 'MethodDeclaration:-:boolean visit(MethodInvocation node)': 1, 'MethodDeclaration:-:@Override public boolean visit(OpensDirective node){\\n  add(node.getClass().getName(),node);\\n  return true;\\n}': 1, '@Override  public boolean visit(TypeLiteral node)': 1, 'MethodInvocation:-:n.parameters()': 1, 'SimpleName:-:PackageDeclaration': 1, 'SimpleName:-:LabeledStatement': 1, 'SingleVariableDeclaration:-:String x': 1, '@Override  public boolean visit(CreationReference node)': 1, 'SimpleType:-:SuperMethodInvocation': 1, 'SingleVariableDeclaration:-:String sn': 1, 'MethodDeclaration:-:@Override public boolean visit(UsesDirective node){\\n  add(node.getClass().getName(),node);\\n  return true;\\n}': 1, 'SingleVariableDeclaration:-:ReturnStatement node': 1, 'VariableDeclarationStatement:-:final CompilationUnit cu;': 1, '@Override  public boolean visit(ArrayAccess node)': 1, '@Override  public boolean visit(VariableDeclarationExpression node)': 1, 'MethodDeclaration:-:@Override public boolean visit(LambdaExpression node){\\n  add(node.getClass().getName(),node);\\n  return true;\\n}': 1, 'MethodDeclaration:-:@Override public boolean visit(ArrayType node){\\n  add(node.getClass().getName(),node);\\n  return true;\\n}': 1, 'InfixExpression:-:content != null': 2, 'SimpleName:-:Pattern': 1, 'SimpleType:-:SuperFieldAccess': 1, 'SimpleType:-:InstanceofExpression': 1, 'SingleVariableDeclaration:-:QualifiedType node': 1, 'SingleVariableDeclaration:-:CompilationUnit node': 1, 'MethodDeclaration:-:HashMap<String,Integer> getAST_Map()': 1, 'SimpleType:-:VariableDeclarationExpression': 1, 'MethodDeclaration:-:@Override public boolean visit(BreakStatement node){\\n  add(node.getClass().getName(),node);\\n  return true;\\n}': 1, 'SimpleName:-:thrownExceptionTypes': 1, '@Override  public boolean visit(SwitchCase node)': 1, \"InfixExpression:-:name.lastIndexOf('.') + 1\": 1, 'MethodInvocation:-:temp.put(newLine,1)': 1, '@Override  public boolean visit(ArrayType node)': 1, 'MethodDeclaration:-:boolean visit(ReturnStatement node)': 1, 'SimpleType:-:TypeMethodReference': 1, 'IfStatement:-:if (exc.length() != 0) {\\n  this.addAST(x);\\n}': 1, 'MethodDeclaration:-:@Override public boolean visit(ArrayAccess node){\\n  add(node.getClass().getName(),node);\\n  return true;\\n}': 1, '@Override  public boolean visit(UnionType node)': 1, 'SimpleType:-:AnnotationTypeMemberDeclaration': 1, 'SimpleName:-:Exception': 1, '@Override  public boolean visit(IfStatement node)': 1, 'SimpleName:-:EmptyStatement': 1, 'InfixExpression:-:content != null && type.contains(\"Literal\")': 1, 'SimpleType:-:MethodDeclaration': 3, 'MethodDeclaration:-:@Override public boolean visit(MemberValuePair node){\\n  add(node.getClass().getName(),node);\\n  return true;\\n}': 1, '@Override  public boolean visit(SuperMethodReference node)': 1, 'MethodDeclaration:-:@Override public boolean visit(AnnotationTypeMemberDeclaration node){\\n  add(node.getClass().getName(),node);\\n  return true;\\n}': 1, 'SimpleName:-:allChange': 9, 'SimpleName:-:accept': 1, '@Override  public boolean visit(Block node)': 1, 'MethodDeclaration:-:@Override public boolean visit(NumberLiteral node){\\n  add(node.getClass().getName(),node);\\n  return true;\\n}': 1, 'SimpleType:-:Initializer': 1, 'Assignment:-:x=x + \" \" + exc': 1, 'NullLiteral:-:null': 9, 'MethodDeclaration:-:boolean visit(ForStatement node)': 1, 'SimpleName:-:TryStatement': 1, 'MethodDeclaration:-:boolean visit(ParameterizedType node)': 1, 'InfixExpression:-:exc.length() - 1': 1, 'SingleVariableDeclaration:-:CastExpression node': 1, 'MethodDeclaration:-:boolean visit(TagElement node)': 1, 'SimpleType:-:Integer': 5, 'MethodInvocation:-:line.replaceAll(\"\\\\\\\\b\" + sn + \"\\\\\\\\b\",\" NAME\")': 1, 'SimpleType:-:MarkerAnnotation': 1, 'NumberLiteral:-:0': 1, '@Override  public boolean visit(AssertStatement node)': 1, 'ClassInstanceCreation:-:new HashMap<>()': 2, 'SimpleType:-:Map': 2, 'NumberLiteral:-:1': 15, '@Override  public boolean visit(TextElement node)': 1, 'ExpressionStatement:-:simpleName.add(content);': 1, 'InfixExpression:-:modi + \" \" + r+ \" \"+ n.getName().toString()+ \"(\"+ para+ \")\"': 1, 'SingleVariableDeclaration:-:ParenthesizedExpression node': 1, 'IfStatement:-:if(n.getReturnType2() == null)': 1, 'MethodDeclaration:-:boolean visit(AnnotationTypeDeclaration node)': 1, 'MethodDeclaration:-:@Override public boolean visit(MethodInvocation node){\\n  add(node.getClass().getName(),node);\\n  return true;\\n}': 1, '@Override  public boolean visit(PostfixExpression node)': 1, 'PrefixExpression:-:!temp.containsKey(allChange)': 1, 'SingleVariableDeclaration:-:TryStatement node': 1, 'ExpressionStatement:-:this.addAST(x);': 3, 'MethodDeclaration:-:@Override public boolean visit(InstanceofExpression node){\\n  return true;\\n}': 1, 'SimpleType:-:ProvidesDirective': 1, 'SingleVariableDeclaration:-:SuperMethodInvocation node': 1, 'SingleVariableDeclaration:-:SingleMemberAnnotation node': 1, 'MethodDeclaration:-:@Override public boolean visit(CastExpression node){\\n  add(node.getClass().getName(),node);\\n  return true;\\n}': 1, 'SimpleName:-:ASTVisitor': 1, 'MethodInvocation:-:x.trim()': 1, 'SimpleName:-:VariableDeclarationFragment': 1, '@Override  public boolean visit(MemberRef node)': 1, 'SimpleName:-:AnonymousClassDeclaration': 1, '@Override  public boolean visit(ModuleDeclaration node)': 1, 'SimpleName:-:AST_Map': 7, 'MethodDeclaration:-:@Override public boolean visit(NullLiteral node){\\n  add(node.getClass().getName(),node);\\n  return true;\\n}': 1, 'SimpleType:-:Javadoc': 1, 'StringLiteral:-::': 1, '@Override  public boolean visit(ArrayInitializer node)': 1, '@Override  public boolean visit(LabeledStatement node)': 1, 'MethodDeclaration:-:boolean visit(UnionType node)': 1, 'SimpleName:-:SuperConstructorInvocation': 1, 'SingleVariableDeclaration:-:char[] file_content': 1, 'SimpleName:-:ReturnStatement': 1, 'SimpleType:-:ModuleModifier': 1, 'SimpleName:-:Modifier': 1, 'MethodDeclaration:-:boolean visit(Initializer node)': 1, 'InfixExpression:-:!line.equals(allChange) && !allChange.equals(newLine)': 1, 'SimpleName:-:MethodInvocation': 1, 'SimpleName:-:QualifiedType': 1, 'MethodDeclaration:-:@Override public boolean visit(CompilationUnit node){\\n  return true;\\n}': 1, 'MethodDeclaration:-:boolean visit(PackageDeclaration node)': 1, 'SimpleType:-:BlockComment': 1, 'SimpleName:-:lastIndexOf': 1, 'MethodDeclaration:-:boolean visit(ExpressionStatement node)': 1, 'SimpleName:-:ExpressionMethodReference': 1, 'MethodDeclaration:-:boolean visit(TypeLiteral node)': 1, 'SimpleType:-:IntersectionType': 1, 'MethodDeclaration:-:@Override public boolean visit(ProvidesDirective node){\\n  add(node.getClass().getName(),node);\\n  return true;\\n}': 1, 'MethodInvocation:-:n.getName()': 3, 'MethodDeclaration:-:boolean visit(ExpressionMethodReference node)': 1, 'SimpleName:-:EnumDeclaration': 1, 'public Map<CharSequence,Integer> normaliz()': 1, 'SimpleName:-:JLS10': 1, 'SingleVariableDeclaration:-:AnnotationTypeDeclaration node': 1, '@Override  public boolean visit(EnumDeclaration node)': 1, 'private void add(String name, Object node)': 1, 'SimpleName:-:ModuleDeclaration': 1, 'SingleVariableDeclaration:-:SimpleType node': 1, 'MethodDeclaration:-:boolean visit(SuperConstructorInvocation node)': 1, 'MethodInvocation:-:cu.accept(visitor)': 1, 'MethodInvocation:-:content.hashCode()': 2, 'SimpleName:-:toArray': 3, 'SimpleType:-:ASTParser': 1, 'SingleVariableDeclaration:-:IntersectionType node': 1, 'MethodDeclaration:-:boolean visit(PrefixExpression node)': 1, 'VariableDeclarationFragment:-:temp=new HashMap<>()': 1, 'SimpleName:-:Javadoc': 1, 'SimpleName:-:createAST': 1, 'SimpleName:-:exc': 8, '@Override  public boolean visit(ExpressionStatement node)': 1, 'SimpleName:-:ProvidesDirective': 1, 'MethodDeclaration:-:@Override public boolean visit(ThisExpression node){\\n  add(node.getClass().getName(),node);\\n  return true;\\n}': 1, 'MethodDeclaration:-:@Override public boolean visit(BooleanLiteral node){\\n  add(node.getClass().getName(),node);\\n  return true;\\n}': 1, 'SimpleType:-:BreakStatement': 1, '@Override  public boolean visit(IntersectionType node)': 1, '@Override  public boolean visit(NumberLiteral node)': 1, 'SimpleName:-:getName': 82, 'MethodInvocation:-:node.getClass().getName()': 79, 'ExpressionStatement:-:Pattern.compile(\"\\\\\\\\b\" + content + \"\\\\\\\\b\");': 1, 'MethodDeclaration:-:boolean visit(MemberRef node)': 1, '@Override  public boolean visit(ParameterizedType node)': 1, 'SimpleName:-:PrimitiveType': 1, 'MethodInvocation:-:add(\"for(\" + node.getParameter().toString() + \" : \"+ node.getExpression().toString()+ \")\",node)': 1, '@Override  public boolean visit(MethodRefParameter node)': 1, 'SimpleName:-:replaceAll': 2, 'SimpleType:-:ClassInstanceCreation': 1, 'SingleVariableDeclaration:-:MethodRef node': 1, 'SimpleType:-:TypeDeclarationStatement': 1, 'MethodDeclaration:-:@Override public boolean visit(NameQualifiedType node){\\n  add(node.getClass().getName(),node);\\n  return true;\\n}': 1, 'MethodDeclaration:-:@Override public boolean visit(ThrowStatement node){\\n  add(node.getClass().getName(),node);\\n  return true;\\n}': 1, 'SingleVariableDeclaration:-:AssertStatement node': 1, 'ExpressionStatement:-:para=para.substring(1,para.length() - 1);': 1, 'SimpleName:-:LineComment': 1, 'MethodInvocation:-:content.length()': 1, 'SimpleName:-:modi': 7, '@Override  public boolean visit(EnhancedForStatement node)': 1, 'MethodDeclaration:-:boolean visit(ModuleModifier node)': 1, 'SimpleName:-:SimpleType': 1, 'Assignment:-:para=para.substring(1,para.length() - 1)': 1, 'ArrayType:-:char[]': 1, 'SingleVariableDeclaration:-:InstanceofExpression node': 1, 'SimpleType:-:CreationReference': 1, 'MethodDeclaration:-:boolean visit(InstanceofExpression node)': 1, 'SimpleName:-:typeDic': 4, 'StringLiteral:-:NAME': 2, 'MethodInvocation:-:n.thrownExceptionTypes().toArray()': 1, 'VariableDeclarationFragment:-:cu': 1, 'MethodInvocation:-:this.AST_Map.get(x)': 1, 'MethodDeclaration:-:boolean visit(SuperFieldAccess node)': 1, 'ExpressionStatement:-:temp.put(allChange,temp.get(allChange) + 1);': 1, 'SingleVariableDeclaration:-:ThrowStatement node': 1, 'SimpleName:-:length': 5, 'SingleVariableDeclaration:-:SimpleName node': 1, 'MethodInvocation:-:n.getReturnType2()': 2, 'SimpleName:-:PrefixExpression': 1, 'MethodDeclaration:-:boolean visit(CastExpression node)': 1, 'MethodDeclaration:-:boolean visit(DoStatement node)': 1, 'SingleVariableDeclaration:-:String name': 1, 'SingleVariableDeclaration:-:MethodInvocation node': 1, '@Override  public boolean visit(AnonymousClassDeclaration node)': 1, 'SimpleName:-:containsKey': 3, 'ExpressionStatement:-:this.addAST(\"if(\" + n.getExpression().toString() + \")\");': 1, 'MethodDeclaration:-:boolean visit(MarkerAnnotation node)': 1, 'SimpleType:-:Object': 1, 'SingleVariableDeclaration:-:ModuleDeclaration node': 1, 'IfStatement:-:if (\"MethodDeclaration\".equals(type)) {\\n  MethodDeclaration n=(MethodDeclaration)node;\\n  if (!simpleName.contains(content)) {\\n    simpleName.add(n.getName().toString());\\n  }\\n  String para=Arrays.toString(n.parameters().toArray());\\n  para=para.substring(1,para.length() - 1);\\n  String x=null;\\n  String r;\\n  if (n.getReturnType2() == null) {\\n    r=\"\";\\n  }\\n else {\\n    r=n.getReturnType2().toString();\\n  }\\n  x=r + \" \" + n.getName().toString()+ \"(\"+ para+ \")\";\\n  this.addAST(x);\\n  String modi=Arrays.toString(n.modifiers().toArray());\\n  modi=modi.replace(\\',\\',\\' \\');\\n  modi=modi.substring(1,modi.length() - 1);\\n  x=modi + \" \" + r+ \" \"+ n.getName().toString()+ \"(\"+ para+ \")\";\\n  this.addAST(x);\\n  String exc=Arrays.toString(n.thrownExceptionTypes().toArray());\\n  exc=exc.replace(\\',\\',\\' \\');\\n  exc=exc.substring(1,exc.length() - 1);\\n  x=x + \" \" + exc;\\n  if (exc.length() != 0) {\\n    this.addAST(x);\\n  }\\n}': 1, 'SimpleType:-:Comment': 1, 'MethodDeclaration:-:boolean visit(FieldDeclaration node)': 1, 'MethodDeclaration:-:boolean visit(ConditionalExpression node)': 1, '@Override  public boolean visit(AnnotationTypeMemberDeclaration node)': 1, '@Override  public boolean visit(ConditionalExpression node)': 1, '@Override  public boolean visit(RequiresDirective node)': 1, 'VariableDeclarationFragment:-:visitor=new Similarity_Visitor()': 1, 'VariableDeclarationStatement:-:Integer hash=content.hashCode();': 1, 'SimpleName:-:Override': 99, 'MethodDeclaration:-:boolean visit(Javadoc node)': 1, 'MethodInvocation:-:parser.setSource(file_content)': 1, 'MethodDeclaration:-:boolean visit(EnumConstantDeclaration node)': 1, 'SingleVariableDeclaration:-:BooleanLiteral node': 1, 'SimpleType:-:NameQualifiedType': 1, 'IfStatement:-:if(line.contains(sn))': 1, 'ExpressionStatement:-:add(node.getClass().getName(),node);': 79, 'SimpleName:-:getAST_Map': 1, 'VariableDeclarationStatement:-:String allChange=line;': 1, 'MethodInvocation:-:this.addAST(\"if(\" + n.getExpression().toString() + \")\")': 1, 'PrefixExpression:-:!line.equals(allChange)': 1, 'VariableDeclarationStatement:-:String exc=Arrays.toString(n.thrownExceptionTypes().toArray());': 1, 'SimpleName:-:SynchronizedStatement': 1, 'SimpleName:-:newParser': 1, 'BooleanLiteral:-:false': 1, 'SimpleType:-:DoStatement': 1, 'SimpleType:-:LineComment': 1, 'SingleVariableDeclaration:-:SingleVariableDeclaration node': 1, 'IfStatement:-:if(name != null)': 1, '@Override  public boolean visit(BooleanLiteral node)': 1, 'MethodInvocation:-:n.modifiers().toArray()': 1, 'IfStatement:-:if(!newLine.equals(line))': 1, '@Override  public boolean visit(UsesDirective node)': 1, 'SingleVariableDeclaration:-:ModuleModifier node': 1, 'SimpleName:-:Integer': 5, 'IfStatement:-:if(content != null && type.contains(\"Literal\") || type.contains(\"Name\") && typeDic)': 1, 'MethodDeclaration:-:boolean visit(VariableDeclarationStatement node)': 1, 'SimpleName:-:get': 3, '@Override  public boolean visit(PackageDeclaration node)': 1, 'VariableDeclarationFragment:-:para=Arrays.toString(n.parameters().toArray())': 1, 'SimpleType:-:ParameterizedType': 1, 'SimpleName:-:SingleMemberAnnotation': 1, '@Override  public boolean visit(TagElement node)': 1, 'IfStatement:-:if(type.equals(\"StringLiteral\"))': 1, 'SimpleName:-:NullLiteral': 1, 'VariableDeclarationFragment:-:i=AST_Map.keySet().iterator()': 1, 'ExpressionStatement:-:simpleName.add(n.getName().toString());': 1, '@Override  public boolean visit(ThisExpression node)': 1, 'MethodDeclaration:-:Similarity_Visitor parse_java_file(char[] file_content)': 1, 'MethodDeclaration:-:@Override public boolean visit(MarkerAnnotation node){\\n  add(node.getClass().getName(),node);\\n  return true;\\n}': 1, 'MethodDeclaration:-:@Override public boolean visit(StringLiteral node){\\n  add(node.getClass().getName(),node);\\n  return true;\\n}': 1, 'SingleVariableDeclaration:-:Initializer node': 1, 'MethodInvocation:-:this.addAST(x)': 3, 'ParameterizedType:-:ArrayList<>': 1, 'SimpleName:-:keySet': 1, 'MethodDeclaration:-:boolean visit(Assignment node)': 1, 'SimpleType:-:LabeledStatement': 1, \"MethodInvocation:-:name.substring(name.lastIndexOf('.') + 1)\": 1, 'Assignment:-:content=null': 1, 'MethodInvocation:-:\"IfStatement\".equals(type)': 1, 'SimpleName:-:ParameterizedType': 1, 'VariableDeclarationFragment:-:simpleName=new ArrayList<>()': 1, 'EnhancedForStatement:-:for (String sn : simpleName) {\\n  if (line.contains(sn)) {\\n    allChange=allChange.replaceAll(\"\\\\\\\\b\" + sn + \"\\\\\\\\b\",\" NAME\").trim();\\n    newLine=line.replaceAll(\"\\\\\\\\b\" + sn + \"\\\\\\\\b\",\" NAME\").trim();\\n    if (!newLine.equals(line)) {\\n      if (!temp.containsKey(newLine)) {\\n        temp.put(newLine,1);\\n      }\\n else {\\n        temp.put(newLine,temp.get(newLine) + 1);\\n      }\\n    }\\n  }\\n}': 1, 'StringLiteral:-:StringLiteral': 1, 'SingleVariableDeclaration:-:Assignment node': 1, 'SimpleName:-:BreakStatement': 1, 'Assignment:-:cu=(CompilationUnit)parser.createAST(null)': 1, 'MethodDeclaration:-:boolean visit(WhileStatement node)': 1, 'VariableDeclarationStatement:-:String r;': 1, 'SimpleType:-:WhileStatement': 1, '@Override  public boolean visit(ThrowStatement node)': 1, 'SimpleType:-:SwitchCase': 1, 'SimpleType:-:SimpleName': 1, 'SingleVariableDeclaration:-:MethodRefParameter node': 1, 'SimpleName:-:getSimpleName': 1, 'MethodInvocation:-:AST_Map.keySet().iterator()': 1, 'InfixExpression:-:name != null': 1, 'MethodDeclaration:-:@Override public boolean visit(SingleMemberAnnotation node){\\n  add(node.getClass().getName(),node);\\n  return true;\\n}': 1, 'SimpleType:-:MemberRef': 1, 'MethodInvocation:-:type.contains(\"Literal\")': 2, 'SingleVariableDeclaration:-:StringLiteral node': 1, 'MethodDeclaration:-:@Override public boolean visit(SwitchStatement node){\\n  add(node.getClass().getName(),node);\\n  return true;\\n}': 1, 'PrefixExpression:-:!simpleName.contains(content)': 2, 'SingleVariableDeclaration:-:MethodDeclaration node': 1, 'SingleVariableDeclaration:-:ClassInstanceCreation node': 1, 'Assignment:-:x=x.trim()': 1, '@Override  public boolean visit(DoStatement node)': 1, 'MethodDeclaration:-:boolean visit(SwitchStatement node)': 1, 'IfStatement:-:if(!temp.containsKey(allChange))': 1, '@Override  public boolean visit(Dimension node)': 1, 'MethodDeclaration:-:boolean visit(MemberValuePair node)': 1, 'SimpleType:-:NormalAnnotation': 1, 'MethodDeclaration:-:@Override public boolean visit(MethodRefParameter node){\\n  return true;\\n}': 1, 'SimpleType:-:NullLiteral': 1, 'MethodDeclaration:-:boolean visit(NormalAnnotation node)': 1, 'CastExpression:-:(IfStatement)node': 1, '@Override  public boolean visit(SimpleType node)': 1, 'ExpressionStatement:-:newLine=line.replaceAll(\"\\\\\\\\b\" + sn + \"\\\\\\\\b\",\" NAME\").trim();': 1, 'IfStatement:-:if (!temp.containsKey(newLine)) {\\n  temp.put(newLine,1);\\n}\\n else {\\n  temp.put(newLine,temp.get(newLine) + 1);\\n}': 1, 'SimpleName:-:visitor': 3, \"CharacterLiteral:-:' '\": 2, 'MethodInvocation:-:temp.get(allChange)': 1, 'SimpleName:-:Arrays': 3, 'SimpleName:-:getReturnType2': 2, 'InfixExpression:-:\"\\\\\\\\b\" + content + \"\\\\\\\\b\"': 1, 'SimpleName:-:NameQualifiedType': 1, 'SimpleType:-:TryStatement': 1, '@Override  public boolean visit(EnumConstantDeclaration node)': 1, 'StringLiteral:-:Literal': 2, 'SingleVariableDeclaration:-:UnionType node': 1, 'Assignment:-:x=modi + \" \" + r+ \" \"+ n.getName().toString()+ \"(\"+ para+ \")\"': 1, 'SimpleType:-:ThisExpression': 1, 'StringLiteral:-:MethodDeclaration': 1, 'SimpleName:-:line': 6, 'MethodDeclaration:-:boolean visit(ArrayInitializer node)': 1, 'SingleVariableDeclaration:-:TextElement node': 1, 'SimpleName:-:TypeLiteral': 1, 'MethodInvocation:-:para.substring(1,para.length() - 1)': 1, 'MethodDeclaration:-:@Override public boolean visit(SuperConstructorInvocation node){\\n  add(node.getClass().getName(),node);\\n  return true;\\n}': 1, 'MethodInvocation:-:simpleName.contains(content)': 2, 'Assignment:-:x=r + \" \" + n.getName().toString()+ \"(\"+ para+ \")\"': 1, 'SimpleName:-:getClass': 79, '@Override  public boolean visit(InstanceofExpression node)': 1, 'MethodInvocation:-:Arrays.toString(n.parameters().toArray())': 1, 'MethodDeclaration:-:boolean visit(ConstructorInvocation node)': 1, \"ExpressionStatement:-:exc=exc.replace(',',' ');\": 1, 'SimpleName:-:visit': 100, 'MethodInvocation:-:i.next().toString()': 1, 'MethodInvocation:-:n.parameters().toArray()': 1, 'ReturnStatement:-:return true;': 100, '@Override  public boolean visit(MemberValuePair node)': 1, 'SimpleType:-:SynchronizedStatement': 1, 'SimpleName:-:setSource': 1, 'SimpleName:-:contains': 6, 'SimpleName:-:ClassInstanceCreation': 1, 'SingleVariableDeclaration:-:TypeLiteral node': 1, 'MethodDeclaration:-:boolean visit(CharacterLiteral node)': 1, 'ParameterizedType:-:HashMap<>': 2, 'SimpleName:-:add': 84, '@Override  public boolean visit(ImportDeclaration node)': 1, 'MethodDeclaration:-:boolean visit(Dimension node)': 1, 'FieldAccess:-:this.AST_Map': 4, 'MethodInvocation:-:Arrays.toString(n.thrownExceptionTypes().toArray())': 1, 'ExpressionStatement:-:temp.put(allChange,1);': 1, 'MethodDeclaration:-:@Override public boolean visit(WildcardType node){\\n  add(node.getClass().getName(),node);\\n  return true;\\n}': 1, 'SimpleType:-:QualifiedName': 1, 'SimpleName:-:ASTParser': 2, 'PrefixExpression:-:!newLine.equals(line)': 1, 'MethodInvocation:-:temp.containsKey(allChange)': 1, 'MethodDeclaration:-:public Map<CharSequence,Integer> normaliz(){\\n  Map<CharSequence,Integer> temp=new HashMap<>();\\n  for (Iterator i=AST_Map.keySet().iterator(); i.hasNext(); ) {\\n    String line=i.next().toString();\\n    String allChange=line;\\n    String newLine=null;\\n    for (    String sn : simpleName) {\\n      if (line.contains(sn)) {\\n        allChange=allChange.replaceAll(\"\\\\\\\\b\" + sn + \"\\\\\\\\b\",\" NAME\").trim();\\n        newLine=line.replaceAll(\"\\\\\\\\b\" + sn + \"\\\\\\\\b\",\" NAME\").trim();\\n        if (!newLine.equals(line)) {\\n          if (!temp.containsKey(newLine)) {\\n            temp.put(newLine,1);\\n          }\\n else {\\n            temp.put(newLine,temp.get(newLine) + 1);\\n          }\\n        }\\n      }\\n    }\\n    if (!line.equals(allChange) && !allChange.equals(newLine)) {\\n      if (!temp.containsKey(allChange)) {\\n        temp.put(allChange,1);\\n      }\\n else {\\n        temp.put(allChange,temp.get(allChange) + 1);\\n      }\\n    }\\n  }\\n  return temp;\\n}': 1, 'SimpleName:-:EnumConstantDeclaration': 1, 'MethodDeclaration:-:boolean visit(NumberLiteral node)': 1, 'MethodDeclaration:-:boolean visit(ArrayAccess node)': 1, 'SingleVariableDeclaration:-:TypeParameter node': 1, 'MethodInvocation:-:this.addAST(content)': 1, 'MethodDeclaration:-:boolean visit(ContinueStatement node)': 1, 'Assignment:-:r=\"\"': 1, 'SingleVariableDeclaration:-:NameQualifiedType node': 1, 'SingleVariableDeclaration:-:ExpressionStatement node': 1, 'MethodDeclaration:-:boolean visit(CompilationUnit node)': 1, 'SingleVariableDeclaration:-:BlockComment node': 1, 'MethodDeclaration:-:boolean visit(ThisExpression node)': 1, 'SimpleName:-:type': 8, 'VariableDeclarationFragment:-:parser=ASTParser.newParser(AST.JLS10)': 1, 'SimpleType:-:ExpressionStatement': 1, 'SimpleName:-:MarkerAnnotation': 1, 'SingleVariableDeclaration:-:PackageDeclaration node': 1, '@Override  public boolean visit(SuperFieldAccess node)': 1, 'Assignment:-:modi=modi.substring(1,modi.length() - 1)': 1, 'SingleVariableDeclaration:-:AnnotationTypeMemberDeclaration node': 1, 'SimpleName:-:BooleanLiteral': 1, 'MethodInvocation:-:type.equals(\"StringLiteral\")': 1, 'ExpressionStatement:-:content=content.subSequence(1,content.length() - 1).toString().trim();': 1, 'MethodDeclaration:-:@Override public boolean visit(RequiresDirective node){\\n  add(node.getClass().getName(),node);\\n  return true;\\n}': 1, 'MethodDeclaration:-:boolean visit(ImportDeclaration node)': 1, 'SingleVariableDeclaration:-:MemberRef node': 1, 'IfStatement:-:if (!simpleName.contains(content)) {\\n  simpleName.add(n.getName().toString());\\n}': 1, 'SimpleType:-:PrefixExpression': 1, 'MethodDeclaration:-:@Override public boolean visit(LineComment node){\\n  return true;\\n}': 1, 'SingleVariableDeclaration:-:VariableDeclarationExpression node': 1, '@Override  public boolean visit(ContinueStatement node)': 1, '@Override  public boolean visit(SwitchStatement node)': 1, 'SingleVariableDeclaration:-:ArrayInitializer node': 1, 'SimpleName:-:TypeDeclaration': 1, 'MethodDeclaration:-:@Override public boolean visit(TypeParameter node){\\n  add(node.getClass().getName(),node);\\n  return true;\\n}': 1, 'SimpleName:-:InstanceofExpression': 1, 'SingleVariableDeclaration:-:SwitchStatement node': 1, 'VariableDeclarationFragment:-:hash=content.hashCode()': 1, 'InfixExpression:-:exc.length() != 0': 1, '@Override  public boolean visit(FieldDeclaration node)': 1, 'MethodDeclaration:-:@Override public boolean visit(ExpressionStatement node){\\n  add(node.getClass().getName(),node);\\n  return true;\\n}': 1, 'MethodDeclaration:-:boolean visit(TryStatement node)': 1, 'VariableDeclarationFragment:-:AST_Map=new HashMap<>()': 1, 'InfixExpression:-:this.AST_Map.get(x) + 1': 1, '@Override  public boolean visit(CompilationUnit node)': 1, 'InfixExpression:-:temp.get(allChange) + 1': 1, 'SingleVariableDeclaration:-:NormalAnnotation node': 1, 'SimpleName:-:UsesDirective': 1, '@Override  public boolean visit(MarkerAnnotation node)': 1, 'IfStatement:-:if (!line.equals(allChange) && !allChange.equals(newLine)) {\\n  if (!temp.containsKey(allChange)) {\\n    temp.put(allChange,1);\\n  }\\n else {\\n    temp.put(allChange,temp.get(allChange) + 1);\\n  }\\n}': 1, 'SimpleType:-:Exception': 1, '@Override  public boolean visit(LineComment node)': 1, 'SimpleName:-:ParenthesizedExpression': 1, 'SimpleName:-:equals': 6, 'SingleVariableDeclaration:-:Exception e': 1, 'MethodDeclaration:-:@Override public boolean visit(Modifier node){\\n  return true;\\n}': 1, 'SimpleName:-:CreationReference': 1, 'MethodDeclaration:-:@Override public boolean visit(ImportDeclaration node){\\n  return true;\\n}': 1, 'SimpleType:-:TagElement': 1, 'FieldDeclaration:-:private HashMap<String,Integer> AST_Map=new HashMap<>();': 1, 'MethodDeclaration:-:@Override public boolean visit(EnhancedForStatement node){\\n  add(\"for(\" + node.getParameter().toString() + \" : \"+ node.getExpression().toString()+ \")\",node);\\n  add(node.getClass().getName(),node);\\n  return true;\\n}': 1, 'MethodDeclaration:-:@Override public boolean visit(PackageDeclaration node){\\n  return true;\\n}': 1, 'MethodDeclaration:-:@Override public boolean visit(VariableDeclarationStatement node){\\n  add(node.getClass().getName(),node);\\n  return true;\\n}': 1, 'SingleVariableDeclaration:-:ParameterizedType node': 1, 'VariableDeclarationStatement:-:Map<CharSequence,Integer> temp=new HashMap<>();': 1, 'MethodDeclaration:-:@Override public boolean visit(FieldDeclaration node){\\n  add(node.getClass().getName(),node);\\n  return true;\\n}': 1, 'MethodDeclaration:-:List<String> getSimpleName()': 1, 'SimpleName:-:SwitchCase': 1, 'SimpleType:-:EmptyStatement': 1}"
            ]
          },
          "metadata": {
            "tags": []
          },
          "execution_count": 35
        }
      ]
    },
    {
      "cell_type": "code",
      "metadata": {
        "id": "CGeZoVjGg0BZ",
        "colab_type": "code",
        "colab": {},
        "outputId": "ee6100a6-a945-41b6-a950-2055fb465d63"
      },
      "source": [
        "print(type(x))\n",
        "x.get(\"SimpleName:-:String\")"
      ],
      "execution_count": 0,
      "outputs": [
        {
          "output_type": "stream",
          "text": [
            "<class 'py4j.java_collections.JavaMap'>\n"
          ],
          "name": "stdout"
        },
        {
          "output_type": "execute_result",
          "data": {
            "text/plain": [
              "17"
            ]
          },
          "metadata": {
            "tags": []
          },
          "execution_count": 36
        }
      ]
    },
    {
      "cell_type": "code",
      "metadata": {
        "id": "qRN89zzKg0Bd",
        "colab_type": "code",
        "colab": {},
        "outputId": "f803adb5-d85c-45a5-ae17-08ba6d835cf3"
      },
      "source": [
        "print(type(y))\n",
        "y"
      ],
      "execution_count": 0,
      "outputs": [
        {
          "output_type": "stream",
          "text": [
            "<class 'py4j.java_collections.JavaList'>\n"
          ],
          "name": "stdout"
        },
        {
          "output_type": "execute_result",
          "data": {
            "text/plain": [
              "['Similarity_Visitor', 'ASTVisitor', 'HashMap', 'String', 'Integer', 'AST_Map', 'List', 'simpleName', 'ArrayList', 'parse_java_file', 'file_content', 'ASTParser', 'parser', 'newParser', 'AST', 'JLS10', 'setSource', 'CompilationUnit', 'cu', 'createAST', 'null', 'visitor', 'accept', 'getAST_Map', 'getSimpleName', 'typeDic', 'false', 'add', 'name', 'Object', 'node', 'type', 'content', 'toString', 'trim', 'hash', 'hashCode', 'substring', 'lastIndexOf', \"'.'\", '1', 'equals', 'StringLiteral', 'subSequence', 'length', 'IfStatement', 'n', 'addAST', 'getExpression', 'MethodDeclaration', 'contains', 'getName', 'para', 'Arrays', 'parameters', 'toArray', 'x', 'r', 'getReturnType2', '', 'modi', 'modifiers', 'replace', \"','\", \"' '\", 'exc', 'thrownExceptionTypes', '0', 'Literal', 'Pattern', 'compile', '\\\\\\\\b', 'Exception', 'e', 'Name', 'normaliz', 'Map', 'CharSequence', 'temp', 'Iterator', 'i', 'keySet', 'iterator', 'hasNext', 'line', 'next', 'allChange', 'newLine', 'for (String sn : simpleName) {\\n  if (line.contains(sn)) {\\n    allChange=allChange.replaceAll(\"\\\\\\\\b\" + sn + \"\\\\\\\\b\",\" NAME\").trim();\\n    newLine=line.replaceAll(\"\\\\\\\\b\" + sn + \"\\\\\\\\b\",\" NAME\").trim();\\n    if (!newLine.equals(line)) {\\n      if (!temp.containsKey(newLine)) {\\n        temp.put(newLine,1);\\n      }\\n else {\\n        temp.put(newLine,temp.get(newLine) + 1);\\n      }\\n    }\\n  }\\n}', 'sn', 'replaceAll', 'NAME', 'containsKey', 'put', 'get', 'addAST', 'visit', 'Override', 'true', 'visit', 'TypeDeclaration', 'visit', 'getClass', 'visit', 'ForStatement', 'visit', 'visit', 'SwitchStatement', 'visit', 'SwitchCase', 'visit', 'WhileStatement', 'visit', 'LambdaExpression', 'visit', 'Comment', 'visit', 'ArrayAccess', 'visit', 'Block', 'visit', 'AnnotationTypeDeclaration', 'visit', 'AnnotationTypeMemberDeclaration', 'visit', 'AnonymousClassDeclaration', 'visit', 'ArrayCreation', 'visit', 'ArrayInitializer', 'visit', 'ArrayType', 'visit', 'AssertStatement', 'visit', 'Assignment', 'visit', 'BlockComment', 'visit', 'BooleanLiteral', 'visit', 'BreakStatement', 'visit', 'CastExpression', 'visit', 'CatchClause', 'visit', 'CharacterLiteral', 'visit', 'ClassInstanceCreation', 'visit', 'ConditionalExpression', 'visit', 'ConstructorInvocation', 'visit', 'ContinueStatement', 'visit', 'CreationReference', 'visit', 'Dimension', 'visit', 'DoStatement', 'visit', 'EmptyStatement', 'visit', 'EnhancedForStatement', 'getParameter', ':', 'visit', 'EnumConstantDeclaration', 'visit', 'EnumDeclaration', 'visit', 'ExportsDirective', 'visit', 'ExpressionMethodReference', 'visit', 'ExpressionStatement', 'visit', 'FieldAccess', 'visit', 'FieldDeclaration', 'visit', 'ImportDeclaration', 'visit', 'InfixExpression', 'visit', 'Initializer', 'visit', 'InstanceofExpression', 'visit', 'IntersectionType', 'visit', 'Javadoc', 'visit', 'LabeledStatement', 'visit', 'LineComment', 'visit', 'MarkerAnnotation', 'visit', 'MemberRef', 'visit', 'MemberValuePair', 'visit', 'MethodRef', 'visit', 'MethodRefParameter', 'visit', 'MethodInvocation', 'visit', 'Modifier', 'visit', 'ModuleDeclaration', 'visit', 'ModuleModifier', 'visit', 'NameQualifiedType', 'visit', 'NormalAnnotation', 'visit', 'NullLiteral', 'visit', 'NumberLiteral', 'visit', 'OpensDirective', 'visit', 'PackageDeclaration', 'visit', 'ParameterizedType', 'visit', 'ParenthesizedExpression', 'visit', 'PostfixExpression', 'visit', 'PrefixExpression', 'visit', 'ProvidesDirective', 'visit', 'PrimitiveType', 'visit', 'QualifiedName', 'visit', 'QualifiedType', 'visit', 'RequiresDirective', 'visit', 'ReturnStatement', 'visit', 'SimpleName', 'visit', 'SimpleType', 'visit', 'SingleMemberAnnotation', 'visit', 'SingleVariableDeclaration', 'visit', 'visit', 'SuperConstructorInvocation', 'visit', 'SuperFieldAccess', 'visit', 'SuperMethodInvocation', 'visit', 'SuperMethodReference', 'visit', 'SynchronizedStatement', 'visit', 'TagElement', 'visit', 'TextElement', 'visit', 'ThisExpression', 'visit', 'ThrowStatement', 'visit', 'TryStatement', 'visit', 'TypeDeclarationStatement', 'visit', 'TypeLiteral', 'visit', 'TypeMethodReference', 'visit', 'TypeParameter', 'visit', 'UnionType', 'visit', 'UsesDirective', 'visit', 'VariableDeclarationExpression', 'visit', 'VariableDeclarationStatement', 'visit', 'VariableDeclarationFragment', 'visit', 'WildcardType']"
            ]
          },
          "metadata": {
            "tags": []
          },
          "execution_count": 37
        }
      ]
    },
    {
      "cell_type": "code",
      "metadata": {
        "id": "yc-QjglUg0Bj",
        "colab_type": "code",
        "colab": {}
      },
      "source": [
        ""
      ],
      "execution_count": 0,
      "outputs": []
    },
    {
      "cell_type": "code",
      "metadata": {
        "id": "uox1DmE1g0Bm",
        "colab_type": "code",
        "colab": {}
      },
      "source": [
        ""
      ],
      "execution_count": 0,
      "outputs": []
    },
    {
      "cell_type": "code",
      "metadata": {
        "id": "IGdc6OKi25d6",
        "colab_type": "code",
        "colab": {}
      },
      "source": [
        ""
      ],
      "execution_count": 0,
      "outputs": []
    }
  ]
}